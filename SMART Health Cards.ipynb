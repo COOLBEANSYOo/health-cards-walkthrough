{
 "cells": [
  {
   "cell_type": "markdown",
   "id": "thick-dominican",
   "metadata": {},
   "source": [
    "# SMART Health Cards\n",
    "\n",
    "This notebook is designed to give an overview of [SMART Health Cards Framework](https://smarthealth.cards/) and how it works.\n",
    "\n",
    "\n",
    "This notebook is written in JavaScript and uses the [IJavascript kernel](https://github.com/n-riesco/ijavascript) for Jupyter Notebook."
   ]
  },
  {
   "cell_type": "markdown",
   "id": "portable-reducing",
   "metadata": {},
   "source": [
    "## Walkthrough\n",
    "\n",
    "The high level outline is as follows:\n",
    "* FHIR Bundle is created\n",
    "* FHIR Bundle is minified\n",
    "* SMART Health Card is created from FHIR Bundle\n",
    "* SMART Health Card is encoded as a JWS\n",
    "* Patient Retrieves the SMART Health Cards via:\n",
    "  * File Download\n",
    "  * QR Code\n",
    "  * FHIR API"
   ]
  },
  {
   "cell_type": "markdown",
   "id": "natural-gothic",
   "metadata": {},
   "source": [
    "### The FHIR Bundle\n",
    "\n",
    "A SMART Health Card is composed of a [W3C Verifiable Credential](https://w3c.github.io/vc-data-model/), [encoded as a JWT](https://w3c.github.io/vc-data-model/#jwt-encoding), with a Credential Subject that contains the FHIR version and a FHIR Bundle (See [Modeling W3C Verifiable Credentials in FHIR](https://smarthealth.cards/credential-modeling/).\n",
    "\n",
    "The FHIR Bundle contains the health care information.\n",
    "\n",
    "Let's assume we have the below FHIR Bundle ([Example 0](https://smarthealth.cards/examples/example-00-a-fhirBundle.json) at the time of writing). This FHIR Bundle could be produced in a number of ways, but for now let's imagine that the patient, John B. Anyperson, has just received his second COVID-19 vaccination shot and the healthcare worker entered his information into their system which produced the below in their system."
   ]
  },
  {
   "cell_type": "code",
   "execution_count": 1,
   "id": "useful-reset",
   "metadata": {},
   "outputs": [],
   "source": [
    "const fhirBundle = {\n",
    "  \"resourceType\": \"Bundle\",\n",
    "  \"type\": \"collection\",\n",
    "  \"entry\": [\n",
    "    {\n",
    "      \"fullUrl\": \"resource:0\",\n",
    "      \"resource\": {\n",
    "        \"resourceType\": \"Patient\",\n",
    "        \"name\": [\n",
    "          {\n",
    "            \"family\": \"Anyperson\",\n",
    "            \"given\": [\n",
    "              \"John\",\n",
    "              \"B.\"\n",
    "            ]\n",
    "          }\n",
    "        ],\n",
    "        \"gender\": \"male\",\n",
    "        \"birthDate\": \"1951-01-20\"\n",
    "      }\n",
    "    },\n",
    "    {\n",
    "      \"fullUrl\": \"resource:1\",\n",
    "      \"resource\": {\n",
    "        \"resourceType\": \"Immunization\",\n",
    "        \"status\": \"completed\",\n",
    "        \"vaccineCode\": {\n",
    "          \"coding\": [\n",
    "            {\n",
    "              \"system\": \"http://hl7.org/fhir/sid/cvx\",\n",
    "              \"code\": \"207\"\n",
    "            }\n",
    "          ]\n",
    "        },\n",
    "        \"patient\": {\n",
    "          \"reference\": \"resource:0\"\n",
    "        },\n",
    "        \"occurrenceDateTime\": \"2021-01-01\",\n",
    "        \"lotNumber\": \"Lot #0000001\",\n",
    "        \"performer\": [\n",
    "          {\n",
    "            \"actor\": {\n",
    "              \"display\": \"ABC General Hospital\"\n",
    "            }\n",
    "          }\n",
    "        ]\n",
    "      }\n",
    "    },\n",
    "    {\n",
    "      \"fullUrl\": \"resource:2\",\n",
    "      \"resource\": {\n",
    "        \"resourceType\": \"Immunization\",\n",
    "        \"status\": \"completed\",\n",
    "        \"vaccineCode\": {\n",
    "          \"coding\": [\n",
    "            {\n",
    "              \"system\": \"http://hl7.org/fhir/sid/cvx\",\n",
    "              \"code\": \"207\"\n",
    "            }\n",
    "          ]\n",
    "        },\n",
    "        \"patient\": {\n",
    "          \"reference\": \"resource:0\"\n",
    "        },\n",
    "        \"occurrenceDateTime\": \"2021-01-29\",\n",
    "        \"lotNumber\": \"Lot #0000007\",\n",
    "        \"performer\": [\n",
    "          {\n",
    "            \"actor\": {\n",
    "              \"display\": \"ABC General Hospital\"\n",
    "            }\n",
    "          }\n",
    "        ]\n",
    "      }\n",
    "    }\n",
    "  ]\n",
    "}"
   ]
  },
  {
   "cell_type": "markdown",
   "id": "found-murray",
   "metadata": {},
   "source": [
    "A couple things to note in the above JSON. This is a Bundle that contains 3 resources: one for the patient, one for the first vaccination, and another for the second vaccination. This Bundle conforms to the requirements laid out in [SMART Health Cards: Vaccination & Testing Implementation Guide](http://build.fhir.org/ig/dvci/vaccine-credential-ig/branches/main/) which defines what resources should be included in the Health Card. Specifically, this is an example of [Vaccine Credential Bundle - Data Minimization](http://build.fhir.org/ig/dvci/vaccine-credential-ig/branches/main/StructureDefinition-vaccine-credential-bundle-dm.html). We'll talk about what \"Data Minimization\" means in a second.\n",
    "\n",
    "Now let's create the \"Expanded Health Card\"."
   ]
  },
  {
   "cell_type": "markdown",
   "id": "excited-fraction",
   "metadata": {},
   "source": [
    "### Expanded Health Card\n",
    "\n",
    "The Expanded Health Card shows what the Health Card looks like before it is minified and serialized using the compact JWS serialization.\n",
    "\n",
    "[Health Cards are encoded as Compact Serialization JSON Web Signatures (JWS)](https://smarthealth.cards/#health-cards-are-encoded-as-compact-serialization-json-web-signatures-jws) and [Modeling W3C Verifiable Credentials in FHIR](https://smarthealth.cards/credential-modeling/) cover this in more detail.\n",
    "\n",
    "Before we get into the details it's important to note that some of the VC properties are mapped to standard JWT fields when using the [JWT encoding](https://w3c.github.io/vc-data-model/#jwt-encoding) (which we are). These include the `iss` and `iat` fields.\n",
    "\n",
    "Below shows the expanded Health Card for the example:"
   ]
  },
  {
   "cell_type": "code",
   "execution_count": 2,
   "id": "fleet-cream",
   "metadata": {},
   "outputs": [],
   "source": [
    "const expandedHealthCard = {\n",
    "  \"iss\": \"https://smarthealth.cards/examples/issuer\",\n",
    "  \"iat\": Date.now() / 1000,\n",
    "  \"vc\": {\n",
    "    \"@context\": [\n",
    "      \"https://www.w3.org/2018/credentials/v1\"\n",
    "    ],\n",
    "    \"type\": [\n",
    "      \"VerifiableCredential\",\n",
    "      \"https://smarthealth.cards#health-card\",\n",
    "      \"https://smarthealth.cards#immunization\",\n",
    "      \"https://smarthealth.cards#covid19\"\n",
    "    ],\n",
    "    \"credentialSubject\": {\n",
    "        \"fhirVersion\": \"4.0.1\",\n",
    "        \"fhirBundle\": fhirBundle\n",
    "    }\n",
    "  }\n",
    "}"
   ]
  },
  {
   "cell_type": "markdown",
   "id": "interpreted-estate",
   "metadata": {},
   "source": [
    "Let's talk about the three root fields:\n",
    "\n",
    "`iss` - This represents the [Issuer](https://w3c.github.io/vc-data-model/#issuer)\n",
    "  * Note this property is represented by `iss` according to the [JWT Encoding Rules](https://w3c.github.io/vc-data-model/#jwt-encoding)\n",
    "\n",
    "`iat` - This represents the [IssuanceDate](https://w3c.github.io/vc-data-model/#issuance-date)\n",
    "  * Note this property is represented by `iat`. The spec currently, indicates this should be `nbf` so I posted an issue about that to follow up.\n",
    "\n",
    "`vc` - This represents the VC claim minus all the unmapped fields (`iss` and `iat`)\n",
    "\n",
    "\n",
    "TODO: Fill out the rest of these properties"
   ]
  },
  {
   "cell_type": "markdown",
   "id": "related-cruise",
   "metadata": {},
   "source": [
    "### Health Cards are Small\n",
    "\n",
    "SMART Health Cards can be issued on pieces of paper via QR Codes. This introduces some unique size constraints in order to keep the number and size of QR codes manageable. When using and applying SMART Health Cards, it's important to keep them small.\n",
    "\n",
    "The SMART Health Card spec requires that [the JWS payload is minified and compressed](https://smarthealth.cards/#health-cards-are-small) in order to reduce payload size.\n",
    "\n",
    "SMART Health Cards are designed to be be atomic and shared as a whole. Information within the Health Card cannot be removed without affecting the verifiability of the Health Card. This imposes a privacy challenge when too much information is included in a single Health Card.\n",
    "\n",
    "The \"Data Minimization\" profiles in the IG are designed to address these size and privacy concerns by ensuring the FHIR profiles only require the minimal set of information to achieve the desired results.\n",
    "\n",
    "Below the JWS Payload (i.e. the \"Expanded Health Card\") is compressed according to the spec:"
   ]
  },
  {
   "cell_type": "code",
   "execution_count": 3,
   "id": "seasonal-begin",
   "metadata": {},
   "outputs": [
    {
     "name": "stdout",
     "output_type": "stream",
     "text": [
      "{\"iss\":\"https://smarthealth.cards/examples/issuer\",\"iat\":1617110548.812,\"vc\":{\"@context\":[\"https://www.w3.org/2018/credentials/v1\"],\"type\":[\"VerifiableCredential\",\"https://smarthealth.cards#health-card\",\"https://smarthealth.cards#immunization\",\"https://smarthealth.cards#covid19\"],\"credentialSubject\":{\"fhirVersion\":\"4.0.1\",\"fhirBundle\":{\"resourceType\":\"Bundle\",\"type\":\"collection\",\"entry\":[{\"fullUrl\":\"resource:0\",\"resource\":{\"resourceType\":\"Patient\",\"name\":[{\"family\":\"Anyperson\",\"given\":[\"John\",\"B.\"]}],\"gender\":\"male\",\"birthDate\":\"1951-01-20\"}},{\"fullUrl\":\"resource:1\",\"resource\":{\"resourceType\":\"Immunization\",\"status\":\"completed\",\"vaccineCode\":{\"coding\":[{\"system\":\"http://hl7.org/fhir/sid/cvx\",\"code\":\"207\"}]},\"patient\":{\"reference\":\"resource:0\"},\"occurrenceDateTime\":\"2021-01-01\",\"lotNumber\":\"Lot #0000001\",\"performer\":[{\"actor\":{\"display\":\"ABC General Hospital\"}}]}},{\"fullUrl\":\"resource:2\",\"resource\":{\"resourceType\":\"Immunization\",\"status\":\"completed\",\"vaccineCode\":{\"coding\":[{\"system\":\"http://hl7.org/fhir/sid/cvx\",\"code\":\"207\"}]},\"patient\":{\"reference\":\"resource:0\"},\"occurrenceDateTime\":\"2021-01-29\",\"lotNumber\":\"Lot #0000007\",\"performer\":[{\"actor\":{\"display\":\"ABC General Hospital\"}}]}}]}}}}\n"
     ]
    }
   ],
   "source": [
    "// Remove the optional whitespace\n",
    "const noWhiteSpaceHealthCard = JSON.stringify(expandedHealthCard)\n",
    "console.log(noWhiteSpaceHealthCard)"
   ]
  },
  {
   "cell_type": "code",
   "execution_count": 4,
   "id": "optional-prevention",
   "metadata": {},
   "outputs": [],
   "source": [
    "// Normally we'd remove some of the fhirBundle elements at \n",
    "// this step ( e.g. Resource.id, Resource.meta, CodebableConcept.text).\n",
    "// These are already missing from the original payload, so we'll skip that here\n",
    "\n",
    "// Compress the payload with DEFLATE, omitting any zlib headers\n",
    "\n",
    "const compressedPayload = zlib.deflateRawSync(noWhiteSpaceHealthCard)"
   ]
  },
  {
   "cell_type": "markdown",
   "id": "built-venice",
   "metadata": {},
   "source": [
    "### Creating the Signed Health Card\n",
    "\n",
    "Now that we have the compressed payload we can sign it as a JWS. First, let's create the key pair for signing and verifying."
   ]
  },
  {
   "cell_type": "code",
   "execution_count": 5,
   "id": "virgin-cleanup",
   "metadata": {},
   "outputs": [],
   "source": [
    "var jose = require('node-jose');\n",
    "\n",
    "const keystore = jose.JWK.createKeyStore()\n",
    "\n",
    "let signingKey;\n",
    "\n",
    "keystore.generate(\"EC\", \"P-256\").\n",
    "        then(function(result) {\n",
    "          // {result} is a jose.JWK.Key\n",
    "          signingKey = result;\n",
    "        });"
   ]
  },
  {
   "cell_type": "code",
   "execution_count": 6,
   "id": "blond-closing",
   "metadata": {},
   "outputs": [
    {
     "data": {
      "text/plain": [
       "{\n",
       "  keys: [\n",
       "    {\n",
       "      kty: 'EC',\n",
       "      kid: 's9t6vCszCL9tfKEW8Pie-MZwpv7n9owoPQWNi2B1WyM',\n",
       "      crv: 'P-256',\n",
       "      x: 'xxT9GsgcqhQOt2WYzQOAGZN4nEUCfEENlNomrjHIrO4',\n",
       "      y: 'YndwyMWZICgMjBV64p_sjxaPTmCAGdcIHIhBi7u9QTM',\n",
       "      d: 'rV-BZn6ofggsrUx3g1LmS5fmALI-l5o5xUOSWc9MgyQ'\n",
       "    }\n",
       "  ]\n",
       "}"
      ]
     },
     "execution_count": 6,
     "metadata": {},
     "output_type": "execute_result"
    }
   ],
   "source": [
    "// Print the entire key store, including the `d` member which contains the private key value\n",
    "// Remove true to just present the public key\n",
    "// See: https://tools.ietf.org/id/draft-jones-jose-json-private-and-symmetric-key-00.html#rfc.section.3.1.1\n",
    "keystore.toJSON(true);"
   ]
  },
  {
   "cell_type": "markdown",
   "id": "paperback-projector",
   "metadata": {},
   "source": [
    "With a signing key in hand we can create the JWS:"
   ]
  },
  {
   "cell_type": "code",
   "execution_count": 7,
   "id": "convinced-broadway",
   "metadata": {},
   "outputs": [
    {
     "name": "stdout",
     "output_type": "stream",
     "text": [
      "eyJ6aXAiOiJERUYiLCJhbGciOiJFUzI1NiIsImtpZCI6InM5dDZ2Q3N6Q0w5dGZLRVc4UGllLU1ad3B2N245b3dvUFFXTmkyQjFXeU0ifQ.3VJNj9owEP0raPYKSZzuFsiphUr9UFVV6raXioNxBuLKH5HtBOgq_71jA9tdaeHSWxGXybx5897zPID0HipoQmh9ledecxca5Co0meCu9jnuuW4V-pyAHToYg-QBKvaaTRkr7m5n2YyVY-gFVA_wRlgTcE_9n4-Uu90u273KrNvmZcFmuXBYowmSK5_3DFZjCIcW48QPdHIj-Vrh8hFD-y5quzkWk1hcxUmtOyN_8yCtuQoUtpc1m0dRf2V-69a_UITob9NIRyp95KngNisyRnzx66IztcKIceht5wTeJ1dwapxdgrBKEdtRCS1wB7JOzJ1S350iwHm-KghwLl4g_kp2aJ5Ahms8knAtFfHBW0MY59OOrezRxHg_2SbWiwxWAxncoqnpPSvQPOlbSwrjHQ-Rm83v2KRgk7KAYRi_qI5dV_fxeeQ-8ND5ZD9eU8D4YD0XQhpc2joxCFtLs01G_MEH1Ke7pJdq1DQdUEw697LORb8nApEmoSymMKyGMbSnSJKcDTo0UdvTRAlkhehcakWz91IfKcpkuIi2lA1fOr1O4Xy2YXRTpF9sUaob63RskUwugnVxWy19q3hKfrEcvUeDjqvRB-tbGeiGB1J3Icbyv4yxnF-OcfpvMdJ_GP4A.ggAwM9ijXnnx2c_bL7Vws328zLXPfZb1HDDPXt6LfwxaqFv9mV5AV_t6KVWAiikkwLEUJQ4lGQH-VNgzu1qfNQ\n"
     ]
    }
   ],
   "source": [
    "const fields = { zip: 'DEF' }\n",
    "\n",
    "let jws;\n",
    "\n",
    "jose.JWS.createSign({ format: 'compact', fields }, signingKey)\n",
    "    .update(Buffer.from(compressedPayload))\n",
    "    .final()\n",
    "    .then(function(result) {\n",
    "        jws = result;\n",
    "        console.log(jws)\n",
    "});"
   ]
  },
  {
   "cell_type": "markdown",
   "id": "informed-design",
   "metadata": {},
   "source": [
    "Now that we have the JWS we should check that we can actually verify the signature"
   ]
  },
  {
   "cell_type": "code",
   "execution_count": 8,
   "id": "irish-burlington",
   "metadata": {},
   "outputs": [
    {
     "name": "stdout",
     "output_type": "stream",
     "text": [
      "{\n",
      "  protected: [ 'zip', 'alg', 'kid' ],\n",
      "  header: {\n",
      "    zip: 'DEF',\n",
      "    alg: 'ES256',\n",
      "    kid: 's9t6vCszCL9tfKEW8Pie-MZwpv7n9owoPQWNi2B1WyM'\n",
      "  },\n",
      "  payload: <Buffer dd 52 4d 8f da 30 10 fd 2b 68 f6 0a 49 9c ee 16 c8 a9 85 4a fd 50 55 55 ea b6 97 8a 83 71 06 e2 ca 1f 91 ed 04 e8 2a ff bd 63 03 db 5d 69 e1 d2 5b 11 ... 430 more bytes>,\n",
      "  signature: <Buffer 82 00 30 33 d8 a3 5e 79 f1 d9 cf db 2f b5 70 b3 7d bc cc b5 cf 7d 96 f5 1c 30 cf 5e de 8b 7f 0c 5a a8 5b fd 99 5e 40 57 fb 7a 29 55 80 8a 29 24 c0 b1 ... 14 more bytes>,\n",
      "  key: JWKBaseKeyObject {\n",
      "    keystore: JWKStore {},\n",
      "    length: 256,\n",
      "    kty: 'EC',\n",
      "    kid: 's9t6vCszCL9tfKEW8Pie-MZwpv7n9owoPQWNi2B1WyM',\n",
      "    use: '',\n",
      "    alg: ''\n",
      "  }\n",
      "}\n"
     ]
    }
   ],
   "source": [
    "jose.JWS.createVerify(signingKey)\n",
    "    .verify(jws).then(function(result) {\n",
    "    console.log(result)\n",
    "})"
   ]
  },
  {
   "cell_type": "markdown",
   "id": "trained-income",
   "metadata": {},
   "source": [
    "Let's also create a fake key and test with that to make sure we aren't getting a false positive"
   ]
  },
  {
   "cell_type": "code",
   "execution_count": 9,
   "id": "dedicated-watch",
   "metadata": {},
   "outputs": [],
   "source": [
    "let fakeKey;\n",
    "\n",
    "keystore.generate(\"EC\", \"P-256\").\n",
    "        then(function(result) {\n",
    "          // {result} is a jose.JWK.Key\n",
    "          fakeKey = result;\n",
    "        });"
   ]
  },
  {
   "cell_type": "code",
   "execution_count": 10,
   "id": "modern-introduction",
   "metadata": {},
   "outputs": [
    {
     "ename": "Error",
     "evalue": "no key found",
     "output_type": "error",
     "traceback": [
      "Error: no key found",
      "    at processSig (/Users/radamson/software/vci/health-cards-walkthrough/node_modules/node-jose/lib/jws/verify.js:131:22)",
      "    at processTicksAndRejections (node:internal/process/task_queues:94:5)"
     ]
    }
   ],
   "source": [
    "// Note \"Error: no key found\" is the generic error message for keys that won't decrypt\n",
    "// See: https://github.com/cisco/node-jose/issues/262\n",
    "jose.JWS.createVerify(fakeKey)\n",
    "    .verify(jws).then(function(result) {\n",
    "    console.log(result)\n",
    "})"
   ]
  },
  {
   "cell_type": "markdown",
   "id": "popular-chart",
   "metadata": {},
   "source": [
    "### QR Code Generation\n",
    "\n",
    "Now that we have a JWS we can turn that into a QR Code which can be scanned. We won't worry about chunking just yet since the payload is below the 1195 character threshold in this example, but its a simple addition and [this code snippet](https://github.com/smart-on-fhir/health-cards/blob/152a4f83b223b5fd14027f765e957e290649f2c0/generate-examples/src/index.ts#L146) goes over the process."
   ]
  },
  {
   "cell_type": "code",
   "execution_count": 11,
   "id": "eastern-turning",
   "metadata": {},
   "outputs": [
    {
     "name": "stdout",
     "output_type": "stream",
     "text": [
      "shc:/567629095243206034602924374044603122295953265460346029254077280433602870286471674522280928653208552345053606330936037408552645313741540740266363314004525506210533050708530655734025254339646276366125435640036057360106412933611266742435036952354430384577722570606759406912402541410969524360663375217231302708277121345868501004612012715552562738427526437653750811121077352823032760676636645912635655565475545208226603645622721261657272420741006776202739664458003621307352523937626910640865054476414400582541205074376358395424501265070040721203720510063069337364455425647243214466746438300850062325456122285442071136355527286100416959115925230076086872776242620459547540647134763350117622717236664071675404640355375705410009125250402839665312332837766712083065583360707637657775090928777154302854565971087439562904557452677555586921302455713722380474211029347729043806080360742764003058597431630758506267055229082059647011626520712557272142033244081234346956773775275850053853426074754220756554666865673538733635346353387469612736003764110673053037586210302044376050682808554150577556563600113323084523125640112307442303433659675405616675222571317003042650322427043056106729556804233655402474091210313437531165206724646638766432307626325338653829305423396603405573393720636259565954526242771204285730546762722860056320045734690434074376054443373967251270405266530906377062407472586541754276041268065930576924547340562361687337210071532656602621042906285453767307767565250034545767733255295026350720015858207432126061436565750554505331104174700605117731433557455304272323354371093157747552682573126441082041507109304142206060626274312440293607632636270041335877720468573336\n"
     ]
    }
   ],
   "source": [
    "// Convert to numeric mode QR\n",
    "\n",
    "// This code snippet was adapted/taken from https://github.com/smart-on-fhir/health-cards/blob/152a4f83b223b5fd14027f765e957e290649f2c0/generate-examples/src/index.ts#L173\n",
    "const numericJWS = jws.split('')\n",
    "    .map((c) => c.charCodeAt(0) - 45)\n",
    "    .flatMap((c) => [Math.floor(c / 10), c % 10]) //Need to maintain leading zeros\n",
    "    .join('')\n",
    "\n",
    "console.log('shc:/' + numericJWS)"
   ]
  },
  {
   "cell_type": "markdown",
   "id": "pursuant-pension",
   "metadata": {},
   "source": [
    "The above shows what the value of the QR code will be, with the leading `byte` segment and the `numeric` segment following"
   ]
  },
  {
   "cell_type": "code",
   "execution_count": 12,
   "id": "compound-heavy",
   "metadata": {},
   "outputs": [
    {
     "data": {
      "image/svg+xml": [
       "<svg xmlns=\"http://www.w3.org/2000/svg\" viewBox=\"0 0 97 97\" shape-rendering=\"crispEdges\"><path fill=\"#ffffff\" d=\"M0 0h97v97H0z\"/><path stroke=\"#000000\" d=\"M4 4.5h7m1 0h2m2 0h1m2 0h1m2 0h2m1 0h2m2 0h2m1 0h3m1 0h3m1 0h2m1 0h1m1 0h1m1 0h3m4 0h1m3 0h1m4 0h1m4 0h2m1 0h2m2 0h1m1 0h1m1 0h6m1 0h7M4 5.5h1m5 0h1m1 0h2m2 0h1m4 0h1m1 0h1m1 0h3m5 0h4m2 0h1m3 0h1m3 0h1m2 0h4m3 0h1m3 0h1m5 0h1m1 0h3m8 0h2m1 0h1m2 0h1m5 0h1M4 6.5h1m1 0h3m1 0h1m3 0h2m1 0h3m7 0h4m1 0h1m1 0h6m4 0h2m1 0h1m1 0h2m1 0h3m5 0h2m2 0h1m1 0h3m1 0h3m1 0h1m1 0h2m1 0h1m6 0h1m1 0h3m1 0h1M4 7.5h1m1 0h3m1 0h1m2 0h1m2 0h1m1 0h1m1 0h4m1 0h1m1 0h1m1 0h1m3 0h1m1 0h2m1 0h1m2 0h1m2 0h1m1 0h2m1 0h2m2 0h1m2 0h1m1 0h2m2 0h1m1 0h2m2 0h2m2 0h2m1 0h8m1 0h1m1 0h1m1 0h3m1 0h1M4 8.5h1m1 0h3m1 0h1m1 0h2m1 0h1m1 0h5m1 0h3m1 0h1m2 0h1m1 0h5m1 0h1m2 0h3m1 0h4m2 0h1m1 0h1m1 0h1m1 0h7m1 0h2m5 0h3m1 0h1m4 0h1m1 0h1m2 0h1m1 0h3m1 0h1M4 9.5h1m5 0h1m1 0h1m1 0h1m2 0h3m3 0h2m5 0h1m1 0h1m3 0h3m1 0h1m1 0h1m1 0h1m2 0h3m1 0h1m2 0h5m3 0h1m3 0h1m2 0h1m1 0h1m2 0h2m1 0h2m2 0h1m1 0h1m2 0h1m5 0h1M4 10.5h7m1 0h1m1 0h1m1 0h1m1 0h1m1 0h1m1 0h1m1 0h1m1 0h1m1 0h1m1 0h1m1 0h1m1 0h1m1 0h1m1 0h1m1 0h1m1 0h1m1 0h1m1 0h1m1 0h1m1 0h1m1 0h1m1 0h1m1 0h1m1 0h1m1 0h1m1 0h1m1 0h1m1 0h1m1 0h1m1 0h1m1 0h1m1 0h1m1 0h1m1 0h1m1 0h1m1 0h1m1 0h1m1 0h7M12 11.5h2m2 0h2m1 0h1m1 0h1m2 0h1m2 0h2m2 0h2m3 0h1m3 0h1m1 0h4m1 0h1m2 0h1m1 0h1m5 0h1m3 0h3m1 0h1m1 0h1m1 0h3m1 0h3m2 0h3m1 0h1M4 12.5h3m2 0h2m1 0h1m1 0h4m1 0h3m1 0h1m3 0h3m1 0h9m3 0h2m1 0h1m2 0h3m1 0h1m1 0h1m1 0h6m3 0h5m4 0h2m2 0h1m3 0h6m2 0h2M8 13.5h1m2 0h4m1 0h7m2 0h1m1 0h2m1 0h5m4 0h2m1 0h2m2 0h1m1 0h1m2 0h5m1 0h2m2 0h2m1 0h2m1 0h1m2 0h4m2 0h1m4 0h4m1 0h1m2 0h3M4 14.5h1m1 0h2m1 0h2m1 0h1m3 0h4m1 0h1m2 0h1m3 0h3m1 0h1m4 0h3m4 0h1m3 0h1m4 0h2m1 0h1m3 0h2m1 0h2m1 0h1m1 0h2m1 0h1m1 0h5m2 0h3m1 0h2m1 0h1m2 0h3M4 15.5h1m4 0h1m1 0h1m1 0h3m2 0h5m2 0h1m1 0h1m4 0h1m2 0h1m1 0h3m3 0h1m1 0h4m2 0h1m3 0h2m1 0h1m3 0h1m2 0h1m1 0h1m2 0h1m1 0h2m3 0h1m1 0h1m2 0h1m1 0h3m1 0h1m1 0h1m1 0h1M6 16.5h1m1 0h1m1 0h1m1 0h3m3 0h2m2 0h1m1 0h1m2 0h1m1 0h1m2 0h1m4 0h2m3 0h2m1 0h2m2 0h2m1 0h1m3 0h1m4 0h3m2 0h4m2 0h2m2 0h7m1 0h1m1 0h4m1 0h1M7 17.5h1m1 0h1m1 0h2m2 0h2m2 0h3m1 0h3m1 0h1m3 0h1m2 0h1m1 0h2m1 0h1m8 0h1m3 0h1m2 0h1m2 0h1m2 0h1m5 0h1m3 0h1m1 0h1m3 0h1m1 0h1m1 0h1m1 0h2m1 0h1m1 0h3m1 0h1M6 18.5h5m1 0h4m3 0h1m1 0h1m1 0h1m3 0h1m1 0h1m1 0h1m2 0h1m1 0h2m1 0h1m1 0h1m4 0h1m3 0h1m3 0h2m1 0h2m1 0h2m7 0h1m1 0h2m1 0h1m2 0h3m1 0h1m1 0h1m1 0h6m1 0h1M4 19.5h1m2 0h2m3 0h1m4 0h1m1 0h1m2 0h1m1 0h1m6 0h1m1 0h1m1 0h2m5 0h2m1 0h2m2 0h1m3 0h1m1 0h2m1 0h1m2 0h2m3 0h1m1 0h2m2 0h2m2 0h2m1 0h3m2 0h2m2 0h1m2 0h2M4 20.5h2m1 0h4m1 0h3m2 0h2m1 0h1m1 0h4m1 0h1m2 0h1m4 0h1m1 0h3m1 0h1m1 0h1m1 0h1m2 0h2m2 0h1m4 0h1m1 0h1m1 0h2m4 0h1m2 0h1m1 0h6m2 0h1m1 0h4m1 0h2m1 0h3M7 21.5h1m3 0h3m1 0h4m2 0h2m1 0h1m1 0h1m4 0h3m1 0h1m1 0h2m1 0h1m2 0h1m2 0h4m7 0h2m1 0h3m1 0h1m3 0h3m1 0h1m3 0h1m4 0h1m4 0h2m2 0h1M4 22.5h2m1 0h2m1 0h2m1 0h2m4 0h1m1 0h4m1 0h1m1 0h2m1 0h2m1 0h2m1 0h2m3 0h1m2 0h1m1 0h7m1 0h1m1 0h2m1 0h1m2 0h2m1 0h3m2 0h1m2 0h1m5 0h1m1 0h3m1 0h2m1 0h1m2 0h1M5 23.5h1m1 0h1m1 0h1m1 0h1m1 0h3m3 0h1m1 0h2m1 0h3m1 0h4m3 0h2m1 0h1m1 0h1m1 0h1m2 0h2m2 0h1m2 0h2m2 0h1m1 0h2m3 0h1m1 0h4m1 0h1m1 0h1m1 0h1m3 0h4m1 0h1m1 0h1m1 0h1m3 0h2M5 24.5h1m4 0h5m1 0h2m1 0h2m1 0h1m1 0h2m1 0h2m2 0h1m1 0h6m3 0h2m2 0h1m2 0h1m1 0h1m1 0h2m1 0h2m1 0h5m1 0h2m1 0h3m1 0h6m1 0h1m3 0h2m2 0h1m3 0h2M5 25.5h1m1 0h2m3 0h3m2 0h2m1 0h4m1 0h2m1 0h1m1 0h2m1 0h1m2 0h1m1 0h2m1 0h2m1 0h2m1 0h1m4 0h2m1 0h3m3 0h4m3 0h3m2 0h2m1 0h1m2 0h4m2 0h1m2 0h1m1 0h3M4 26.5h1m5 0h4m1 0h5m1 0h2m1 0h1m1 0h3m3 0h2m1 0h5m1 0h11m2 0h2m1 0h1m1 0h1m1 0h1m2 0h1m1 0h3m4 0h1m3 0h2m1 0h2m1 0h1m1 0h6m1 0h1M4 27.5h1m1 0h1m1 0h1m2 0h1m1 0h3m1 0h6m1 0h1m1 0h1m5 0h1m1 0h3m1 0h2m2 0h2m1 0h1m4 0h1m1 0h3m1 0h1m1 0h1m1 0h1m1 0h2m1 0h1m2 0h3m4 0h1m1 0h1m1 0h1m2 0h2m4 0h2m1 0h2M6 28.5h3m1 0h7m1 0h1m1 0h1m2 0h2m1 0h3m1 0h2m2 0h4m2 0h1m4 0h2m4 0h1m2 0h1m1 0h3m1 0h4m1 0h2m3 0h2m1 0h1m3 0h1m4 0h3m2 0h1m1 0h4M6 29.5h3m2 0h1m1 0h1m1 0h1m1 0h4m3 0h1m3 0h2m2 0h2m2 0h1m1 0h1m1 0h1m2 0h1m2 0h1m1 0h2m3 0h3m3 0h1m1 0h1m1 0h1m1 0h1m4 0h2m1 0h1m2 0h2m1 0h1m5 0h1m2 0h1m1 0h1M4 30.5h1m2 0h1m1 0h3m1 0h2m1 0h1m6 0h7m2 0h1m1 0h2m1 0h2m1 0h6m1 0h1m1 0h3m1 0h1m1 0h3m2 0h2m1 0h1m3 0h1m5 0h1m1 0h1m1 0h2m1 0h1m1 0h1m1 0h1m2 0h1m1 0h2m1 0h1M5 31.5h1m1 0h1m7 0h2m3 0h3m4 0h1m3 0h1m3 0h1m1 0h2m1 0h2m1 0h2m3 0h1m2 0h1m2 0h1m1 0h2m2 0h1m1 0h3m2 0h1m1 0h1m2 0h1m2 0h1m1 0h1m2 0h2m4 0h1m2 0h1m1 0h2M8 32.5h5m4 0h2m1 0h4m1 0h1m5 0h9m1 0h2m2 0h2m3 0h2m1 0h2m1 0h7m1 0h1m2 0h1m2 0h1m4 0h7m1 0h7m1 0h2M7 33.5h2m3 0h1m1 0h2m1 0h1m1 0h1m3 0h1m3 0h1m1 0h4m3 0h2m2 0h1m1 0h1m1 0h7m1 0h2m2 0h1m1 0h1m3 0h1m1 0h2m1 0h1m2 0h2m1 0h2m3 0h3m2 0h2m3 0h4M5 34.5h1m1 0h2m1 0h1m1 0h1m4 0h1m2 0h3m2 0h1m3 0h1m2 0h1m1 0h1m1 0h4m3 0h3m2 0h1m3 0h2m2 0h3m1 0h1m1 0h2m2 0h3m1 0h3m1 0h1m1 0h6m1 0h2m1 0h1m1 0h1m1 0h3M7 35.5h2m3 0h1m2 0h2m2 0h3m1 0h1m2 0h1m4 0h2m3 0h1m1 0h1m1 0h2m1 0h1m1 0h5m6 0h3m3 0h1m1 0h1m1 0h1m2 0h1m1 0h1m3 0h3m2 0h1m2 0h2m3 0h2m1 0h2M6 36.5h8m7 0h1m2 0h1m1 0h1m1 0h1m1 0h7m1 0h1m1 0h1m1 0h2m3 0h1m2 0h1m1 0h3m3 0h5m1 0h1m1 0h3m1 0h1m2 0h6m1 0h2m2 0h6m2 0h1M4 37.5h3m1 0h1m2 0h3m1 0h1m1 0h2m3 0h4m2 0h2m1 0h2m1 0h3m2 0h1m1 0h4m1 0h1m2 0h6m1 0h2m3 0h4m1 0h2m2 0h1m2 0h2m2 0h3m3 0h1m1 0h1m1 0h2m1 0h1M5 38.5h3m2 0h4m1 0h3m1 0h3m1 0h6m1 0h2m1 0h1m1 0h6m1 0h1m2 0h1m1 0h2m4 0h2m1 0h4m1 0h2m8 0h3m2 0h2m1 0h3m4 0h1m3 0h1m1 0h1M5 39.5h5m5 0h2m1 0h2m3 0h2m1 0h2m1 0h2m2 0h3m1 0h1m1 0h1m1 0h1m1 0h1m2 0h1m3 0h1m1 0h2m3 0h1m1 0h1m2 0h6m3 0h1m1 0h3m2 0h1m3 0h1m2 0h3m2 0h1m1 0h1M6 40.5h2m2 0h2m2 0h1m6 0h7m2 0h1m1 0h3m6 0h3m3 0h2m2 0h2m2 0h1m1 0h2m2 0h1m1 0h1m5 0h4m2 0h2m3 0h1m1 0h1m3 0h1m2 0h1m2 0h1M5 41.5h1m1 0h2m2 0h1m1 0h1m2 0h1m4 0h1m1 0h2m3 0h1m1 0h1m1 0h1m1 0h1m1 0h1m1 0h1m2 0h2m3 0h1m4 0h1m1 0h1m1 0h1m3 0h2m6 0h1m1 0h1m1 0h1m3 0h3m1 0h4m3 0h2m1 0h4M5 42.5h1m1 0h1m1 0h2m2 0h3m4 0h1m2 0h1m4 0h3m1 0h1m3 0h1m1 0h4m3 0h1m1 0h5m1 0h2m1 0h1m3 0h1m2 0h1m1 0h1m3 0h4m1 0h1m1 0h1m3 0h1m1 0h4m1 0h1m2 0h1m1 0h1M4 43.5h5m2 0h1m1 0h1m1 0h1m1 0h1m1 0h1m1 0h2m1 0h2m1 0h1m1 0h1m2 0h2m2 0h1m5 0h1m2 0h4m1 0h1m2 0h5m1 0h2m1 0h1m2 0h2m2 0h1m3 0h1m2 0h6m1 0h2m1 0h1m1 0h2m1 0h1M6 44.5h1m3 0h1m2 0h3m1 0h1m1 0h1m1 0h1m1 0h1m3 0h2m2 0h2m1 0h2m1 0h1m4 0h7m2 0h1m1 0h1m1 0h5m1 0h1m1 0h2m1 0h2m1 0h2m3 0h1m3 0h4m2 0h1m1 0h1m1 0h1m1 0h1m1 0h1M4 45.5h1m1 0h4m1 0h3m1 0h1m1 0h2m2 0h2m6 0h1m4 0h1m1 0h2m2 0h1m5 0h2m1 0h1m2 0h2m3 0h3m1 0h3m4 0h3m2 0h2m1 0h1m2 0h1m1 0h3m1 0h1m1 0h1m2 0h2M5 46.5h2m1 0h7m1 0h5m1 0h1m1 0h1m4 0h1m1 0h4m1 0h3m1 0h1m1 0h2m2 0h1m1 0h3m2 0h3m1 0h1m1 0h4m1 0h5m1 0h1m1 0h1m2 0h1m1 0h1m2 0h3m2 0h4m2 0h2M5 47.5h1m3 0h1m1 0h1m4 0h1m5 0h1m1 0h1m1 0h1m3 0h1m2 0h4m1 0h3m1 0h2m1 0h2m1 0h3m1 0h1m3 0h1m2 0h1m2 0h2m1 0h1m2 0h5m1 0h1m4 0h1m2 0h1m6 0h1m1 0h1M5 48.5h1m1 0h1m1 0h2m3 0h1m1 0h1m3 0h1m1 0h2m1 0h3m1 0h1m4 0h1m2 0h1m5 0h1m1 0h2m1 0h1m1 0h2m1 0h2m1 0h2m2 0h1m3 0h1m2 0h1m1 0h3m1 0h2m1 0h2m4 0h3m1 0h2m1 0h2m1 0h1M4 49.5h1m1 0h2m4 0h1m1 0h3m2 0h1m2 0h1m1 0h4m4 0h1m1 0h3m1 0h2m2 0h2m4 0h3m2 0h1m2 0h1m2 0h1m1 0h6m5 0h2m2 0h2m2 0h1m1 0h3m3 0h2m1 0h2M4 50.5h4m2 0h2m2 0h1m2 0h3m3 0h1m2 0h1m2 0h2m1 0h7m1 0h3m1 0h4m2 0h2m2 0h2m1 0h2m3 0h1m1 0h4m2 0h1m3 0h5m3 0h1m2 0h2m1 0h1m2 0h2M4 51.5h2m1 0h3m1 0h1m1 0h3m3 0h4m4 0h1m2 0h5m2 0h1m2 0h4m2 0h1m3 0h1m2 0h2m8 0h2m2 0h1m2 0h1m2 0h6m1 0h5m1 0h1m1 0h1m1 0h1m1 0h1M6 52.5h2m2 0h1m1 0h1m1 0h1m2 0h3m6 0h1m1 0h1m3 0h1m1 0h1m1 0h3m2 0h1m1 0h1m1 0h2m4 0h1m1 0h7m1 0h3m1 0h2m4 0h2m1 0h1m1 0h4m1 0h3m2 0h1m1 0h4M4 53.5h2m3 0h1m1 0h7m2 0h3m1 0h1m1 0h1m3 0h1m2 0h1m2 0h1m1 0h1m2 0h1m1 0h1m1 0h2m2 0h1m2 0h1m3 0h4m1 0h6m4 0h2m3 0h1m2 0h2m1 0h1m1 0h1m1 0h2m4 0h1M9 54.5h2m2 0h1m3 0h3m1 0h2m5 0h3m2 0h4m2 0h2m2 0h2m2 0h2m1 0h2m2 0h2m2 0h1m2 0h5m2 0h2m1 0h1m1 0h1m1 0h3m1 0h1m4 0h2m1 0h1m3 0h1M4 55.5h2m2 0h2m1 0h2m2 0h3m1 0h1m1 0h1m2 0h7m3 0h1m1 0h1m3 0h1m1 0h1m2 0h1m1 0h1m2 0h2m3 0h1m1 0h2m2 0h2m1 0h2m3 0h1m1 0h1m1 0h2m1 0h5m2 0h1m2 0h1m1 0h1m2 0h1M6 56.5h3m1 0h2m3 0h1m3 0h6m1 0h1m1 0h1m1 0h3m1 0h1m1 0h1m2 0h5m1 0h1m1 0h1m2 0h1m1 0h1m1 0h4m2 0h4m2 0h1m3 0h4m1 0h1m2 0h4m5 0h1M4 57.5h4m5 0h2m3 0h2m1 0h2m1 0h1m1 0h1m1 0h1m3 0h1m1 0h2m2 0h3m4 0h2m1 0h1m1 0h3m1 0h1m1 0h1m1 0h1m2 0h6m1 0h1m1 0h2m2 0h1m3 0h3m4 0h1m3 0h1M4 58.5h1m1 0h7m4 0h1m4 0h5m1 0h3m1 0h10m1 0h2m1 0h3m2 0h1m1 0h1m1 0h1m2 0h6m1 0h1m1 0h4m1 0h4m1 0h5m1 0h7M4 59.5h3m1 0h1m3 0h3m2 0h2m1 0h1m1 0h1m2 0h1m2 0h1m1 0h3m3 0h1m2 0h3m1 0h4m3 0h2m1 0h2m1 0h3m3 0h2m5 0h3m3 0h3m4 0h3m3 0h1m1 0h1m1 0h1M4 60.5h3m1 0h1m1 0h1m1 0h2m1 0h1m1 0h1m1 0h3m6 0h2m2 0h1m1 0h1m1 0h1m3 0h1m2 0h7m1 0h4m2 0h2m1 0h1m1 0h1m1 0h1m1 0h1m1 0h3m1 0h1m1 0h3m1 0h1m5 0h1m1 0h1m1 0h1m3 0h1M4 61.5h1m1 0h3m3 0h3m5 0h1m1 0h1m1 0h2m1 0h1m4 0h1m3 0h1m1 0h1m2 0h3m2 0h1m4 0h1m1 0h2m3 0h1m3 0h6m1 0h1m2 0h3m1 0h1m3 0h1m1 0h3m3 0h1M4 62.5h3m1 0h5m4 0h2m1 0h1m1 0h3m1 0h1m1 0h9m1 0h6m1 0h2m1 0h1m2 0h1m1 0h2m1 0h1m1 0h8m3 0h1m1 0h1m3 0h4m3 0h7m1 0h3M4 63.5h2m1 0h1m9 0h4m2 0h4m4 0h2m2 0h1m2 0h2m3 0h2m1 0h1m3 0h1m1 0h1m1 0h4m4 0h2m2 0h1m1 0h2m1 0h1m2 0h2m1 0h3m1 0h1m2 0h3m2 0h3M10 64.5h1m8 0h2m2 0h2m2 0h3m1 0h2m1 0h1m3 0h3m1 0h4m1 0h4m1 0h1m1 0h4m2 0h2m2 0h2m1 0h1m4 0h1m2 0h1m3 0h1m1 0h3m2 0h2m1 0h3M5 65.5h2m2 0h1m2 0h1m1 0h2m3 0h3m1 0h5m3 0h3m2 0h1m3 0h1m1 0h1m5 0h1m4 0h2m2 0h1m1 0h1m2 0h1m1 0h2m1 0h1m5 0h1m1 0h1m1 0h2m1 0h1m1 0h4m2 0h2M5 66.5h1m2 0h4m1 0h1m4 0h1m2 0h3m2 0h1m1 0h1m2 0h1m4 0h3m1 0h1m2 0h1m2 0h1m4 0h2m1 0h1m1 0h1m3 0h1m3 0h1m1 0h5m3 0h1m1 0h1m1 0h2m1 0h1m2 0h1m1 0h4m1 0h2M4 67.5h1m2 0h1m1 0h1m1 0h1m6 0h1m2 0h4m1 0h1m4 0h1m2 0h1m3 0h2m1 0h1m1 0h2m1 0h1m2 0h1m3 0h1m2 0h1m3 0h1m4 0h3m3 0h1m3 0h1m1 0h3m1 0h2m1 0h3m2 0h2M5 68.5h1m3 0h2m1 0h3m2 0h1m2 0h4m1 0h2m2 0h2m1 0h4m2 0h1m2 0h2m1 0h1m2 0h1m4 0h4m1 0h3m2 0h1m1 0h1m1 0h2m1 0h3m1 0h10m3 0h1m1 0h2m1 0h2M4 69.5h3m1 0h2m1 0h1m2 0h2m2 0h1m2 0h1m1 0h1m1 0h3m2 0h2m1 0h1m2 0h1m1 0h4m1 0h1m3 0h2m1 0h3m2 0h2m2 0h1m2 0h1m4 0h2m3 0h3m1 0h3m1 0h2m1 0h5m1 0h3M7 70.5h1m1 0h2m1 0h3m4 0h1m8 0h1m5 0h2m1 0h1m2 0h1m1 0h2m1 0h1m1 0h3m1 0h1m1 0h1m1 0h1m1 0h3m3 0h2m1 0h4m2 0h2m1 0h1m3 0h1m2 0h4M5 71.5h1m3 0h1m6 0h1m3 0h1m1 0h1m4 0h2m3 0h2m1 0h1m2 0h1m1 0h3m1 0h1m1 0h4m2 0h1m1 0h1m1 0h1m1 0h1m1 0h2m1 0h1m1 0h2m1 0h2m1 0h3m1 0h4m2 0h2m1 0h3m2 0h1m1 0h2M4 72.5h1m1 0h5m2 0h1m1 0h2m2 0h5m1 0h1m1 0h3m1 0h1m1 0h4m1 0h1m1 0h2m1 0h6m1 0h4m1 0h1m2 0h2m1 0h1m2 0h1m1 0h2m1 0h1m1 0h4m2 0h2m3 0h3m1 0h1m2 0h3M5 73.5h4m3 0h2m1 0h1m1 0h1m1 0h2m1 0h1m2 0h1m2 0h1m3 0h2m3 0h1m1 0h1m2 0h1m2 0h2m1 0h1m1 0h1m1 0h2m2 0h2m2 0h3m2 0h1m1 0h2m1 0h7m1 0h6m2 0h1m2 0h1m2 0h1M4 74.5h2m2 0h3m1 0h3m1 0h1m2 0h1m2 0h2m1 0h1m1 0h3m1 0h1m5 0h1m1 0h1m1 0h1m2 0h2m4 0h1m2 0h6m4 0h4m1 0h1m3 0h2m2 0h3m1 0h1m3 0h1m1 0h3m1 0h3M6 75.5h2m1 0h1m1 0h1m3 0h1m7 0h2m1 0h1m1 0h1m1 0h1m7 0h2m1 0h2m3 0h2m1 0h3m1 0h1m3 0h1m1 0h1m3 0h1m1 0h3m4 0h1m2 0h1m1 0h1m2 0h3m3 0h1m1 0h1m3 0h1M4 76.5h2m1 0h1m2 0h2m1 0h1m1 0h1m1 0h2m6 0h1m4 0h4m2 0h3m3 0h1m1 0h1m3 0h3m2 0h1m2 0h1m1 0h1m1 0h2m4 0h2m3 0h1m2 0h2m1 0h4m1 0h2m1 0h1m2 0h2m1 0h1M4 77.5h3m1 0h2m1 0h1m3 0h1m1 0h1m1 0h1m1 0h1m1 0h1m2 0h1m2 0h1m1 0h1m1 0h1m1 0h1m2 0h1m1 0h1m1 0h1m2 0h1m1 0h1m4 0h2m1 0h1m3 0h1m1 0h2m1 0h1m2 0h4m1 0h1m1 0h1m1 0h2m1 0h1m1 0h2m7 0h2M7 78.5h5m2 0h2m1 0h2m2 0h1m2 0h7m1 0h4m1 0h1m3 0h1m5 0h4m1 0h2m1 0h1m2 0h3m2 0h4m2 0h2m3 0h1m6 0h2m2 0h1m3 0h1m1 0h2M4 79.5h1m1 0h1m1 0h1m6 0h2m1 0h2m1 0h3m4 0h1m3 0h1m1 0h3m4 0h2m1 0h2m4 0h3m1 0h4m1 0h4m2 0h2m1 0h3m1 0h1m1 0h1m1 0h2m2 0h1m1 0h2m2 0h3m2 0h2M4 80.5h2m4 0h4m1 0h2m3 0h2m1 0h1m1 0h1m1 0h5m1 0h1m2 0h2m1 0h4m1 0h4m2 0h1m1 0h1m2 0h1m2 0h2m1 0h3m1 0h1m2 0h1m2 0h1m1 0h5m1 0h1m1 0h1m3 0h1m1 0h3M11 81.5h2m1 0h3m4 0h3m8 0h1m2 0h1m2 0h1m1 0h2m1 0h1m1 0h2m5 0h2m1 0h1m3 0h1m1 0h1m1 0h2m3 0h1m2 0h2m2 0h4m4 0h1m1 0h2m2 0h3M4 82.5h1m2 0h1m2 0h2m3 0h4m1 0h3m4 0h1m3 0h1m3 0h2m1 0h1m3 0h1m2 0h2m1 0h1m1 0h1m1 0h1m3 0h1m1 0h1m1 0h1m2 0h5m1 0h1m4 0h1m2 0h1m6 0h2m2 0h3m1 0h1M4 83.5h2m2 0h2m1 0h2m1 0h1m1 0h4m1 0h1m1 0h1m3 0h1m2 0h2m1 0h2m2 0h1m1 0h3m1 0h1m3 0h1m1 0h1m3 0h1m1 0h1m2 0h4m4 0h3m3 0h5m3 0h1m1 0h1m1 0h1m3 0h1m1 0h1M4 84.5h1m2 0h1m2 0h1m1 0h1m1 0h1m2 0h1m1 0h1m1 0h1m1 0h1m1 0h1m3 0h2m1 0h5m1 0h1m1 0h1m2 0h2m1 0h9m1 0h1m1 0h5m1 0h2m1 0h1m2 0h1m1 0h3m1 0h1m2 0h10m1 0h1m1 0h1M12 85.5h1m3 0h3m1 0h1m1 0h2m1 0h2m1 0h1m2 0h2m3 0h1m1 0h1m6 0h1m2 0h1m1 0h1m2 0h1m3 0h2m3 0h1m1 0h2m2 0h1m2 0h1m5 0h1m2 0h1m3 0h1m3 0h5M4 86.5h7m2 0h4m4 0h5m1 0h2m2 0h2m1 0h1m1 0h2m2 0h1m2 0h1m1 0h2m2 0h1m1 0h1m3 0h1m2 0h1m1 0h1m1 0h1m2 0h1m2 0h3m1 0h2m1 0h3m6 0h1m1 0h1m1 0h1m2 0h1M4 87.5h1m5 0h1m1 0h1m2 0h1m1 0h1m2 0h2m1 0h1m3 0h1m1 0h4m3 0h1m1 0h3m1 0h3m3 0h1m2 0h1m2 0h2m2 0h1m3 0h3m2 0h1m1 0h1m3 0h1m2 0h1m2 0h1m2 0h3m3 0h1m2 0h1M4 88.5h1m1 0h3m1 0h1m5 0h6m1 0h2m1 0h3m1 0h1m1 0h5m1 0h12m1 0h2m2 0h2m1 0h10m1 0h4m3 0h1m2 0h3m1 0h6m3 0h1M4 89.5h1m1 0h3m1 0h1m5 0h1m1 0h1m1 0h4m1 0h4m1 0h1m1 0h4m5 0h1m1 0h5m2 0h2m2 0h1m5 0h2m1 0h1m1 0h2m1 0h1m2 0h1m6 0h7m1 0h5M4 90.5h1m1 0h3m1 0h1m1 0h1m1 0h1m1 0h1m4 0h2m1 0h1m2 0h2m1 0h1m1 0h1m1 0h2m2 0h7m1 0h2m1 0h1m2 0h2m2 0h2m1 0h1m1 0h1m1 0h1m2 0h1m1 0h2m3 0h3m1 0h1m2 0h1m1 0h4m1 0h2m1 0h3M4 91.5h1m5 0h1m1 0h3m1 0h2m1 0h1m1 0h1m1 0h1m1 0h1m2 0h1m2 0h1m3 0h3m4 0h1m1 0h1m2 0h1m1 0h1m2 0h1m1 0h6m2 0h1m1 0h1m2 0h3m3 0h1m3 0h1m1 0h1m3 0h2m5 0h1M4 92.5h7m1 0h1m6 0h3m2 0h2m1 0h2m1 0h6m1 0h3m3 0h2m1 0h1m1 0h2m2 0h1m1 0h1m1 0h1m1 0h1m2 0h1m2 0h2m2 0h2m8 0h2m2 0h1m1 0h1m1 0h3m1 0h1m1 0h1\"/></svg>\n"
      ]
     },
     "execution_count": 12,
     "metadata": {},
     "output_type": "execute_result"
    }
   ],
   "source": [
    "var QRCode = require('qrcode')\n",
    "\n",
    "const segments = [\n",
    "    {data: 'shc:/', mode: 'byte'},\n",
    "    {data: numericJWS, mode: 'numeric'}\n",
    "]\n",
    "\n",
    "const qrSVG = QRCode.toString(segments,{type: 'svg', errorCorrectionLevel: 'low' })\n",
    "\n",
    "$$.svg(qrSVG)"
   ]
  },
  {
   "cell_type": "code",
   "execution_count": null,
   "id": "resident-kitchen",
   "metadata": {},
   "outputs": [],
   "source": []
  }
 ],
 "metadata": {
  "kernelspec": {
   "display_name": "Javascript (Node.js)",
   "language": "javascript",
   "name": "javascript"
  },
  "language_info": {
   "file_extension": ".js",
   "mimetype": "application/javascript",
   "name": "javascript",
   "version": "15.12.0"
  }
 },
 "nbformat": 4,
 "nbformat_minor": 5
}
