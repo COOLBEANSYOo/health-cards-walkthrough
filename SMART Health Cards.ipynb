{
 "cells": [
  {
   "cell_type": "markdown",
   "id": "thick-dominican",
   "metadata": {},
   "source": [
    "# SMART Health Cards\n",
    "\n",
    "This notebook is designed to give an overview of [SMART Health Cards Framework](https://smarthealth.cards/) and how it works.\n",
    "\n",
    "\n",
    "This notebook is written in JavaScript and uses the [IJavascript kernel](https://github.com/n-riesco/ijavascript) for Jupyter Notebook."
   ]
  },
  {
   "cell_type": "markdown",
   "id": "portable-reducing",
   "metadata": {},
   "source": [
    "## Walkthrough\n",
    "\n",
    "The high level outline is as follows:\n",
    "* FHIR Bundle is created\n",
    "* FHIR Bundle is minified\n",
    "* SMART Health Card is created from FHIR Bundle\n",
    "* SMART Health Card is encoded as a JWS\n",
    "* Patient Retrieves the SMART Health Cards via:\n",
    "  * File Download\n",
    "  * QR Code\n",
    "  * FHIR API"
   ]
  },
  {
   "cell_type": "markdown",
   "id": "natural-gothic",
   "metadata": {},
   "source": [
    "### The FHIR Bundle\n",
    "\n",
    "A SMART Health Card is composed of a [W3C Verifiable Credential](https://w3c.github.io/vc-data-model/), [encoded as a JWT](https://w3c.github.io/vc-data-model/#jwt-encoding), with a Credential Subject that contains the FHIR version and a FHIR Bundle (See [Modeling W3C Verifiable Credentials in FHIR](https://smarthealth.cards/credential-modeling/).\n",
    "\n",
    "The FHIR Bundle contains the health care information.\n",
    "\n",
    "Let's assume we have the below FHIR Bundle ([Example 0](https://smarthealth.cards/examples/example-00-a-fhirBundle.json) at the time of writing). This FHIR Bundle could be produced in a number of ways, but for now let's imagine that the patient, John B. Anyperson, has just received his second COVID-19 vaccination shot and the healthcare worker entered his information into their system which produced the below in their system."
   ]
  },
  {
   "cell_type": "code",
   "execution_count": 1,
   "id": "useful-reset",
   "metadata": {},
   "outputs": [],
   "source": [
    "const fhirBundle = {\n",
    "  \"resourceType\": \"Bundle\",\n",
    "  \"type\": \"collection\",\n",
    "  \"entry\": [\n",
    "    {\n",
    "      \"fullUrl\": \"resource:0\",\n",
    "      \"resource\": {\n",
    "        \"resourceType\": \"Patient\",\n",
    "        \"name\": [\n",
    "          {\n",
    "            \"family\": \"Anyperson\",\n",
    "            \"given\": [\n",
    "              \"John\",\n",
    "              \"B.\"\n",
    "            ]\n",
    "          }\n",
    "        ],\n",
    "        \"birthDate\": \"1951-01-20\"\n",
    "      }\n",
    "    },\n",
    "    {\n",
    "      \"fullUrl\": \"resource:1\",\n",
    "      \"resource\": {\n",
    "        \"resourceType\": \"Immunization\",\n",
    "        \"status\": \"completed\",\n",
    "        \"vaccineCode\": {\n",
    "          \"coding\": [\n",
    "            {\n",
    "              \"system\": \"http://hl7.org/fhir/sid/cvx\",\n",
    "              \"code\": \"207\"\n",
    "            }\n",
    "          ]\n",
    "        },\n",
    "        \"patient\": {\n",
    "          \"reference\": \"resource:0\"\n",
    "        },\n",
    "        \"occurrenceDateTime\": \"2021-01-01\",\n",
    "        \"performer\": [\n",
    "          {\n",
    "            \"actor\": {\n",
    "              \"display\": \"ABC General Hospital\"\n",
    "            }\n",
    "          }\n",
    "        ],\n",
    "        \"lotNumber\": \"0000001\"\n",
    "      }\n",
    "    },\n",
    "    {\n",
    "      \"fullUrl\": \"resource:2\",\n",
    "      \"resource\": {\n",
    "        \"resourceType\": \"Immunization\",\n",
    "        \"status\": \"completed\",\n",
    "        \"vaccineCode\": {\n",
    "          \"coding\": [\n",
    "            {\n",
    "              \"system\": \"http://hl7.org/fhir/sid/cvx\",\n",
    "              \"code\": \"207\"\n",
    "            }\n",
    "          ]\n",
    "        },\n",
    "        \"patient\": {\n",
    "          \"reference\": \"resource:0\"\n",
    "        },\n",
    "        \"occurrenceDateTime\": \"2021-01-29\",\n",
    "        \"performer\": [\n",
    "          {\n",
    "            \"actor\": {\n",
    "              \"display\": \"ABC General Hospital\"\n",
    "            }\n",
    "          }\n",
    "        ],\n",
    "        \"lotNumber\": \"0000007\"\n",
    "      }\n",
    "    }\n",
    "  ]\n",
    "}"
   ]
  },
  {
   "cell_type": "markdown",
   "id": "found-murray",
   "metadata": {},
   "source": [
    "A couple things to note in the above JSON. This is a Bundle that contains 3 resources: one for the patient, one for the first vaccination, and another for the second vaccination. This Bundle conforms to the requirements laid out in [SMART Health Cards: Vaccination & Testing Implementation Guide](http://build.fhir.org/ig/dvci/vaccine-credential-ig/branches/main/) which defines what resources should be included in the Health Card. Specifically, this is an example of [Vaccine Credential Bundle - Data Minimization](http://build.fhir.org/ig/dvci/vaccine-credential-ig/branches/main/StructureDefinition-vaccine-credential-bundle-dm.html). We'll talk about what \"Data Minimization\" means in a second.\n",
    "\n",
    "Now let's create the \"Expanded Health Card\"."
   ]
  },
  {
   "cell_type": "markdown",
   "id": "excited-fraction",
   "metadata": {},
   "source": [
    "### Expanded Health Card\n",
    "\n",
    "The Expanded Health Card shows what the Health Card looks like before it is minified and serialized using the compact JWS serialization.\n",
    "\n",
    "[Health Cards are encoded as Compact Serialization JSON Web Signatures (JWS)](https://smarthealth.cards/#health-cards-are-encoded-as-compact-serialization-json-web-signatures-jws) and [Modeling W3C Verifiable Credentials in FHIR](https://smarthealth.cards/credential-modeling/) cover this in more detail.\n",
    "\n",
    "Before we get into the details it's important to note that some of the VC properties are mapped to standard JWT fields when using the [JWT encoding](https://w3c.github.io/vc-data-model/#jwt-encoding) (which we are). These include the `iss` and `nbf` fields.\n",
    "\n",
    "Below shows the expanded Health Card for the example:"
   ]
  },
  {
   "cell_type": "code",
   "execution_count": 2,
   "id": "fleet-cream",
   "metadata": {},
   "outputs": [],
   "source": [
    "const expandedHealthCard = {\n",
    "  \"iss\": \"https://smarthealth.cards/examples/issuer\",\n",
    "  \"nbf\": Date.now() / 1000,\n",
    "  \"vc\": {\n",
    "    \"@context\": [\n",
    "      \"https://www.w3.org/2018/credentials/v1\"\n",
    "    ],\n",
    "    \"type\": [\n",
    "      \"VerifiableCredential\",\n",
    "      \"https://smarthealth.cards#health-card\",\n",
    "      \"https://smarthealth.cards#immunization\",\n",
    "      \"https://smarthealth.cards#covid19\"\n",
    "    ],\n",
    "    \"credentialSubject\": {\n",
    "        \"fhirVersion\": \"4.0.1\",\n",
    "        \"fhirBundle\": fhirBundle\n",
    "    }\n",
    "  }\n",
    "}"
   ]
  },
  {
   "cell_type": "markdown",
   "id": "interpreted-estate",
   "metadata": {},
   "source": [
    "Let's talk about the three root fields:\n",
    "\n",
    "`iss` - This represents the [Issuer](https://w3c.github.io/vc-data-model/#issuer)\n",
    "  * Note this property is represented by `iss` according to the [JWT Encoding Rules](https://w3c.github.io/vc-data-model/#jwt-encoding)\n",
    "\n",
    "`nbf` - This represents the [IssuanceDate](https://w3c.github.io/vc-data-model/#issuance-date)\n",
    "  * Note this property is represented by `nbf`.\n",
    "\n",
    "`vc` - This represents the VC claim minus all the unmapped fields (`iss` and `nbf`)\n",
    "\n",
    "\n",
    "TODO: Fill out the rest of these properties"
   ]
  },
  {
   "cell_type": "markdown",
   "id": "related-cruise",
   "metadata": {},
   "source": [
    "### Health Cards are Small\n",
    "\n",
    "SMART Health Cards can be issued on pieces of paper via QR Codes. This introduces some unique size constraints in order to keep the number and size of QR codes manageable. When using and applying SMART Health Cards, it's important to keep them small.\n",
    "\n",
    "The SMART Health Card spec requires that [the JWS payload is minified and compressed](https://smarthealth.cards/#health-cards-are-small) in order to reduce payload size.\n",
    "\n",
    "SMART Health Cards are designed to be be atomic and shared as a whole. Information within the Health Card cannot be removed without affecting the verifiability of the Health Card. This imposes a privacy challenge when too much information is included in a single Health Card.\n",
    "\n",
    "The \"Data Minimization\" profiles in the IG are designed to address these size and privacy concerns by ensuring the FHIR profiles only require the minimal set of information to achieve the desired results.\n",
    "\n",
    "Below the JWS Payload (i.e. the \"Expanded Health Card\") is compressed according to the spec:"
   ]
  },
  {
   "cell_type": "code",
   "execution_count": 3,
   "id": "seasonal-begin",
   "metadata": {
    "scrolled": true
   },
   "outputs": [
    {
     "name": "stdout",
     "output_type": "stream",
     "text": [
      "{\"iss\":\"https://smarthealth.cards/examples/issuer\",\"nbf\":1637264899.382,\"vc\":{\"@context\":[\"https://www.w3.org/2018/credentials/v1\"],\"type\":[\"VerifiableCredential\",\"https://smarthealth.cards#health-card\",\"https://smarthealth.cards#immunization\",\"https://smarthealth.cards#covid19\"],\"credentialSubject\":{\"fhirVersion\":\"4.0.1\",\"fhirBundle\":{\"resourceType\":\"Bundle\",\"type\":\"collection\",\"entry\":[{\"fullUrl\":\"resource:0\",\"resource\":{\"resourceType\":\"Patient\",\"name\":[{\"family\":\"Anyperson\",\"given\":[\"John\",\"B.\"]}],\"birthDate\":\"1951-01-20\"}},{\"fullUrl\":\"resource:1\",\"resource\":{\"resourceType\":\"Immunization\",\"status\":\"completed\",\"vaccineCode\":{\"coding\":[{\"system\":\"http://hl7.org/fhir/sid/cvx\",\"code\":\"207\"}]},\"patient\":{\"reference\":\"resource:0\"},\"occurrenceDateTime\":\"2021-01-01\",\"performer\":[{\"actor\":{\"display\":\"ABC General Hospital\"}}],\"lotNumber\":\"0000001\"}},{\"fullUrl\":\"resource:2\",\"resource\":{\"resourceType\":\"Immunization\",\"status\":\"completed\",\"vaccineCode\":{\"coding\":[{\"system\":\"http://hl7.org/fhir/sid/cvx\",\"code\":\"207\"}]},\"patient\":{\"reference\":\"resource:0\"},\"occurrenceDateTime\":\"2021-01-29\",\"performer\":[{\"actor\":{\"display\":\"ABC General Hospital\"}}],\"lotNumber\":\"0000007\"}}]}}}}\n"
     ]
    }
   ],
   "source": [
    "// Remove the optional whitespace\n",
    "const noWhiteSpaceHealthCard = JSON.stringify(expandedHealthCard)\n",
    "console.log(noWhiteSpaceHealthCard)"
   ]
  },
  {
   "cell_type": "code",
   "execution_count": 4,
   "id": "divine-casino",
   "metadata": {},
   "outputs": [],
   "source": [
    "// Normally we'd remove some of the fhirBundle elements at \n",
    "// this step ( e.g. Resource.id, Resource.meta, CodebableConcept.text).\n",
    "// These are already missing from the original payload, so we'll skip that here\n",
    "\n",
    "// Compress the payload with DEFLATE, omitting any zlib headers\n",
    "\n",
    "const compressedPayload = zlib.deflateRawSync(noWhiteSpaceHealthCard)"
   ]
  },
  {
   "cell_type": "markdown",
   "id": "southwest-output",
   "metadata": {},
   "source": [
    "### Creating the Signed Health Card\n",
    "\n",
    "Now that we have the compressed payload we can sign it as a JWS. First, let's create the key pair for signing and verifying."
   ]
  },
  {
   "cell_type": "code",
   "execution_count": 5,
   "id": "wanted-mistress",
   "metadata": {},
   "outputs": [],
   "source": [
    "var jose = require('node-jose');\n",
    "\n",
    "const keystore = jose.JWK.createKeyStore()\n",
    "\n",
    "let signingKey;\n",
    "\n",
    "keystore.generate(\"EC\", \"P-256\").\n",
    "        then(function(result) {\n",
    "          // {result} is a jose.JWK.Key\n",
    "          signingKey = result;\n",
    "        });"
   ]
  },
  {
   "cell_type": "code",
   "execution_count": 6,
   "id": "characteristic-directory",
   "metadata": {},
   "outputs": [
    {
     "data": {
      "text/plain": [
       "{\n",
       "  keys: [\n",
       "    {\n",
       "      kty: 'EC',\n",
       "      kid: 'amgJkUw0W43t8vOIcWnnsXtLqUXTO-1k2mh3SYdxUfA',\n",
       "      crv: 'P-256',\n",
       "      x: '7HHmKZr6kLfU4l-Qc5_jp48dy1CxzZfrETEz4Ft5hDM',\n",
       "      y: '3H7pJ0_1IYqi9PjW5aWRyPIbgb6qjYlj4oijDGiTouQ',\n",
       "      d: 'KU6AXiPs38rg8lI6oPJjjIR_5AQhgZR8-hdOwB0Ygbk'\n",
       "    }\n",
       "  ]\n",
       "}"
      ]
     },
     "execution_count": 6,
     "metadata": {},
     "output_type": "execute_result"
    }
   ],
   "source": [
    "// Print the entire key store, including the `d` member which contains the private key value\n",
    "// Remove true to just present the public key\n",
    "// See: https://tools.ietf.org/id/draft-jones-jose-json-private-and-symmetric-key-00.html#rfc.section.3.1.1\n",
    "keystore.toJSON(true);"
   ]
  },
  {
   "cell_type": "markdown",
   "id": "ordered-preserve",
   "metadata": {},
   "source": [
    "With a signing key in hand we can create the JWS:"
   ]
  },
  {
   "cell_type": "code",
   "execution_count": 7,
   "id": "fantastic-absorption",
   "metadata": {},
   "outputs": [
    {
     "name": "stdout",
     "output_type": "stream",
     "text": [
      "eyJ6aXAiOiJERUYiLCJhbGciOiJFUzI1NiIsImtpZCI6ImFtZ0prVXcwVzQzdDh2T0ljV25uc1h0THFVWFRPLTFrMm1oM1NZZHhVZkEifQ.3VJNj9MwEP0rq-Ha5qvLtskJWiQ-DgiJXS6oB9eZNkaOHdlO2rLKf2fGbReQdnvihG9jv3nz3vM8gvIeKmhC6HyVpr4VLjQodGgSKVztUzyIttPoUwL26GACZrOFKr-bzYu720VZJrNFMYFBQvUIb6Q1AQ8Bqu9PlPv9PtnPEut2aZHli1Q6rNEEJbRPhxzWEwjHDrnjGzq1VWKjcfWEoXkvant1KqZcXMWptu2N-imCsuYqUNpB1XnJon7L_NpvfqAM7G_bKEcqPfNUcJtkSU58fLvsTa2RMQ697Z3E--gKzg8XlyCt1sR2UkID3JGsE3Ov9YPTBLj0VxkBLsUzxF_IDvXzh4gWTySiVZr44K0hjPNxxk4NaDjeT7bhepnAeiSDG0Xm34nAXHn5Op9m-bTIYBwnz6rJr6v5-HfEPojQ-2iXtycgf9AgpFQGV7aODNLWyuyicH_0AdvzHtLPNHoeF4aTTb2qUzkciEDGTiiyOYzrcQLdOYIoZ4sODWv7M0ECWSl7F5_Y7L1qTxRFNJyxLYpqa11Ly81ahAzWMWWtfKdFjHO5unmPBp3QNx-s71SgxRw5RG3D577dcCtk8eQvJlj8lwkW5b9OcM4PI51f.uGAHAceYrn4POEzQqyHYRpNM4lz-5B-woBInkjW3ovGok4FprCv2FpyGQGfH2-exbe9f8nDfSicUrsjJ2LlNiQ\n"
     ]
    }
   ],
   "source": [
    "const fields = { zip: 'DEF' }\n",
    "\n",
    "let jws;\n",
    "\n",
    "jose.JWS.createSign({ format: 'compact', fields }, signingKey)\n",
    "    .update(Buffer.from(compressedPayload))\n",
    "    .final()\n",
    "    .then(function(result) {\n",
    "        jws = result;\n",
    "        console.log(jws)\n",
    "});"
   ]
  },
  {
   "cell_type": "markdown",
   "id": "pediatric-pressing",
   "metadata": {},
   "source": [
    "Now that we have the JWS we should check that we can actually verify the signature"
   ]
  },
  {
   "cell_type": "code",
   "execution_count": 8,
   "id": "difficult-packing",
   "metadata": {},
   "outputs": [
    {
     "name": "stdout",
     "output_type": "stream",
     "text": [
      "{\n",
      "  protected: [ 'zip', 'alg', 'kid' ],\n",
      "  header: {\n",
      "    zip: 'DEF',\n",
      "    alg: 'ES256',\n",
      "    kid: 'amgJkUw0W43t8vOIcWnnsXtLqUXTO-1k2mh3SYdxUfA'\n",
      "  },\n",
      "  payload: <Buffer dd 52 4d 8f d3 30 10 fd 2b ab e1 da e6 ab cb b6 c9 09 5a 24 3e 0e 08 89 5d 2e a8 07 d7 99 36 46 8e 1d d9 4e da b2 ca 7f 67 c6 6d 17 90 76 7b e2 84 6f ... 415 more bytes>,\n",
      "  signature: <Buffer b8 60 07 01 c7 98 ae 7e 0f 38 4c d0 ab 21 d8 46 93 4c e2 5c fe e4 1f b0 a0 12 27 92 35 b7 a2 f1 a8 93 81 69 ac 2b f6 16 9c 86 40 67 c7 db e7 b1 6d ef ... 14 more bytes>,\n",
      "  key: JWKBaseKeyObject {\n",
      "    keystore: JWKStore {},\n",
      "    length: 256,\n",
      "    kty: 'EC',\n",
      "    kid: 'amgJkUw0W43t8vOIcWnnsXtLqUXTO-1k2mh3SYdxUfA',\n",
      "    use: '',\n",
      "    alg: ''\n",
      "  }\n",
      "}\n"
     ]
    }
   ],
   "source": [
    "jose.JWS.createVerify(signingKey)\n",
    "    .verify(jws).then(function(result) {\n",
    "    console.log(result)\n",
    "})"
   ]
  },
  {
   "cell_type": "markdown",
   "id": "discrete-morrison",
   "metadata": {},
   "source": [
    "Let's also create a fake key and test with that to make sure we aren't getting a false positive"
   ]
  },
  {
   "cell_type": "code",
   "execution_count": 9,
   "id": "biological-consumer",
   "metadata": {},
   "outputs": [],
   "source": [
    "let fakeKey;\n",
    "\n",
    "keystore.generate(\"EC\", \"P-256\").\n",
    "        then(function(result) {\n",
    "          // {result} is a jose.JWK.Key\n",
    "          fakeKey = result;\n",
    "        });"
   ]
  },
  {
   "cell_type": "code",
   "execution_count": 10,
   "id": "modern-label",
   "metadata": {},
   "outputs": [
    {
     "ename": "Error",
     "evalue": "no key found",
     "output_type": "error",
     "traceback": [
      "Error: no key found",
      "    at processSig (/Users/smcdougall/vci/health-cards-walkthrough/node_modules/node-jose/lib/jws/verify.js:131:22)",
      "    at processTicksAndRejections (node:internal/process/task_queues:96:5)"
     ]
    }
   ],
   "source": [
    "// Note \"Error: no key found\" is the generic error message for keys that won't decrypt\n",
    "// See: https://github.com/cisco/node-jose/issues/262\n",
    "jose.JWS.createVerify(fakeKey)\n",
    "    .verify(jws).then(function(result) {\n",
    "    console.log(result)\n",
    "})"
   ]
  },
  {
   "cell_type": "markdown",
   "id": "surrounded-conditioning",
   "metadata": {},
   "source": [
    "### QR Code Generation\n",
    "\n",
    "Now that we have a JWS we can turn that into a QR Code which can be scanned. We do not need to worry about chunking just yet since the payload is below the 1195 character threshold in this example, but we will include the chunking code to show how the process works for larger examples.\n",
    "\n",
    "As part of our design, we want to keep the `errorCorrectionLevel` to be `'low'`. "
   ]
  },
  {
   "cell_type": "code",
   "execution_count": 11,
   "id": "c1e7ef6c",
   "metadata": {},
   "outputs": [],
   "source": [
    "const MAX_SINGLE_JWS_SIZE = 1195;\n",
    "const MAX_CHUNK_SIZE = 1191;\n",
    "const splitJwsIntoChunks = (jws) => {\n",
    "  if (jws.length <= MAX_SINGLE_JWS_SIZE) {\n",
    "    return [jws];\n",
    "  }\n",
    "\n",
    "  // Try to split the chunks into roughly equal sizes.\n",
    "  const chunkCount = Math.ceil(jws.length / MAX_CHUNK_SIZE);\n",
    "  const chunkSize = Math.ceil(jws.length / chunkCount);\n",
    "  const chunks = jws.match(new RegExp(`.{1,${chunkSize}}`, 'g'));\n",
    "  return chunks || [];\n",
    "}"
   ]
  },
  {
   "cell_type": "code",
   "execution_count": 12,
   "id": "presidential-turkey",
   "metadata": {},
   "outputs": [],
   "source": [
    "// Create array of chunks to convert into numeric mode QRs\n",
    "var QRCode = require('qrcode')\n",
    "const jwsChunks = splitJwsIntoChunks(jws);\n",
    "\n",
    "// Save QR code data for future comparison with scanned QR Code\n",
    "let qrCodesData = [];\n",
    "\n",
    "jwsChunks.forEach(async function(jwsChunk, i) {\n",
    "    // This code snippet was adapted/taken from https://github.com/smart-on-fhir/health-cards/blob/152a4f83b223b5fd14027f765e957e290649f2c0/generate-examples/src/index.ts#L173\n",
    "    const numericJWS = await jws.split('')\n",
    "        .map((c) => c.charCodeAt(0) - 45)\n",
    "        .flatMap((c) => [Math.floor(c / 10), c % 10]) //Need to maintain leading zeros\n",
    "        .join('')\n",
    "\n",
    "    const qrCodeData = 'shc:/' + numericJWS\n",
    "    \n",
    "    console.log(qrCodeData)\n",
    "    qrCodesData.push(qrCodeData);\n",
    "    \n",
    "    const segments = [\n",
    "    {data: 'shc:/', mode: 'byte'},\n",
    "    {data: numericJWS, mode: 'numeric'}\n",
    "    ]\n",
    "\n",
    "    let qrSVG\n",
    "    // QR code version will default to smallest possible version\n",
    "    await QRCode.toString(segments,{type: 'svg', errorCorrectionLevel: 'low'}).then(function(result){\n",
    "        qrSVG = result\n",
    "        $$.svg(qrSVG)\n",
    "    })\n",
    "\n",
    "    // Also print as PNG for scanning later on.\n",
    "\n",
    "    await QRCode.toFile(`./js_qrcode${i}.png`, segments, {width: 800})\n",
    "});"
   ]
  },
  {
   "cell_type": "markdown",
   "id": "undefined-telephone",
   "metadata": {},
   "source": [
    "The above shows what the value of the QR code will be, with the leading `byte` segment and the `numeric` segment following"
   ]
  },
  {
   "cell_type": "markdown",
   "id": "tender-viewer",
   "metadata": {},
   "source": [
    "### QR Code Scanning\n",
    "\n",
    "Now let's try and scan the QR Code!"
   ]
  },
  {
   "cell_type": "code",
   "execution_count": 14,
   "id": "inner-enhancement",
   "metadata": {
    "scrolled": true
   },
   "outputs": [
    {
     "name": "stdout",
     "output_type": "stream",
     "text": [
      "shc:/56762909524320603460292437404460312229595326546034602925407728043360287028647167452228092864257145036769414354744177367755235905390363614105087254045903392725414225373531392569326404663204334545275941456224605736010641293361123274243503696800275208687331717062294260360023586029433809662112564533625234275563340569313057055726533756365565736059261261730665770673321158732856306459220927764167690741316136665526583830417771407776287171356640743105092620224569342530690053774472100503414529693325324425213673402853093604203611216872123563357312357165352472710552452763600436096933242429533735597577422474612723696561267768044142306154574224664362735265710430684554433242677172053300606422707244684033672104436529666510315033677357682032102650533024546835573340542971623840081157317370395205373236091210450624000058307758114363762271047037054062282306292670240634731244353921316103417562213170407775255028237343775907584239763860414569070730035961353375756207335223615639105359566765205660382326034364060765204327650834671264005339284421746577096929690973080027572435666136000560437176545857122058672536264110523423333142767276605427500320557377277131353327665625075239395305684077625460242326396060763444776954363155344428664507703423427310320324224238631025085044103104683975372533297675314467685204043176110452592077423242427157305525612734087265643521670636337500701004385875377408372606230810105554227162115636732963611163746242085312345432073528080457017226202720545644696507353424773668762744376733320763770008210074662128656261420666732666620725676922730525677626362657270500567553561257116523573860544069706129053163336036\n"
     ]
    },
    {
     "data": {
      "image/svg+xml": [
       "<svg xmlns=\"http://www.w3.org/2000/svg\" viewBox=\"0 0 97 97\" shape-rendering=\"crispEdges\"><path fill=\"#ffffff\" d=\"M0 0h97v97H0z\"/><path stroke=\"#000000\" d=\"M4 4.5h7m1 0h3m2 0h1m2 0h1m1 0h3m4 0h2m3 0h2m1 0h2m5 0h3m2 0h2m3 0h2m1 0h1m4 0h3m3 0h1m2 0h2m2 0h2m2 0h1m1 0h4m1 0h7M4 5.5h1m5 0h1m1 0h3m1 0h2m2 0h1m1 0h4m2 0h1m1 0h1m9 0h1m1 0h1m1 0h1m1 0h1m2 0h2m2 0h6m1 0h3m1 0h4m1 0h1m3 0h3m2 0h1m4 0h1m2 0h1m5 0h1M4 6.5h1m1 0h3m1 0h1m1 0h1m3 0h1m2 0h3m2 0h1m5 0h6m6 0h3m2 0h2m1 0h2m1 0h1m3 0h1m1 0h6m2 0h2m2 0h5m1 0h2m7 0h1m1 0h3m1 0h1M4 7.5h1m1 0h3m1 0h1m1 0h2m1 0h1m2 0h1m1 0h2m1 0h1m2 0h3m1 0h2m1 0h1m1 0h3m1 0h2m2 0h1m4 0h2m2 0h4m4 0h2m2 0h1m1 0h1m1 0h1m2 0h1m1 0h5m2 0h1m1 0h1m1 0h1m1 0h1m1 0h3m1 0h1M4 8.5h1m1 0h3m1 0h1m5 0h1m2 0h1m1 0h1m2 0h1m1 0h1m2 0h1m2 0h7m5 0h1m3 0h2m1 0h1m1 0h1m1 0h1m1 0h6m1 0h1m5 0h2m1 0h1m1 0h1m7 0h1m2 0h1m1 0h3m1 0h1M4 9.5h1m5 0h1m1 0h1m2 0h3m1 0h4m2 0h1m6 0h1m3 0h1m3 0h1m1 0h3m3 0h1m2 0h1m1 0h1m4 0h1m3 0h2m2 0h2m4 0h2m2 0h2m1 0h1m1 0h1m1 0h1m2 0h1m5 0h1M4 10.5h7m1 0h1m1 0h1m1 0h1m1 0h1m1 0h1m1 0h1m1 0h1m1 0h1m1 0h1m1 0h1m1 0h1m1 0h1m1 0h1m1 0h1m1 0h1m1 0h1m1 0h1m1 0h1m1 0h1m1 0h1m1 0h1m1 0h1m1 0h1m1 0h1m1 0h1m1 0h1m1 0h1m1 0h1m1 0h1m1 0h1m1 0h1m1 0h1m1 0h1m1 0h1m1 0h1m1 0h1m1 0h1m1 0h7M15 11.5h2m2 0h1m1 0h1m2 0h4m2 0h1m1 0h1m3 0h6m1 0h4m1 0h3m5 0h3m3 0h3m1 0h2m4 0h3m1 0h2M4 12.5h2m2 0h3m3 0h2m1 0h2m3 0h1m1 0h1m1 0h2m1 0h1m2 0h5m1 0h1m5 0h1m6 0h4m1 0h1m1 0h5m2 0h2m3 0h1m2 0h2m2 0h2m1 0h1m1 0h3m2 0h1m1 0h4M6 13.5h2m1 0h1m1 0h3m1 0h1m2 0h2m1 0h1m4 0h1m1 0h1m3 0h2m1 0h2m3 0h1m2 0h2m1 0h3m1 0h1m1 0h2m1 0h4m1 0h1m3 0h2m1 0h1m1 0h1m2 0h2m2 0h2m3 0h2m2 0h1m3 0h3M7 14.5h1m2 0h1m1 0h2m2 0h3m1 0h5m1 0h1m1 0h1m3 0h1m1 0h3m4 0h2m1 0h1m1 0h1m1 0h4m1 0h2m1 0h1m2 0h2m2 0h2m3 0h7m2 0h2m1 0h1m1 0h2m2 0h1m3 0h1m1 0h1M6 15.5h1m1 0h1m3 0h1m2 0h2m2 0h2m2 0h3m1 0h2m2 0h1m2 0h2m2 0h4m2 0h1m1 0h1m3 0h3m4 0h2m1 0h1m1 0h2m1 0h2m6 0h2m4 0h2m1 0h1m3 0h2M7 16.5h1m2 0h1m2 0h1m2 0h1m4 0h2m3 0h4m1 0h1m1 0h5m3 0h1m1 0h1m2 0h1m1 0h1m1 0h4m1 0h1m1 0h3m1 0h1m2 0h2m3 0h3m2 0h2m3 0h1m2 0h3m1 0h7M4 17.5h1m2 0h3m1 0h1m3 0h1m2 0h1m1 0h1m1 0h1m5 0h4m1 0h2m4 0h1m1 0h1m2 0h1m1 0h1m2 0h1m1 0h1m1 0h1m2 0h2m1 0h3m2 0h2m1 0h1m1 0h4m2 0h1m2 0h1m1 0h3m1 0h1m2 0h1m1 0h1m2 0h1M5 18.5h2m1 0h1m1 0h4m1 0h1m1 0h3m4 0h1m3 0h1m1 0h2m1 0h2m1 0h1m2 0h1m6 0h1m3 0h2m5 0h1m3 0h1m2 0h1m1 0h1m2 0h5m2 0h3m1 0h2m2 0h1m1 0h2m1 0h2m1 0h1M5 19.5h2m4 0h2m1 0h10m3 0h1m4 0h5m3 0h1m2 0h4m2 0h1m2 0h3m1 0h2m2 0h1m3 0h1m2 0h3m1 0h1m3 0h4m2 0h1m3 0h1m1 0h2m1 0h1M6 20.5h3m1 0h1m1 0h2m3 0h3m2 0h1m2 0h1m1 0h1m2 0h4m1 0h3m2 0h3m3 0h1m1 0h2m5 0h3m3 0h1m1 0h2m3 0h1m2 0h2m3 0h2m1 0h4m2 0h1m2 0h1m1 0h1M4 21.5h2m3 0h1m4 0h4m3 0h1m1 0h3m3 0h3m1 0h1m1 0h2m1 0h1m2 0h1m3 0h2m1 0h1m3 0h10m1 0h1m1 0h2m3 0h5m2 0h4m1 0h4m1 0h1m2 0h3M5 22.5h1m1 0h1m1 0h2m1 0h1m1 0h2m14 0h1m2 0h1m2 0h2m1 0h2m1 0h6m1 0h2m1 0h1m2 0h2m4 0h5m4 0h2m1 0h1m3 0h2m3 0h1m3 0h2m2 0h1M4 23.5h1m1 0h2m4 0h3m2 0h1m1 0h1m1 0h1m1 0h1m2 0h1m1 0h1m3 0h1m3 0h1m1 0h1m3 0h1m2 0h4m1 0h3m3 0h1m4 0h1m1 0h6m1 0h2m1 0h2m1 0h4m2 0h1m2 0h2m1 0h1m3 0h1M9 24.5h4m1 0h5m1 0h1m1 0h1m3 0h1m1 0h1m3 0h1m1 0h1m2 0h1m2 0h1m5 0h1m2 0h1m1 0h1m1 0h1m1 0h1m1 0h3m3 0h3m4 0h2m1 0h1m1 0h2m1 0h2m1 0h1m1 0h3m1 0h2m3 0h1M6 25.5h1m1 0h1m3 0h5m3 0h2m1 0h4m2 0h1m3 0h3m1 0h1m1 0h2m1 0h1m1 0h1m2 0h3m1 0h3m1 0h1m1 0h2m4 0h1m2 0h4m2 0h2m1 0h1m1 0h2m1 0h4m2 0h2m2 0h3M4 26.5h1m1 0h1m3 0h3m4 0h2m2 0h2m3 0h2m1 0h1m2 0h5m1 0h2m3 0h1m1 0h2m1 0h2m5 0h3m1 0h6m1 0h3m1 0h1m1 0h1m3 0h2m1 0h1m1 0h1m4 0h1m2 0h1m1 0h2M4 27.5h2m2 0h2m3 0h1m1 0h2m1 0h2m1 0h1m2 0h1m2 0h2m3 0h3m2 0h4m1 0h1m1 0h1m1 0h2m1 0h1m4 0h2m5 0h1m1 0h1m1 0h1m1 0h1m2 0h1m5 0h1m4 0h1m2 0h1m1 0h2m1 0h2M4 28.5h7m1 0h1m2 0h1m6 0h6m1 0h1m1 0h1m1 0h2m1 0h1m1 0h3m2 0h1m5 0h2m1 0h2m1 0h1m1 0h3m1 0h6m1 0h4m1 0h2m1 0h1m1 0h6m1 0h2m2 0h2M4 29.5h2m5 0h1m1 0h2m5 0h1m1 0h2m4 0h3m2 0h2m1 0h2m1 0h1m1 0h3m1 0h3m1 0h2m2 0h3m4 0h1m3 0h4m4 0h4m3 0h2m1 0h2m1 0h1m1 0h3m1 0h2M4 30.5h1m4 0h4m2 0h1m1 0h1m7 0h1m1 0h1m2 0h4m4 0h2m1 0h2m1 0h1m1 0h2m1 0h1m1 0h2m1 0h10m4 0h1m1 0h2m4 0h1m1 0h3m7 0h1M6 31.5h3m2 0h1m2 0h2m1 0h1m1 0h1m5 0h2m3 0h3m2 0h4m3 0h2m2 0h4m7 0h1m3 0h1m1 0h1m1 0h3m1 0h1m2 0h1m3 0h1m3 0h1m3 0h2m1 0h1m1 0h1m1 0h2M4 32.5h3m1 0h8m3 0h2m1 0h2m2 0h3m3 0h6m5 0h1m1 0h2m1 0h1m3 0h3m1 0h1m1 0h5m2 0h1m2 0h2m1 0h1m1 0h1m1 0h2m1 0h1m2 0h1m1 0h7M4 33.5h2m2 0h1m3 0h4m8 0h1m2 0h1m2 0h3m3 0h1m2 0h2m1 0h1m1 0h3m1 0h7m3 0h1m3 0h4m2 0h3m1 0h4m1 0h2m5 0h1m3 0h1m2 0h2M4 34.5h1m3 0h1m1 0h1m1 0h3m4 0h1m1 0h4m7 0h1m1 0h1m1 0h1m1 0h1m3 0h1m1 0h1m3 0h2m4 0h5m1 0h1m1 0h1m2 0h2m1 0h3m1 0h1m2 0h3m2 0h1m3 0h1m1 0h1m1 0h1m2 0h2M8 35.5h1m3 0h2m2 0h1m3 0h1m1 0h3m2 0h2m2 0h2m3 0h1m3 0h2m1 0h1m2 0h2m2 0h1m1 0h7m3 0h1m2 0h1m1 0h2m3 0h3m2 0h1m1 0h1m2 0h1m1 0h1m3 0h2m1 0h2M6 36.5h1m1 0h5m1 0h1m1 0h3m2 0h1m1 0h2m1 0h2m2 0h1m1 0h6m1 0h1m2 0h1m1 0h7m1 0h3m1 0h1m1 0h5m1 0h3m4 0h2m2 0h1m1 0h3m3 0h8m1 0h1M7 37.5h1m4 0h3m1 0h1m2 0h2m5 0h2m4 0h2m4 0h1m1 0h1m1 0h7m1 0h1m1 0h1m1 0h4m2 0h2m5 0h1m4 0h3m1 0h1m2 0h1m1 0h2m2 0h4m3 0h1M4 38.5h7m3 0h2m1 0h1m2 0h2m4 0h2m1 0h3m1 0h1m2 0h6m1 0h1m3 0h2m1 0h1m5 0h3m4 0h1m2 0h1m1 0h1m1 0h2m1 0h1m1 0h1m1 0h1m1 0h1m2 0h3m3 0h4M4 39.5h2m1 0h2m3 0h7m3 0h2m5 0h3m1 0h2m4 0h3m2 0h1m3 0h1m2 0h4m1 0h1m1 0h2m4 0h1m3 0h1m4 0h1m1 0h1m1 0h1m1 0h1m2 0h1m3 0h2m2 0h1M6 40.5h1m3 0h1m1 0h1m3 0h1m4 0h1m1 0h1m1 0h1m1 0h1m2 0h2m1 0h3m1 0h2m2 0h2m1 0h1m2 0h3m1 0h2m4 0h3m1 0h1m5 0h5m1 0h4m1 0h1m1 0h3m3 0h2m2 0h1M6 41.5h3m2 0h1m5 0h1m1 0h9m1 0h1m2 0h1m1 0h2m1 0h1m2 0h2m1 0h5m2 0h1m2 0h2m3 0h2m1 0h1m5 0h1m1 0h2m2 0h1m1 0h1m3 0h1m1 0h4m2 0h1m3 0h2M6 42.5h1m2 0h4m1 0h4m1 0h1m1 0h7m4 0h2m1 0h1m1 0h2m4 0h2m2 0h1m1 0h1m1 0h1m2 0h1m1 0h1m1 0h1m2 0h5m2 0h3m2 0h2m3 0h3m1 0h1m1 0h1m2 0h1m2 0h1m1 0h1M4 43.5h4m1 0h1m2 0h3m2 0h1m2 0h1m3 0h3m1 0h2m1 0h1m2 0h1m1 0h1m3 0h7m1 0h3m3 0h1m8 0h1m1 0h1m2 0h1m2 0h1m1 0h5m1 0h2m1 0h1m2 0h4m1 0h1m1 0h1M4 44.5h4m1 0h2m1 0h1m3 0h3m2 0h1m1 0h4m4 0h1m2 0h2m1 0h4m1 0h2m5 0h2m1 0h3m3 0h1m1 0h2m1 0h2m1 0h5m2 0h1m1 0h1m2 0h1m2 0h2m2 0h1m1 0h3m1 0h1M6 45.5h1m5 0h1m1 0h1m1 0h3m3 0h1m1 0h1m4 0h1m6 0h3m3 0h3m1 0h1m4 0h1m3 0h1m1 0h1m6 0h4m1 0h3m1 0h2m2 0h3m1 0h1m1 0h4m4 0h2M4 46.5h1m4 0h3m1 0h1m1 0h2m1 0h2m1 0h1m2 0h1m2 0h1m4 0h3m6 0h1m2 0h1m2 0h1m5 0h1m2 0h1m5 0h2m3 0h1m1 0h1m1 0h3m1 0h2m1 0h4m1 0h3m1 0h1m1 0h1M6 47.5h4m5 0h1m1 0h5m1 0h2m1 0h2m3 0h2m2 0h1m1 0h1m1 0h1m1 0h1m1 0h2m1 0h1m1 0h2m1 0h1m1 0h1m2 0h1m2 0h4m4 0h3m2 0h2m1 0h3m1 0h2m1 0h3m4 0h3M4 48.5h1m1 0h1m3 0h1m2 0h1m2 0h1m2 0h1m4 0h2m4 0h2m1 0h4m1 0h2m1 0h3m3 0h2m1 0h1m2 0h2m5 0h1m2 0h3m1 0h3m1 0h2m1 0h2m1 0h1m3 0h3m2 0h6M4 49.5h1m1 0h2m7 0h1m1 0h1m1 0h4m1 0h5m1 0h1m4 0h2m4 0h3m1 0h2m2 0h3m6 0h1m2 0h1m1 0h1m1 0h2m2 0h2m1 0h2m1 0h3m3 0h3m1 0h1m5 0h2M7 50.5h1m1 0h2m1 0h3m1 0h4m1 0h2m1 0h1m1 0h1m1 0h2m1 0h1m1 0h2m2 0h2m1 0h1m2 0h1m1 0h1m3 0h3m1 0h1m2 0h1m1 0h2m8 0h1m2 0h2m1 0h3m1 0h5m1 0h1m1 0h1m3 0h3M4 51.5h1m1 0h1m4 0h1m1 0h1m1 0h1m1 0h2m1 0h1m1 0h3m1 0h1m1 0h1m1 0h1m1 0h1m1 0h1m2 0h1m2 0h1m2 0h1m1 0h4m1 0h2m2 0h1m3 0h1m2 0h2m1 0h1m2 0h1m1 0h2m2 0h2m1 0h1m2 0h2m3 0h6m1 0h2M4 52.5h1m2 0h1m2 0h1m1 0h1m3 0h2m3 0h1m1 0h2m1 0h2m1 0h3m6 0h1m1 0h4m1 0h2m5 0h1m1 0h1m1 0h6m2 0h2m1 0h1m1 0h1m1 0h2m4 0h1m1 0h1m2 0h3m1 0h2m1 0h1M5 53.5h2m2 0h1m2 0h2m1 0h1m1 0h3m1 0h2m1 0h1m1 0h1m2 0h1m2 0h2m3 0h3m3 0h1m1 0h1m3 0h1m2 0h2m4 0h3m2 0h2m1 0h1m1 0h1m1 0h1m5 0h1m2 0h1m4 0h1m2 0h6M4 54.5h4m2 0h1m2 0h6m4 0h2m1 0h1m2 0h1m1 0h3m1 0h1m2 0h3m1 0h1m6 0h1m3 0h1m1 0h4m1 0h5m1 0h5m1 0h3m1 0h1m3 0h1m1 0h2m1 0h3m1 0h2m1 0h1M4 55.5h1m1 0h1m2 0h1m2 0h4m1 0h3m1 0h1m1 0h2m2 0h1m1 0h1m3 0h3m3 0h1m2 0h5m1 0h1m2 0h1m1 0h1m1 0h3m3 0h1m6 0h2m2 0h2m1 0h2m1 0h2m3 0h1m1 0h4M6 56.5h2m1 0h2m2 0h1m2 0h1m1 0h1m3 0h4m1 0h2m1 0h7m1 0h3m3 0h1m2 0h2m2 0h2m1 0h5m2 0h1m2 0h1m1 0h1m1 0h4m1 0h4m3 0h1m1 0h1m1 0h1m1 0h2M4 57.5h1m1 0h2m1 0h1m4 0h1m4 0h3m1 0h1m2 0h5m5 0h7m4 0h1m2 0h2m5 0h2m1 0h1m1 0h1m1 0h2m3 0h2m3 0h2m1 0h2m1 0h2m3 0h1m2 0h2m1 0h1M5 58.5h1m1 0h6m1 0h4m3 0h2m3 0h1m1 0h2m1 0h8m1 0h1m1 0h1m1 0h1m2 0h3m1 0h4m1 0h1m1 0h8m2 0h1m2 0h1m2 0h2m2 0h1m1 0h1m1 0h8m1 0h1M5 59.5h1m1 0h2m3 0h1m1 0h1m3 0h5m3 0h1m1 0h1m3 0h1m3 0h3m1 0h1m2 0h2m1 0h1m7 0h1m1 0h3m3 0h1m2 0h1m1 0h4m2 0h1m5 0h2m2 0h2m3 0h1m1 0h2M6 60.5h3m1 0h1m1 0h1m2 0h1m1 0h2m2 0h3m1 0h1m1 0h1m1 0h1m2 0h1m1 0h1m1 0h3m6 0h3m1 0h4m1 0h3m1 0h1m1 0h1m1 0h2m1 0h1m1 0h1m2 0h1m2 0h1m1 0h2m2 0h2m3 0h1m1 0h1m1 0h1m1 0h2M4 61.5h1m1 0h1m1 0h1m3 0h8m2 0h2m1 0h1m1 0h2m1 0h3m3 0h1m1 0h1m3 0h1m2 0h2m1 0h1m4 0h2m3 0h1m3 0h3m1 0h2m1 0h2m2 0h5m2 0h1m1 0h1m1 0h1m3 0h1M4 62.5h2m2 0h6m3 0h2m1 0h2m2 0h4m2 0h7m1 0h2m2 0h2m1 0h1m2 0h1m6 0h2m1 0h6m1 0h1m2 0h1m3 0h1m5 0h1m2 0h1m2 0h8M4 63.5h2m1 0h3m2 0h1m4 0h2m4 0h2m1 0h1m1 0h1m2 0h3m1 0h2m7 0h1m1 0h2m4 0h6m1 0h6m1 0h2m1 0h1m5 0h2m3 0h1m1 0h1m9 0h1M5 64.5h2m2 0h4m1 0h1m2 0h1m1 0h2m3 0h6m5 0h1m1 0h2m1 0h3m2 0h2m1 0h3m2 0h2m1 0h1m3 0h2m4 0h1m2 0h2m1 0h1m2 0h3m2 0h1m1 0h2m1 0h1m3 0h3M4 65.5h1m3 0h2m1 0h2m4 0h1m2 0h2m1 0h3m1 0h4m3 0h1m1 0h2m1 0h4m1 0h1m1 0h1m4 0h1m1 0h2m2 0h1m1 0h1m1 0h2m1 0h2m1 0h2m5 0h1m1 0h2m1 0h1m1 0h1m3 0h1m1 0h2M5 66.5h1m1 0h1m2 0h1m8 0h2m1 0h1m5 0h3m6 0h4m2 0h1m5 0h2m2 0h1m1 0h2m1 0h1m3 0h4m1 0h7m6 0h1m2 0h1m1 0h1m3 0h4M4 67.5h6m2 0h1m1 0h1m4 0h7m6 0h2m2 0h2m2 0h1m1 0h1m2 0h1m2 0h1m1 0h2m4 0h1m3 0h2m2 0h2m2 0h2m1 0h1m2 0h1m2 0h3m1 0h2m1 0h3m3 0h3M6 68.5h2m1 0h5m1 0h1m2 0h1m3 0h3m1 0h1m1 0h4m2 0h7m1 0h1m3 0h2m5 0h3m4 0h1m1 0h1m3 0h1m4 0h2m3 0h4m2 0h1m1 0h2m4 0h1M4 69.5h1m1 0h1m1 0h2m1 0h1m1 0h6m1 0h7m2 0h2m2 0h4m1 0h2m2 0h1m2 0h1m2 0h2m2 0h1m2 0h1m2 0h10m5 0h1m7 0h2m2 0h1m3 0h2M4 70.5h2m1 0h1m2 0h5m1 0h1m1 0h2m1 0h1m1 0h1m2 0h1m1 0h2m2 0h3m1 0h3m1 0h3m1 0h1m1 0h1m3 0h3m4 0h3m1 0h2m4 0h1m1 0h1m2 0h4m1 0h2m3 0h1m2 0h1m3 0h1m1 0h2M4 71.5h1m3 0h1m2 0h1m1 0h1m1 0h3m1 0h2m1 0h2m2 0h1m1 0h1m2 0h1m1 0h3m1 0h2m2 0h1m1 0h3m2 0h2m1 0h2m1 0h1m2 0h2m1 0h1m1 0h4m4 0h1m2 0h2m1 0h1m1 0h1m1 0h2m2 0h2M6 72.5h1m2 0h2m1 0h1m1 0h3m2 0h6m3 0h1m1 0h2m3 0h2m3 0h1m1 0h4m9 0h1m1 0h3m2 0h5m5 0h3m3 0h3m2 0h2m1 0h1m1 0h1m2 0h2M4 73.5h1m2 0h2m3 0h3m3 0h1m3 0h3m5 0h3m1 0h4m1 0h7m2 0h1m1 0h1m4 0h4m2 0h1m2 0h2m1 0h2m1 0h2m4 0h4m2 0h1m6 0h1M4 74.5h2m3 0h2m1 0h1m1 0h1m1 0h4m1 0h4m1 0h2m1 0h2m1 0h1m1 0h1m3 0h2m3 0h1m4 0h2m4 0h4m2 0h1m3 0h1m1 0h4m4 0h2m2 0h2m1 0h1m1 0h4m2 0h1M5 75.5h1m1 0h3m1 0h1m3 0h4m6 0h3m2 0h7m1 0h1m2 0h2m1 0h3m1 0h2m6 0h2m2 0h1m3 0h1m2 0h4m1 0h1m2 0h1m1 0h2m1 0h1m1 0h2m2 0h2m3 0h2M6 76.5h1m1 0h1m1 0h1m2 0h1m3 0h1m1 0h2m3 0h3m5 0h1m2 0h1m1 0h2m1 0h2m1 0h2m6 0h2m1 0h1m5 0h1m2 0h2m2 0h1m1 0h1m1 0h1m4 0h4m1 0h3m2 0h3m2 0h1M4 77.5h1m1 0h3m4 0h2m1 0h1m1 0h1m1 0h1m5 0h1m2 0h5m3 0h1m2 0h1m1 0h1m1 0h2m1 0h2m1 0h2m1 0h1m1 0h1m1 0h5m2 0h1m1 0h4m1 0h1m5 0h1m3 0h1m1 0h1m1 0h2m1 0h2m1 0h2M4 78.5h1m1 0h1m1 0h3m1 0h2m1 0h1m3 0h3m1 0h1m1 0h3m2 0h2m2 0h2m6 0h1m5 0h4m1 0h1m3 0h1m1 0h1m2 0h1m2 0h1m1 0h1m1 0h1m1 0h2m3 0h2m1 0h3m2 0h2m2 0h1m1 0h2M4 79.5h1m2 0h3m1 0h2m1 0h1m1 0h1m1 0h4m1 0h1m1 0h2m4 0h1m1 0h1m3 0h4m2 0h2m3 0h1m1 0h3m1 0h2m2 0h1m1 0h2m2 0h1m3 0h6m1 0h2m3 0h4m2 0h1m1 0h1M4 80.5h1m1 0h3m1 0h1m1 0h3m1 0h1m5 0h2m2 0h1m2 0h1m1 0h1m2 0h4m1 0h1m1 0h2m1 0h1m1 0h1m2 0h1m2 0h2m1 0h1m3 0h1m1 0h2m2 0h2m1 0h2m2 0h3m4 0h2m2 0h1m3 0h3m2 0h1M4 81.5h2m2 0h2m4 0h1m1 0h4m4 0h1m3 0h3m1 0h5m3 0h1m1 0h4m1 0h1m4 0h3m10 0h1m2 0h1m4 0h1m1 0h1m2 0h1m1 0h2m1 0h2m2 0h2m1 0h1M4 82.5h1m2 0h1m2 0h1m1 0h1m2 0h1m2 0h1m1 0h1m2 0h2m5 0h1m2 0h1m1 0h2m1 0h1m4 0h1m1 0h1m2 0h1m2 0h1m1 0h2m1 0h2m1 0h1m1 0h3m1 0h1m3 0h4m2 0h2m2 0h1m1 0h1m1 0h1m5 0h1M4 83.5h2m2 0h2m2 0h5m1 0h1m4 0h4m3 0h1m4 0h1m2 0h1m1 0h1m1 0h3m2 0h2m5 0h1m4 0h5m5 0h1m1 0h2m1 0h3m1 0h2m2 0h1m1 0h1m1 0h1m5 0h1M4 84.5h1m2 0h1m2 0h1m1 0h1m2 0h2m2 0h1m4 0h3m2 0h9m2 0h3m2 0h2m1 0h3m2 0h1m1 0h1m2 0h5m3 0h1m1 0h1m2 0h2m3 0h3m3 0h8m1 0h1M12 85.5h5m1 0h1m1 0h1m1 0h1m2 0h1m3 0h4m3 0h1m1 0h1m1 0h2m1 0h1m6 0h1m1 0h2m2 0h1m1 0h1m3 0h3m3 0h1m1 0h1m4 0h2m3 0h5m3 0h3m1 0h1M4 86.5h7m4 0h3m1 0h2m3 0h1m2 0h1m1 0h4m1 0h1m1 0h2m4 0h1m1 0h2m3 0h2m1 0h2m2 0h1m1 0h1m1 0h1m1 0h1m1 0h1m1 0h1m1 0h6m2 0h3m3 0h1m1 0h1m1 0h1m1 0h1M4 87.5h1m5 0h1m1 0h2m1 0h3m1 0h4m1 0h1m1 0h2m1 0h4m3 0h4m1 0h4m1 0h1m4 0h2m5 0h1m3 0h4m1 0h2m2 0h5m2 0h3m2 0h2m3 0h2m1 0h1M4 88.5h1m1 0h3m1 0h1m1 0h1m1 0h1m2 0h2m1 0h1m1 0h1m7 0h1m1 0h7m2 0h1m2 0h1m1 0h3m2 0h4m3 0h10m1 0h5m4 0h1m3 0h10M4 89.5h1m1 0h3m1 0h1m3 0h3m3 0h1m1 0h1m2 0h1m2 0h2m2 0h2m2 0h3m1 0h1m5 0h3m1 0h2m1 0h2m2 0h1m1 0h3m2 0h1m3 0h1m8 0h2m2 0h2m1 0h4m1 0h1M4 90.5h1m1 0h3m1 0h1m4 0h2m1 0h1m1 0h1m2 0h1m1 0h1m1 0h2m2 0h1m1 0h1m2 0h1m2 0h2m3 0h2m5 0h3m1 0h2m1 0h2m1 0h1m1 0h2m2 0h3m5 0h4m1 0h2m1 0h1m3 0h1m1 0h1m1 0h2M4 91.5h1m5 0h1m1 0h1m10 0h1m1 0h1m1 0h1m6 0h2m1 0h4m4 0h2m2 0h4m1 0h2m2 0h1m1 0h2m3 0h3m1 0h7m1 0h1m1 0h1m1 0h1m1 0h5m1 0h1m1 0h2M4 92.5h7m1 0h3m1 0h1m1 0h1m1 0h2m1 0h1m1 0h4m1 0h1m1 0h1m7 0h1m1 0h3m1 0h1m1 0h1m2 0h2m2 0h1m2 0h5m1 0h1m1 0h1m1 0h3m1 0h4m2 0h1m1 0h3m1 0h2m2 0h2m1 0h1\"/></svg>\n"
      ]
     },
     "execution_count": 13,
     "metadata": {},
     "output_type": "execute_result"
    },
    {
     "ename": "TypeError",
     "evalue": "Cannot read property 'interlace' of undefined",
     "output_type": "error",
     "traceback": [
      "/Users/smcdougall/vci/health-cards-walkthrough/node_modules/pngjs/lib/parser-sync.js:79",
      "  if (metaData.interlace) {",
      "               ^",
      "",
      "TypeError: Cannot read property 'interlace' of undefined",
      "    at module.exports (/Users/smcdougall/vci/health-cards-walkthrough/node_modules/pngjs/lib/parser-sync.js:79:16)",
      "    at Object.exports.read (/Users/smcdougall/vci/health-cards-walkthrough/node_modules/pngjs/lib/png-sync.js:10:10)",
      "    at evalmachine.<anonymous>:23:22",
      "    at Script.runInThisContext (node:vm:129:12)",
      "    at Object.runInThisContext (node:vm:305:38)",
      "    at run ([eval]:1054:15)",
      "    at onRunRequest ([eval]:888:18)",
      "    at onMessage ([eval]:848:13)",
      "    at process.emit (node:events:394:28)",
      "    at emit (node:internal/child_process:920:12)"
     ]
    }
   ],
   "source": [
    "var jsQR = require('jsqr');\n",
    "var PNG = require('pngjs').PNG;\n",
    "// var fs = require('fs').promises;\n",
    "\n",
    "// async function readFile(fileName) {\n",
    "//     return await PNG.read(fs.readFile(fileName));\n",
    "// }\n",
    "// //file = fs.readFile('./js_qrcode0.png')\n",
    "// const imageData = async () => { await readFile('./js_qrcode0.png')} ;//PNG.sync.read(file)\n",
    "\n",
    "// const scannedQR = jsQR(new Uint8ClampedArray(imageData.data.buffer), imageData.width, imageData.height)\n",
    "\n",
    "// const qrCodesEqual = scannedQR.data === qrCodesData[0]\n",
    "\n",
    "// console.log(\"Are the QR Codes Equal? \" + qrCodesEqual)\n",
    "\n",
    "// console.log(scannedQR.data)\n",
    "\n",
    "var jsQR = require('jsqr');\n",
    "var PNG = require('pngjs').PNG;\n",
    "\n",
    "\n",
    "imageData = PNG.sync.read(fs.readFileSync('./js_qrcode0.png'))\n",
    "\n",
    "const scannedQR = jsQR(new Uint8ClampedArray(imageData.data.buffer), imageData.width, imageData.height)\n",
    "\n",
    "const qrCodesEqual = scannedQR.data === qrCodeData\n",
    "\n",
    "console.log(\"Are the QR Codes Equal? \" + qrCodesEqual)\n",
    "\n",
    "console.log(scannedQR.data)"
   ]
  },
  {
   "cell_type": "markdown",
   "id": "dense-colleague",
   "metadata": {},
   "source": [
    "### Extracting Data from the QR Code\n",
    "\n",
    "Now let's reverse the process to get the original data back and check the signature. First, let's extract the JWS."
   ]
  },
  {
   "cell_type": "code",
   "execution_count": 14,
   "id": "engaging-shape",
   "metadata": {},
   "outputs": [
    {
     "ename": "ReferenceError",
     "evalue": "scannedQR is not defined",
     "output_type": "error",
     "traceback": [
      "evalmachine.<anonymous>:1",
      "const scannedJWS = scannedQR",
      "                   ^",
      "",
      "ReferenceError: scannedQR is not defined",
      "    at evalmachine.<anonymous>:1:20",
      "    at Script.runInThisContext (node:vm:129:12)",
      "    at Object.runInThisContext (node:vm:305:38)",
      "    at run ([eval]:1054:15)",
      "    at onRunRequest ([eval]:888:18)",
      "    at onMessage ([eval]:848:13)",
      "    at process.emit (node:events:394:28)",
      "    at emit (node:internal/child_process:920:12)",
      "    at processTicksAndRejections (node:internal/process/task_queues:84:21)"
     ]
    }
   ],
   "source": [
    "const scannedJWS = scannedQR\n",
    "    .chunks\n",
    "    .filter(chunk => chunk.type === \"numeric\")[0] // Grab the numeric chunk\n",
    "    .text.match(/(..?)/g) // Split into groups of 2 numeric characters each of which represent a single JWS char\n",
    "    .map(num => String.fromCharCode(parseInt(num, 10) + 45)).join('') // Convert from numeric encoding to JWS\n",
    "\n",
    "console.log(scannedJWS)"
   ]
  },
  {
   "cell_type": "markdown",
   "id": "surgical-techno",
   "metadata": {},
   "source": [
    "Next we can verify the signature and extract the payload"
   ]
  },
  {
   "cell_type": "code",
   "execution_count": 15,
   "id": "arabic-infrastructure",
   "metadata": {},
   "outputs": [
    {
     "ename": "ReferenceError",
     "evalue": "scannedJWS is not defined",
     "output_type": "error",
     "traceback": [
      "evalmachine.<anonymous>:4",
      "    .verify(scannedJWS).then(function(result) {",
      "            ^",
      "",
      "ReferenceError: scannedJWS is not defined",
      "    at evalmachine.<anonymous>:4:13",
      "    at Script.runInThisContext (node:vm:129:12)",
      "    at Object.runInThisContext (node:vm:305:38)",
      "    at run ([eval]:1054:15)",
      "    at onRunRequest ([eval]:888:18)",
      "    at onMessage ([eval]:848:13)",
      "    at process.emit (node:events:394:28)",
      "    at emit (node:internal/child_process:920:12)",
      "    at processTicksAndRejections (node:internal/process/task_queues:84:21)"
     ]
    }
   ],
   "source": [
    "let scannedResult;\n",
    "\n",
    "jose.JWS.createVerify(signingKey)\n",
    "    .verify(scannedJWS).then(function(result) {\n",
    "    zlib.inflateRaw(result.payload, function(err, decompressedResult){\n",
    "        scannedResult = decompressedResult.toString('utf8')\n",
    "    })\n",
    "})"
   ]
  },
  {
   "cell_type": "code",
   "execution_count": 16,
   "id": "processed-killer",
   "metadata": {},
   "outputs": [],
   "source": [
    "scannedResult"
   ]
  },
  {
   "cell_type": "markdown",
   "id": "interstate-registration",
   "metadata": {},
   "source": [
    "Let's compare this to our original minified payload with whitespace removed"
   ]
  },
  {
   "cell_type": "code",
   "execution_count": 17,
   "id": "least-pregnancy",
   "metadata": {},
   "outputs": [
    {
     "data": {
      "text/plain": [
       "false"
      ]
     },
     "execution_count": 17,
     "metadata": {},
     "output_type": "execute_result"
    }
   ],
   "source": [
    "scannedResult === noWhiteSpaceHealthCard"
   ]
  },
  {
   "cell_type": "markdown",
   "id": "partial-confidentiality",
   "metadata": {},
   "source": [
    "Finally, lets print the entries for easy inspection."
   ]
  },
  {
   "cell_type": "code",
   "execution_count": 18,
   "id": "quick-disaster",
   "metadata": {},
   "outputs": [
    {
     "ename": "SyntaxError",
     "evalue": "Unexpected token u in JSON at position 0",
     "output_type": "error",
     "traceback": [
      "undefined:1",
      "undefined",
      "^",
      "",
      "SyntaxError: Unexpected token u in JSON at position 0",
      "    at JSON.parse (<anonymous>)",
      "    at evalmachine.<anonymous>:1:22",
      "    at Script.runInThisContext (node:vm:129:12)",
      "    at Object.runInThisContext (node:vm:305:38)",
      "    at run ([eval]:1054:15)",
      "    at onRunRequest ([eval]:888:18)",
      "    at onMessage ([eval]:848:13)",
      "    at process.emit (node:events:394:28)",
      "    at emit (node:internal/child_process:920:12)",
      "    at processTicksAndRejections (node:internal/process/task_queues:84:21)"
     ]
    }
   ],
   "source": [
    "const entries = JSON.parse(scannedResult)\n",
    "    .vc.credentialSubject.fhirBundle.entry\n",
    "    .map(entry => console.log(JSON.stringify(entry, null, 2)))"
   ]
  }
 ],
 "metadata": {
  "kernelspec": {
   "display_name": "Javascript (Node.js)",
   "language": "javascript",
   "name": "javascript"
  },
  "language_info": {
   "file_extension": ".js",
   "mimetype": "application/javascript",
   "name": "javascript",
   "version": "16.6.1"
  }
 },
 "nbformat": 4,
 "nbformat_minor": 5
}
