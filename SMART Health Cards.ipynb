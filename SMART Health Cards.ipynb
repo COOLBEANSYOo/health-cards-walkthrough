{
 "cells": [
  {
   "cell_type": "markdown",
   "id": "thick-dominican",
   "metadata": {},
   "source": [
    "# SMART Health Cards\n",
    "\n",
    "This notebook is designed to give an overview of [SMART Health Cards Framework](https://smarthealth.cards/) and how it works.\n",
    "\n",
    "\n",
    "This notebook is written in JavaScript and uses the [IJavascript kernel](https://github.com/n-riesco/ijavascript) for Jupyter Notebook."
   ]
  },
  {
   "cell_type": "markdown",
   "id": "portable-reducing",
   "metadata": {},
   "source": [
    "## Walkthrough\n",
    "\n",
    "The high level outline is as follows:\n",
    "* FHIR Bundle is created\n",
    "* FHIR Bundle is minified\n",
    "* SMART Health Card is created from FHIR Bundle\n",
    "* SMART Health Card is encoded as a JWS\n",
    "* Patient Retrieves the SMART Health Cards via:\n",
    "  * File Download\n",
    "  * QR Code\n",
    "  * FHIR API"
   ]
  },
  {
   "cell_type": "markdown",
   "id": "natural-gothic",
   "metadata": {},
   "source": [
    "### The FHIR Bundle\n",
    "\n",
    "A SMART Health Card is composed of a [W3C Verifiable Credential](https://w3c.github.io/vc-data-model/), [encoded as a JWT](https://w3c.github.io/vc-data-model/#jwt-encoding), with a Credential Subject that contains the FHIR version and a FHIR Bundle (See [Modeling W3C Verifiable Credentials in FHIR](https://smarthealth.cards/credential-modeling/).\n",
    "\n",
    "The FHIR Bundle contains the health care information.\n",
    "\n",
    "Let's assume we have the below FHIR Bundle ([Example 0](https://smarthealth.cards/examples/example-00-a-fhirBundle.json) at the time of writing). This FHIR Bundle could be produced in a number of ways, but for now let's imagine that the patient, John B. Anyperson, has just received his second COVID-19 vaccination shot and the healthcare worker entered his information into their system which produced the below in their system."
   ]
  },
  {
   "cell_type": "code",
   "execution_count": 1,
   "id": "useful-reset",
   "metadata": {},
   "outputs": [],
   "source": [
    "const fhirBundle = {\n",
    "  \"resourceType\": \"Bundle\",\n",
    "  \"type\": \"collection\",\n",
    "  \"entry\": [\n",
    "    {\n",
    "      \"fullUrl\": \"resource:0\",\n",
    "      \"resource\": {\n",
    "        \"resourceType\": \"Patient\",\n",
    "        \"name\": [\n",
    "          {\n",
    "            \"family\": \"Anyperson\",\n",
    "            \"given\": [\n",
    "              \"John\",\n",
    "              \"B.\"\n",
    "            ]\n",
    "          }\n",
    "        ],\n",
    "        \"gender\": \"male\",\n",
    "        \"birthDate\": \"1951-01-20\"\n",
    "      }\n",
    "    },\n",
    "    {\n",
    "      \"fullUrl\": \"resource:1\",\n",
    "      \"resource\": {\n",
    "        \"resourceType\": \"Immunization\",\n",
    "        \"status\": \"completed\",\n",
    "        \"vaccineCode\": {\n",
    "          \"coding\": [\n",
    "            {\n",
    "              \"system\": \"http://hl7.org/fhir/sid/cvx\",\n",
    "              \"code\": \"207\"\n",
    "            }\n",
    "          ]\n",
    "        },\n",
    "        \"patient\": {\n",
    "          \"reference\": \"resource:0\"\n",
    "        },\n",
    "        \"occurrenceDateTime\": \"2021-01-01\",\n",
    "        \"lotNumber\": \"Lot #0000001\",\n",
    "        \"performer\": [\n",
    "          {\n",
    "            \"actor\": {\n",
    "              \"display\": \"ABC General Hospital\"\n",
    "            }\n",
    "          }\n",
    "        ]\n",
    "      }\n",
    "    },\n",
    "    {\n",
    "      \"fullUrl\": \"resource:2\",\n",
    "      \"resource\": {\n",
    "        \"resourceType\": \"Immunization\",\n",
    "        \"status\": \"completed\",\n",
    "        \"vaccineCode\": {\n",
    "          \"coding\": [\n",
    "            {\n",
    "              \"system\": \"http://hl7.org/fhir/sid/cvx\",\n",
    "              \"code\": \"207\"\n",
    "            }\n",
    "          ]\n",
    "        },\n",
    "        \"patient\": {\n",
    "          \"reference\": \"resource:0\"\n",
    "        },\n",
    "        \"occurrenceDateTime\": \"2021-01-29\",\n",
    "        \"lotNumber\": \"Lot #0000007\",\n",
    "        \"performer\": [\n",
    "          {\n",
    "            \"actor\": {\n",
    "              \"display\": \"ABC General Hospital\"\n",
    "            }\n",
    "          }\n",
    "        ]\n",
    "      }\n",
    "    }\n",
    "  ]\n",
    "}"
   ]
  },
  {
   "cell_type": "markdown",
   "id": "found-murray",
   "metadata": {},
   "source": [
    "A couple things to note in the above JSON. This is a Bundle that contains 3 resources: one for the patient, one for the first vaccination, and another for the second vaccination. This Bundle conforms to the requirements laid out in [SMART Health Cards: Vaccination & Testing Implementation Guide](http://build.fhir.org/ig/dvci/vaccine-credential-ig/branches/main/) which defines what resources should be included in the Health Card. Specifically, this is an example of [Vaccine Credential Bundle - Data Minimization](http://build.fhir.org/ig/dvci/vaccine-credential-ig/branches/main/StructureDefinition-vaccine-credential-bundle-dm.html). We'll talk about what \"Data Minimization\" means in a second.\n",
    "\n",
    "Now let's create the \"Expanded Health Card\"."
   ]
  },
  {
   "cell_type": "markdown",
   "id": "excited-fraction",
   "metadata": {},
   "source": [
    "### Expanded Health Card\n",
    "\n",
    "The Expanded Health Card shows what the Health Card looks like before it is minified and serialized using the compact JWS serialization.\n",
    "\n",
    "[Health Cards are encoded as Compact Serialization JSON Web Signatures (JWS)](https://smarthealth.cards/#health-cards-are-encoded-as-compact-serialization-json-web-signatures-jws) and [Modeling W3C Verifiable Credentials in FHIR](https://smarthealth.cards/credential-modeling/) cover this in more detail.\n",
    "\n",
    "Before we get into the details it's important to note that some of the VC properties are mapped to standard JWT fields when using the [JWT encoding](https://w3c.github.io/vc-data-model/#jwt-encoding) (which we are). These include the `iss` and `nbf` fields.\n",
    "\n",
    "Below shows the expanded Health Card for the example:"
   ]
  },
  {
   "cell_type": "code",
   "execution_count": 2,
   "id": "fleet-cream",
   "metadata": {},
   "outputs": [],
   "source": [
    "const expandedHealthCard = {\n",
    "  \"iss\": \"https://smarthealth.cards/examples/issuer\",\n",
    "  \"nbf\": Date.now() / 1000,\n",
    "  \"vc\": {\n",
    "    \"@context\": [\n",
    "      \"https://www.w3.org/2018/credentials/v1\"\n",
    "    ],\n",
    "    \"type\": [\n",
    "      \"VerifiableCredential\",\n",
    "      \"https://smarthealth.cards#health-card\",\n",
    "      \"https://smarthealth.cards#immunization\",\n",
    "      \"https://smarthealth.cards#covid19\"\n",
    "    ],\n",
    "    \"credentialSubject\": {\n",
    "        \"fhirVersion\": \"4.0.1\",\n",
    "        \"fhirBundle\": fhirBundle\n",
    "    }\n",
    "  }\n",
    "}"
   ]
  },
  {
   "cell_type": "markdown",
   "id": "interpreted-estate",
   "metadata": {},
   "source": [
    "Let's talk about the three root fields:\n",
    "\n",
    "`iss` - This represents the [Issuer](https://w3c.github.io/vc-data-model/#issuer)\n",
    "  * Note this property is represented by `iss` according to the [JWT Encoding Rules](https://w3c.github.io/vc-data-model/#jwt-encoding)\n",
    "\n",
    "`nbf` - This represents the [IssuanceDate](https://w3c.github.io/vc-data-model/#issuance-date)\n",
    "  * Note this property is represented by `nbf`.\n",
    "\n",
    "`vc` - This represents the VC claim minus all the unmapped fields (`iss` and `nbf`)\n",
    "\n",
    "\n",
    "TODO: Fill out the rest of these properties"
   ]
  },
  {
   "cell_type": "markdown",
   "id": "related-cruise",
   "metadata": {},
   "source": [
    "### Health Cards are Small\n",
    "\n",
    "SMART Health Cards can be issued on pieces of paper via QR Codes. This introduces some unique size constraints in order to keep the number and size of QR codes manageable. When using and applying SMART Health Cards, it's important to keep them small.\n",
    "\n",
    "The SMART Health Card spec requires that [the JWS payload is minified and compressed](https://smarthealth.cards/#health-cards-are-small) in order to reduce payload size.\n",
    "\n",
    "SMART Health Cards are designed to be be atomic and shared as a whole. Information within the Health Card cannot be removed without affecting the verifiability of the Health Card. This imposes a privacy challenge when too much information is included in a single Health Card.\n",
    "\n",
    "The \"Data Minimization\" profiles in the IG are designed to address these size and privacy concerns by ensuring the FHIR profiles only require the minimal set of information to achieve the desired results.\n",
    "\n",
    "Below the JWS Payload (i.e. the \"Expanded Health Card\") is compressed according to the spec:"
   ]
  },
  {
   "cell_type": "code",
   "execution_count": 3,
   "id": "seasonal-begin",
   "metadata": {
    "scrolled": true
   },
   "outputs": [
    {
     "name": "stdout",
     "output_type": "stream",
     "text": [
      "{\"iss\":\"https://smarthealth.cards/examples/issuer\",\"nbf\":1617280859.324,\"vc\":{\"@context\":[\"https://www.w3.org/2018/credentials/v1\"],\"type\":[\"VerifiableCredential\",\"https://smarthealth.cards#health-card\",\"https://smarthealth.cards#immunization\",\"https://smarthealth.cards#covid19\"],\"credentialSubject\":{\"fhirVersion\":\"4.0.1\",\"fhirBundle\":{\"resourceType\":\"Bundle\",\"type\":\"collection\",\"entry\":[{\"fullUrl\":\"resource:0\",\"resource\":{\"resourceType\":\"Patient\",\"name\":[{\"family\":\"Anyperson\",\"given\":[\"John\",\"B.\"]}],\"gender\":\"male\",\"birthDate\":\"1951-01-20\"}},{\"fullUrl\":\"resource:1\",\"resource\":{\"resourceType\":\"Immunization\",\"status\":\"completed\",\"vaccineCode\":{\"coding\":[{\"system\":\"http://hl7.org/fhir/sid/cvx\",\"code\":\"207\"}]},\"patient\":{\"reference\":\"resource:0\"},\"occurrenceDateTime\":\"2021-01-01\",\"lotNumber\":\"Lot #0000001\",\"performer\":[{\"actor\":{\"display\":\"ABC General Hospital\"}}]}},{\"fullUrl\":\"resource:2\",\"resource\":{\"resourceType\":\"Immunization\",\"status\":\"completed\",\"vaccineCode\":{\"coding\":[{\"system\":\"http://hl7.org/fhir/sid/cvx\",\"code\":\"207\"}]},\"patient\":{\"reference\":\"resource:0\"},\"occurrenceDateTime\":\"2021-01-29\",\"lotNumber\":\"Lot #0000007\",\"performer\":[{\"actor\":{\"display\":\"ABC General Hospital\"}}]}}]}}}}\n"
     ]
    }
   ],
   "source": [
    "// Remove the optional whitespace\n",
    "const noWhiteSpaceHealthCard = JSON.stringify(expandedHealthCard)\n",
    "console.log(noWhiteSpaceHealthCard)"
   ]
  },
  {
   "cell_type": "code",
   "execution_count": 4,
   "id": "divine-casino",
   "metadata": {},
   "outputs": [],
   "source": [
    "// Normally we'd remove some of the fhirBundle elements at \n",
    "// this step ( e.g. Resource.id, Resource.meta, CodebableConcept.text).\n",
    "// These are already missing from the original payload, so we'll skip that here\n",
    "\n",
    "// Compress the payload with DEFLATE, omitting any zlib headers\n",
    "\n",
    "const compressedPayload = zlib.deflateRawSync(noWhiteSpaceHealthCard)"
   ]
  },
  {
   "cell_type": "markdown",
   "id": "southwest-output",
   "metadata": {},
   "source": [
    "### Creating the Signed Health Card\n",
    "\n",
    "Now that we have the compressed payload we can sign it as a JWS. First, let's create the key pair for signing and verifying."
   ]
  },
  {
   "cell_type": "code",
   "execution_count": 5,
   "id": "wanted-mistress",
   "metadata": {},
   "outputs": [],
   "source": [
    "var jose = require('node-jose');\n",
    "\n",
    "const keystore = jose.JWK.createKeyStore()\n",
    "\n",
    "let signingKey;\n",
    "\n",
    "keystore.generate(\"EC\", \"P-256\").\n",
    "        then(function(result) {\n",
    "          // {result} is a jose.JWK.Key\n",
    "          signingKey = result;\n",
    "        });"
   ]
  },
  {
   "cell_type": "code",
   "execution_count": 6,
   "id": "characteristic-directory",
   "metadata": {},
   "outputs": [
    {
     "data": {
      "text/plain": [
       "{\n",
       "  keys: [\n",
       "    {\n",
       "      kty: 'EC',\n",
       "      kid: 'l-SVz8iorwtEwKhHmEDsC8XCginDM6vBFRxgDV0yl2A',\n",
       "      crv: 'P-256',\n",
       "      x: 'Vz1Y7C28ipfPO_-jfvM_9KMrD3fcQz6U8AKn1noPQNE',\n",
       "      y: 'zApN-ScoXclLqfCFhSeGHcEMQnim02YmTIbkIURjOy8',\n",
       "      d: '_hiCVEvb20fKDfTNPzwtRfNt2egzvku08XXVJ0u_vCc'\n",
       "    }\n",
       "  ]\n",
       "}"
      ]
     },
     "execution_count": 6,
     "metadata": {},
     "output_type": "execute_result"
    }
   ],
   "source": [
    "// Print the entire key store, including the `d` member which contains the private key value\n",
    "// Remove true to just present the public key\n",
    "// See: https://tools.ietf.org/id/draft-jones-jose-json-private-and-symmetric-key-00.html#rfc.section.3.1.1\n",
    "keystore.toJSON(true);"
   ]
  },
  {
   "cell_type": "markdown",
   "id": "ordered-preserve",
   "metadata": {},
   "source": [
    "With a signing key in hand we can create the JWS:"
   ]
  },
  {
   "cell_type": "code",
   "execution_count": 7,
   "id": "fantastic-absorption",
   "metadata": {},
   "outputs": [
    {
     "name": "stdout",
     "output_type": "stream",
     "text": [
      "eyJ6aXAiOiJERUYiLCJhbGciOiJFUzI1NiIsImtpZCI6ImwtU1Z6OGlvcnd0RXdLaEhtRURzQzhYQ2dpbkRNNnZCRlJ4Z0RWMHlsMkEifQ.3VLLjtpAEPwV1Hs1fu1uAJ8SiJSHoihSdnOJOAzjNp5oHtbM2EBW_vf0DLBJpIVLbkFcxl1dXVXdTyCcgwpa7ztXZZlTzPoWmfRtypmtXYZ7pjqJLiNgjxYS0JsGquJVMSvn-fx-kd6WdwkMHKoneM2N9rj3UH1_ptztdunuNjV2m5V5Mc-4xRq1F0y6bChgnYA_dBg6vqEVjWAbiatnDM27qO3m-JiGx1WcUKrX4ifzwuirQG4GUReLIOq3zK_95gdyH_w1rbCk0gWeCu7SPC2IL3xd9rqWGDAWnektx4foCk6Fs0vgRkpiOyqhAfZA1om5l_LRSgKc-6ucAOfHC8RfyA71h4UwhUcSpoQkPnijCWNdnLEVA-oQ70fThvcyhfVIBreoa9pnBYpFfRtBYbxlPnAXi_timhfTModxTF5UV1xX9-HvyJ1nvnfRfrgmj2FhA-NcaFyZOjJwUwu9jUbcwXlUp7ukTbVyFg8oJJ05UWd82BMBj51Q5jMY12MC3SmSKKdBizpo-zNRAhnOextLweyDUEeKMhrOgy1p_OdebWI4n4yf3OTxF0qUamOsCiWSybg3Nkyrheski8kvV5N3qNEyOXlvXCc83fBI6i7EWP6XMZaLyzHO_i1G-o_jLw.6JJCC9N3Kgy8LrrGReViWrl-odmjBisTTMLaeh8SSYDfNCNeWe3Jx54E-bvZuiifEIkmFmPro46AB9MLU87Lvw\n"
     ]
    }
   ],
   "source": [
    "const fields = { zip: 'DEF' }\n",
    "\n",
    "let jws;\n",
    "\n",
    "jose.JWS.createSign({ format: 'compact', fields }, signingKey)\n",
    "    .update(Buffer.from(compressedPayload))\n",
    "    .final()\n",
    "    .then(function(result) {\n",
    "        jws = result;\n",
    "        console.log(jws)\n",
    "});"
   ]
  },
  {
   "cell_type": "markdown",
   "id": "pediatric-pressing",
   "metadata": {},
   "source": [
    "Now that we have the JWS we should check that we can actually verify the signature"
   ]
  },
  {
   "cell_type": "code",
   "execution_count": 8,
   "id": "difficult-packing",
   "metadata": {},
   "outputs": [
    {
     "name": "stdout",
     "output_type": "stream",
     "text": [
      "{\n",
      "  protected: [ 'zip', 'alg', 'kid' ],\n",
      "  header: {\n",
      "    zip: 'DEF',\n",
      "    alg: 'ES256',\n",
      "    kid: 'l-SVz8iorwtEwKhHmEDsC8XCginDM6vBFRxgDV0yl2A'\n",
      "  },\n",
      "  payload: <Buffer dd 52 cb 8e da 40 10 fc 15 d4 7b 35 7e ed 6e 00 9f 12 88 94 87 a2 28 52 76 73 89 38 0c e3 36 9e 68 1e d6 cc d8 40 56 fe f7 f4 0c b0 49 a4 85 4b 6e 41 ... 431 more bytes>,\n",
      "  signature: <Buffer e8 92 42 0b d3 77 2a 0c bc 2e ba c6 45 e5 62 5a b9 7e a1 d9 a3 06 2b 13 4c c2 da 7a 1f 12 49 80 df 34 23 5e 59 ed c9 c7 9e 04 f9 bb d9 ba 28 9f 10 89 ... 14 more bytes>,\n",
      "  key: JWKBaseKeyObject {\n",
      "    keystore: JWKStore {},\n",
      "    length: 256,\n",
      "    kty: 'EC',\n",
      "    kid: 'l-SVz8iorwtEwKhHmEDsC8XCginDM6vBFRxgDV0yl2A',\n",
      "    use: '',\n",
      "    alg: ''\n",
      "  }\n",
      "}\n"
     ]
    }
   ],
   "source": [
    "jose.JWS.createVerify(signingKey)\n",
    "    .verify(jws).then(function(result) {\n",
    "    console.log(result)\n",
    "})"
   ]
  },
  {
   "cell_type": "markdown",
   "id": "discrete-morrison",
   "metadata": {},
   "source": [
    "Let's also create a fake key and test with that to make sure we aren't getting a false positive"
   ]
  },
  {
   "cell_type": "code",
   "execution_count": 9,
   "id": "biological-consumer",
   "metadata": {},
   "outputs": [],
   "source": [
    "let fakeKey;\n",
    "\n",
    "keystore.generate(\"EC\", \"P-256\").\n",
    "        then(function(result) {\n",
    "          // {result} is a jose.JWK.Key\n",
    "          fakeKey = result;\n",
    "        });"
   ]
  },
  {
   "cell_type": "code",
   "execution_count": 10,
   "id": "modern-label",
   "metadata": {},
   "outputs": [
    {
     "ename": "Error",
     "evalue": "no key found",
     "output_type": "error",
     "traceback": [
      "Error: no key found",
      "    at processSig (/Users/radamson/software/vci/health-cards-walkthrough/node_modules/node-jose/lib/jws/verify.js:131:22)",
      "    at processTicksAndRejections (node:internal/process/task_queues:94:5)"
     ]
    }
   ],
   "source": [
    "// Note \"Error: no key found\" is the generic error message for keys that won't decrypt\n",
    "// See: https://github.com/cisco/node-jose/issues/262\n",
    "jose.JWS.createVerify(fakeKey)\n",
    "    .verify(jws).then(function(result) {\n",
    "    console.log(result)\n",
    "})"
   ]
  },
  {
   "cell_type": "markdown",
   "id": "surrounded-conditioning",
   "metadata": {},
   "source": [
    "### QR Code Generation\n",
    "\n",
    "Now that we have a JWS we can turn that into a QR Code which can be scanned. We won't worry about chunking just yet since the payload is below the 1195 character threshold in this example, but its a simple addition and [this code snippet](https://github.com/smart-on-fhir/health-cards/blob/152a4f83b223b5fd14027f765e957e290649f2c0/generate-examples/src/index.ts#L146) goes over the process."
   ]
  },
  {
   "cell_type": "code",
   "execution_count": 11,
   "id": "presidential-turkey",
   "metadata": {},
   "outputs": [
    {
     "name": "stdout",
     "output_type": "stream",
     "text": [
      "shc:/5676290952432060346029243740446031222959532654603460292540772804336028702864716745222809286474714004450934266373546555033743553152245971374037773677594436055567536237333365452237632907450337423227637032622460573601064131316171672024357441042770045772047220291138602938276660593855653429342077613367086627715332052421425073570323312129672841315362255475630455434143553976225458746752107771434545633977356642645737717667647143444510676168293160335861754438032970266872294132387365005775006255094255746232273066655632053312696106402704506771777155726572336141056408410832540007753768042503760953225958654420505521580973682441614220536052716523320510683406640029602675044254403069430760577774726069362607264037563128346806773050120858557627507404695322620358425622721038352205283106755512696842262320426556627175075766226209257003735837626760347668592057452004666408635031373858305400097254203457272211375776201004590740745940543867663662356560612242335565312441200066361003573959735476595741282169566652126765214467255737712144537563356520436050716064595739326655753925084041047543120027737629046573655737576958646105255920003354522576453461297440747212614053547443634067107262395341762558116629290308404255110521322161080436086132440405322206386438303055216077676600773337205965345675713174567623402456303259693458760467503455565342280765077657063439752503684052643470226042387653580633627669595670626011627341083306683324763443637343225411065721280960102442350943324552317677273450600426006650613174010929292222123306305876113169692637564160426963006655646121607039393231525659113838442357332233564256062975080724005373457260605724286264256435696607092021123231401110317374\n"
     ]
    }
   ],
   "source": [
    "// Convert to numeric mode QR\n",
    "\n",
    "// This code snippet was adapted/taken from https://github.com/smart-on-fhir/health-cards/blob/152a4f83b223b5fd14027f765e957e290649f2c0/generate-examples/src/index.ts#L173\n",
    "const numericJWS = jws.split('')\n",
    "    .map((c) => c.charCodeAt(0) - 45)\n",
    "    .flatMap((c) => [Math.floor(c / 10), c % 10]) //Need to maintain leading zeros\n",
    "    .join('')\n",
    "\n",
    "const qrCodeData = 'shc:/' + numericJWS\n",
    "\n",
    "console.log(qrCodeData)"
   ]
  },
  {
   "cell_type": "markdown",
   "id": "undefined-telephone",
   "metadata": {},
   "source": [
    "The above shows what the value of the QR code will be, with the leading `byte` segment and the `numeric` segment following"
   ]
  },
  {
   "cell_type": "code",
   "execution_count": 13,
   "id": "macro-shift",
   "metadata": {
    "scrolled": false
   },
   "outputs": [
    {
     "data": {
      "image/svg+xml": [
       "<svg xmlns=\"http://www.w3.org/2000/svg\" viewBox=\"0 0 113 113\" shape-rendering=\"crispEdges\"><path fill=\"#ffffff\" d=\"M0 0h113v113H0z\"/><path stroke=\"#000000\" d=\"M4 4.5h7m1 0h2m1 0h3m1 0h1m1 0h1m6 0h2m1 0h2m1 0h1m1 0h1m1 0h1m2 0h1m5 0h5m4 0h2m1 0h3m2 0h4m1 0h2m5 0h1m2 0h2m2 0h1m1 0h2m1 0h2m4 0h1m1 0h3m3 0h7M4 5.5h1m5 0h1m4 0h1m1 0h5m1 0h1m7 0h3m1 0h2m1 0h3m1 0h3m1 0h1m2 0h3m3 0h1m1 0h1m2 0h2m2 0h2m3 0h1m8 0h2m1 0h1m1 0h3m1 0h1m3 0h1m2 0h3m1 0h1m3 0h1m5 0h1M4 6.5h1m1 0h3m1 0h1m1 0h1m2 0h2m1 0h1m1 0h4m1 0h2m3 0h1m1 0h4m1 0h5m8 0h3m1 0h3m3 0h1m1 0h1m3 0h1m2 0h1m3 0h2m3 0h1m2 0h1m1 0h1m2 0h1m1 0h3m2 0h2m3 0h2m2 0h1m1 0h3m1 0h1M4 7.5h1m1 0h3m1 0h1m1 0h1m1 0h1m1 0h3m1 0h11m1 0h1m2 0h1m1 0h2m2 0h1m2 0h2m1 0h2m1 0h1m4 0h2m3 0h1m1 0h1m3 0h3m1 0h1m4 0h2m1 0h1m1 0h4m4 0h6m1 0h1m4 0h1m1 0h1m1 0h3m1 0h1M4 8.5h1m1 0h3m1 0h1m1 0h1m1 0h1m2 0h3m4 0h1m1 0h7m3 0h2m2 0h1m1 0h1m2 0h4m1 0h1m1 0h6m1 0h1m1 0h4m6 0h2m1 0h8m2 0h1m1 0h1m1 0h1m3 0h5m2 0h2m1 0h1m1 0h3m1 0h1M4 9.5h1m5 0h1m4 0h2m1 0h1m1 0h1m1 0h1m1 0h1m3 0h1m3 0h3m2 0h2m2 0h1m2 0h4m1 0h1m1 0h2m3 0h1m1 0h2m1 0h1m2 0h2m2 0h1m2 0h2m1 0h1m1 0h1m3 0h1m1 0h1m2 0h1m1 0h1m2 0h1m1 0h4m1 0h1m1 0h1m2 0h1m5 0h1M4 10.5h7m1 0h1m1 0h1m1 0h1m1 0h1m1 0h1m1 0h1m1 0h1m1 0h1m1 0h1m1 0h1m1 0h1m1 0h1m1 0h1m1 0h1m1 0h1m1 0h1m1 0h1m1 0h1m1 0h1m1 0h1m1 0h1m1 0h1m1 0h1m1 0h1m1 0h1m1 0h1m1 0h1m1 0h1m1 0h1m1 0h1m1 0h1m1 0h1m1 0h1m1 0h1m1 0h1m1 0h1m1 0h1m1 0h1m1 0h1m1 0h1m1 0h1m1 0h1m1 0h1m1 0h1m1 0h1m1 0h7M13 11.5h1m1 0h4m2 0h1m1 0h2m1 0h1m1 0h1m3 0h2m2 0h1m1 0h8m1 0h3m1 0h2m3 0h2m1 0h1m2 0h1m1 0h2m1 0h1m3 0h4m1 0h1m3 0h1m1 0h1m1 0h1m1 0h1m4 0h3m3 0h3M4 12.5h4m2 0h1m1 0h2m1 0h1m2 0h4m3 0h2m1 0h7m3 0h2m2 0h1m1 0h5m1 0h1m1 0h9m4 0h1m2 0h1m2 0h1m2 0h1m1 0h5m1 0h1m2 0h2m3 0h1m1 0h3m1 0h1m2 0h3m2 0h3m1 0h1M4 13.5h1m2 0h1m1 0h1m1 0h1m1 0h3m1 0h1m1 0h1m1 0h4m1 0h1m1 0h6m5 0h1m2 0h2m3 0h2m1 0h2m2 0h1m1 0h1m1 0h3m1 0h4m2 0h5m1 0h1m1 0h1m4 0h2m2 0h1m1 0h1m2 0h1m5 0h2m5 0h2m1 0h1m1 0h1M4 14.5h1m1 0h2m1 0h2m2 0h1m2 0h2m1 0h1m1 0h1m1 0h2m1 0h1m2 0h2m4 0h3m3 0h1m4 0h1m1 0h1m1 0h6m1 0h2m1 0h2m1 0h1m2 0h1m2 0h1m1 0h2m10 0h1m6 0h1m1 0h1m1 0h3m3 0h3m1 0h1m1 0h3M4 15.5h1m1 0h2m5 0h1m1 0h1m3 0h3m2 0h3m2 0h1m1 0h1m3 0h1m5 0h1m1 0h2m2 0h6m3 0h3m1 0h1m1 0h3m4 0h1m1 0h3m3 0h3m3 0h2m1 0h1m3 0h1m5 0h2m4 0h1m2 0h1m1 0h2M4 16.5h2m1 0h4m2 0h3m2 0h2m2 0h1m1 0h2m2 0h1m2 0h5m1 0h1m1 0h6m4 0h1m1 0h1m6 0h1m1 0h2m5 0h2m2 0h1m1 0h1m3 0h5m1 0h9m3 0h1m1 0h1m1 0h1m1 0h3m1 0h1m1 0h1M5 17.5h5m4 0h3m1 0h1m2 0h3m5 0h1m1 0h2m3 0h2m1 0h1m4 0h1m1 0h1m2 0h1m1 0h1m1 0h1m4 0h2m1 0h1m2 0h3m1 0h1m1 0h1m2 0h2m4 0h2m1 0h2m1 0h3m3 0h1m2 0h1m2 0h1m1 0h2m1 0h1m2 0h1M4 18.5h1m3 0h1m1 0h2m1 0h3m1 0h1m2 0h1m6 0h3m2 0h1m1 0h3m1 0h2m2 0h4m2 0h1m1 0h3m1 0h3m1 0h2m1 0h1m3 0h1m3 0h2m1 0h2m1 0h1m1 0h2m1 0h2m1 0h3m1 0h1m2 0h2m2 0h1m4 0h2m1 0h4m1 0h2M4 19.5h4m1 0h1m4 0h1m4 0h1m2 0h3m1 0h2m4 0h3m1 0h3m1 0h1m5 0h1m2 0h5m1 0h1m2 0h2m1 0h1m1 0h1m1 0h1m1 0h1m1 0h3m3 0h2m3 0h2m1 0h1m2 0h1m1 0h1m4 0h2m1 0h1m1 0h1m1 0h1m2 0h1m2 0h3M5 20.5h2m1 0h3m1 0h1m1 0h1m1 0h1m1 0h5m1 0h4m1 0h2m1 0h3m1 0h3m2 0h1m2 0h2m8 0h2m7 0h2m1 0h1m1 0h1m2 0h3m3 0h2m1 0h5m4 0h1m5 0h5m1 0h2m4 0h2M7 21.5h3m1 0h1m6 0h1m1 0h1m2 0h2m1 0h3m2 0h1m1 0h3m5 0h4m1 0h1m1 0h3m2 0h1m2 0h1m4 0h4m2 0h2m1 0h3m1 0h2m1 0h1m1 0h1m3 0h2m1 0h1m2 0h3m2 0h4m1 0h1m3 0h2M5 22.5h1m2 0h1m1 0h1m1 0h1m2 0h2m1 0h1m2 0h1m3 0h1m5 0h1m1 0h1m4 0h5m4 0h1m1 0h2m3 0h1m3 0h1m2 0h1m2 0h1m2 0h1m2 0h3m2 0h2m1 0h2m1 0h2m1 0h1m2 0h1m1 0h2m3 0h1m1 0h3m6 0h4M5 23.5h1m3 0h1m2 0h3m1 0h3m1 0h1m4 0h2m2 0h6m4 0h1m2 0h1m2 0h1m3 0h1m1 0h1m1 0h2m3 0h1m2 0h1m2 0h5m1 0h1m1 0h2m5 0h2m2 0h3m4 0h1m3 0h1m2 0h2m4 0h3m2 0h1M4 24.5h2m3 0h3m2 0h1m1 0h2m5 0h1m1 0h1m1 0h1m1 0h2m4 0h1m1 0h1m1 0h1m1 0h1m1 0h3m3 0h2m2 0h1m1 0h2m2 0h1m2 0h1m1 0h3m2 0h1m1 0h4m1 0h3m2 0h1m1 0h1m1 0h1m3 0h4m1 0h1m1 0h1m2 0h1m1 0h5m1 0h1M5 25.5h1m1 0h3m1 0h1m2 0h2m1 0h1m1 0h2m1 0h5m5 0h1m1 0h5m1 0h1m2 0h1m2 0h1m2 0h1m1 0h1m1 0h3m1 0h1m5 0h1m2 0h1m1 0h4m1 0h2m3 0h1m1 0h1m1 0h1m2 0h2m3 0h2m1 0h2m1 0h1m4 0h2m3 0h2M4 26.5h4m2 0h2m2 0h1m9 0h3m1 0h1m2 0h1m1 0h3m1 0h4m2 0h1m1 0h1m1 0h1m4 0h2m4 0h3m3 0h1m1 0h1m2 0h1m1 0h2m7 0h12m1 0h2m4 0h1m6 0h3M5 27.5h2m1 0h1m2 0h3m1 0h3m1 0h2m2 0h1m2 0h2m1 0h1m4 0h2m2 0h5m1 0h1m1 0h1m1 0h2m1 0h1m3 0h2m3 0h4m2 0h2m3 0h1m3 0h1m4 0h1m1 0h1m3 0h1m1 0h2m2 0h1m4 0h1m4 0h2m1 0h1M8 28.5h7m2 0h1m2 0h2m1 0h2m1 0h8m1 0h2m1 0h1m6 0h1m2 0h3m1 0h5m1 0h4m2 0h5m1 0h1m2 0h1m2 0h5m2 0h2m1 0h1m2 0h1m5 0h1m3 0h6m2 0h2M5 29.5h2m1 0h1m3 0h1m3 0h1m4 0h2m1 0h1m1 0h3m3 0h3m1 0h1m1 0h5m2 0h3m2 0h3m3 0h1m3 0h2m2 0h1m1 0h4m1 0h3m1 0h2m3 0h2m2 0h1m1 0h1m2 0h2m2 0h2m2 0h1m2 0h1m3 0h1m1 0h1m1 0h1M4 30.5h5m1 0h1m1 0h1m1 0h2m1 0h2m2 0h1m3 0h1m1 0h2m1 0h1m1 0h4m1 0h1m2 0h5m1 0h1m3 0h3m1 0h1m1 0h1m2 0h1m2 0h3m1 0h1m1 0h2m1 0h1m1 0h2m1 0h1m1 0h1m1 0h2m1 0h3m1 0h1m1 0h2m1 0h3m2 0h1m1 0h2m1 0h1m1 0h1m3 0h1M6 31.5h1m1 0h1m3 0h2m1 0h1m2 0h4m3 0h1m1 0h2m3 0h1m1 0h1m1 0h2m2 0h1m1 0h2m1 0h2m5 0h1m3 0h4m3 0h3m2 0h1m2 0h4m1 0h1m3 0h3m2 0h1m3 0h3m1 0h1m4 0h3m3 0h1M4 32.5h2m1 0h6m1 0h3m2 0h1m1 0h1m1 0h10m1 0h1m1 0h1m5 0h2m2 0h3m2 0h7m2 0h4m1 0h2m1 0h3m2 0h2m1 0h5m1 0h1m1 0h2m3 0h1m2 0h5m1 0h7m1 0h3M4 33.5h2m2 0h1m3 0h2m2 0h2m1 0h1m3 0h2m3 0h2m2 0h1m1 0h2m1 0h1m1 0h1m4 0h1m2 0h1m1 0h2m3 0h1m2 0h1m1 0h2m1 0h1m2 0h1m1 0h1m1 0h2m1 0h1m2 0h3m1 0h2m1 0h1m4 0h2m1 0h1m4 0h1m2 0h4m1 0h1m4 0h1M5 34.5h2m1 0h3m1 0h9m1 0h2m2 0h1m2 0h1m2 0h2m3 0h2m1 0h2m3 0h3m1 0h1m1 0h2m1 0h1m3 0h1m3 0h1m2 0h1m1 0h1m1 0h2m3 0h1m1 0h2m3 0h1m1 0h1m1 0h3m1 0h3m3 0h1m5 0h2m4 0h1M7 35.5h3m2 0h1m3 0h3m1 0h5m2 0h1m2 0h1m1 0h2m1 0h3m1 0h1m1 0h2m1 0h3m1 0h2m1 0h3m2 0h1m3 0h1m1 0h5m4 0h1m4 0h1m1 0h1m2 0h1m2 0h1m2 0h1m5 0h2m1 0h1m1 0h3m5 0h3M4 36.5h2m2 0h1m1 0h3m1 0h2m1 0h1m1 0h2m1 0h3m1 0h3m2 0h4m1 0h1m3 0h1m1 0h1m1 0h1m1 0h1m3 0h1m2 0h1m1 0h2m5 0h1m5 0h1m1 0h4m1 0h1m4 0h4m3 0h3m1 0h1m6 0h2m2 0h4M5 37.5h1m1 0h1m3 0h2m7 0h3m3 0h1m1 0h1m3 0h1m2 0h2m1 0h1m1 0h1m3 0h3m6 0h6m3 0h1m1 0h1m2 0h1m3 0h4m1 0h1m2 0h2m3 0h2m2 0h1m5 0h1m8 0h1M5 38.5h4m1 0h1m3 0h1m2 0h1m1 0h2m3 0h1m4 0h3m2 0h1m1 0h1m1 0h3m3 0h2m1 0h2m3 0h1m2 0h3m2 0h2m1 0h1m5 0h2m1 0h3m2 0h2m1 0h1m1 0h1m1 0h3m1 0h1m1 0h5m1 0h1m4 0h3m1 0h3M4 39.5h4m3 0h1m2 0h5m1 0h2m1 0h1m2 0h1m1 0h2m8 0h5m3 0h2m1 0h3m2 0h2m1 0h1m5 0h4m1 0h1m3 0h1m1 0h1m1 0h2m1 0h1m9 0h3m4 0h4m1 0h2m1 0h1m1 0h3M4 40.5h1m1 0h1m3 0h2m1 0h1m1 0h2m1 0h1m1 0h1m2 0h1m2 0h1m2 0h1m1 0h2m2 0h3m3 0h1m2 0h1m1 0h2m1 0h1m1 0h1m3 0h1m4 0h2m1 0h1m1 0h2m1 0h2m2 0h1m1 0h1m1 0h2m1 0h1m3 0h1m1 0h1m3 0h4m1 0h4m4 0h1m2 0h1m1 0h2M4 41.5h1m1 0h1m6 0h1m1 0h1m1 0h2m5 0h1m1 0h3m1 0h3m2 0h3m2 0h1m1 0h3m3 0h2m1 0h1m1 0h1m1 0h1m3 0h2m1 0h4m2 0h4m2 0h1m3 0h3m1 0h2m1 0h2m1 0h4m4 0h2m1 0h1m2 0h1m5 0h1M7 42.5h5m1 0h2m2 0h3m1 0h1m1 0h1m1 0h1m5 0h1m2 0h2m1 0h1m4 0h1m4 0h2m1 0h5m1 0h2m3 0h1m1 0h1m1 0h1m1 0h4m1 0h2m1 0h1m3 0h2m2 0h1m1 0h1m1 0h2m1 0h1m3 0h3m1 0h3m1 0h1m5 0h1M4 43.5h3m2 0h1m1 0h4m6 0h2m3 0h1m8 0h2m2 0h3m3 0h2m1 0h1m3 0h4m1 0h2m5 0h1m1 0h2m2 0h2m1 0h1m5 0h8m1 0h5m2 0h1m4 0h1m3 0h1m3 0h1M4 44.5h1m2 0h1m2 0h1m5 0h1m2 0h3m1 0h4m2 0h2m1 0h1m4 0h2m1 0h2m1 0h3m3 0h4m1 0h3m1 0h4m2 0h2m1 0h2m1 0h1m1 0h1m1 0h1m2 0h2m2 0h1m4 0h1m4 0h3m2 0h3m2 0h3m1 0h3M4 45.5h1m3 0h1m2 0h3m4 0h1m2 0h3m2 0h8m2 0h2m1 0h1m1 0h2m1 0h2m1 0h1m1 0h2m3 0h6m1 0h3m6 0h3m2 0h2m1 0h2m1 0h2m1 0h5m1 0h2m1 0h1m1 0h1m2 0h4m1 0h2M5 46.5h1m1 0h4m1 0h5m1 0h1m5 0h1m1 0h6m1 0h1m3 0h3m1 0h3m2 0h3m4 0h1m1 0h5m1 0h3m3 0h1m1 0h1m2 0h2m1 0h3m1 0h1m1 0h2m2 0h1m2 0h3m3 0h1m1 0h1m1 0h1m8 0h2M4 47.5h4m4 0h1m1 0h1m1 0h2m2 0h4m3 0h2m3 0h1m1 0h2m2 0h2m1 0h1m1 0h1m4 0h2m1 0h1m3 0h2m1 0h1m1 0h4m2 0h4m5 0h4m4 0h1m1 0h2m1 0h2m5 0h1m1 0h5m4 0h3M4 48.5h1m1 0h1m3 0h1m1 0h1m1 0h2m1 0h2m2 0h4m2 0h1m1 0h3m2 0h3m3 0h2m2 0h1m3 0h1m3 0h2m1 0h1m2 0h1m5 0h1m1 0h1m1 0h3m3 0h2m2 0h1m1 0h5m1 0h2m1 0h4m3 0h1m2 0h4m1 0h1m3 0h1M4 49.5h1m1 0h1m1 0h2m1 0h4m1 0h4m2 0h1m2 0h3m1 0h2m1 0h1m2 0h3m1 0h3m2 0h7m1 0h1m2 0h2m4 0h1m1 0h2m1 0h2m3 0h1m1 0h1m1 0h1m2 0h1m1 0h2m1 0h3m1 0h3m1 0h4m1 0h1m1 0h1m2 0h1m3 0h1m1 0h1M5 50.5h3m1 0h6m1 0h1m6 0h2m1 0h1m3 0h1m2 0h2m1 0h4m2 0h1m2 0h1m1 0h2m2 0h2m3 0h1m1 0h4m3 0h1m2 0h1m1 0h1m1 0h1m1 0h1m3 0h2m3 0h2m2 0h1m5 0h1m1 0h1m1 0h1m1 0h1m4 0h1m2 0h2M4 51.5h1m2 0h2m6 0h1m2 0h1m2 0h3m1 0h2m1 0h1m1 0h3m3 0h5m2 0h3m2 0h2m3 0h2m2 0h3m5 0h1m5 0h3m2 0h1m3 0h1m1 0h2m2 0h6m1 0h1m1 0h1m4 0h3m1 0h2m1 0h2M5 52.5h2m1 0h5m1 0h4m3 0h2m2 0h1m1 0h7m2 0h1m1 0h1m5 0h1m5 0h1m1 0h5m1 0h2m2 0h7m1 0h1m2 0h1m1 0h7m3 0h2m4 0h3m1 0h3m2 0h5m2 0h2M4 53.5h2m2 0h1m3 0h4m1 0h2m1 0h2m1 0h2m1 0h3m3 0h2m1 0h1m4 0h3m2 0h1m1 0h1m1 0h1m2 0h1m3 0h2m2 0h1m1 0h2m3 0h1m3 0h2m2 0h2m3 0h1m2 0h1m1 0h2m1 0h3m2 0h1m4 0h3m3 0h1m1 0h2M4 54.5h1m1 0h1m1 0h1m1 0h1m1 0h3m1 0h5m1 0h2m1 0h4m1 0h1m1 0h2m7 0h1m4 0h2m1 0h2m1 0h1m1 0h1m1 0h3m2 0h3m2 0h4m5 0h2m1 0h1m1 0h5m4 0h1m3 0h1m1 0h3m2 0h1m1 0h1m1 0h1m1 0h1m1 0h1M4 55.5h1m1 0h3m3 0h1m1 0h2m2 0h2m4 0h1m2 0h2m3 0h3m1 0h4m1 0h1m2 0h1m2 0h1m1 0h2m1 0h1m3 0h1m2 0h1m2 0h1m1 0h1m4 0h1m1 0h1m1 0h4m3 0h1m1 0h3m1 0h2m1 0h1m3 0h8m3 0h2M4 56.5h2m2 0h7m1 0h3m1 0h1m1 0h1m1 0h2m2 0h9m2 0h2m1 0h1m1 0h3m1 0h1m2 0h6m2 0h1m1 0h2m2 0h1m1 0h2m2 0h1m1 0h1m2 0h5m2 0h1m3 0h2m1 0h2m1 0h1m2 0h1m1 0h8M4 57.5h1m1 0h1m2 0h1m2 0h2m2 0h1m1 0h1m1 0h1m2 0h2m1 0h5m2 0h1m1 0h6m2 0h2m1 0h1m2 0h3m3 0h1m2 0h1m6 0h3m2 0h2m5 0h5m1 0h1m2 0h3m4 0h2m2 0h2m2 0h1m3 0h2M5 58.5h1m2 0h1m1 0h1m6 0h3m1 0h2m2 0h1m1 0h1m3 0h5m1 0h1m2 0h1m2 0h1m1 0h1m2 0h1m3 0h5m1 0h2m2 0h5m2 0h3m3 0h1m3 0h4m3 0h1m4 0h1m1 0h1m1 0h1m1 0h1m1 0h4m4 0h2M7 59.5h1m4 0h3m4 0h1m4 0h2m3 0h1m5 0h3m2 0h5m1 0h1m1 0h1m1 0h1m2 0h3m1 0h1m1 0h1m3 0h1m2 0h1m2 0h2m3 0h1m3 0h2m1 0h4m2 0h1m1 0h8m2 0h1m1 0h1m4 0h3M5 60.5h1m4 0h3m2 0h1m1 0h2m1 0h6m1 0h1m1 0h1m1 0h4m1 0h1m1 0h1m1 0h1m1 0h1m3 0h2m1 0h2m2 0h2m1 0h1m2 0h1m1 0h1m1 0h1m2 0h5m1 0h1m2 0h6m2 0h1m2 0h5m2 0h1m5 0h1m1 0h1m2 0h1m2 0h2M4 61.5h1m4 0h1m1 0h1m1 0h5m1 0h1m1 0h1m1 0h1m1 0h3m1 0h3m1 0h1m1 0h2m2 0h1m1 0h2m1 0h1m5 0h1m5 0h1m1 0h1m2 0h2m1 0h2m1 0h1m1 0h1m1 0h1m2 0h1m2 0h1m1 0h1m3 0h1m4 0h2m2 0h1m2 0h1m1 0h1m2 0h2m1 0h2M4 62.5h1m2 0h2m1 0h2m3 0h3m2 0h1m2 0h2m1 0h1m3 0h2m2 0h1m1 0h1m2 0h2m4 0h3m3 0h2m1 0h1m1 0h3m1 0h4m1 0h1m1 0h1m1 0h2m3 0h1m2 0h3m1 0h2m1 0h1m4 0h1m3 0h2m4 0h2m3 0h2m1 0h1M6 63.5h4m2 0h2m1 0h1m4 0h1m2 0h1m4 0h3m1 0h4m1 0h2m1 0h1m1 0h2m2 0h1m6 0h1m1 0h1m2 0h2m2 0h2m2 0h1m1 0h1m1 0h1m4 0h1m2 0h1m1 0h4m1 0h4m1 0h2m1 0h1m1 0h1m2 0h1m3 0h1m1 0h2m1 0h1M4 64.5h3m1 0h1m1 0h3m1 0h10m2 0h3m1 0h1m3 0h4m4 0h3m1 0h4m2 0h2m1 0h1m1 0h1m4 0h3m4 0h8m5 0h1m1 0h2m1 0h1m3 0h2m1 0h1m1 0h1m1 0h1m1 0h5m2 0h2M4 65.5h1m3 0h2m3 0h2m4 0h2m3 0h4m1 0h1m5 0h3m1 0h1m3 0h2m1 0h1m1 0h6m1 0h6m1 0h3m4 0h6m3 0h1m2 0h1m3 0h1m2 0h1m1 0h3m3 0h1m3 0h1m3 0h1m3 0h1M4 66.5h1m4 0h4m2 0h1m4 0h1m2 0h1m1 0h3m3 0h2m2 0h2m1 0h2m1 0h2m1 0h1m1 0h2m1 0h2m1 0h3m2 0h2m1 0h2m1 0h1m2 0h5m4 0h1m1 0h4m5 0h1m2 0h1m1 0h3m1 0h1m1 0h1m2 0h1m1 0h1m4 0h1M7 67.5h1m1 0h1m1 0h1m2 0h1m1 0h2m1 0h1m4 0h1m1 0h1m1 0h4m1 0h3m5 0h2m1 0h1m1 0h3m1 0h4m2 0h1m1 0h1m1 0h2m2 0h1m2 0h1m2 0h1m3 0h2m1 0h3m2 0h3m3 0h6m1 0h2m1 0h4m1 0h1m3 0h1M6 68.5h2m1 0h5m1 0h3m3 0h1m3 0h2m2 0h1m1 0h1m1 0h1m2 0h2m1 0h1m1 0h2m1 0h2m3 0h3m1 0h2m3 0h3m2 0h5m1 0h4m2 0h5m1 0h1m1 0h1m3 0h2m1 0h1m1 0h1m4 0h1m1 0h1m1 0h5M4 69.5h2m1 0h1m1 0h1m1 0h2m1 0h2m1 0h5m1 0h1m1 0h1m3 0h1m2 0h2m1 0h1m1 0h2m3 0h2m4 0h1m3 0h2m1 0h1m2 0h1m3 0h1m1 0h1m3 0h1m2 0h1m1 0h3m1 0h1m2 0h2m3 0h2m1 0h2m6 0h3m1 0h1m1 0h3m2 0h1M6 70.5h3m1 0h1m2 0h3m2 0h2m2 0h1m1 0h1m3 0h3m3 0h2m1 0h5m2 0h1m5 0h1m2 0h1m1 0h3m2 0h3m4 0h1m1 0h1m1 0h1m1 0h1m1 0h4m3 0h1m3 0h2m5 0h2m6 0h3m2 0h1M7 71.5h2m2 0h2m1 0h2m1 0h2m2 0h2m2 0h2m2 0h2m4 0h2m1 0h5m4 0h1m4 0h1m1 0h4m1 0h3m6 0h3m1 0h2m1 0h1m2 0h1m5 0h2m1 0h2m1 0h1m1 0h1m2 0h1m1 0h1m4 0h1m1 0h1m1 0h1m1 0h1M6 72.5h1m1 0h11m1 0h2m4 0h1m5 0h1m2 0h1m2 0h1m1 0h1m2 0h1m1 0h5m2 0h1m1 0h1m2 0h4m1 0h1m1 0h7m3 0h1m1 0h1m3 0h1m4 0h3m1 0h1m3 0h1m1 0h3m1 0h2m3 0h2m1 0h1M4 73.5h2m1 0h1m3 0h1m1 0h3m2 0h1m3 0h1m1 0h3m2 0h3m1 0h2m7 0h1m1 0h1m2 0h4m1 0h5m3 0h1m1 0h4m1 0h1m1 0h1m6 0h2m2 0h4m2 0h3m1 0h1m2 0h6m4 0h2m1 0h2M5 74.5h1m3 0h2m1 0h2m1 0h3m2 0h1m6 0h3m1 0h1m1 0h1m3 0h8m3 0h4m2 0h1m3 0h4m1 0h1m1 0h2m2 0h1m1 0h2m2 0h3m2 0h2m2 0h3m4 0h2m3 0h7m1 0h2m2 0h1M4 75.5h1m1 0h4m2 0h1m2 0h2m6 0h4m2 0h5m3 0h1m2 0h2m1 0h1m2 0h1m1 0h1m1 0h3m6 0h2m4 0h1m5 0h1m1 0h3m1 0h5m5 0h1m2 0h2m2 0h3m1 0h2m1 0h1m2 0h3M7 76.5h7m4 0h6m2 0h9m1 0h1m4 0h1m1 0h3m2 0h1m1 0h7m5 0h1m1 0h1m1 0h1m3 0h2m1 0h1m2 0h5m4 0h3m1 0h1m1 0h1m1 0h1m1 0h1m2 0h7M6 77.5h1m1 0h1m3 0h1m2 0h1m1 0h1m1 0h3m2 0h3m1 0h1m3 0h2m3 0h1m2 0h8m2 0h3m3 0h1m1 0h1m2 0h3m1 0h1m1 0h1m4 0h2m1 0h2m3 0h1m4 0h1m6 0h2m1 0h2m1 0h3m3 0h1m2 0h2M6 78.5h1m1 0h1m1 0h1m1 0h2m4 0h2m1 0h1m1 0h2m1 0h1m1 0h1m1 0h1m1 0h1m1 0h1m5 0h2m2 0h3m2 0h1m1 0h2m1 0h1m1 0h4m3 0h4m1 0h1m2 0h2m1 0h1m1 0h1m1 0h1m1 0h2m3 0h2m2 0h1m4 0h1m1 0h2m2 0h1m1 0h1m1 0h1m1 0h2M4 79.5h3m1 0h1m3 0h1m1 0h2m1 0h1m2 0h1m1 0h1m1 0h2m2 0h1m3 0h1m4 0h1m1 0h5m2 0h2m1 0h1m2 0h1m3 0h1m2 0h3m1 0h1m2 0h1m1 0h3m5 0h1m3 0h1m5 0h2m4 0h4m1 0h1m1 0h2m3 0h4M4 80.5h1m1 0h1m1 0h5m2 0h5m2 0h4m2 0h5m1 0h5m2 0h2m3 0h1m1 0h2m1 0h7m4 0h2m1 0h1m1 0h1m1 0h1m2 0h1m1 0h8m1 0h2m2 0h1m1 0h3m2 0h3m2 0h8m1 0h1M5 81.5h1m6 0h12m1 0h2m3 0h1m2 0h1m1 0h1m1 0h3m1 0h1m4 0h1m3 0h1m1 0h2m6 0h1m1 0h1m1 0h3m1 0h2m8 0h2m1 0h3m3 0h1m4 0h1m1 0h4m1 0h1m3 0h1m2 0h3M5 82.5h1m4 0h2m1 0h1m1 0h2m5 0h3m1 0h1m1 0h1m4 0h3m4 0h2m1 0h1m1 0h1m3 0h1m1 0h1m1 0h1m1 0h2m1 0h1m3 0h3m1 0h2m2 0h1m1 0h2m1 0h2m2 0h3m1 0h1m1 0h1m3 0h1m1 0h1m1 0h1m1 0h1m1 0h1m1 0h1m3 0h2m1 0h3M4 83.5h1m2 0h1m1 0h1m2 0h5m3 0h1m1 0h1m2 0h1m2 0h2m1 0h1m1 0h2m1 0h2m1 0h1m3 0h1m1 0h1m2 0h1m1 0h1m3 0h1m3 0h2m2 0h4m1 0h2m2 0h3m2 0h2m1 0h1m1 0h1m2 0h2m1 0h1m3 0h1m1 0h1m1 0h4m2 0h4M4 84.5h7m1 0h1m1 0h1m5 0h5m4 0h3m1 0h2m2 0h1m1 0h1m2 0h7m1 0h1m1 0h1m3 0h1m2 0h2m2 0h1m1 0h1m2 0h1m3 0h3m2 0h2m1 0h1m4 0h2m4 0h1m1 0h3m2 0h5m1 0h2m1 0h2M4 85.5h1m2 0h2m2 0h2m1 0h2m2 0h1m1 0h5m4 0h3m2 0h1m2 0h3m2 0h1m5 0h1m1 0h3m2 0h9m1 0h1m3 0h2m1 0h3m2 0h3m1 0h2m4 0h3m1 0h1m5 0h1m1 0h2m3 0h3m1 0h1M4 86.5h1m1 0h1m1 0h1m1 0h4m1 0h2m1 0h4m5 0h1m2 0h2m1 0h4m4 0h1m2 0h1m1 0h2m1 0h2m1 0h3m2 0h1m2 0h2m1 0h1m2 0h4m1 0h1m3 0h1m2 0h1m4 0h1m6 0h1m3 0h4m1 0h1m4 0h2m1 0h1M5 87.5h2m2 0h1m1 0h1m1 0h1m2 0h3m2 0h1m1 0h3m2 0h1m1 0h4m1 0h1m1 0h1m3 0h1m2 0h1m3 0h4m1 0h1m1 0h1m1 0h2m1 0h5m2 0h3m3 0h2m1 0h1m1 0h1m3 0h4m3 0h4m2 0h2m2 0h3m1 0h1m1 0h1m1 0h2M4 88.5h3m1 0h1m1 0h3m1 0h1m1 0h1m3 0h1m3 0h2m2 0h1m1 0h2m3 0h1m3 0h4m1 0h2m2 0h1m4 0h1m1 0h2m3 0h3m4 0h1m1 0h5m2 0h1m1 0h1m4 0h1m2 0h5m2 0h1m2 0h2m1 0h1m2 0h3m3 0h1M7 89.5h3m3 0h3m1 0h1m1 0h2m2 0h2m2 0h3m4 0h1m1 0h1m1 0h2m3 0h4m1 0h1m1 0h1m3 0h3m2 0h1m1 0h2m1 0h3m1 0h1m3 0h2m1 0h3m3 0h1m2 0h4m3 0h1m3 0h1m1 0h7m1 0h1m1 0h1M4 90.5h3m3 0h1m1 0h4m2 0h1m1 0h1m2 0h1m5 0h1m2 0h4m1 0h3m2 0h1m1 0h1m1 0h1m1 0h5m3 0h1m1 0h1m2 0h1m3 0h1m1 0h2m1 0h2m1 0h2m2 0h1m4 0h2m3 0h1m2 0h1m1 0h1m1 0h2m1 0h1m1 0h1m5 0h1m1 0h2M4 91.5h1m4 0h1m1 0h2m4 0h1m1 0h2m2 0h1m1 0h2m6 0h3m1 0h2m1 0h1m2 0h7m1 0h2m1 0h2m2 0h3m1 0h2m1 0h1m1 0h2m3 0h3m3 0h8m2 0h1m3 0h1m1 0h2m1 0h1m3 0h4m1 0h1M5 92.5h1m4 0h2m1 0h3m1 0h1m3 0h1m1 0h2m2 0h1m2 0h1m4 0h1m1 0h2m2 0h1m7 0h1m1 0h3m9 0h2m1 0h1m1 0h1m1 0h6m3 0h6m1 0h1m2 0h1m2 0h1m1 0h1m6 0h1m2 0h1m2 0h1M5 93.5h1m2 0h2m2 0h2m1 0h4m1 0h1m2 0h3m2 0h1m6 0h1m5 0h2m1 0h1m1 0h1m1 0h4m1 0h1m1 0h1m2 0h1m1 0h5m5 0h5m1 0h3m1 0h1m3 0h1m1 0h1m2 0h2m1 0h5m2 0h3m1 0h1m3 0h1M7 94.5h1m1 0h2m1 0h1m5 0h1m1 0h1m2 0h2m3 0h1m1 0h1m3 0h1m3 0h5m2 0h1m1 0h2m2 0h1m2 0h1m1 0h2m1 0h3m2 0h1m2 0h1m4 0h1m3 0h1m9 0h5m4 0h1m3 0h2m2 0h1m1 0h2m1 0h1M6 95.5h4m1 0h1m1 0h1m2 0h1m1 0h1m3 0h1m1 0h2m1 0h2m1 0h1m1 0h1m1 0h3m2 0h1m2 0h1m2 0h3m2 0h1m1 0h6m1 0h1m1 0h1m2 0h6m1 0h6m1 0h4m1 0h1m6 0h1m4 0h2m1 0h3m3 0h2m1 0h1M5 96.5h1m4 0h1m1 0h1m1 0h1m3 0h1m2 0h1m1 0h3m1 0h2m1 0h1m3 0h1m1 0h2m1 0h1m1 0h4m2 0h1m1 0h2m7 0h1m1 0h1m1 0h1m1 0h1m7 0h1m1 0h1m2 0h1m1 0h3m3 0h1m3 0h4m1 0h1m1 0h1m1 0h2m2 0h2m1 0h1m1 0h1M4 97.5h1m1 0h1m1 0h1m3 0h4m2 0h1m2 0h2m2 0h5m2 0h1m3 0h3m1 0h1m1 0h2m3 0h1m2 0h2m2 0h1m1 0h1m2 0h2m2 0h1m1 0h2m1 0h2m1 0h2m4 0h5m1 0h5m1 0h3m5 0h1m1 0h1m2 0h1m1 0h1m1 0h1M4 98.5h3m3 0h1m2 0h1m1 0h3m4 0h1m2 0h3m2 0h1m2 0h3m1 0h3m1 0h1m1 0h1m1 0h8m1 0h2m8 0h3m2 0h1m1 0h3m5 0h1m1 0h2m2 0h3m3 0h1m1 0h1m2 0h1m1 0h1m1 0h1m2 0h2m1 0h2M6 99.5h1m1 0h2m1 0h1m2 0h3m1 0h2m1 0h1m3 0h1m1 0h2m2 0h1m1 0h2m1 0h1m1 0h1m3 0h1m1 0h1m1 0h2m5 0h3m1 0h1m1 0h5m3 0h1m1 0h1m2 0h1m5 0h2m3 0h1m2 0h1m5 0h1m2 0h3m6 0h1m2 0h1M7 100.5h2m1 0h1m2 0h1m2 0h1m1 0h4m1 0h3m2 0h6m4 0h1m1 0h3m2 0h1m2 0h3m1 0h5m1 0h4m1 0h2m2 0h2m1 0h2m4 0h6m1 0h1m2 0h1m3 0h1m2 0h5m2 0h6m2 0h1M12 101.5h2m2 0h1m2 0h4m2 0h2m1 0h1m3 0h3m3 0h3m1 0h1m3 0h1m1 0h1m3 0h1m3 0h1m4 0h1m1 0h1m3 0h2m2 0h1m1 0h4m3 0h4m2 0h1m3 0h1m5 0h5m3 0h2m2 0h1M4 102.5h7m6 0h3m1 0h1m1 0h2m1 0h1m1 0h1m1 0h1m1 0h3m2 0h1m1 0h1m2 0h3m1 0h1m2 0h1m2 0h1m1 0h1m1 0h1m2 0h2m1 0h3m3 0h1m1 0h2m4 0h1m1 0h1m1 0h3m2 0h1m5 0h2m1 0h1m2 0h1m2 0h1m1 0h1m1 0h2M4 103.5h1m5 0h1m3 0h5m1 0h1m1 0h4m1 0h2m3 0h1m1 0h1m2 0h1m1 0h1m2 0h2m2 0h1m4 0h2m3 0h3m1 0h1m7 0h5m2 0h2m3 0h1m1 0h1m2 0h1m3 0h1m1 0h4m2 0h4m3 0h2M4 104.5h1m1 0h3m1 0h1m2 0h2m2 0h3m4 0h1m2 0h6m1 0h3m2 0h5m1 0h4m3 0h6m3 0h1m6 0h1m1 0h1m2 0h8m1 0h1m1 0h1m5 0h1m4 0h2m1 0h1m1 0h5m3 0h1M4 105.5h1m1 0h3m1 0h1m1 0h1m2 0h2m2 0h2m1 0h1m1 0h2m2 0h1m1 0h3m1 0h1m3 0h2m2 0h1m1 0h2m1 0h1m1 0h4m2 0h1m1 0h1m3 0h3m3 0h1m1 0h2m1 0h1m2 0h1m1 0h2m3 0h4m2 0h1m1 0h2m2 0h2m1 0h4m2 0h1m2 0h2M4 106.5h1m1 0h3m1 0h1m1 0h5m3 0h2m1 0h3m1 0h1m3 0h1m1 0h1m1 0h1m4 0h1m1 0h2m1 0h3m1 0h1m2 0h2m4 0h3m2 0h1m2 0h2m6 0h3m2 0h1m1 0h1m2 0h1m1 0h2m5 0h1m1 0h1m1 0h3m1 0h1m1 0h1m1 0h2M4 107.5h1m5 0h1m1 0h3m2 0h6m1 0h1m6 0h3m4 0h1m2 0h1m1 0h1m2 0h1m1 0h2m1 0h1m1 0h1m5 0h1m3 0h1m2 0h1m2 0h1m1 0h1m3 0h7m1 0h6m1 0h1m5 0h3m1 0h1m1 0h1m1 0h3m1 0h1M4 108.5h7m1 0h1m2 0h1m3 0h3m1 0h5m1 0h2m2 0h3m1 0h3m2 0h2m6 0h1m2 0h4m4 0h1m3 0h2m1 0h1m1 0h4m3 0h1m3 0h2m2 0h1m1 0h2m1 0h1m1 0h3m3 0h1m1 0h2m2 0h1\"/></svg>\n"
      ]
     },
     "execution_count": 12,
     "metadata": {},
     "output_type": "execute_result"
    }
   ],
   "source": [
    "var QRCode = require('qrcode')\n",
    "\n",
    "const segments = [\n",
    "    {data: 'shc:/', mode: 'byte'},\n",
    "    {data: numericJWS, mode: 'numeric'}\n",
    "]\n",
    "\n",
    "let qrSVG\n",
    "QRCode.toString(segments,{type: 'svg', errorCorrectionLevel: 'low', version: 22 }).then(function(result){\n",
    "    qrSVG = result\n",
    "    $$.svg(qrSVG)\n",
    "})\n",
    "\n",
    "// Also print as PNG for scanning later on.\n",
    "\n",
    "\n",
    "QRCode.toFile('./qrcode.png', segments, {width: 800, version: 22})"
   ]
  },
  {
   "cell_type": "markdown",
   "id": "tender-viewer",
   "metadata": {},
   "source": [
    "### QR Code Scanning\n",
    "\n",
    "Now let's try and scan the QR Code!"
   ]
  },
  {
   "cell_type": "code",
   "execution_count": 13,
   "id": "inner-enhancement",
   "metadata": {
    "scrolled": true
   },
   "outputs": [
    {
     "name": "stdout",
     "output_type": "stream",
     "text": [
      "Are the QR Codes Equal? true\n",
      "shc:/5676290952432060346029243740446031222959532654603460292540772804336028702864716745222809286474714004450934266373546555033743553152245971374037773677594436055567536237333365452237632907450337423227637032622460573601064131316171672024357441042770045772047220291138602938276660593855653429342077613367086627715332052421425073570323312129672841315362255475630455434143553976225458746752107771434545633977356642645737717667647143444510676168293160335861754438032970266872294132387365005775006255094255746232273066655632053312696106402704506771777155726572336141056408410832540007753768042503760953225958654420505521580973682441614220536052716523320510683406640029602675044254403069430760577774726069362607264037563128346806773050120858557627507404695322620358425622721038352205283106755512696842262320426556627175075766226209257003735837626760347668592057452004666408635031373858305400097254203457272211375776201004590740745940543867663662356560612242335565312441200066361003573959735476595741282169566652126765214467255737712144537563356520436050716064595739326655753925084041047543120027737629046573655737576958646105255920003354522576453461297440747212614053547443634067107262395341762558116629290308404255110521322161080436086132440405322206386438303055216077676600773337205965345675713174567623402456303259693458760467503455565342280765077657063439752503684052643470226042387653580633627669595670626011627341083306683324763443637343225411065721280960102442350943324552317677273450600426006650613174010929292222123306305876113169692637564160426963006655646121607039393231525659113838442357332233564256062975080724005373457260605724286264256435696607092021123231401110317374\n"
     ]
    }
   ],
   "source": [
    "var jsQR = require('jsqr');\n",
    "var PNG = require('pngjs').PNG;\n",
    "\n",
    "\n",
    "imageData = PNG.sync.read(fs.readFileSync('./qrcode.png'))\n",
    "\n",
    "const scannedQR = jsQR(new Uint8ClampedArray(imageData.data.buffer), imageData.width, imageData.height)\n",
    "\n",
    "const qrCodesEqual = scannedQR.data === qrCodeData\n",
    "\n",
    "console.log(\"Are the QR Codes Equal? \" + qrCodesEqual)\n",
    "\n",
    "console.log(scannedQR.data)"
   ]
  },
  {
   "cell_type": "markdown",
   "id": "dense-colleague",
   "metadata": {},
   "source": [
    "### Extracting Data from the QR Code\n",
    "\n",
    "Now let's reverse the process to get the original data back and check the signature. First, let's extract the JWS."
   ]
  },
  {
   "cell_type": "code",
   "execution_count": 14,
   "id": "engaging-shape",
   "metadata": {},
   "outputs": [
    {
     "name": "stdout",
     "output_type": "stream",
     "text": [
      "eyJ6aXAiOiJERUYiLCJhbGciOiJFUzI1NiIsImtpZCI6ImwtU1Z6OGlvcnd0RXdLaEhtRURzQzhYQ2dpbkRNNnZCRlJ4Z0RWMHlsMkEifQ.3VLLjtpAEPwV1Hs1fu1uAJ8SiJSHoihSdnOJOAzjNp5oHtbM2EBW_vf0DLBJpIVLbkFcxl1dXVXdTyCcgwpa7ztXZZlTzPoWmfRtypmtXYZ7pjqJLiNgjxYS0JsGquJVMSvn-fx-kd6WdwkMHKoneM2N9rj3UH1_ptztdunuNjV2m5V5Mc-4xRq1F0y6bChgnYA_dBg6vqEVjWAbiatnDM27qO3m-JiGx1WcUKrX4ifzwuirQG4GUReLIOq3zK_95gdyH_w1rbCk0gWeCu7SPC2IL3xd9rqWGDAWnektx4foCk6Fs0vgRkpiOyqhAfZA1om5l_LRSgKc-6ucAOfHC8RfyA71h4UwhUcSpoQkPnijCWNdnLEVA-oQ70fThvcyhfVIBreoa9pnBYpFfRtBYbxlPnAXi_timhfTModxTF5UV1xX9-HvyJ1nvnfRfrgmj2FhA-NcaFyZOjJwUwu9jUbcwXlUp7ukTbVyFg8oJJ05UWd82BMBj51Q5jMY12MC3SmSKKdBizpo-zNRAhnOextLweyDUEeKMhrOgy1p_OdebWI4n4yf3OTxF0qUamOsCiWSybg3Nkyrheski8kvV5N3qNEyOXlvXCc83fBI6i7EWP6XMZaLyzHO_i1G-o_jLw.6JJCC9N3Kgy8LrrGReViWrl-odmjBisTTMLaeh8SSYDfNCNeWe3Jx54E-bvZuiifEIkmFmPro46AB9MLU87Lvw\n"
     ]
    }
   ],
   "source": [
    "const scannedJWS = scannedQR\n",
    "    .chunks\n",
    "    .filter(chunk => chunk.type === \"numeric\")[0] // Grab the numeric chunk\n",
    "    .text.match(/(..?)/g) // Split into groups of 2 numeric characters each of which represent a single JWS char\n",
    "    .map(num => String.fromCharCode(parseInt(num, 10) + 45)).join('') // Convert from numeric encoding to JWS\n",
    "\n",
    "console.log(scannedJWS)"
   ]
  },
  {
   "cell_type": "markdown",
   "id": "surgical-techno",
   "metadata": {},
   "source": [
    "Next we can verify the signature and extract the payload"
   ]
  },
  {
   "cell_type": "code",
   "execution_count": 15,
   "id": "arabic-infrastructure",
   "metadata": {},
   "outputs": [],
   "source": [
    "let scannedResult;\n",
    "\n",
    "jose.JWS.createVerify(signingKey)\n",
    "    .verify(jws).then(function(result) {\n",
    "    zlib.inflateRaw(result.payload, function(err, decompressedResult){\n",
    "        scannedResult = decompressedResult.toString('utf8')\n",
    "    })\n",
    "})"
   ]
  },
  {
   "cell_type": "code",
   "execution_count": 16,
   "id": "processed-killer",
   "metadata": {},
   "outputs": [
    {
     "data": {
      "text/plain": [
       "'{\"iss\":\"https://smarthealth.cards/examples/issuer\",\"nbf\":1617280859.324,\"vc\":{\"@context\":[\"https://www.w3.org/2018/credentials/v1\"],\"type\":[\"VerifiableCredential\",\"https://smarthealth.cards#health-card\",\"https://smarthealth.cards#immunization\",\"https://smarthealth.cards#covid19\"],\"credentialSubject\":{\"fhirVersion\":\"4.0.1\",\"fhirBundle\":{\"resourceType\":\"Bundle\",\"type\":\"collection\",\"entry\":[{\"fullUrl\":\"resource:0\",\"resource\":{\"resourceType\":\"Patient\",\"name\":[{\"family\":\"Anyperson\",\"given\":[\"John\",\"B.\"]}],\"gender\":\"male\",\"birthDate\":\"1951-01-20\"}},{\"fullUrl\":\"resource:1\",\"resource\":{\"resourceType\":\"Immunization\",\"status\":\"completed\",\"vaccineCode\":{\"coding\":[{\"system\":\"http://hl7.org/fhir/sid/cvx\",\"code\":\"207\"}]},\"patient\":{\"reference\":\"resource:0\"},\"occurrenceDateTime\":\"2021-01-01\",\"lotNumber\":\"Lot #0000001\",\"performer\":[{\"actor\":{\"display\":\"ABC General Hospital\"}}]}},{\"fullUrl\":\"resource:2\",\"resource\":{\"resourceType\":\"Immunization\",\"status\":\"completed\",\"vaccineCode\":{\"coding\":[{\"system\":\"http://hl7.org/fhir/sid/cvx\",\"code\":\"207\"}]},\"patient\":{\"reference\":\"resource:0\"},\"occurrenceDateTime\":\"2021-01-29\",\"lotNumber\":\"Lot #0000007\",\"performer\":[{\"actor\":{\"display\":\"ABC General Hospital\"}}]}}]}}}}'"
      ]
     },
     "execution_count": 16,
     "metadata": {},
     "output_type": "execute_result"
    }
   ],
   "source": [
    "scannedResult"
   ]
  },
  {
   "cell_type": "markdown",
   "id": "interstate-registration",
   "metadata": {},
   "source": [
    "Let's compare this to our original minified payload with whitespace removed"
   ]
  },
  {
   "cell_type": "code",
   "execution_count": 17,
   "id": "least-pregnancy",
   "metadata": {},
   "outputs": [
    {
     "data": {
      "text/plain": [
       "true"
      ]
     },
     "execution_count": 17,
     "metadata": {},
     "output_type": "execute_result"
    }
   ],
   "source": [
    "scannedResult === noWhiteSpaceHealthCard"
   ]
  }
 ],
 "metadata": {
  "kernelspec": {
   "display_name": "Javascript (Node.js)",
   "language": "javascript",
   "name": "javascript"
  },
  "language_info": {
   "file_extension": ".js",
   "mimetype": "application/javascript",
   "name": "javascript",
   "version": "15.12.0"
  }
 },
 "nbformat": 4,
 "nbformat_minor": 5
}
