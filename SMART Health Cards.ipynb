{
 "cells": [
  {
   "cell_type": "markdown",
   "id": "thick-dominican",
   "metadata": {},
   "source": [
    "# SMART Health Cards\n",
    "\n",
    "This notebook is designed to give an overview of [SMART Health Cards Framework](https://smarthealth.cards/) and how it works.\n",
    "\n",
    "\n",
    "This notebook is written in JavaScript and uses the [IJavascript kernel](https://github.com/n-riesco/ijavascript) for Jupyter Notebook."
   ]
  },
  {
   "cell_type": "markdown",
   "id": "portable-reducing",
   "metadata": {},
   "source": [
    "## Walkthrough\n",
    "\n",
    "The high level outline is as follows:\n",
    "* FHIR Bundle is created\n",
    "* FHIR Bundle is minified\n",
    "* SMART Health Card is created from FHIR Bundle\n",
    "* SMART Health Card is encoded as a JWS\n",
    "* Patient Retrieves the SMART Health Cards via:\n",
    "  * File Download\n",
    "  * QR Code\n",
    "  * FHIR API"
   ]
  },
  {
   "cell_type": "markdown",
   "id": "natural-gothic",
   "metadata": {},
   "source": [
    "### The FHIR Bundle\n",
    "\n",
    "A SMART Health Card is composed of a [W3C Verifiable Credential](https://w3c.github.io/vc-data-model/), [encoded as a JWT](https://w3c.github.io/vc-data-model/#jwt-encoding), with a Credential Subject that contains the FHIR version and a FHIR Bundle (See [Modeling W3C Verifiable Credentials in FHIR](https://smarthealth.cards/credential-modeling/).\n",
    "\n",
    "The FHIR Bundle contains the health care information.\n",
    "\n",
    "Let's assume we have the below FHIR Bundle ([Example 0](https://smarthealth.cards/examples/example-00-a-fhirBundle.json) at the time of writing). This FHIR Bundle could be produced in a number of ways, but for now let's imagine that the patient, John B. Anyperson, has just received his second COVID-19 vaccination shot and the healthcare worker entered his information into their system which produced the below in their system."
   ]
  },
  {
   "cell_type": "code",
   "execution_count": 1,
   "id": "useful-reset",
   "metadata": {},
   "outputs": [],
   "source": [
    "const fhirBundle = {\n",
    "  \"resourceType\": \"Bundle\",\n",
    "  \"type\": \"collection\",\n",
    "  \"entry\": [\n",
    "    {\n",
    "      \"fullUrl\": \"resource:0\",\n",
    "      \"resource\": {\n",
    "        \"resourceType\": \"Patient\",\n",
    "        \"name\": [\n",
    "          {\n",
    "            \"family\": \"Anyperson\",\n",
    "            \"given\": [\n",
    "              \"John\",\n",
    "              \"B.\"\n",
    "            ]\n",
    "          }\n",
    "        ],\n",
    "        \"birthDate\": \"1951-01-20\"\n",
    "      }\n",
    "    },\n",
    "    {\n",
    "      \"fullUrl\": \"resource:1\",\n",
    "      \"resource\": {\n",
    "        \"resourceType\": \"Immunization\",\n",
    "        \"status\": \"completed\",\n",
    "        \"vaccineCode\": {\n",
    "          \"coding\": [\n",
    "            {\n",
    "              \"system\": \"http://hl7.org/fhir/sid/cvx\",\n",
    "              \"code\": \"207\"\n",
    "            }\n",
    "          ]\n",
    "        },\n",
    "        \"patient\": {\n",
    "          \"reference\": \"resource:0\"\n",
    "        },\n",
    "        \"occurrenceDateTime\": \"2021-01-01\",\n",
    "        \"performer\": [\n",
    "          {\n",
    "            \"actor\": {\n",
    "              \"display\": \"ABC General Hospital\"\n",
    "            }\n",
    "          }\n",
    "        ],\n",
    "        \"lotNumber\": \"0000001\"\n",
    "      }\n",
    "    },\n",
    "    {\n",
    "      \"fullUrl\": \"resource:2\",\n",
    "      \"resource\": {\n",
    "        \"resourceType\": \"Immunization\",\n",
    "        \"status\": \"completed\",\n",
    "        \"vaccineCode\": {\n",
    "          \"coding\": [\n",
    "            {\n",
    "              \"system\": \"http://hl7.org/fhir/sid/cvx\",\n",
    "              \"code\": \"207\"\n",
    "            }\n",
    "          ]\n",
    "        },\n",
    "        \"patient\": {\n",
    "          \"reference\": \"resource:0\"\n",
    "        },\n",
    "        \"occurrenceDateTime\": \"2021-01-29\",\n",
    "        \"performer\": [\n",
    "          {\n",
    "            \"actor\": {\n",
    "              \"display\": \"ABC General Hospital\"\n",
    "            }\n",
    "          }\n",
    "        ],\n",
    "        \"lotNumber\": \"0000007\"\n",
    "      }\n",
    "    }\n",
    "  ]\n",
    "}"
   ]
  },
  {
   "cell_type": "markdown",
   "id": "found-murray",
   "metadata": {},
   "source": [
    "A couple things to note in the above JSON. This is a Bundle that contains 3 resources: one for the patient, one for the first vaccination, and another for the second vaccination. This Bundle conforms to the requirements laid out in [SMART Health Cards: Vaccination & Testing Implementation Guide](http://build.fhir.org/ig/dvci/vaccine-credential-ig/branches/main/) which defines what resources should be included in the Health Card. Specifically, this is an example of [Vaccine Credential Bundle - Data Minimization](http://build.fhir.org/ig/dvci/vaccine-credential-ig/branches/main/StructureDefinition-vaccine-credential-bundle-dm.html). We'll talk about what \"Data Minimization\" means in a second.\n",
    "\n",
    "Now let's create the \"Expanded Health Card\"."
   ]
  },
  {
   "cell_type": "markdown",
   "id": "excited-fraction",
   "metadata": {},
   "source": [
    "### Expanded Health Card\n",
    "\n",
    "The Expanded Health Card shows what the Health Card looks like before it is minified and serialized using the compact JWS serialization.\n",
    "\n",
    "[Health Cards are encoded as Compact Serialization JSON Web Signatures (JWS)](https://smarthealth.cards/#health-cards-are-encoded-as-compact-serialization-json-web-signatures-jws) and [Modeling W3C Verifiable Credentials in FHIR](https://smarthealth.cards/credential-modeling/) cover this in more detail.\n",
    "\n",
    "Before we get into the details it's important to note that some of the VC properties are mapped to standard JWT fields when using the [JWT encoding](https://w3c.github.io/vc-data-model/#jwt-encoding) (which we are). These include the `iss` and `nbf` fields.\n",
    "\n",
    "Below shows the expanded Health Card for the example:"
   ]
  },
  {
   "cell_type": "code",
   "execution_count": 2,
   "id": "fleet-cream",
   "metadata": {},
   "outputs": [],
   "source": [
    "const expandedHealthCard = {\n",
    "  \"iss\": \"https://smarthealth.cards/examples/issuer\",\n",
    "  \"nbf\": Date.now() / 1000,\n",
    "  \"vc\": {\n",
    "    \"@context\": [\n",
    "      \"https://www.w3.org/2018/credentials/v1\"\n",
    "    ],\n",
    "    \"type\": [\n",
    "      \"VerifiableCredential\",\n",
    "      \"https://smarthealth.cards#health-card\",\n",
    "      \"https://smarthealth.cards#immunization\",\n",
    "      \"https://smarthealth.cards#covid19\"\n",
    "    ],\n",
    "    \"credentialSubject\": {\n",
    "        \"fhirVersion\": \"4.0.1\",\n",
    "        \"fhirBundle\": fhirBundle\n",
    "    }\n",
    "  }\n",
    "}"
   ]
  },
  {
   "cell_type": "markdown",
   "id": "interpreted-estate",
   "metadata": {},
   "source": [
    "Let's talk about the three root fields:\n",
    "\n",
    "`iss` - This represents the [Issuer](https://w3c.github.io/vc-data-model/#issuer)\n",
    "  * Note this property is represented by `iss` according to the [JWT Encoding Rules](https://w3c.github.io/vc-data-model/#jwt-encoding)\n",
    "\n",
    "`nbf` - This represents the [IssuanceDate](https://w3c.github.io/vc-data-model/#issuance-date)\n",
    "  * Note this property is represented by `nbf`.\n",
    "\n",
    "`vc` - This represents the VC claim minus all the unmapped fields (`iss` and `nbf`)\n",
    "\n",
    "\n",
    "TODO: Fill out the rest of these properties"
   ]
  },
  {
   "cell_type": "markdown",
   "id": "related-cruise",
   "metadata": {},
   "source": [
    "### Health Cards are Small\n",
    "\n",
    "SMART Health Cards can be issued on pieces of paper via QR Codes. This introduces some unique size constraints in order to keep the number and size of QR codes manageable. When using and applying SMART Health Cards, it's important to keep them small.\n",
    "\n",
    "The SMART Health Card spec requires that [the JWS payload is minified and compressed](https://smarthealth.cards/#health-cards-are-small) in order to reduce payload size.\n",
    "\n",
    "SMART Health Cards are designed to be be atomic and shared as a whole. Information within the Health Card cannot be removed without affecting the verifiability of the Health Card. This imposes a privacy challenge when too much information is included in a single Health Card.\n",
    "\n",
    "The \"Data Minimization\" profiles in the IG are designed to address these size and privacy concerns by ensuring the FHIR profiles only require the minimal set of information to achieve the desired results.\n",
    "\n",
    "Below the JWS Payload (i.e. the \"Expanded Health Card\") is compressed according to the spec:"
   ]
  },
  {
   "cell_type": "code",
   "execution_count": 3,
   "id": "seasonal-begin",
   "metadata": {
    "scrolled": true
   },
   "outputs": [
    {
     "name": "stdout",
     "output_type": "stream",
     "text": [
      "{\"iss\":\"https://smarthealth.cards/examples/issuer\",\"nbf\":1637688554.797,\"vc\":{\"@context\":[\"https://www.w3.org/2018/credentials/v1\"],\"type\":[\"VerifiableCredential\",\"https://smarthealth.cards#health-card\",\"https://smarthealth.cards#immunization\",\"https://smarthealth.cards#covid19\"],\"credentialSubject\":{\"fhirVersion\":\"4.0.1\",\"fhirBundle\":{\"resourceType\":\"Bundle\",\"type\":\"collection\",\"entry\":[{\"fullUrl\":\"resource:0\",\"resource\":{\"resourceType\":\"Patient\",\"name\":[{\"family\":\"Anyperson\",\"given\":[\"John\",\"B.\"]}],\"birthDate\":\"1951-01-20\"}},{\"fullUrl\":\"resource:1\",\"resource\":{\"resourceType\":\"Immunization\",\"status\":\"completed\",\"vaccineCode\":{\"coding\":[{\"system\":\"http://hl7.org/fhir/sid/cvx\",\"code\":\"207\"}]},\"patient\":{\"reference\":\"resource:0\"},\"occurrenceDateTime\":\"2021-01-01\",\"performer\":[{\"actor\":{\"display\":\"ABC General Hospital\"}}],\"lotNumber\":\"0000001\"}},{\"fullUrl\":\"resource:2\",\"resource\":{\"resourceType\":\"Immunization\",\"status\":\"completed\",\"vaccineCode\":{\"coding\":[{\"system\":\"http://hl7.org/fhir/sid/cvx\",\"code\":\"207\"}]},\"patient\":{\"reference\":\"resource:0\"},\"occurrenceDateTime\":\"2021-01-29\",\"performer\":[{\"actor\":{\"display\":\"ABC General Hospital\"}}],\"lotNumber\":\"0000007\"}}]}}}}\n"
     ]
    }
   ],
   "source": [
    "// Remove the optional whitespace\n",
    "const noWhiteSpaceHealthCard = JSON.stringify(expandedHealthCard)\n",
    "console.log(noWhiteSpaceHealthCard)"
   ]
  },
  {
   "cell_type": "code",
   "execution_count": 4,
   "id": "divine-casino",
   "metadata": {},
   "outputs": [],
   "source": [
    "// Normally we'd remove some of the fhirBundle elements at \n",
    "// this step ( e.g. Resource.id, Resource.meta, CodebableConcept.text).\n",
    "// These are already missing from the original payload, so we'll skip that here\n",
    "\n",
    "// Compress the payload with DEFLATE, omitting any zlib headers\n",
    "\n",
    "const compressedPayload = zlib.deflateRawSync(noWhiteSpaceHealthCard)"
   ]
  },
  {
   "cell_type": "markdown",
   "id": "southwest-output",
   "metadata": {},
   "source": [
    "### Creating the Signed Health Card\n",
    "\n",
    "Now that we have the compressed payload we can sign it as a JWS. First, let's create the key pair for signing and verifying."
   ]
  },
  {
   "cell_type": "code",
   "execution_count": 5,
   "id": "wanted-mistress",
   "metadata": {},
   "outputs": [],
   "source": [
    "var jose = require('node-jose');\n",
    "\n",
    "const keystore = jose.JWK.createKeyStore()\n",
    "\n",
    "let signingKey;\n",
    "\n",
    "keystore.generate(\"EC\", \"P-256\").\n",
    "        then(function(result) {\n",
    "          // {result} is a jose.JWK.Key\n",
    "          signingKey = result;\n",
    "        });"
   ]
  },
  {
   "cell_type": "code",
   "execution_count": 6,
   "id": "characteristic-directory",
   "metadata": {},
   "outputs": [
    {
     "data": {
      "text/plain": [
       "{\n",
       "  keys: [\n",
       "    {\n",
       "      kty: 'EC',\n",
       "      kid: 'MB37kSq4DlFCGJ1o5KULAWxENypxtraxgDAy9wlmP7I',\n",
       "      crv: 'P-256',\n",
       "      x: 'mGKMMuKfUvwTjegwjAbJx3DkCZ1fpKLaKkx7SEzwhiA',\n",
       "      y: 'TGRWo8oqWM-4f4XxmkpgBW-YRBMzUBytMzQSox4Viqw',\n",
       "      d: 'uLVMBgXUMg5XJjxrUrfCzqszaZ6p5wlT_vNW61cONkU'\n",
       "    }\n",
       "  ]\n",
       "}"
      ]
     },
     "execution_count": 6,
     "metadata": {},
     "output_type": "execute_result"
    }
   ],
   "source": [
    "// Print the entire key store, including the `d` member which contains the private key value\n",
    "// Remove true to just present the public key\n",
    "// See: https://tools.ietf.org/id/draft-jones-jose-json-private-and-symmetric-key-00.html#rfc.section.3.1.1\n",
    "keystore.toJSON(true);"
   ]
  },
  {
   "cell_type": "markdown",
   "id": "ordered-preserve",
   "metadata": {},
   "source": [
    "With a signing key in hand we can create the JWS:"
   ]
  },
  {
   "cell_type": "code",
   "execution_count": 7,
   "id": "fantastic-absorption",
   "metadata": {},
   "outputs": [
    {
     "name": "stdout",
     "output_type": "stream",
     "text": [
      "eyJ6aXAiOiJERUYiLCJhbGciOiJFUzI1NiIsImtpZCI6Ik1CMzdrU3E0RGxGQ0dKMW81S1VMQVd4RU55cHh0cmF4Z0RBeTl3bG1QN0kifQ.3VJNj9MwEP0rq-Ha5mu3mzYnaJH4OCAkFi6oB9eZNkaOHdlO2rLKf2fGbReQdnvihG9jv3nz3vM8gvIeKmhC6HyVpr4VLjQodGgSKVztUzyIttPoUwL26GACZrOFKr-_Le_n89nsLikX5QQGCdUjvJbWBDwEqL4_Ue73-2R_m1i3S4ssn6fSYY0mKKF9OuSwnkA4dsgd39CprRIbjasnDM17UdurUzHl4ipOtW1v1E8RlDVXgdIOqs4XLOq3zC_95gfKwP62jXKk0jNPBXdJluTEx7fL3tQaGePQ295JfIiu4PxwcQnSak1sJyU0wB3JOjH3Wn91mgCX_iojwKV4hvgz2aF-_hDR4olEtEoTH7wxhHE-ztipAQ3H-9E2XC8TWI9kcKPI_FsRmCtfzPJplk-LDMZx8qya_LqaD39H7IMIvY92eXsC8gcNQkplcGXryCBtrcwuCvdHH7A97yH9TKPLuDCcbOpVncrhQAQydkKRlTCuxwl05wiinC06NKztzwQJZKXsXXxisw-qPVEU0XDGtiiqrXUtLTdrETJYx5S18p0WMc7l6uYdGnRC37y3vlOBFnPkELUNn_p2w62QxZO_mGDxXyZYLP51giU_jHR-AQ.XdZOnOpEtNWhtlpq4-4iAItwRBD2AXu12nwGPGFlUkH5xvGU99HC4vwqxKOCij5KcACBzYxmHpupZ9mUKTjU2g\n"
     ]
    }
   ],
   "source": [
    "const fields = { zip: 'DEF' }\n",
    "\n",
    "let jws;\n",
    "\n",
    "jose.JWS.createSign({ format: 'compact', fields }, signingKey)\n",
    "    .update(Buffer.from(compressedPayload))\n",
    "    .final()\n",
    "    .then(function(result) {\n",
    "        jws = result;\n",
    "        console.log(jws)\n",
    "});"
   ]
  },
  {
   "cell_type": "markdown",
   "id": "pediatric-pressing",
   "metadata": {},
   "source": [
    "Now that we have the JWS we should check that we can actually verify the signature"
   ]
  },
  {
   "cell_type": "code",
   "execution_count": 8,
   "id": "difficult-packing",
   "metadata": {},
   "outputs": [
    {
     "name": "stdout",
     "output_type": "stream",
     "text": [
      "{\n",
      "  protected: [ 'zip', 'alg', 'kid' ],\n",
      "  header: {\n",
      "    zip: 'DEF',\n",
      "    alg: 'ES256',\n",
      "    kid: 'MB37kSq4DlFCGJ1o5KULAWxENypxtraxgDAy9wlmP7I'\n",
      "  },\n",
      "  payload: <Buffer dd 52 4d 8f d3 30 10 fd 2b ab e1 da e6 6b b7 9b 36 27 68 91 f8 38 20 24 16 2e a8 07 d7 99 36 46 8e 1d d9 4e da b2 ca 7f 67 c6 6d 17 90 76 7b e2 84 6f ... 416 more bytes>,\n",
      "  signature: <Buffer 5d d6 4e 9c ea 44 b4 d5 a1 b6 5a 6a e3 ee 22 00 8b 70 44 10 f6 01 7b b5 da 7c 06 3c 61 65 52 41 f9 c6 f1 94 f7 d1 c2 e2 fc 2a c4 a3 82 8a 3e 4a 70 00 ... 14 more bytes>,\n",
      "  key: JWKBaseKeyObject {\n",
      "    keystore: JWKStore {},\n",
      "    length: 256,\n",
      "    kty: 'EC',\n",
      "    kid: 'MB37kSq4DlFCGJ1o5KULAWxENypxtraxgDAy9wlmP7I',\n",
      "    use: '',\n",
      "    alg: ''\n",
      "  }\n",
      "}\n"
     ]
    }
   ],
   "source": [
    "jose.JWS.createVerify(signingKey)\n",
    "    .verify(jws).then(function(result) {\n",
    "    console.log(result)\n",
    "})"
   ]
  },
  {
   "cell_type": "markdown",
   "id": "discrete-morrison",
   "metadata": {},
   "source": [
    "Let's also create a fake key and test with that to make sure we aren't getting a false positive"
   ]
  },
  {
   "cell_type": "code",
   "execution_count": 9,
   "id": "biological-consumer",
   "metadata": {},
   "outputs": [],
   "source": [
    "let fakeKey;\n",
    "\n",
    "keystore.generate(\"EC\", \"P-256\").\n",
    "        then(function(result) {\n",
    "          // {result} is a jose.JWK.Key\n",
    "          fakeKey = result;\n",
    "        });"
   ]
  },
  {
   "cell_type": "code",
   "execution_count": 10,
   "id": "modern-label",
   "metadata": {},
   "outputs": [
    {
     "ename": "Error",
     "evalue": "no key found",
     "output_type": "error",
     "traceback": [
      "Error: no key found",
      "    at processSig (/Users/smcdougall/vci/health-cards-walkthrough/node_modules/node-jose/lib/jws/verify.js:131:22)",
      "    at processTicksAndRejections (node:internal/process/task_queues:96:5)"
     ]
    }
   ],
   "source": [
    "// Note \"Error: no key found\" is the generic error message for keys that won't decrypt\n",
    "// See: https://github.com/cisco/node-jose/issues/262\n",
    "jose.JWS.createVerify(fakeKey)\n",
    "    .verify(jws).then(function(result) {\n",
    "    console.log(result)\n",
    "})"
   ]
  },
  {
   "cell_type": "markdown",
   "id": "surrounded-conditioning",
   "metadata": {},
   "source": [
    "### QR Code Generation\n",
    "\n",
    "Now that we have a JWS we can turn that into a QR Code which can be scanned. We do not need to worry about chunking just yet since the payload is below the 1195 character threshold in this example, but we will include the chunking code to show how the process works for larger examples.\n",
    "\n",
    "As part of our design, we want to keep the `errorCorrectionLevel` to be `'low'`. "
   ]
  },
  {
   "cell_type": "code",
   "execution_count": 11,
   "id": "c1e7ef6c",
   "metadata": {},
   "outputs": [],
   "source": [
    "const MAX_SINGLE_JWS_SIZE = 1195;\n",
    "const MAX_CHUNK_SIZE = 1191;\n",
    "const splitJwsIntoChunks = (jws) => {\n",
    "  if (jws.length <= MAX_SINGLE_JWS_SIZE) {\n",
    "    return [jws];\n",
    "  }\n",
    "\n",
    "  // Try to split the chunks into roughly equal sizes.\n",
    "  const chunkCount = Math.ceil(jws.length / MAX_CHUNK_SIZE);\n",
    "  const chunkSize = Math.ceil(jws.length / chunkCount);\n",
    "  const chunks = jws.match(new RegExp(`.{1,${chunkSize}}`, 'g'));\n",
    "  return chunks || [];\n",
    "}"
   ]
  },
  {
   "cell_type": "code",
   "execution_count": 12,
   "id": "presidential-turkey",
   "metadata": {},
   "outputs": [
    {
     "data": {
      "image/svg+xml": [
       "<svg xmlns=\"http://www.w3.org/2000/svg\" viewBox=\"0 0 97 97\" shape-rendering=\"crispEdges\"><path fill=\"#ffffff\" d=\"M0 0h97v97H0z\"/><path stroke=\"#000000\" d=\"M4 4.5h7m3 0h1m2 0h1m1 0h1m2 0h1m1 0h3m2 0h2m2 0h3m1 0h3m3 0h3m4 0h3m1 0h1m2 0h1m3 0h1m7 0h1m1 0h3m2 0h1m1 0h3m1 0h3m1 0h7M4 5.5h1m5 0h1m2 0h3m4 0h1m6 0h3m2 0h2m2 0h2m3 0h2m1 0h1m1 0h2m1 0h4m1 0h2m2 0h1m2 0h1m7 0h1m1 0h5m1 0h1m1 0h1m3 0h1m2 0h1m5 0h1M4 6.5h1m1 0h3m1 0h1m3 0h2m1 0h1m3 0h2m1 0h2m6 0h1m1 0h1m1 0h2m2 0h1m2 0h1m1 0h5m1 0h2m3 0h2m1 0h3m1 0h2m1 0h2m1 0h5m2 0h3m1 0h2m4 0h1m1 0h3m1 0h1M4 7.5h1m1 0h3m1 0h1m1 0h1m1 0h1m5 0h1m2 0h1m7 0h3m1 0h1m1 0h7m1 0h3m1 0h1m1 0h1m1 0h1m13 0h4m1 0h5m1 0h5m1 0h1m1 0h1m1 0h3m1 0h1M4 8.5h1m1 0h3m1 0h1m1 0h1m1 0h1m2 0h1m2 0h2m2 0h2m1 0h4m1 0h6m1 0h1m1 0h2m5 0h1m2 0h3m4 0h6m3 0h1m2 0h3m1 0h3m1 0h2m3 0h1m2 0h1m1 0h3m1 0h1M4 9.5h1m5 0h1m2 0h1m3 0h1m1 0h3m1 0h1m1 0h2m1 0h2m1 0h2m3 0h2m3 0h2m1 0h1m3 0h1m1 0h1m7 0h1m3 0h1m4 0h1m5 0h1m4 0h2m1 0h1m1 0h1m2 0h1m5 0h1M4 10.5h7m1 0h1m1 0h1m1 0h1m1 0h1m1 0h1m1 0h1m1 0h1m1 0h1m1 0h1m1 0h1m1 0h1m1 0h1m1 0h1m1 0h1m1 0h1m1 0h1m1 0h1m1 0h1m1 0h1m1 0h1m1 0h1m1 0h1m1 0h1m1 0h1m1 0h1m1 0h1m1 0h1m1 0h1m1 0h1m1 0h1m1 0h1m1 0h1m1 0h1m1 0h1m1 0h1m1 0h1m1 0h1m1 0h7M14 11.5h6m1 0h4m2 0h1m1 0h1m1 0h2m3 0h4m1 0h2m3 0h2m4 0h1m2 0h1m2 0h1m3 0h1m1 0h2m2 0h1m1 0h2m6 0h5M4 12.5h2m3 0h3m1 0h1m1 0h1m3 0h2m2 0h1m1 0h1m2 0h2m2 0h5m1 0h1m1 0h3m1 0h5m2 0h1m1 0h3m2 0h6m2 0h2m2 0h2m2 0h1m3 0h4m6 0h2M4 13.5h2m5 0h2m2 0h3m3 0h2m3 0h4m6 0h1m3 0h2m1 0h6m1 0h1m1 0h3m3 0h3m4 0h1m1 0h5m1 0h2m1 0h2m2 0h4m2 0h2m2 0h3M5 14.5h2m1 0h1m1 0h2m1 0h2m2 0h1m1 0h1m1 0h1m3 0h3m1 0h2m2 0h1m1 0h2m2 0h1m2 0h3m3 0h3m1 0h1m2 0h1m2 0h6m1 0h1m3 0h2m2 0h1m2 0h2m2 0h1m2 0h1m3 0h4m1 0h1M5 15.5h3m6 0h2m3 0h1m5 0h1m1 0h4m1 0h4m1 0h3m1 0h4m2 0h3m3 0h1m1 0h1m4 0h2m2 0h3m1 0h3m1 0h1m2 0h2m4 0h1m4 0h1m1 0h1M5 16.5h2m1 0h4m8 0h2m1 0h4m3 0h1m1 0h1m1 0h1m1 0h2m1 0h4m5 0h2m2 0h3m4 0h2m1 0h4m2 0h1m1 0h1m2 0h1m3 0h1m1 0h1m1 0h1m1 0h4m1 0h4M5 17.5h2m1 0h1m2 0h4m4 0h1m1 0h1m2 0h1m3 0h1m1 0h3m1 0h1m2 0h1m2 0h1m2 0h4m2 0h1m1 0h1m2 0h2m2 0h2m1 0h1m2 0h1m3 0h1m1 0h3m2 0h1m2 0h1m1 0h3m1 0h1m1 0h2m2 0h1m1 0h1M4 18.5h2m2 0h1m1 0h1m1 0h1m1 0h1m2 0h3m7 0h1m3 0h1m1 0h1m1 0h1m1 0h2m1 0h2m1 0h6m3 0h3m6 0h3m3 0h1m5 0h3m1 0h2m1 0h1m4 0h2m1 0h1M8 19.5h2m1 0h2m2 0h3m1 0h1m2 0h1m1 0h1m1 0h1m3 0h1m5 0h1m4 0h2m1 0h1m2 0h1m2 0h2m4 0h3m2 0h1m1 0h2m1 0h1m2 0h1m3 0h1m3 0h3m1 0h2m1 0h1m4 0h3M6 20.5h2m1 0h2m5 0h1m2 0h1m3 0h4m2 0h1m1 0h1m1 0h3m4 0h1m1 0h1m1 0h2m7 0h2m2 0h1m7 0h3m2 0h2m1 0h2m1 0h1m1 0h1m1 0h1m1 0h1m3 0h1m1 0h1m1 0h2M6 21.5h1m1 0h2m1 0h1m5 0h2m2 0h7m4 0h3m1 0h2m1 0h2m2 0h1m2 0h1m1 0h2m1 0h2m1 0h2m2 0h4m1 0h1m4 0h1m3 0h1m1 0h1m4 0h1m2 0h2m1 0h2m1 0h4M4 22.5h7m1 0h3m3 0h1m2 0h1m1 0h1m2 0h3m2 0h2m3 0h3m4 0h1m2 0h2m2 0h2m2 0h2m1 0h6m3 0h2m3 0h2m1 0h1m1 0h1m4 0h1m2 0h1m1 0h5M4 23.5h2m3 0h1m5 0h2m3 0h2m1 0h1m2 0h4m1 0h2m7 0h2m3 0h1m1 0h4m1 0h1m3 0h3m1 0h1m1 0h1m1 0h3m1 0h2m1 0h1m2 0h6m7 0h1m4 0h1M6 24.5h1m3 0h2m1 0h1m7 0h1m1 0h2m1 0h1m2 0h2m2 0h1m2 0h2m1 0h1m1 0h2m2 0h1m1 0h3m1 0h1m2 0h2m1 0h2m2 0h1m2 0h1m1 0h1m2 0h2m1 0h6m4 0h8M6 25.5h2m1 0h1m1 0h1m1 0h7m1 0h1m2 0h5m1 0h3m1 0h5m2 0h1m1 0h1m4 0h1m1 0h1m1 0h1m3 0h7m1 0h6m1 0h2m1 0h1m3 0h2m1 0h2m1 0h1m3 0h4M4 26.5h10m1 0h2m2 0h1m3 0h1m2 0h2m1 0h2m1 0h1m4 0h1m1 0h1m2 0h2m1 0h1m2 0h1m2 0h2m3 0h1m1 0h2m6 0h3m1 0h1m1 0h2m3 0h1m1 0h2m1 0h5m3 0h2M5 27.5h3m3 0h7m1 0h3m5 0h1m4 0h1m2 0h2m1 0h1m3 0h1m6 0h1m2 0h3m2 0h2m1 0h1m3 0h2m2 0h2m4 0h2m3 0h2m1 0h1m1 0h2m1 0h1m2 0h1M4 28.5h1m1 0h1m3 0h1m3 0h2m6 0h2m1 0h1m1 0h3m2 0h1m1 0h3m1 0h10m1 0h3m1 0h13m2 0h1m1 0h2m2 0h1m1 0h2m1 0h2m1 0h3m2 0h4m1 0h1M5 29.5h5m1 0h2m3 0h1m1 0h4m1 0h1m2 0h2m1 0h2m2 0h2m1 0h1m3 0h1m1 0h1m4 0h4m1 0h2m5 0h1m5 0h4m2 0h1m3 0h1m6 0h1m1 0h2m1 0h1m2 0h2M5 30.5h3m2 0h4m2 0h4m1 0h1m1 0h2m1 0h5m1 0h1m1 0h1m1 0h1m1 0h3m1 0h10m4 0h2m3 0h1m1 0h3m3 0h1m1 0h3m1 0h1m1 0h1m1 0h1m1 0h2m3 0h1m1 0h1m2 0h2M6 31.5h1m1 0h1m2 0h1m2 0h3m1 0h1m1 0h4m1 0h1m1 0h5m1 0h1m2 0h2m1 0h2m3 0h2m2 0h1m1 0h1m1 0h4m2 0h1m3 0h3m1 0h1m3 0h4m1 0h2m2 0h5m5 0h3M4 32.5h1m3 0h5m1 0h3m1 0h2m1 0h2m4 0h1m1 0h1m1 0h8m3 0h1m1 0h3m3 0h2m1 0h10m1 0h1m2 0h3m1 0h1m1 0h1m2 0h1m1 0h2m1 0h1m2 0h5m1 0h3M5 33.5h4m3 0h1m1 0h3m4 0h1m2 0h1m1 0h2m4 0h1m3 0h5m1 0h2m1 0h2m1 0h1m3 0h2m3 0h2m3 0h5m1 0h4m2 0h1m1 0h1m1 0h1m4 0h2m3 0h5M4 34.5h1m2 0h2m1 0h1m1 0h1m1 0h1m7 0h5m1 0h2m2 0h1m1 0h1m1 0h5m5 0h2m1 0h1m1 0h1m1 0h4m1 0h1m1 0h1m1 0h1m5 0h2m1 0h1m2 0h1m1 0h1m3 0h1m1 0h3m1 0h1m1 0h3M4 35.5h1m1 0h1m1 0h1m3 0h1m2 0h3m9 0h1m1 0h2m1 0h1m3 0h4m5 0h1m1 0h1m1 0h1m2 0h1m2 0h4m3 0h1m1 0h1m1 0h1m3 0h2m2 0h1m1 0h2m2 0h2m2 0h1m3 0h1m1 0h2M4 36.5h1m1 0h8m1 0h2m1 0h2m1 0h1m2 0h1m2 0h1m3 0h7m3 0h1m1 0h1m2 0h1m1 0h5m1 0h1m1 0h1m1 0h5m2 0h1m1 0h1m3 0h3m10 0h6M4 37.5h2m2 0h2m1 0h2m2 0h1m1 0h4m3 0h1m1 0h1m1 0h1m4 0h1m2 0h1m2 0h1m3 0h4m1 0h2m2 0h2m2 0h1m4 0h1m2 0h1m2 0h2m1 0h2m1 0h1m1 0h2m1 0h4m1 0h1m1 0h1m4 0h3M4 38.5h1m2 0h4m4 0h1m1 0h4m1 0h1m3 0h1m1 0h1m4 0h2m1 0h2m4 0h1m1 0h1m1 0h2m1 0h2m5 0h1m2 0h1m3 0h4m1 0h3m2 0h5m1 0h2m1 0h3m1 0h1m3 0h1M5 39.5h1m1 0h2m6 0h2m1 0h5m1 0h4m4 0h1m1 0h1m1 0h1m1 0h2m1 0h1m4 0h1m2 0h2m2 0h2m2 0h1m4 0h2m1 0h2m1 0h3m1 0h1m1 0h1m1 0h2m2 0h1m1 0h1m2 0h1m2 0h1m1 0h2M7 40.5h1m2 0h1m6 0h1m1 0h2m1 0h1m1 0h2m1 0h1m1 0h1m2 0h1m1 0h1m6 0h1m2 0h1m1 0h3m1 0h1m1 0h4m2 0h2m2 0h2m4 0h1m7 0h1m1 0h2m2 0h1m2 0h1m2 0h1m3 0h1M7 41.5h2m3 0h4m2 0h3m1 0h2m4 0h1m3 0h1m3 0h1m1 0h1m1 0h2m4 0h1m3 0h1m2 0h1m1 0h2m1 0h1m1 0h1m6 0h3m2 0h2m1 0h1m1 0h1m3 0h1m3 0h3m2 0h3M5 42.5h2m1 0h1m1 0h1m1 0h10m1 0h3m1 0h1m2 0h1m3 0h2m2 0h3m2 0h2m4 0h2m1 0h1m2 0h4m3 0h1m1 0h2m1 0h2m1 0h4m1 0h2m1 0h3m3 0h5m1 0h1M6 43.5h1m4 0h1m2 0h2m1 0h1m1 0h1m3 0h1m2 0h1m2 0h2m3 0h1m2 0h1m4 0h1m2 0h2m2 0h2m1 0h1m3 0h1m1 0h1m1 0h4m1 0h5m2 0h1m1 0h1m2 0h1m1 0h2m1 0h2m2 0h1m2 0h4M4 44.5h7m2 0h2m3 0h1m3 0h2m1 0h1m3 0h3m1 0h2m1 0h1m4 0h1m4 0h2m2 0h1m1 0h6m1 0h1m2 0h2m1 0h1m1 0h2m1 0h1m1 0h4m1 0h1m6 0h1m2 0h2M4 45.5h1m1 0h1m8 0h3m1 0h2m2 0h2m1 0h1m3 0h5m3 0h3m2 0h3m1 0h1m1 0h1m1 0h1m1 0h1m3 0h4m3 0h1m3 0h1m1 0h2m2 0h1m6 0h2m6 0h1m1 0h2M5 46.5h1m2 0h4m1 0h3m1 0h1m2 0h1m2 0h1m1 0h1m1 0h2m1 0h2m1 0h1m3 0h1m2 0h1m6 0h2m1 0h2m1 0h1m1 0h2m2 0h11m1 0h1m1 0h1m1 0h1m1 0h1m2 0h1m2 0h3m1 0h4m1 0h1M13 47.5h1m3 0h2m2 0h3m1 0h1m5 0h2m3 0h2m1 0h2m1 0h1m2 0h2m1 0h2m1 0h3m1 0h2m3 0h1m7 0h3m1 0h1m1 0h1m2 0h1m4 0h2m1 0h2m4 0h2M5 48.5h2m3 0h1m2 0h2m2 0h2m1 0h1m1 0h1m2 0h2m1 0h3m4 0h2m1 0h1m1 0h2m1 0h4m2 0h2m1 0h1m4 0h2m1 0h2m2 0h1m1 0h4m3 0h2m3 0h2m1 0h3m1 0h1m1 0h3M4 49.5h3m1 0h2m2 0h2m1 0h4m3 0h1m1 0h3m6 0h2m2 0h1m1 0h3m2 0h1m2 0h1m2 0h4m2 0h3m2 0h3m2 0h1m1 0h5m3 0h1m5 0h1m6 0h3M5 50.5h3m2 0h6m2 0h2m2 0h1m3 0h1m1 0h3m1 0h3m1 0h1m3 0h3m1 0h1m6 0h1m1 0h1m1 0h3m2 0h1m1 0h3m3 0h1m2 0h3m1 0h1m2 0h1m4 0h2m1 0h4m2 0h1M5 51.5h5m4 0h1m1 0h3m6 0h1m4 0h2m2 0h1m1 0h2m1 0h1m3 0h1m5 0h1m4 0h4m2 0h1m4 0h1m2 0h1m5 0h4m3 0h2m2 0h2m1 0h2M4 52.5h3m2 0h6m1 0h1m1 0h4m1 0h1m3 0h2m1 0h1m1 0h1m1 0h3m3 0h1m3 0h2m2 0h1m3 0h4m2 0h2m2 0h2m3 0h2m2 0h4m1 0h1m1 0h1m2 0h2m2 0h1m2 0h2m1 0h2M4 53.5h1m2 0h1m1 0h1m2 0h3m3 0h3m4 0h2m1 0h1m1 0h2m2 0h1m1 0h1m3 0h4m6 0h4m2 0h1m1 0h2m4 0h5m1 0h3m1 0h1m2 0h1m1 0h1m3 0h1m1 0h1m1 0h2m2 0h2M5 54.5h1m1 0h1m1 0h2m1 0h1m1 0h5m1 0h3m2 0h1m5 0h4m2 0h3m5 0h3m2 0h3m1 0h5m1 0h1m1 0h1m4 0h1m4 0h2m2 0h1m4 0h1m1 0h1m2 0h1m1 0h4M4 55.5h1m1 0h1m1 0h2m1 0h1m3 0h1m1 0h3m2 0h3m1 0h2m2 0h3m5 0h2m1 0h3m3 0h1m3 0h1m2 0h1m1 0h1m2 0h1m2 0h1m3 0h3m1 0h3m1 0h2m2 0h1m2 0h2m1 0h1m1 0h2m2 0h1m1 0h1M10 56.5h3m5 0h2m1 0h1m2 0h3m1 0h1m1 0h2m1 0h2m5 0h1m7 0h2m2 0h2m2 0h1m2 0h4m1 0h1m2 0h4m4 0h1m1 0h4m1 0h1m2 0h1m2 0h4M4 57.5h2m1 0h2m4 0h3m2 0h4m1 0h1m5 0h3m4 0h1m4 0h2m4 0h1m1 0h2m1 0h1m1 0h1m3 0h1m1 0h1m1 0h1m1 0h1m4 0h2m4 0h3m2 0h2m1 0h3m2 0h1m1 0h1m1 0h1M4 58.5h3m1 0h6m5 0h1m2 0h1m7 0h7m1 0h1m3 0h1m1 0h1m1 0h1m3 0h1m3 0h1m1 0h1m1 0h7m1 0h1m1 0h1m1 0h1m1 0h1m2 0h3m2 0h1m3 0h5m3 0h1M4 59.5h2m1 0h2m3 0h1m1 0h1m4 0h3m1 0h1m2 0h1m1 0h1m1 0h1m1 0h1m3 0h1m3 0h1m1 0h2m2 0h4m1 0h1m2 0h5m3 0h2m2 0h1m2 0h1m4 0h1m1 0h1m5 0h3m3 0h1m1 0h1M6 60.5h1m1 0h1m1 0h1m1 0h1m4 0h1m1 0h1m1 0h1m2 0h1m1 0h2m2 0h3m1 0h1m1 0h1m1 0h2m1 0h1m3 0h1m1 0h1m1 0h1m2 0h1m1 0h5m1 0h1m1 0h1m7 0h1m1 0h1m2 0h1m2 0h1m1 0h2m1 0h2m1 0h1m1 0h1m1 0h2M4 61.5h1m1 0h1m1 0h1m3 0h2m7 0h2m1 0h1m2 0h1m1 0h1m2 0h1m3 0h1m2 0h2m1 0h2m1 0h1m1 0h1m2 0h3m1 0h1m1 0h1m1 0h1m3 0h2m2 0h6m1 0h1m1 0h4m3 0h3m3 0h1m1 0h2M5 62.5h8m2 0h1m3 0h2m1 0h1m1 0h6m1 0h6m4 0h2m5 0h1m2 0h2m5 0h5m1 0h3m3 0h3m1 0h1m1 0h2m2 0h1m1 0h1m1 0h5m2 0h1M5 63.5h1m1 0h1m1 0h1m4 0h1m2 0h1m2 0h1m3 0h1m3 0h5m1 0h4m5 0h2m1 0h1m1 0h4m3 0h2m4 0h1m7 0h3m1 0h2m3 0h5m2 0h4m1 0h1M4 64.5h4m1 0h2m1 0h2m2 0h2m4 0h2m1 0h2m3 0h2m1 0h1m1 0h5m1 0h1m1 0h1m3 0h1m3 0h1m1 0h1m3 0h2m4 0h1m2 0h1m1 0h1m2 0h1m1 0h2m1 0h2m1 0h1m2 0h2m2 0h1m3 0h1M4 65.5h1m2 0h2m3 0h2m1 0h3m5 0h1m2 0h3m1 0h1m2 0h1m1 0h1m1 0h1m1 0h1m3 0h1m1 0h1m2 0h1m2 0h1m5 0h2m1 0h2m2 0h3m4 0h2m1 0h1m1 0h2m1 0h1m2 0h4m2 0h1m1 0h1M4 66.5h1m2 0h1m1 0h4m1 0h2m5 0h1m2 0h4m1 0h1m2 0h3m1 0h2m2 0h1m1 0h4m1 0h1m1 0h1m1 0h2m1 0h1m1 0h1m2 0h3m3 0h4m1 0h1m2 0h5m1 0h1m1 0h1m1 0h1m1 0h2m1 0h2m1 0h1M4 67.5h1m3 0h2m2 0h1m3 0h4m2 0h2m2 0h3m1 0h4m1 0h2m3 0h1m1 0h2m2 0h2m3 0h2m1 0h1m1 0h2m2 0h1m4 0h2m4 0h7m2 0h3m3 0h5m1 0h1M4 68.5h1m3 0h6m3 0h3m1 0h1m3 0h1m2 0h1m5 0h1m1 0h1m2 0h1m2 0h3m6 0h2m2 0h2m1 0h1m3 0h1m1 0h1m2 0h2m1 0h2m1 0h1m2 0h1m3 0h5m2 0h1m1 0h1m1 0h1M4 69.5h1m7 0h4m4 0h1m1 0h1m2 0h2m7 0h1m1 0h5m1 0h1m1 0h6m2 0h1m1 0h3m2 0h5m1 0h3m3 0h4m2 0h2m1 0h3m2 0h1m1 0h1m1 0h3M4 70.5h2m3 0h2m2 0h2m2 0h1m1 0h2m2 0h1m2 0h1m2 0h2m4 0h1m4 0h8m1 0h2m1 0h1m2 0h1m1 0h2m1 0h1m1 0h3m1 0h2m2 0h1m2 0h4m2 0h4m3 0h4m1 0h1M5 71.5h2m1 0h2m1 0h1m4 0h1m1 0h1m1 0h1m1 0h2m1 0h1m1 0h2m1 0h1m3 0h2m1 0h1m2 0h3m1 0h2m2 0h1m2 0h1m2 0h1m1 0h1m3 0h2m2 0h4m6 0h2m2 0h1m1 0h1m1 0h1m3 0h1m2 0h1m1 0h1M4 72.5h2m4 0h3m1 0h5m1 0h2m2 0h1m1 0h1m4 0h2m1 0h1m4 0h1m1 0h2m4 0h2m3 0h3m2 0h2m1 0h3m1 0h1m3 0h1m1 0h2m1 0h1m3 0h1m1 0h1m2 0h2m2 0h1m1 0h1m2 0h1M5 73.5h1m1 0h2m2 0h2m1 0h4m3 0h2m1 0h5m3 0h3m1 0h1m5 0h2m3 0h2m3 0h2m2 0h4m2 0h2m14 0h2m2 0h1m3 0h1m2 0h1M5 74.5h6m1 0h1m3 0h1m1 0h3m3 0h2m1 0h1m1 0h1m1 0h3m1 0h1m1 0h1m1 0h1m1 0h1m1 0h1m1 0h2m1 0h3m3 0h2m2 0h1m1 0h1m1 0h2m2 0h1m1 0h3m5 0h1m1 0h1m1 0h3m1 0h1m1 0h3m1 0h1m1 0h1M5 75.5h4m2 0h7m4 0h2m1 0h1m1 0h4m3 0h1m2 0h1m1 0h2m5 0h1m1 0h1m1 0h1m3 0h1m1 0h1m1 0h1m4 0h3m2 0h1m3 0h7m2 0h1m1 0h1m4 0h5M4 76.5h2m1 0h4m1 0h1m1 0h1m1 0h3m1 0h1m3 0h3m1 0h2m1 0h2m1 0h1m1 0h2m1 0h2m2 0h1m2 0h1m1 0h1m3 0h2m1 0h3m1 0h2m1 0h1m3 0h1m1 0h1m2 0h1m2 0h2m1 0h2m3 0h1m5 0h3m1 0h1M5 77.5h1m1 0h2m7 0h2m1 0h1m2 0h1m4 0h2m1 0h2m2 0h1m4 0h2m1 0h1m3 0h2m2 0h2m2 0h1m2 0h2m1 0h6m3 0h1m2 0h7m2 0h1m6 0h1m1 0h1M4 78.5h1m1 0h3m1 0h1m1 0h2m1 0h2m2 0h2m1 0h2m2 0h2m2 0h3m1 0h1m1 0h8m3 0h1m1 0h2m3 0h1m3 0h3m2 0h1m3 0h2m1 0h5m1 0h2m1 0h1m2 0h1m2 0h1m1 0h1m2 0h2M4 79.5h1m1 0h1m1 0h2m1 0h1m5 0h2m1 0h1m2 0h1m1 0h1m1 0h1m1 0h2m3 0h2m1 0h1m2 0h2m2 0h6m1 0h1m5 0h1m1 0h2m4 0h4m2 0h1m4 0h1m1 0h3m2 0h5m2 0h2M4 80.5h7m3 0h2m1 0h1m2 0h1m7 0h1m2 0h3m1 0h10m1 0h1m1 0h1m2 0h1m2 0h1m2 0h1m1 0h1m2 0h3m2 0h3m1 0h1m1 0h1m1 0h2m3 0h1m2 0h3m1 0h1m2 0h1m1 0h1M4 81.5h1m1 0h1m1 0h2m1 0h3m4 0h3m1 0h1m1 0h1m1 0h1m1 0h1m1 0h3m3 0h4m3 0h3m1 0h1m1 0h2m2 0h2m2 0h2m1 0h2m1 0h2m1 0h1m1 0h1m2 0h1m3 0h3m2 0h2m1 0h1m1 0h4M4 82.5h1m2 0h1m2 0h2m1 0h3m1 0h1m2 0h2m1 0h4m1 0h1m1 0h1m4 0h1m1 0h2m2 0h3m1 0h6m5 0h4m2 0h1m6 0h1m1 0h6m1 0h2m1 0h2m1 0h5m2 0h1M4 83.5h2m2 0h2m2 0h3m1 0h2m2 0h1m4 0h2m1 0h1m1 0h1m1 0h1m1 0h4m1 0h1m1 0h1m1 0h2m1 0h2m1 0h1m4 0h5m3 0h1m3 0h5m1 0h2m3 0h1m2 0h2m2 0h3m4 0h2M4 84.5h1m2 0h1m2 0h1m1 0h1m1 0h1m2 0h2m2 0h4m2 0h1m2 0h1m1 0h5m2 0h1m1 0h1m2 0h1m1 0h1m2 0h1m3 0h1m1 0h1m1 0h7m2 0h8m2 0h4m4 0h5m2 0h2M12 85.5h1m1 0h3m5 0h1m2 0h1m3 0h1m2 0h1m3 0h1m3 0h1m2 0h2m2 0h2m1 0h1m2 0h2m3 0h1m3 0h1m2 0h1m8 0h2m5 0h1m2 0h1m3 0h2M4 86.5h7m1 0h5m1 0h3m3 0h3m1 0h1m1 0h3m1 0h1m1 0h13m1 0h1m1 0h3m2 0h2m1 0h1m1 0h1m2 0h1m6 0h3m2 0h2m5 0h1m1 0h1m1 0h4M4 87.5h1m5 0h1m1 0h1m1 0h1m2 0h1m2 0h3m3 0h3m2 0h2m3 0h2m3 0h4m1 0h2m1 0h2m6 0h2m3 0h1m4 0h1m1 0h1m6 0h1m2 0h3m1 0h2m3 0h4M4 88.5h1m1 0h3m1 0h1m2 0h2m1 0h3m1 0h2m2 0h1m3 0h2m2 0h5m1 0h2m1 0h1m4 0h5m1 0h1m2 0h8m1 0h2m4 0h1m1 0h1m1 0h2m2 0h2m1 0h8m1 0h2M4 89.5h1m1 0h3m1 0h1m5 0h3m2 0h4m1 0h2m3 0h3m1 0h1m2 0h2m3 0h1m1 0h1m1 0h1m2 0h2m2 0h1m2 0h4m1 0h1m1 0h1m4 0h3m9 0h3m4 0h3M4 90.5h1m1 0h3m1 0h1m2 0h3m2 0h2m1 0h3m1 0h2m3 0h3m1 0h1m2 0h3m3 0h1m1 0h2m1 0h1m1 0h1m6 0h6m1 0h1m3 0h1m5 0h1m3 0h1m2 0h3m1 0h3m3 0h1M4 91.5h1m5 0h1m1 0h1m1 0h2m5 0h1m1 0h1m2 0h3m1 0h2m1 0h1m1 0h1m1 0h2m2 0h4m1 0h4m2 0h1m1 0h5m1 0h1m1 0h3m3 0h1m3 0h3m1 0h2m1 0h5m2 0h1m1 0h2m2 0h1M4 92.5h7m1 0h1m1 0h1m2 0h1m1 0h1m1 0h3m3 0h3m1 0h1m4 0h1m3 0h2m2 0h6m5 0h1m1 0h1m3 0h1m1 0h1m3 0h3m2 0h4m1 0h1m4 0h2m3 0h3\"/></svg>\n"
      ]
     },
     "execution_count": 12,
     "metadata": {},
     "output_type": "execute_result"
    }
   ],
   "source": [
    "// Create array of chunks to convert into numeric mode QRs\n",
    "var QRCode = require('qrcode')\n",
    "const jwsChunks = splitJwsIntoChunks(jws);\n",
    "\n",
    "// Save QR code data for future comparison with scanned QR Code\n",
    "let qrCodesData = [];\n",
    "\n",
    "jwsChunks.forEach(async function(jwsChunk, i) {\n",
    "    // This code snippet was adapted/taken from https://github.com/smart-on-fhir/health-cards/blob/152a4f83b223b5fd14027f765e957e290649f2c0/generate-examples/src/index.ts#L173\n",
    "    const numericJWS = await jws.split('')\n",
    "        .map((c) => c.charCodeAt(0) - 45)\n",
    "        .flatMap((c) => [Math.floor(c / 10), c % 10]) //Need to maintain leading zeros\n",
    "        .join('')\n",
    "\n",
    "    const qrCodeData = 'shc:/' + numericJWS\n",
    "    \n",
    "    qrCodesData.push(qrCodeData);\n",
    "    \n",
    "    const segments = [\n",
    "    {data: 'shc:/', mode: 'byte'},\n",
    "    {data: numericJWS, mode: 'numeric'}\n",
    "    ]\n",
    "\n",
    "    let qrSVG\n",
    "    // QR code version will default to smallest possible version\n",
    "    await QRCode.toString(segments,{type: 'svg', errorCorrectionLevel: 'low'}).then(function(result){\n",
    "        qrSVG = result\n",
    "        $$.svg(qrSVG)\n",
    "    })\n",
    "\n",
    "    // Also print as PNG for scanning later on.\n",
    "\n",
    "    await QRCode.toFile(`./js_qrcode${i}.png`, segments, {width: 800})\n",
    "});"
   ]
  },
  {
   "cell_type": "markdown",
   "id": "undefined-telephone",
   "metadata": {},
   "source": [
    "The above shows what the value of the QR code will be, with the leading `byte` segment and the `numeric` segment following"
   ]
  },
  {
   "cell_type": "markdown",
   "id": "tender-viewer",
   "metadata": {},
   "source": [
    "### QR Code Scanning\n",
    "\n",
    "Now let's try and scan the QR Code!"
   ]
  },
  {
   "cell_type": "code",
   "execution_count": 13,
   "id": "inner-enhancement",
   "metadata": {
    "scrolled": true
   },
   "outputs": [
    {
     "name": "stdout",
     "output_type": "stream",
     "text": [
      "Are the QR Codes Equal? true\n",
      "shc:/567629095243206034602924374044603122295953265460346029254077280433602870286471674522280928620422327755694006240337267526360355303242110438044132364155073740080854275903546425074503372156396306532604363303626057360106412933611232742435036968002752086472066477446552292707342220622560096621125645336252342755633405693130570557265337563655657360592612617306657706733211587328563064592209277641676907413161366655265838304177714077762871713566407431050926202245693425306900503156506511126570316062430836362622554061732953422123742468310750405610060005375064046006380770706509573844440364303025123472387465622007557058550612226769372853615270652332041040557269407727630760673471420473042411376323414358552834687007433134680677225012085857307435090561433062036133352143552963723924751057310671365226563536051208295728607207357574543665385262047029764003742106293461270642651204645822435060666174304107597358770552250050592337076663247124663927107475592724007771606720360627001224054322113942281262543035285025703764227157773529676362003123324575116876525031685223061227102832287344120556437022115854333662676354264369762221716954747222735527271020121076271239303531722322545334674165546959362036765562303763392272757463030874606065220309333077717774362945304370434375607074006835412440034323267160606869434071313955692439294475083804116703423254106309724455266537220610760673633421256535622431403365506705740905367545345064262375437645443135080458604050612737002036014355453465346724713342597163676807000760202871743721230520437204056574263526256340622708757326401212272207737468753034226061083054202221774475642767726745126440303961400558\n"
     ]
    }
   ],
   "source": [
    "var jsQR = require('jsqr');\n",
    "var PNG = require('pngjs').PNG;\n",
    "\n",
    "imageData = PNG.sync.read(fs.readFileSync('./js_qrcode0.png'))\n",
    "\n",
    "const scannedQR = jsQR(new Uint8ClampedArray(imageData.data.buffer), imageData.width, imageData.height)\n",
    "\n",
    "const qrCodesEqual = scannedQR.data === qrCodesData[0]\n",
    "\n",
    "console.log(\"Are the QR Codes Equal? \" + qrCodesEqual)\n",
    "\n",
    "console.log(scannedQR.data)"
   ]
  },
  {
   "cell_type": "markdown",
   "id": "dense-colleague",
   "metadata": {},
   "source": [
    "### Extracting Data from the QR Code\n",
    "\n",
    "Now let's reverse the process to get the original data back and check the signature. First, let's extract the JWS."
   ]
  },
  {
   "cell_type": "code",
   "execution_count": 14,
   "id": "engaging-shape",
   "metadata": {},
   "outputs": [
    {
     "name": "stdout",
     "output_type": "stream",
     "text": [
      "eyJ6aXAiOiJERUYiLCJhbGciOiJFUzI1NiIsImtpZCI6Ik1CMzdrU3E0RGxGQ0dKMW81S1VMQVd4RU55cHh0cmF4Z0RBeTl3bG1QN0kifQ.3VJNj9MwEP0rq-Ha5mu3mzYnaJH4OCAkFi6oB9eZNkaOHdlO2rLKf2fGbReQdnvihG9jv3nz3vM8gvIeKmhC6HyVpr4VLjQodGgSKVztUzyIttPoUwL26GACZrOFKr-_Le_n89nsLikX5QQGCdUjvJbWBDwEqL4_Ue73-2R_m1i3S4ssn6fSYY0mKKF9OuSwnkA4dsgd39CprRIbjasnDM17UdurUzHl4ipOtW1v1E8RlDVXgdIOqs4XLOq3zC_95gfKwP62jXKk0jNPBXdJluTEx7fL3tQaGePQ295JfIiu4PxwcQnSak1sJyU0wB3JOjH3Wn91mgCX_iojwKV4hvgz2aF-_hDR4olEtEoTH7wxhHE-ztipAQ3H-9E2XC8TWI9kcKPI_FsRmCtfzPJplk-LDMZx8qya_LqaD39H7IMIvY92eXsC8gcNQkplcGXryCBtrcwuCvdHH7A97yH9TKPLuDCcbOpVncrhQAQydkKRlTCuxwl05wiinC06NKztzwQJZKXsXXxisw-qPVEU0XDGtiiqrXUtLTdrETJYx5S18p0WMc7l6uYdGnRC37y3vlOBFnPkELUNn_p2w62QxZO_mGDxXyZYLP51giU_jHR-AQ.XdZOnOpEtNWhtlpq4-4iAItwRBD2AXu12nwGPGFlUkH5xvGU99HC4vwqxKOCij5KcACBzYxmHpupZ9mUKTjU2g\n"
     ]
    }
   ],
   "source": [
    "const scannedJWS = scannedQR\n",
    "    .chunks\n",
    "    .filter(chunk => chunk.type === \"numeric\")[0] // Grab the numeric chunk\n",
    "    .text.match(/(..?)/g) // Split into groups of 2 numeric characters each of which represent a single JWS char\n",
    "    .map(num => String.fromCharCode(parseInt(num, 10) + 45)).join('') // Convert from numeric encoding to JWS\n",
    "\n",
    "console.log(scannedJWS)"
   ]
  },
  {
   "cell_type": "markdown",
   "id": "surgical-techno",
   "metadata": {},
   "source": [
    "Next we can verify the signature and extract the payload"
   ]
  },
  {
   "cell_type": "code",
   "execution_count": 15,
   "id": "arabic-infrastructure",
   "metadata": {},
   "outputs": [],
   "source": [
    "let scannedResult;\n",
    "\n",
    "jose.JWS.createVerify(signingKey)\n",
    "    .verify(scannedJWS).then(function(result) {\n",
    "    zlib.inflateRaw(result.payload, function(err, decompressedResult){\n",
    "        scannedResult = decompressedResult.toString('utf8')\n",
    "    })\n",
    "})"
   ]
  },
  {
   "cell_type": "code",
   "execution_count": 16,
   "id": "processed-killer",
   "metadata": {},
   "outputs": [
    {
     "data": {
      "text/plain": [
       "'{\"iss\":\"https://smarthealth.cards/examples/issuer\",\"nbf\":1637688554.797,\"vc\":{\"@context\":[\"https://www.w3.org/2018/credentials/v1\"],\"type\":[\"VerifiableCredential\",\"https://smarthealth.cards#health-card\",\"https://smarthealth.cards#immunization\",\"https://smarthealth.cards#covid19\"],\"credentialSubject\":{\"fhirVersion\":\"4.0.1\",\"fhirBundle\":{\"resourceType\":\"Bundle\",\"type\":\"collection\",\"entry\":[{\"fullUrl\":\"resource:0\",\"resource\":{\"resourceType\":\"Patient\",\"name\":[{\"family\":\"Anyperson\",\"given\":[\"John\",\"B.\"]}],\"birthDate\":\"1951-01-20\"}},{\"fullUrl\":\"resource:1\",\"resource\":{\"resourceType\":\"Immunization\",\"status\":\"completed\",\"vaccineCode\":{\"coding\":[{\"system\":\"http://hl7.org/fhir/sid/cvx\",\"code\":\"207\"}]},\"patient\":{\"reference\":\"resource:0\"},\"occurrenceDateTime\":\"2021-01-01\",\"performer\":[{\"actor\":{\"display\":\"ABC General Hospital\"}}],\"lotNumber\":\"0000001\"}},{\"fullUrl\":\"resource:2\",\"resource\":{\"resourceType\":\"Immunization\",\"status\":\"completed\",\"vaccineCode\":{\"coding\":[{\"system\":\"http://hl7.org/fhir/sid/cvx\",\"code\":\"207\"}]},\"patient\":{\"reference\":\"resource:0\"},\"occurrenceDateTime\":\"2021-01-29\",\"performer\":[{\"actor\":{\"display\":\"ABC General Hospital\"}}],\"lotNumber\":\"0000007\"}}]}}}}'"
      ]
     },
     "execution_count": 16,
     "metadata": {},
     "output_type": "execute_result"
    }
   ],
   "source": [
    "scannedResult"
   ]
  },
  {
   "cell_type": "markdown",
   "id": "interstate-registration",
   "metadata": {},
   "source": [
    "Let's compare this to our original minified payload with whitespace removed"
   ]
  },
  {
   "cell_type": "code",
   "execution_count": 17,
   "id": "least-pregnancy",
   "metadata": {},
   "outputs": [
    {
     "data": {
      "text/plain": [
       "true"
      ]
     },
     "execution_count": 17,
     "metadata": {},
     "output_type": "execute_result"
    }
   ],
   "source": [
    "scannedResult === noWhiteSpaceHealthCard"
   ]
  },
  {
   "cell_type": "markdown",
   "id": "partial-confidentiality",
   "metadata": {},
   "source": [
    "Finally, lets print the entries for easy inspection."
   ]
  },
  {
   "cell_type": "code",
   "execution_count": 18,
   "id": "quick-disaster",
   "metadata": {},
   "outputs": [
    {
     "name": "stdout",
     "output_type": "stream",
     "text": [
      "{\n",
      "  \"fullUrl\": \"resource:0\",\n",
      "  \"resource\": {\n",
      "    \"resourceType\": \"Patient\",\n",
      "    \"name\": [\n",
      "      {\n",
      "        \"family\": \"Anyperson\",\n",
      "        \"given\": [\n",
      "          \"John\",\n",
      "          \"B.\"\n",
      "        ]\n",
      "      }\n",
      "    ],\n",
      "    \"birthDate\": \"1951-01-20\"\n",
      "  }\n",
      "}\n",
      "{\n",
      "  \"fullUrl\": \"resource:1\",\n",
      "  \"resource\": {\n",
      "    \"resourceType\": \"Immunization\",\n",
      "    \"status\": \"completed\",\n",
      "    \"vaccineCode\": {\n",
      "      \"coding\": [\n",
      "        {\n",
      "          \"system\": \"http://hl7.org/fhir/sid/cvx\",\n",
      "          \"code\": \"207\"\n",
      "        }\n",
      "      ]\n",
      "    },\n",
      "    \"patient\": {\n",
      "      \"reference\": \"resource:0\"\n",
      "    },\n",
      "    \"occurrenceDateTime\": \"2021-01-01\",\n",
      "    \"performer\": [\n",
      "      {\n",
      "        \"actor\": {\n",
      "          \"display\": \"ABC General Hospital\"\n",
      "        }\n",
      "      }\n",
      "    ],\n",
      "    \"lotNumber\": \"0000001\"\n",
      "  }\n",
      "}\n",
      "{\n",
      "  \"fullUrl\": \"resource:2\",\n",
      "  \"resource\": {\n",
      "    \"resourceType\": \"Immunization\",\n",
      "    \"status\": \"completed\",\n",
      "    \"vaccineCode\": {\n",
      "      \"coding\": [\n",
      "        {\n",
      "          \"system\": \"http://hl7.org/fhir/sid/cvx\",\n",
      "          \"code\": \"207\"\n",
      "        }\n",
      "      ]\n",
      "    },\n",
      "    \"patient\": {\n",
      "      \"reference\": \"resource:0\"\n",
      "    },\n",
      "    \"occurrenceDateTime\": \"2021-01-29\",\n",
      "    \"performer\": [\n",
      "      {\n",
      "        \"actor\": {\n",
      "          \"display\": \"ABC General Hospital\"\n",
      "        }\n",
      "      }\n",
      "    ],\n",
      "    \"lotNumber\": \"0000007\"\n",
      "  }\n",
      "}\n"
     ]
    }
   ],
   "source": [
    "const entries = JSON.parse(scannedResult)\n",
    "    .vc.credentialSubject.fhirBundle.entry\n",
    "    .map(entry => console.log(JSON.stringify(entry, null, 2)))"
   ]
  },
  {
   "cell_type": "code",
   "execution_count": null,
   "id": "b57126a1",
   "metadata": {},
   "outputs": [],
   "source": []
  }
 ],
 "metadata": {
  "kernelspec": {
   "display_name": "Javascript (Node.js)",
   "language": "javascript",
   "name": "javascript"
  },
  "language_info": {
   "file_extension": ".js",
   "mimetype": "application/javascript",
   "name": "javascript",
   "version": "16.6.1"
  }
 },
 "nbformat": 4,
 "nbformat_minor": 5
}
