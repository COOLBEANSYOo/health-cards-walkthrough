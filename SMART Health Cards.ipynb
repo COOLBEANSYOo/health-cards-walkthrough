{
 "cells": [
  {
   "cell_type": "markdown",
   "id": "8f614bec",
   "metadata": {},
   "source": [
    "# SMART Health Cards\n",
    "\n",
    "This notebook is designed to give an overview of [SMART Health Cards Framework](https://smarthealth.cards/) and how it works.\n",
    "\n",
    "\n",
    "This notebook is written in JavaScript and uses the [IJavascript kernel](https://github.com/n-riesco/ijavascript) for Jupyter Notebook."
   ]
  },
  {
   "cell_type": "markdown",
   "id": "f1c4a414",
   "metadata": {},
   "source": [
    "### The FHIR Bundle\n",
    "\n",
    "A SMART Health Card is composed of a [W3C Verifiable Credential](https://w3c.github.io/vc-data-model/), [encoded as a JWT](https://w3c.github.io/vc-data-model/#jwt-encoding), with a Credential Subject that contains the FHIR version and a FHIR Bundle (See [Modeling W3C Verifiable Credentials in FHIR](https://smarthealth.cards/credential-modeling/).\n",
    "\n",
    "The FHIR Bundle contains the health care information.\n",
    "\n",
    "Let's assume we have the below FHIR Bundle ([Example 0](https://smarthealth.cards/examples/example-00-a-fhirBundle.json) at the time of writing). This FHIR Bundle could be produced in a number of ways, but for now let's imagine that the patient, John B. Anyperson, has just received his second COVID-19 vaccination shot and the healthcare worker entered his information into their system which produced the below in their system."
   ]
  },
  {
   "cell_type": "markdown",
   "id": "bbb2714b",
   "metadata": {},
   "source": [
    "## Walkthrough\n",
    "\n",
    "The high level outline is as follows:\n",
    "* FHIR Bundle is created\n",
    "* FHIR Bundle is minified\n",
    "* SMART Health Card is created from FHIR Bundle\n",
    "* SMART Health Card is encoded as a JWS\n",
    "* Patient Retrieves the SMART Health Cards via:\n",
    "  * File Download\n",
    "  * QR Code\n",
    "  * FHIR API"
   ]
  },
  {
   "cell_type": "code",
   "execution_count": 1,
   "id": "351bd62e",
   "metadata": {},
   "outputs": [],
   "source": [
    "const fhirBundle = {\n",
    "  resourceType: \"Bundle\",\n",
    "  type: \"collection\",\n",
    "  entry: [\n",
    "    {\n",
    "      fullUrl: \"resource:0\",\n",
    "      resource: {\n",
    "        resourceType: \"Patient\",\n",
    "        name: [\n",
    "          {\n",
    "            family: \"Anyperson\",\n",
    "            given: [\"John\", \"B.\"],\n",
    "          },\n",
    "        ],\n",
    "        birthDate: \"1951-01-20\",\n",
    "      },\n",
    "    },\n",
    "    {\n",
    "      fullUrl: \"resource:1\",\n",
    "      resource: {\n",
    "        resourceType: \"Immunization\",\n",
    "        status: \"completed\",\n",
    "        vaccineCode: {\n",
    "          coding: [\n",
    "            {\n",
    "              system: \"http://hl7.org/fhir/sid/cvx\",\n",
    "              code: \"207\",\n",
    "            },\n",
    "          ],\n",
    "        },\n",
    "        patient: {\n",
    "          reference: \"resource:0\",\n",
    "        },\n",
    "        occurrenceDateTime: \"2021-01-01\",\n",
    "        performer: [\n",
    "          {\n",
    "            actor: {\n",
    "              display: \"ABC General Hospital\",\n",
    "            },\n",
    "          },\n",
    "        ],\n",
    "        lotNumber: \"0000001\",\n",
    "      },\n",
    "    },\n",
    "    {\n",
    "      fullUrl: \"resource:2\",\n",
    "      resource: {\n",
    "        resourceType: \"Immunization\",\n",
    "        status: \"completed\",\n",
    "        vaccineCode: {\n",
    "          coding: [\n",
    "            {\n",
    "              system: \"http://hl7.org/fhir/sid/cvx\",\n",
    "              code: \"207\",\n",
    "            },\n",
    "          ],\n",
    "        },\n",
    "        patient: {\n",
    "          reference: \"resource:0\",\n",
    "        },\n",
    "        occurrenceDateTime: \"2021-01-29\",\n",
    "        performer: [\n",
    "          {\n",
    "            actor: {\n",
    "              display: \"ABC General Hospital\",\n",
    "            },\n",
    "          },\n",
    "        ],\n",
    "        lotNumber: \"0000007\",\n",
    "      },\n",
    "    },\n",
    "  ],\n",
    "};\n"
   ]
  },
  {
   "cell_type": "markdown",
   "id": "5dd42909",
   "metadata": {},
   "source": [
    "A couple things to note in the above JSON. This is a Bundle that contains 3 resources: one for the patient, one for the first vaccination, and another for the second vaccination. This Bundle conforms to the requirements laid out in [SMART Health Cards: Vaccination & Testing Implementation Guide](http://build.fhir.org/ig/dvci/vaccine-credential-ig/branches/main/) which defines what resources should be included in the Health Card. Specifically, this is an example of [Vaccine Credential Bundle - Data Minimization](http://build.fhir.org/ig/dvci/vaccine-credential-ig/branches/main/StructureDefinition-vaccine-credential-bundle-dm.html). We'll talk about what \"Data Minimization\" means in a second.\n",
    "\n",
    "Now let's create the \"Expanded Health Card\"."
   ]
  },
  {
   "cell_type": "markdown",
   "id": "bbe0b7d8",
   "metadata": {},
   "source": [
    "### Expanded Health Card\n",
    "\n",
    "The Expanded Health Card shows what the Health Card looks like before it is minified and serialized using the compact JWS serialization.\n",
    "\n",
    "[Health Cards are encoded as Compact Serialization JSON Web Signatures (JWS)](https://smarthealth.cards/#health-cards-are-encoded-as-compact-serialization-json-web-signatures-jws) and [Modeling W3C Verifiable Credentials in FHIR](https://smarthealth.cards/credential-modeling/) cover this in more detail.\n",
    "\n",
    "Before we get into the details it's important to note that some of the VC properties are mapped to standard JWT fields when using the [JWT encoding](https://w3c.github.io/vc-data-model/#jwt-encoding) (which we are). These include the `iss` and `nbf` fields.\n",
    "\n",
    "Below shows the expanded Health Card for the example:"
   ]
  },
  {
   "cell_type": "code",
   "execution_count": 2,
   "id": "98cd2b03",
   "metadata": {},
   "outputs": [],
   "source": [
    "const expandedHealthCard = {\n",
    "  \"iss\": \"https://smarthealth.cards/examples/issuer\",\n",
    "  \"nbf\": Date.now() / 1000,\n",
    "  \"vc\": {\n",
    "    \"@context\": [\n",
    "      \"https://www.w3.org/2018/credentials/v1\"\n",
    "    ],\n",
    "    \"type\": [\n",
    "      \"VerifiableCredential\",\n",
    "      \"https://smarthealth.cards#health-card\",\n",
    "      \"https://smarthealth.cards#immunization\",\n",
    "      \"https://smarthealth.cards#covid19\"\n",
    "    ],\n",
    "    \"credentialSubject\": {\n",
    "        \"fhirVersion\": \"4.0.1\",\n",
    "        \"fhirBundle\": fhirBundle\n",
    "    }\n",
    "  }\n",
    "}"
   ]
  },
  {
   "cell_type": "markdown",
   "id": "38d9fa97",
   "metadata": {},
   "source": [
    "Let's talk about the three root fields:\n",
    "\n",
    "`iss` - This represents the [Issuer](https://w3c.github.io/vc-data-model/#issuer)\n",
    "  * Note this property is represented by `iss` according to the [JWT Encoding Rules](https://w3c.github.io/vc-data-model/#jwt-encoding)\n",
    "\n",
    "`nbf` - This represents the [IssuanceDate](https://w3c.github.io/vc-data-model/#issuance-date)\n",
    "  * Note this property is represented by `nbf`.\n",
    "\n",
    "`vc` - This represents the VC claim minus all the unmapped fields (`iss` and `nbf`)\n",
    "\n",
    "\n",
    "TODO: Fill out the rest of these properties"
   ]
  },
  {
   "cell_type": "markdown",
   "id": "81490578",
   "metadata": {},
   "source": [
    "### Health Cards are Small\n",
    "\n",
    "SMART Health Cards can be issued on pieces of paper via QR Codes. This introduces some unique size constraints in order to keep the number and size of QR codes manageable. When using and applying SMART Health Cards, it's important to keep them small.\n",
    "\n",
    "The SMART Health Card spec requires that [the JWS payload is minified and compressed](https://smarthealth.cards/#health-cards-are-small) in order to reduce payload size.\n",
    "\n",
    "SMART Health Cards are designed to be be atomic and shared as a whole. Information within the Health Card cannot be removed without affecting the verifiability of the Health Card. This imposes a privacy challenge when too much information is included in a single Health Card.\n",
    "\n",
    "The \"Data Minimization\" profiles in the IG are designed to address these size and privacy concerns by ensuring the FHIR profiles only require the minimal set of information to achieve the desired results.\n",
    "\n",
    "Below the JWS Payload (i.e. the \"Expanded Health Card\") is compressed according to the spec:"
   ]
  },
  {
   "cell_type": "code",
   "execution_count": 3,
   "id": "c7ceae98",
   "metadata": {
    "scrolled": true
   },
   "outputs": [
    {
     "name": "stdout",
     "output_type": "stream",
     "text": [
      "{\"iss\":\"https://smarthealth.cards/examples/issuer\",\"nbf\":1632578427.472,\"vc\":{\"@context\":[\"https://www.w3.org/2018/credentials/v1\"],\"type\":[\"VerifiableCredential\",\"https://smarthealth.cards#health-card\",\"https://smarthealth.cards#immunization\",\"https://smarthealth.cards#covid19\"],\"credentialSubject\":{\"fhirVersion\":\"4.0.1\",\"fhirBundle\":{\"resourceType\":\"Bundle\",\"type\":\"collection\",\"entry\":[{\"fullUrl\":\"resource:0\",\"resource\":{\"resourceType\":\"Patient\",\"name\":[{\"family\":\"Anyperson\",\"given\":[\"John\",\"B.\"]}],\"birthDate\":\"1951-01-20\"}},{\"fullUrl\":\"resource:1\",\"resource\":{\"resourceType\":\"Immunization\",\"status\":\"completed\",\"vaccineCode\":{\"coding\":[{\"system\":\"http://hl7.org/fhir/sid/cvx\",\"code\":\"207\"}]},\"patient\":{\"reference\":\"resource:0\"},\"occurrenceDateTime\":\"2021-01-01\",\"performer\":[{\"actor\":{\"display\":\"ABC General Hospital\"}}],\"lotNumber\":\"0000001\"}},{\"fullUrl\":\"resource:2\",\"resource\":{\"resourceType\":\"Immunization\",\"status\":\"completed\",\"vaccineCode\":{\"coding\":[{\"system\":\"http://hl7.org/fhir/sid/cvx\",\"code\":\"207\"}]},\"patient\":{\"reference\":\"resource:0\"},\"occurrenceDateTime\":\"2021-01-29\",\"performer\":[{\"actor\":{\"display\":\"ABC General Hospital\"}}],\"lotNumber\":\"0000007\"}}]}}}}\n"
     ]
    }
   ],
   "source": [
    "// Remove the optional whitespace\n",
    "const noWhiteSpaceHealthCard = JSON.stringify(expandedHealthCard)\n",
    "console.log(noWhiteSpaceHealthCard)"
   ]
  },
  {
   "cell_type": "code",
   "execution_count": 4,
   "id": "278225c9",
   "metadata": {},
   "outputs": [],
   "source": [
    "// Normally we'd remove some of the fhirBundle elements at \n",
    "// this step ( e.g. Resource.id, Resource.meta, CodebableConcept.text).\n",
    "// These are already missing from the original payload, so we'll skip that here\n",
    "\n",
    "// Compress the payload with DEFLATE, omitting any zlib headers\n",
    "\n",
    "const compressedPayload = zlib.deflateRawSync(noWhiteSpaceHealthCard)"
   ]
  },
  {
   "cell_type": "markdown",
   "id": "dcff1810",
   "metadata": {},
   "source": [
    "### Creating the Signed Health Card\n",
    "\n",
    "Now that we have the compressed payload we can sign it as a JWS. First, let's create the key pair for signing and verifying."
   ]
  },
  {
   "cell_type": "code",
   "execution_count": 5,
   "id": "b5f83999",
   "metadata": {},
   "outputs": [],
   "source": [
    "var jose = require('node-jose');\n",
    "\n",
    "const keystore = jose.JWK.createKeyStore()\n",
    "\n",
    "let signingKey;\n",
    "\n",
    "keystore.generate(\"EC\", \"P-256\").\n",
    "        then(function(result) {\n",
    "          // {result} is a jose.JWK.Key\n",
    "          signingKey = result;\n",
    "        });"
   ]
  },
  {
   "cell_type": "code",
   "execution_count": 6,
   "id": "f1f96574",
   "metadata": {},
   "outputs": [
    {
     "data": {
      "text/plain": [
       "{\n",
       "  keys: [\n",
       "    {\n",
       "      kty: 'EC',\n",
       "      kid: 'vfBH4-CtLiyaZ3_1NmkClN5K9XDUFAjXH9aFwKg7Ujo',\n",
       "      crv: 'P-256',\n",
       "      x: 'KpZIu1G3ghpXT5R15oR4ggvYQ02BdXxqAV-L78Ya-UI',\n",
       "      y: 'u7TuYC-QiwHOSN3cRVyQdQV9CkGVnrFyCT-gus91V98',\n",
       "      d: 'NuCVPiyPrYwFeRR7Oog2iGd5qJpSfMKE7W_3Mng2u2o'\n",
       "    }\n",
       "  ]\n",
       "}"
      ]
     },
     "execution_count": 6,
     "metadata": {},
     "output_type": "execute_result"
    }
   ],
   "source": [
    "// Print the entire key store, including the `d` member which contains the private key value\n",
    "// Remove true to just present the public key\n",
    "// See: https://tools.ietf.org/id/draft-jones-jose-json-private-and-symmetric-key-00.html#rfc.section.3.1.1\n",
    "keystore.toJSON(true);"
   ]
  },
  {
   "cell_type": "markdown",
   "id": "410cac2b",
   "metadata": {},
   "source": [
    "With a signing key in hand we can create the JWS:"
   ]
  },
  {
   "cell_type": "code",
   "execution_count": 7,
   "id": "9b2af8a6",
   "metadata": {},
   "outputs": [
    {
     "name": "stdout",
     "output_type": "stream",
     "text": [
      "eyJ6aXAiOiJERUYiLCJhbGciOiJFUzI1NiIsImtpZCI6InZmQkg0LUN0TGl5YVozXzFObWtDbE41SzlYRFVGQWpYSDlhRndLZzdVam8ifQ.3VLLbtswEPyVYHu19YpTxTq1doE-DkWBJr0UPtDU2mJBkQJJyXYD_Xt3aTttgMSnnMrbkrOzM8N9AOU9VNCE0PkqTX0rXGhQ6NAkUrjap7gXbafRpwTs0cEEzHoDVf72urgpb2dFmczKYgKDhOoB3klrAu4DVD8fKXe7XbK7TqzbpkWW36bSYY0mKKF9OuSwmkA4dMgdP9CpjRJrjctHDM17UdubYzHl4iJOtW1v1G8RlDUXgdIOqs7nLOqvzO_9-hfKwP42jXKk0jNPBbMkS3Li49tFb2qNjHHobe8k3kVXcHo4uwRptSa2oxIa4A5knZh7re-dJsC5v8oIcC6eIf5GdqifP0S0eCQRrdLEB-8NYZyPM7ZqQMPxfrEN14sEViMZXCsy_0EE5srnN_k0y6dFBuM4eVZNflnN56cR-yBC76Nd3p6A_EGDkFIZXNo6MkhbK7ONwv3BB2xPe0g_0-gyLgwnm3pVp3LYE4GMnVBkJYyrcQLdKYIoZ4MODWv7N0ECWSl7F5_Y7J1qjxRFNJyxLYpqY11Ly81ahAzWMWWtfKdFjHOxvPqIBp3QV5-s71SgxRw5RG3D175dcytk8eQvJlj8lwkW89dOsOSHkc4f.VwJR52HF04oRiq61MCebMLfpammyozgvSw4xbOX0YdQyO1qiAB2xAnlyWMUygHSOvXD7c7pErR42SbLR8tBuiw\n"
     ]
    }
   ],
   "source": [
    "const fields = { zip: 'DEF' }\n",
    "\n",
    "let jws;\n",
    "\n",
    "jose.JWS.createSign({ format: 'compact', fields }, signingKey)\n",
    "    .update(Buffer.from(compressedPayload))\n",
    "    .final()\n",
    "    .then(function(result) {\n",
    "        jws = result;\n",
    "        console.log(jws)\n",
    "});"
   ]
  },
  {
   "cell_type": "markdown",
   "id": "11db41ed",
   "metadata": {},
   "source": [
    "Now that we have the JWS we should check that we can actually verify the signature"
   ]
  },
  {
   "cell_type": "code",
   "execution_count": 8,
   "id": "fe03ec12",
   "metadata": {},
   "outputs": [
    {
     "name": "stdout",
     "output_type": "stream",
     "text": [
      "{\n",
      "  protected: [ 'zip', 'alg', 'kid' ],\n",
      "  header: {\n",
      "    zip: 'DEF',\n",
      "    alg: 'ES256',\n",
      "    kid: 'vfBH4-CtLiyaZ3_1NmkClN5K9XDUFAjXH9aFwKg7Ujo'\n",
      "  },\n",
      "  payload: <Buffer dd 52 cb 6e db 30 10 fc 95 60 7b b5 f5 8a 53 c5 3a b5 76 81 3e 0e 45 81 26 bd 14 3e d0 d4 da 62 41 91 02 49 c9 76 03 fd 7b 77 69 3b 6d 80 c4 a7 9c ca ... 415 more bytes>,\n",
      "  signature: <Buffer 57 02 51 e7 61 c5 d3 8a 11 8a ae b5 30 27 9b 30 b7 e9 6a 69 b2 a3 38 2f 4b 0e 31 6c e5 f4 61 d4 32 3b 5a a2 00 1d b1 02 79 72 58 c5 32 80 74 8e bd 70 ... 14 more bytes>,\n",
      "  key: JWKBaseKeyObject {\n",
      "    keystore: JWKStore {},\n",
      "    length: 256,\n",
      "    kty: 'EC',\n",
      "    kid: 'vfBH4-CtLiyaZ3_1NmkClN5K9XDUFAjXH9aFwKg7Ujo',\n",
      "    use: '',\n",
      "    alg: ''\n",
      "  }\n",
      "}\n"
     ]
    }
   ],
   "source": [
    "jose.JWS.createVerify(signingKey)\n",
    "    .verify(jws).then(function(result) {\n",
    "    console.log(result)\n",
    "})"
   ]
  },
  {
   "cell_type": "markdown",
   "id": "761e8c8d",
   "metadata": {},
   "source": [
    "Let's also create a fake key and test with that to make sure we aren't getting a false positive"
   ]
  },
  {
   "cell_type": "code",
   "execution_count": 9,
   "id": "f07b63f9",
   "metadata": {},
   "outputs": [
    {
     "name": "stdout",
     "output_type": "stream",
     "text": [
      "JWKBaseKeyObject {\n",
      "  keystore: JWKStore {},\n",
      "  length: 256,\n",
      "  kty: 'EC',\n",
      "  kid: 'xA8svdR5-gSPP0Do3rr39GYp5dXFzPQglbhZyirto24',\n",
      "  use: '',\n",
      "  alg: ''\n",
      "}\n"
     ]
    }
   ],
   "source": [
    "var fakeKey;\n",
    "\n",
    "keystore.generate(\"EC\", \"P-256\").\n",
    "        then(function(result) {\n",
    "          // {result} is a jose.JWK.Key\n",
    "          fakeKey = result;\n",
    "        });"
   ]
  },
  {
   "cell_type": "code",
   "execution_count": 10,
   "id": "068bb8cb",
   "metadata": {},
   "outputs": [
    {
     "ename": "Error",
     "evalue": "no key found",
     "output_type": "error",
     "traceback": [
      "Error: no key found",
      "    at processSig (/home/yeku/glen/health-cards-walkthrough/node_modules/node-jose/lib/jws/verify.js:131:22)",
      "    at processTicksAndRejections (internal/process/task_queues.js:95:5)"
     ]
    }
   ],
   "source": [
    "// Note \"Error: no key found\" is the generic error message for keys that won't decrypt\n",
    "// See: https://github.com/cisco/node-jose/issues/262\n",
    "jose.JWS.createVerify(fakeKey)\n",
    "    .verify(jws).then(function(result) {\n",
    "    console.log(result)\n",
    "})"
   ]
  },
  {
   "cell_type": "markdown",
   "id": "5a0505eb",
   "metadata": {},
   "source": [
    "### QR Code Generation\n",
    "\n",
    "Now that we have a JWS we can turn that into a QR Code which can be scanned. We won't worry about chunking just yet since the payload is below the 1195 character threshold in this example, but its a simple addition and [this code snippet](https://github.com/smart-on-fhir/health-cards/blob/152a4f83b223b5fd14027f765e957e290649f2c0/generate-examples/src/index.ts#L146) goes over the process."
   ]
  },
  {
   "cell_type": "code",
   "execution_count": 11,
   "id": "c644e804",
   "metadata": {},
   "outputs": [
    {
     "name": "stdout",
     "output_type": "stream",
     "text": [
      "shc:/56762909524320603460292437404460312229595326546034602925407728043360287028647167452228092865456436625803314033033926630844416677437725345342712353240704387763443725412636426744382363593765553145775541526411605736010641313153717074243576414427720412446739753968045566240023624221296903403571234005642921623629297643442350437106523971715832386565326953626934773211331220344012413322240335626839430369432659360933206240696152671058435352573767743970035424247727662341571005726958675305552564547730445830235934662106626369207207234123115730435610435330103968775367624242060953384444036430302512347238746462200755325855351222676137296961547127233204104055725344772763076029347142047304261137632340435855283468701065313468737734501200595730743507056143306203613335215332623806316007127125530568336127276653561162066241435427660772743767713852056675285207200862654559106956005529702208731166285422095628570826556860573503380356223637695531242100113344457635321045683632357557692433040770244160324543227076500324240870696533506203760955252172320756414533576365330809543700762122100933550667092050242623622528454333660932625953301034337473062121057535560358500300587631587465640667416706314424072632654121622944766954363155304428664507323423427310330324224238631025085044102904686175372533297675314467684404043176110452592077423242427157305525612734757335682821670636410800701004385875377408372606230410085554767162115636732963611163746242111255347034382762540757014174293708052725030766376068090432225653323157675264647666775873387407755334430344553676340468602021057520656376423240765827383473432310541067246937070538533137117121726074\n"
     ]
    }
   ],
   "source": [
    "// Convert to numeric mode QR\n",
    "\n",
    "// This code snippet was adapted/taken from https://github.com/smart-on-fhir/health-cards/blob/152a4f83b223b5fd14027f765e957e290649f2c0/generate-examples/src/index.ts#L173\n",
    "const numericJWS = jws.split('')\n",
    "    .map((c) => c.charCodeAt(0) - 45)\n",
    "    .flatMap((c) => [Math.floor(c / 10), c % 10])//Need to maintain leading zeros \n",
    "    .join('')\n",
    "\n",
    "const qrCodeData = 'shc:/' + numericJWS\n",
    "\n",
    "console.log(qrCodeData)"
   ]
  },
  {
   "cell_type": "markdown",
   "id": "139d15d0",
   "metadata": {},
   "source": [
    "The above shows what the value of the QR code will be, with the leading `byte` segment and the `numeric` segment following"
   ]
  },
  {
   "cell_type": "code",
   "execution_count": 12,
   "id": "3a8dcfd9",
   "metadata": {
    "scrolled": false
   },
   "outputs": [
    {
     "data": {
      "image/svg+xml": [
       "<svg xmlns=\"http://www.w3.org/2000/svg\" viewBox=\"0 0 113 113\" shape-rendering=\"crispEdges\"><path fill=\"#ffffff\" d=\"M0 0h113v113H0z\"/><path stroke=\"#000000\" d=\"M4 4.5h7m2 0h1m2 0h1m2 0h1m1 0h1m6 0h1m5 0h1m1 0h1m3 0h1m1 0h1m1 0h1m2 0h5m1 0h1m1 0h1m2 0h3m1 0h6m1 0h2m5 0h1m1 0h1m4 0h1m1 0h6m1 0h3m1 0h3m3 0h7M4 5.5h1m5 0h1m1 0h1m2 0h1m1 0h1m1 0h1m2 0h4m1 0h2m1 0h1m1 0h1m1 0h2m1 0h1m1 0h3m1 0h1m1 0h1m2 0h1m1 0h1m1 0h1m1 0h5m2 0h2m2 0h2m1 0h1m1 0h2m1 0h1m1 0h2m5 0h2m2 0h4m1 0h4m2 0h2m3 0h1m5 0h1M4 6.5h1m1 0h3m1 0h1m2 0h3m3 0h1m1 0h1m6 0h4m1 0h1m5 0h1m3 0h1m2 0h2m1 0h1m1 0h1m5 0h1m1 0h2m3 0h1m4 0h4m3 0h2m1 0h4m2 0h1m3 0h1m1 0h1m2 0h1m2 0h3m2 0h1m1 0h3m1 0h1M4 7.5h1m1 0h3m1 0h1m1 0h1m1 0h1m1 0h5m2 0h2m1 0h3m1 0h1m1 0h1m2 0h1m1 0h2m1 0h2m3 0h1m1 0h4m2 0h2m1 0h1m1 0h1m1 0h6m1 0h1m2 0h2m3 0h2m1 0h1m1 0h2m1 0h1m1 0h1m2 0h2m1 0h1m1 0h1m1 0h2m3 0h1m1 0h1m1 0h3m1 0h1M4 8.5h1m1 0h3m1 0h1m2 0h1m1 0h1m1 0h1m1 0h1m2 0h1m5 0h5m4 0h1m2 0h2m1 0h1m3 0h3m1 0h10m1 0h1m2 0h7m1 0h2m1 0h5m4 0h1m1 0h1m1 0h1m1 0h2m3 0h2m1 0h2m1 0h1m1 0h3m1 0h1M4 9.5h1m5 0h1m1 0h2m3 0h4m1 0h4m2 0h1m3 0h1m1 0h2m1 0h2m1 0h2m1 0h1m1 0h1m2 0h1m2 0h2m3 0h3m2 0h4m1 0h3m1 0h1m1 0h2m2 0h1m3 0h2m1 0h1m1 0h1m1 0h2m1 0h4m2 0h1m2 0h1m2 0h1m5 0h1M4 10.5h7m1 0h1m1 0h1m1 0h1m1 0h1m1 0h1m1 0h1m1 0h1m1 0h1m1 0h1m1 0h1m1 0h1m1 0h1m1 0h1m1 0h1m1 0h1m1 0h1m1 0h1m1 0h1m1 0h1m1 0h1m1 0h1m1 0h1m1 0h1m1 0h1m1 0h1m1 0h1m1 0h1m1 0h1m1 0h1m1 0h1m1 0h1m1 0h1m1 0h1m1 0h1m1 0h1m1 0h1m1 0h1m1 0h1m1 0h1m1 0h1m1 0h1m1 0h1m1 0h1m1 0h1m1 0h1m1 0h7M13 11.5h3m1 0h1m2 0h2m1 0h3m1 0h2m3 0h3m3 0h1m1 0h1m1 0h1m1 0h1m1 0h2m2 0h1m1 0h1m3 0h5m1 0h1m1 0h1m2 0h1m1 0h3m2 0h3m3 0h2m3 0h1m1 0h2m1 0h2m2 0h1m1 0h1m1 0h1m1 0h1M4 12.5h5m1 0h5m2 0h4m3 0h2m2 0h5m1 0h2m2 0h6m1 0h1m2 0h2m2 0h5m3 0h2m2 0h1m2 0h1m2 0h2m1 0h1m2 0h8m4 0h3m2 0h1m1 0h1m1 0h1m1 0h1m1 0h1m1 0h1m1 0h1m1 0h1M6 13.5h1m4 0h1m1 0h1m2 0h2m1 0h1m1 0h1m1 0h2m1 0h1m1 0h1m2 0h2m1 0h1m4 0h1m2 0h2m7 0h1m2 0h1m1 0h6m1 0h1m1 0h1m3 0h2m1 0h2m2 0h1m10 0h1m2 0h3m3 0h2m3 0h4m1 0h2M4 14.5h3m1 0h4m1 0h1m1 0h1m1 0h2m1 0h5m1 0h6m3 0h1m3 0h7m1 0h4m7 0h1m3 0h1m1 0h1m3 0h1m1 0h1m3 0h3m1 0h2m2 0h2m3 0h4m1 0h2m1 0h2m1 0h2m2 0h1m1 0h3M4 15.5h1m4 0h1m1 0h1m1 0h1m2 0h2m2 0h3m2 0h2m1 0h1m1 0h1m1 0h1m1 0h1m5 0h1m2 0h1m2 0h4m1 0h1m1 0h1m1 0h1m1 0h7m1 0h1m3 0h3m4 0h1m1 0h1m1 0h1m1 0h1m2 0h1m2 0h1m2 0h1m2 0h3m1 0h1m1 0h2m2 0h1m3 0h1M4 16.5h2m2 0h1m1 0h1m2 0h2m1 0h3m1 0h3m1 0h1m1 0h1m1 0h2m1 0h2m2 0h1m2 0h5m2 0h2m1 0h3m2 0h1m3 0h2m1 0h1m7 0h1m1 0h1m2 0h1m1 0h1m1 0h1m1 0h5m1 0h1m1 0h4m4 0h1m3 0h1m2 0h1m1 0h1m3 0h1M4 17.5h2m3 0h1m3 0h3m1 0h4m1 0h1m1 0h2m1 0h2m3 0h3m5 0h1m1 0h1m2 0h1m2 0h3m1 0h4m3 0h3m1 0h1m1 0h1m1 0h1m2 0h2m2 0h2m2 0h1m1 0h3m2 0h1m2 0h1m1 0h1m1 0h2m1 0h1m1 0h1m6 0h1m1 0h3M5 18.5h3m2 0h1m1 0h1m4 0h2m1 0h1m2 0h3m1 0h1m1 0h3m1 0h10m1 0h1m4 0h1m2 0h1m4 0h1m2 0h2m2 0h1m3 0h1m1 0h2m1 0h4m2 0h1m6 0h5m1 0h1m3 0h2m1 0h1m3 0h1m1 0h2M4 19.5h2m2 0h1m3 0h1m1 0h1m4 0h5m3 0h2m3 0h1m7 0h1m4 0h3m2 0h1m1 0h1m1 0h2m1 0h1m1 0h5m1 0h1m1 0h1m4 0h2m3 0h1m2 0h1m1 0h1m1 0h1m1 0h1m1 0h1m4 0h2m1 0h1m2 0h1m6 0h2M4 20.5h2m2 0h3m2 0h2m1 0h4m2 0h1m2 0h1m2 0h1m1 0h3m3 0h1m1 0h5m1 0h2m1 0h7m3 0h3m1 0h1m8 0h2m3 0h1m1 0h1m1 0h4m3 0h6m2 0h5m6 0h3M4 21.5h2m1 0h2m4 0h3m1 0h3m1 0h2m2 0h2m2 0h2m1 0h1m3 0h3m1 0h1m1 0h2m1 0h1m6 0h2m1 0h1m1 0h1m1 0h1m3 0h1m1 0h1m3 0h1m2 0h6m2 0h1m3 0h3m1 0h1m1 0h1m1 0h2m1 0h1m4 0h2m1 0h1m2 0h2M5 22.5h1m1 0h2m1 0h1m4 0h3m1 0h1m1 0h2m2 0h7m6 0h5m3 0h1m1 0h2m1 0h2m6 0h3m2 0h1m2 0h1m2 0h1m2 0h1m1 0h2m1 0h2m1 0h1m2 0h1m1 0h5m5 0h1m2 0h3m2 0h3M4 23.5h2m2 0h1m5 0h2m4 0h1m2 0h1m2 0h1m3 0h1m1 0h3m2 0h1m2 0h1m2 0h1m1 0h2m1 0h2m3 0h1m1 0h1m2 0h2m3 0h1m1 0h1m2 0h1m3 0h1m1 0h1m1 0h3m1 0h3m1 0h2m2 0h1m2 0h1m1 0h1m3 0h6m3 0h3M5 24.5h2m3 0h1m6 0h1m2 0h1m1 0h1m1 0h1m1 0h3m1 0h4m1 0h1m2 0h3m6 0h3m1 0h1m5 0h1m2 0h2m3 0h1m1 0h3m1 0h2m2 0h7m2 0h1m1 0h3m1 0h1m7 0h3m2 0h1m1 0h2M5 25.5h2m2 0h1m2 0h1m2 0h1m3 0h1m3 0h6m3 0h2m2 0h3m1 0h1m1 0h2m2 0h2m3 0h1m3 0h1m1 0h1m1 0h2m2 0h1m4 0h3m2 0h5m2 0h1m2 0h1m1 0h2m1 0h1m1 0h2m1 0h1m2 0h1m2 0h4m3 0h1m1 0h1M5 26.5h1m1 0h1m2 0h2m1 0h4m5 0h2m2 0h4m1 0h2m1 0h1m3 0h1m2 0h1m3 0h5m1 0h1m7 0h1m1 0h1m1 0h2m2 0h1m1 0h1m1 0h1m2 0h2m1 0h1m2 0h1m5 0h1m2 0h1m3 0h1m2 0h1m1 0h2m2 0h2m1 0h1m2 0h1M5 27.5h1m1 0h1m4 0h1m2 0h1m3 0h1m5 0h1m2 0h1m1 0h1m1 0h2m3 0h1m1 0h1m2 0h2m8 0h1m2 0h2m1 0h2m4 0h1m1 0h1m1 0h3m1 0h2m5 0h5m1 0h1m1 0h2m2 0h1m3 0h1m2 0h2m1 0h2m1 0h5M6 28.5h9m4 0h3m1 0h2m1 0h8m2 0h1m1 0h2m1 0h1m5 0h2m1 0h1m1 0h5m1 0h1m2 0h1m1 0h2m1 0h3m1 0h3m3 0h6m4 0h4m5 0h1m1 0h2m1 0h5m2 0h1M5 29.5h1m2 0h1m3 0h4m2 0h3m1 0h1m1 0h3m1 0h1m3 0h1m2 0h4m3 0h2m1 0h4m1 0h1m1 0h1m3 0h3m1 0h1m4 0h1m2 0h1m3 0h1m3 0h1m3 0h1m2 0h5m2 0h2m1 0h1m2 0h1m3 0h1m3 0h1m1 0h2M4 30.5h1m3 0h1m1 0h1m1 0h1m2 0h1m1 0h5m2 0h1m1 0h1m1 0h1m1 0h1m1 0h2m1 0h1m2 0h1m2 0h2m4 0h1m1 0h1m2 0h1m1 0h1m1 0h1m1 0h1m1 0h2m4 0h2m1 0h2m3 0h1m1 0h1m1 0h1m1 0h2m4 0h1m1 0h1m4 0h3m1 0h1m1 0h2m1 0h1m1 0h2m1 0h2M7 31.5h2m3 0h2m3 0h1m1 0h3m1 0h1m1 0h1m2 0h1m3 0h1m1 0h1m1 0h2m1 0h5m1 0h1m3 0h1m1 0h2m3 0h4m3 0h3m2 0h1m2 0h3m2 0h1m3 0h1m1 0h1m1 0h2m5 0h1m1 0h2m3 0h1m1 0h1m3 0h4M8 32.5h7m1 0h3m3 0h1m1 0h1m1 0h8m3 0h1m2 0h1m5 0h2m1 0h1m2 0h5m1 0h6m2 0h3m3 0h1m1 0h1m1 0h6m1 0h1m3 0h1m1 0h1m5 0h1m3 0h6M5 33.5h1m5 0h7m2 0h7m1 0h1m2 0h1m6 0h2m3 0h1m2 0h1m4 0h1m1 0h3m1 0h3m4 0h1m3 0h1m2 0h4m1 0h1m6 0h4m1 0h1m1 0h2m8 0h1m3 0h2m1 0h2M4 34.5h1m1 0h5m1 0h1m2 0h2m2 0h2m1 0h1m1 0h1m1 0h1m2 0h1m1 0h1m1 0h1m1 0h1m1 0h4m6 0h1m1 0h1m2 0h1m1 0h2m2 0h1m1 0h1m2 0h1m2 0h1m7 0h1m2 0h1m3 0h1m3 0h2m5 0h1m1 0h2m2 0h5m2 0h3M5 35.5h1m2 0h1m6 0h11m6 0h1m1 0h3m4 0h1m1 0h4m4 0h1m1 0h3m1 0h3m2 0h1m1 0h1m2 0h2m1 0h4m2 0h1m2 0h2m1 0h2m1 0h1m2 0h2m2 0h2m3 0h1m4 0h2m2 0h2M5 36.5h2m3 0h1m1 0h3m2 0h2m8 0h3m2 0h2m3 0h8m2 0h1m1 0h1m5 0h2m1 0h1m1 0h1m1 0h1m6 0h2m1 0h1m1 0h1m1 0h2m2 0h2m3 0h4m2 0h5m1 0h1m1 0h4m3 0h2M4 37.5h2m5 0h4m2 0h1m2 0h3m2 0h1m1 0h1m3 0h2m9 0h2m1 0h1m6 0h8m2 0h2m2 0h1m4 0h5m3 0h1m5 0h2m1 0h1m1 0h3m6 0h2m2 0h1M4 38.5h1m3 0h3m1 0h1m2 0h1m2 0h2m1 0h2m3 0h1m1 0h2m1 0h3m3 0h1m1 0h1m2 0h6m1 0h1m4 0h3m1 0h1m1 0h5m2 0h1m1 0h2m3 0h1m1 0h2m1 0h3m5 0h2m4 0h1m3 0h1m1 0h1m1 0h1m5 0h2M6 39.5h1m1 0h1m4 0h1m5 0h4m3 0h1m5 0h1m1 0h2m1 0h2m1 0h3m2 0h1m5 0h1m1 0h6m1 0h4m1 0h3m1 0h5m8 0h2m2 0h1m1 0h4m2 0h2m6 0h2m4 0h1M4 40.5h3m1 0h4m2 0h1m1 0h1m1 0h1m4 0h1m2 0h1m2 0h1m1 0h2m2 0h5m3 0h2m1 0h2m1 0h1m1 0h1m3 0h1m4 0h1m1 0h1m6 0h1m2 0h1m1 0h1m1 0h2m1 0h1m3 0h1m5 0h1m1 0h2m1 0h1m2 0h1m2 0h2m5 0h2M4 41.5h1m2 0h2m2 0h6m2 0h4m2 0h1m8 0h2m1 0h2m2 0h1m1 0h1m1 0h2m4 0h4m2 0h1m1 0h1m3 0h1m2 0h3m2 0h6m2 0h1m1 0h1m1 0h3m1 0h1m3 0h1m2 0h1m6 0h1m1 0h1m1 0h2M4 42.5h1m5 0h3m2 0h1m1 0h1m2 0h3m5 0h2m1 0h4m2 0h1m1 0h5m2 0h1m1 0h2m4 0h1m1 0h1m2 0h1m1 0h2m2 0h3m1 0h1m2 0h1m1 0h4m4 0h1m2 0h2m4 0h2m1 0h2m1 0h1m1 0h3m4 0h3M6 43.5h1m4 0h3m1 0h1m2 0h1m2 0h2m2 0h1m9 0h2m1 0h4m2 0h5m3 0h3m3 0h1m2 0h2m1 0h2m1 0h1m2 0h1m1 0h2m6 0h5m1 0h3m1 0h3m1 0h2m3 0h1m1 0h2m3 0h1m1 0h1M4 44.5h3m2 0h2m2 0h2m1 0h1m1 0h2m1 0h1m1 0h1m2 0h4m1 0h1m1 0h2m1 0h2m5 0h2m1 0h1m1 0h1m1 0h1m7 0h2m5 0h2m1 0h2m3 0h5m6 0h3m1 0h1m1 0h2m2 0h1m1 0h1m1 0h3m1 0h1m2 0h4M7 45.5h1m1 0h1m1 0h1m2 0h5m2 0h2m2 0h1m1 0h1m2 0h1m2 0h5m1 0h1m1 0h1m3 0h3m1 0h2m1 0h3m1 0h2m3 0h1m1 0h2m1 0h1m1 0h1m3 0h4m1 0h3m1 0h1m1 0h3m2 0h7m2 0h1m4 0h1m1 0h1m1 0h3M4 46.5h3m3 0h2m1 0h1m4 0h3m4 0h1m1 0h4m2 0h1m3 0h4m2 0h1m2 0h3m4 0h1m1 0h1m2 0h2m2 0h1m3 0h4m1 0h1m1 0h1m1 0h3m1 0h1m2 0h1m2 0h2m1 0h5m1 0h2m2 0h1m3 0h2m2 0h1M4 47.5h2m2 0h2m1 0h1m1 0h2m2 0h3m1 0h1m1 0h2m4 0h8m1 0h1m1 0h1m1 0h1m2 0h4m3 0h1m1 0h2m2 0h1m2 0h4m2 0h2m1 0h1m2 0h1m3 0h1m2 0h2m1 0h2m2 0h1m5 0h4m1 0h1m2 0h1m3 0h1M4 48.5h3m2 0h3m2 0h1m3 0h1m1 0h1m1 0h1m3 0h9m1 0h1m3 0h1m2 0h2m1 0h1m2 0h1m3 0h1m2 0h2m1 0h1m5 0h3m1 0h1m5 0h4m1 0h2m2 0h2m1 0h2m2 0h2m1 0h4m1 0h1m1 0h2m1 0h2m1 0h1M4 49.5h1m2 0h3m4 0h2m1 0h4m3 0h1m2 0h1m2 0h2m1 0h4m4 0h1m3 0h2m1 0h1m1 0h1m1 0h1m3 0h3m7 0h2m3 0h1m3 0h1m2 0h2m1 0h5m1 0h3m1 0h1m1 0h3m1 0h2m6 0h2m1 0h1M5 50.5h1m3 0h2m1 0h1m1 0h3m1 0h1m1 0h2m3 0h5m2 0h3m2 0h1m2 0h1m2 0h1m2 0h3m4 0h4m2 0h1m3 0h4m2 0h1m5 0h2m1 0h2m1 0h1m3 0h2m1 0h1m2 0h2m1 0h1m1 0h2m2 0h1m1 0h1m2 0h3M6 51.5h1m2 0h1m4 0h2m1 0h4m1 0h2m1 0h1m3 0h1m3 0h4m1 0h2m1 0h1m3 0h3m1 0h2m1 0h1m1 0h5m2 0h2m1 0h1m5 0h5m4 0h1m1 0h7m1 0h1m1 0h4m3 0h1m4 0h1M5 52.5h8m1 0h2m1 0h1m1 0h1m1 0h3m3 0h8m1 0h1m8 0h1m1 0h1m4 0h5m1 0h2m1 0h1m1 0h5m2 0h1m1 0h10m2 0h3m6 0h1m1 0h1m1 0h2m1 0h7m1 0h1M5 53.5h1m2 0h1m3 0h1m1 0h1m1 0h1m1 0h1m1 0h2m3 0h2m1 0h1m3 0h1m2 0h3m1 0h1m1 0h1m2 0h1m3 0h2m1 0h2m3 0h1m4 0h1m2 0h1m1 0h3m1 0h2m1 0h2m1 0h1m3 0h1m1 0h3m2 0h1m1 0h1m1 0h1m2 0h2m1 0h2m1 0h1m3 0h2m1 0h2M5 54.5h4m1 0h1m1 0h1m2 0h1m7 0h3m1 0h2m1 0h1m1 0h1m1 0h1m2 0h2m1 0h1m4 0h1m2 0h2m2 0h1m1 0h1m1 0h3m1 0h1m1 0h5m4 0h1m2 0h3m1 0h1m1 0h1m1 0h4m2 0h1m2 0h4m1 0h2m2 0h1m1 0h1m1 0h1M4 55.5h1m3 0h1m3 0h1m1 0h3m3 0h1m1 0h1m1 0h1m1 0h3m3 0h4m1 0h3m1 0h1m1 0h1m1 0h1m2 0h3m1 0h1m3 0h1m1 0h1m1 0h1m1 0h1m1 0h1m2 0h2m1 0h1m1 0h1m1 0h3m3 0h1m1 0h2m2 0h2m1 0h1m3 0h2m4 0h2m3 0h2m2 0h1M5 56.5h1m2 0h5m1 0h1m4 0h1m1 0h1m1 0h1m3 0h6m1 0h4m5 0h4m1 0h2m2 0h5m2 0h2m1 0h8m5 0h6m1 0h2m1 0h1m8 0h1m5 0h5m1 0h1m1 0h1M5 57.5h1m1 0h2m5 0h1m1 0h1m1 0h1m1 0h1m2 0h3m2 0h1m1 0h4m5 0h1m1 0h1m2 0h1m3 0h1m1 0h3m1 0h3m4 0h2m1 0h1m1 0h2m1 0h4m1 0h2m1 0h2m2 0h1m1 0h1m3 0h1m1 0h1m1 0h2m2 0h1m1 0h2m1 0h2m1 0h1m1 0h1m1 0h1M5 58.5h4m1 0h1m1 0h1m4 0h1m1 0h5m1 0h1m1 0h4m2 0h2m2 0h1m2 0h1m2 0h1m2 0h5m2 0h1m1 0h1m1 0h4m1 0h5m4 0h1m1 0h1m1 0h1m1 0h1m1 0h7m2 0h1m2 0h1m2 0h1m4 0h3m1 0h1m3 0h2M4 59.5h1m4 0h1m4 0h3m1 0h1m1 0h1m1 0h5m1 0h1m1 0h3m1 0h2m3 0h1m1 0h1m2 0h1m3 0h1m2 0h1m3 0h1m2 0h2m1 0h1m2 0h1m2 0h1m1 0h1m1 0h1m2 0h1m2 0h1m4 0h1m1 0h1m2 0h1m1 0h1m2 0h3m1 0h1m1 0h1m1 0h6m1 0h2M4 60.5h1m5 0h3m2 0h6m1 0h2m3 0h2m5 0h1m2 0h1m3 0h4m2 0h1m1 0h4m2 0h1m6 0h3m1 0h1m2 0h2m4 0h2m4 0h1m2 0h2m4 0h4m3 0h5m1 0h1m2 0h3M6 61.5h1m4 0h2m1 0h5m2 0h2m2 0h1m1 0h1m3 0h1m1 0h1m1 0h2m2 0h1m1 0h2m1 0h1m2 0h1m5 0h2m1 0h1m3 0h3m1 0h2m1 0h1m1 0h1m1 0h3m2 0h1m2 0h1m1 0h1m1 0h1m3 0h1m1 0h1m2 0h2m3 0h4m2 0h1M7 62.5h1m1 0h2m3 0h1m2 0h3m4 0h1m2 0h4m4 0h3m2 0h1m2 0h1m4 0h1m1 0h1m4 0h2m5 0h1m6 0h3m2 0h1m1 0h2m5 0h3m3 0h3m2 0h1m1 0h3m1 0h3m3 0h1M8 63.5h2m1 0h3m1 0h2m1 0h1m3 0h1m3 0h2m3 0h1m9 0h2m1 0h2m1 0h2m2 0h1m1 0h2m1 0h1m2 0h1m1 0h1m3 0h3m2 0h2m1 0h3m1 0h1m1 0h1m1 0h2m4 0h1m1 0h2m1 0h3m2 0h2m1 0h2m3 0h3M5 64.5h2m3 0h2m1 0h5m1 0h1m1 0h1m1 0h2m1 0h1m1 0h3m3 0h1m2 0h1m1 0h3m1 0h2m3 0h3m1 0h2m1 0h1m1 0h1m4 0h2m6 0h1m3 0h1m1 0h3m3 0h2m1 0h1m2 0h6m2 0h2m1 0h1m1 0h2m5 0h1M6 65.5h4m1 0h1m2 0h3m2 0h1m3 0h1m2 0h6m1 0h4m3 0h1m1 0h1m1 0h4m1 0h2m5 0h1m4 0h2m2 0h3m1 0h1m1 0h1m1 0h5m1 0h1m1 0h2m1 0h1m2 0h2m1 0h1m1 0h3m3 0h1m1 0h3m3 0h3M4 66.5h1m1 0h3m1 0h1m4 0h1m2 0h2m1 0h2m6 0h1m4 0h1m1 0h2m1 0h1m1 0h1m1 0h1m5 0h1m1 0h1m3 0h3m1 0h1m2 0h4m5 0h1m3 0h2m1 0h1m3 0h2m1 0h1m2 0h4m6 0h1m2 0h3m1 0h1m1 0h2M8 67.5h2m1 0h2m2 0h2m2 0h1m1 0h2m3 0h1m1 0h1m2 0h1m1 0h4m4 0h2m1 0h5m3 0h1m1 0h1m1 0h1m1 0h4m1 0h1m1 0h1m1 0h1m2 0h1m2 0h2m2 0h1m1 0h1m1 0h4m3 0h1m3 0h2m1 0h3m1 0h1m2 0h6M4 68.5h4m2 0h1m2 0h1m1 0h1m3 0h1m2 0h2m2 0h1m1 0h2m4 0h3m2 0h3m1 0h2m1 0h1m1 0h1m1 0h1m1 0h2m1 0h1m1 0h1m1 0h1m1 0h4m1 0h1m4 0h1m1 0h1m8 0h1m1 0h2m1 0h2m1 0h3m3 0h1m1 0h3m1 0h3M7 69.5h1m6 0h1m1 0h1m1 0h1m2 0h1m1 0h1m2 0h1m1 0h1m1 0h2m1 0h2m4 0h1m1 0h2m1 0h2m1 0h4m5 0h1m2 0h1m4 0h4m2 0h1m7 0h2m1 0h4m7 0h2m1 0h3m3 0h6M6 70.5h1m2 0h4m6 0h1m2 0h1m5 0h2m4 0h1m1 0h3m1 0h1m1 0h5m3 0h3m1 0h4m3 0h1m1 0h3m1 0h1m3 0h1m1 0h1m1 0h2m1 0h1m3 0h2m2 0h1m1 0h2m1 0h1m2 0h1m2 0h2m1 0h1m2 0h2m1 0h1M4 71.5h2m2 0h2m2 0h1m1 0h1m2 0h1m1 0h1m1 0h2m3 0h1m2 0h1m1 0h1m1 0h7m1 0h2m4 0h3m1 0h2m3 0h1m1 0h2m2 0h3m3 0h1m8 0h1m1 0h1m1 0h2m4 0h3m1 0h1m2 0h5m1 0h1m2 0h2M4 72.5h1m1 0h5m3 0h4m1 0h1m1 0h2m1 0h2m3 0h2m1 0h1m1 0h2m1 0h3m1 0h2m1 0h3m1 0h1m1 0h1m1 0h2m3 0h1m1 0h1m2 0h1m1 0h1m1 0h1m2 0h3m1 0h1m4 0h2m2 0h3m2 0h3m1 0h2m1 0h1m1 0h1m1 0h4m1 0h1m2 0h1M5 73.5h3m3 0h1m2 0h1m7 0h1m1 0h3m3 0h1m1 0h7m1 0h4m1 0h1m1 0h4m2 0h1m6 0h1m2 0h1m3 0h4m5 0h2m2 0h3m3 0h3m1 0h3m1 0h5m4 0h3m1 0h1M4 74.5h4m2 0h1m3 0h3m3 0h3m1 0h2m3 0h2m1 0h1m1 0h1m1 0h1m1 0h4m3 0h2m3 0h1m1 0h1m2 0h1m1 0h1m1 0h1m1 0h3m1 0h3m1 0h1m1 0h1m1 0h1m3 0h2m3 0h1m3 0h1m3 0h1m1 0h1m1 0h2m2 0h2m1 0h1m1 0h4M4 75.5h3m2 0h1m1 0h2m1 0h1m1 0h5m1 0h1m1 0h2m4 0h6m2 0h2m7 0h3m1 0h3m1 0h2m1 0h2m3 0h1m4 0h2m5 0h2m1 0h6m1 0h6m2 0h3m1 0h1m2 0h1m2 0h1m1 0h3M4 76.5h2m1 0h8m1 0h1m1 0h6m3 0h8m1 0h2m2 0h1m3 0h2m2 0h1m1 0h1m1 0h7m3 0h1m2 0h1m2 0h1m1 0h2m1 0h1m1 0h6m5 0h1m1 0h2m1 0h1m1 0h1m2 0h1m1 0h1m1 0h5M4 77.5h2m1 0h2m3 0h1m1 0h2m2 0h1m1 0h1m1 0h1m2 0h1m2 0h1m3 0h1m1 0h1m1 0h1m2 0h1m3 0h2m2 0h6m3 0h5m1 0h3m1 0h1m1 0h3m4 0h2m3 0h3m1 0h2m1 0h1m2 0h1m4 0h1m1 0h2m1 0h1m3 0h4M4 78.5h5m1 0h1m1 0h4m3 0h4m1 0h1m3 0h1m1 0h1m1 0h1m2 0h1m4 0h1m1 0h1m2 0h1m2 0h1m1 0h3m1 0h1m1 0h1m1 0h1m2 0h2m1 0h2m4 0h1m2 0h1m2 0h1m1 0h1m1 0h4m1 0h1m1 0h2m2 0h1m1 0h1m4 0h3m1 0h1m1 0h2M6 79.5h1m1 0h1m3 0h1m4 0h2m3 0h1m1 0h1m1 0h1m1 0h1m3 0h1m4 0h2m1 0h3m3 0h1m1 0h2m2 0h1m3 0h6m1 0h1m1 0h1m2 0h3m5 0h1m3 0h1m6 0h1m1 0h1m4 0h4m1 0h2m3 0h2m1 0h1M7 80.5h6m2 0h3m1 0h3m1 0h1m1 0h1m1 0h7m1 0h1m2 0h1m2 0h2m1 0h2m3 0h8m1 0h1m1 0h2m2 0h1m1 0h3m1 0h5m1 0h8m2 0h2m1 0h1m3 0h1m2 0h2m2 0h7M5 81.5h1m1 0h2m2 0h3m1 0h2m1 0h1m1 0h1m1 0h1m3 0h1m1 0h3m2 0h2m2 0h1m1 0h4m1 0h1m2 0h2m1 0h1m5 0h2m1 0h2m3 0h1m4 0h3m1 0h2m1 0h3m3 0h1m2 0h1m2 0h5m5 0h1m2 0h1m2 0h1m2 0h1M4 82.5h1m1 0h2m2 0h2m1 0h1m1 0h2m2 0h1m1 0h1m1 0h1m1 0h2m1 0h1m2 0h1m1 0h3m4 0h2m3 0h1m3 0h1m1 0h3m3 0h1m3 0h2m1 0h4m2 0h1m1 0h2m1 0h2m6 0h1m1 0h2m5 0h2m3 0h1m2 0h1m2 0h2m1 0h1m1 0h1M7 83.5h1m5 0h4m1 0h1m3 0h2m1 0h2m2 0h4m1 0h1m5 0h1m1 0h1m3 0h3m2 0h2m2 0h1m3 0h4m1 0h2m2 0h3m1 0h1m1 0h2m1 0h2m1 0h3m2 0h2m1 0h1m3 0h1m1 0h1m1 0h1m1 0h1m1 0h2m2 0h2m1 0h2M4 84.5h2m1 0h1m1 0h4m2 0h3m2 0h5m1 0h1m1 0h1m1 0h3m2 0h1m1 0h1m1 0h4m2 0h1m1 0h2m1 0h1m2 0h1m4 0h1m1 0h1m1 0h2m3 0h1m2 0h1m1 0h1m1 0h1m1 0h1m1 0h1m1 0h1m1 0h2m4 0h4m1 0h1m1 0h1m5 0h3m1 0h1m1 0h1M5 85.5h1m2 0h1m2 0h2m1 0h1m3 0h3m2 0h2m4 0h3m2 0h1m3 0h2m2 0h3m4 0h4m2 0h1m2 0h3m1 0h2m1 0h1m3 0h2m1 0h3m2 0h4m1 0h1m4 0h2m1 0h2m4 0h1m3 0h1m3 0h1m3 0h1M6 86.5h2m1 0h5m1 0h1m5 0h2m1 0h3m1 0h1m2 0h1m2 0h2m2 0h5m2 0h1m1 0h1m1 0h1m1 0h1m1 0h1m8 0h1m1 0h1m2 0h1m2 0h3m1 0h1m1 0h1m2 0h2m2 0h1m3 0h7m3 0h1m1 0h2m1 0h3m2 0h2M4 87.5h1m3 0h1m4 0h1m1 0h1m2 0h5m1 0h3m2 0h4m1 0h1m5 0h1m3 0h1m1 0h1m1 0h1m2 0h2m2 0h1m3 0h5m1 0h1m1 0h1m1 0h3m5 0h3m1 0h2m5 0h1m3 0h1m1 0h2m2 0h2m4 0h1M4 88.5h3m3 0h1m3 0h1m1 0h1m1 0h2m1 0h1m2 0h3m1 0h1m1 0h2m3 0h1m1 0h6m5 0h3m2 0h1m1 0h2m1 0h1m1 0h2m6 0h3m2 0h2m1 0h1m1 0h1m3 0h2m1 0h1m1 0h5m1 0h1m2 0h1m2 0h1m1 0h1m6 0h1M4 89.5h1m2 0h2m2 0h1m2 0h1m1 0h5m1 0h3m1 0h1m2 0h2m3 0h1m3 0h1m1 0h1m1 0h3m4 0h4m2 0h2m1 0h3m1 0h2m1 0h1m2 0h1m1 0h2m5 0h3m1 0h1m3 0h1m2 0h1m1 0h2m1 0h2m2 0h2m2 0h1m1 0h1m2 0h3M8 90.5h1m1 0h3m2 0h1m8 0h2m2 0h1m2 0h2m4 0h6m1 0h1m4 0h3m1 0h1m3 0h4m1 0h1m1 0h1m6 0h2m3 0h1m2 0h7m1 0h5m3 0h3m1 0h2m1 0h2m1 0h2m1 0h1M4 91.5h1m3 0h2m1 0h1m5 0h1m4 0h1m3 0h1m8 0h1m1 0h1m2 0h1m2 0h1m1 0h2m3 0h9m2 0h3m1 0h1m4 0h1m7 0h1m1 0h2m6 0h1m3 0h1m1 0h1m1 0h1m4 0h1m1 0h2m1 0h3M4 92.5h2m2 0h3m1 0h1m1 0h1m1 0h1m5 0h3m1 0h1m1 0h1m2 0h3m1 0h1m2 0h7m1 0h1m3 0h1m3 0h3m1 0h2m1 0h1m5 0h1m3 0h1m1 0h2m1 0h1m1 0h3m2 0h1m2 0h9m2 0h4m1 0h1m1 0h5M4 93.5h1m3 0h1m2 0h1m2 0h6m3 0h2m5 0h1m3 0h1m2 0h2m1 0h1m1 0h4m1 0h3m1 0h2m1 0h1m5 0h1m2 0h1m1 0h1m2 0h1m1 0h3m1 0h1m3 0h1m5 0h3m1 0h1m1 0h2m1 0h3m3 0h1m1 0h1m1 0h1m2 0h3M7 94.5h1m1 0h2m7 0h1m3 0h1m1 0h2m2 0h2m1 0h1m2 0h3m1 0h5m2 0h1m1 0h1m3 0h1m1 0h1m3 0h1m1 0h1m1 0h1m2 0h1m2 0h1m2 0h2m2 0h1m1 0h1m5 0h3m1 0h5m2 0h3m3 0h5m1 0h2M4 95.5h1m2 0h1m3 0h2m2 0h1m1 0h4m1 0h1m3 0h1m1 0h2m1 0h1m2 0h1m1 0h2m2 0h1m2 0h1m2 0h1m1 0h1m2 0h6m1 0h3m2 0h1m1 0h1m2 0h3m2 0h1m2 0h2m1 0h3m1 0h1m1 0h1m2 0h1m2 0h1m2 0h1m1 0h3m2 0h1m4 0h3M4 96.5h1m3 0h4m2 0h1m1 0h1m6 0h3m1 0h4m1 0h1m1 0h1m3 0h4m3 0h1m2 0h2m1 0h1m6 0h2m1 0h1m3 0h1m1 0h4m3 0h1m1 0h2m2 0h1m2 0h1m2 0h3m1 0h1m8 0h4m2 0h4M4 97.5h1m2 0h1m4 0h1m2 0h1m2 0h1m1 0h1m2 0h2m1 0h1m2 0h1m2 0h2m3 0h2m1 0h1m1 0h2m1 0h2m1 0h6m2 0h2m2 0h1m2 0h1m4 0h1m1 0h3m1 0h1m4 0h3m1 0h4m1 0h4m3 0h2m1 0h2m2 0h1m3 0h1M4 98.5h3m3 0h1m2 0h2m2 0h3m2 0h1m1 0h2m2 0h2m1 0h2m1 0h3m1 0h1m2 0h1m3 0h4m1 0h1m3 0h1m6 0h1m1 0h3m1 0h1m2 0h3m2 0h1m5 0h3m2 0h3m1 0h1m6 0h5m2 0h2M6 99.5h1m1 0h2m1 0h2m2 0h1m1 0h4m1 0h4m1 0h7m3 0h1m1 0h5m1 0h1m2 0h1m1 0h1m1 0h2m4 0h1m7 0h1m1 0h3m2 0h4m3 0h1m1 0h1m2 0h1m2 0h2m1 0h1m1 0h2m1 0h1m1 0h2m2 0h3m1 0h2M7 100.5h2m1 0h1m1 0h1m3 0h1m1 0h1m2 0h5m2 0h6m1 0h1m2 0h2m1 0h2m2 0h2m2 0h8m1 0h2m1 0h1m1 0h1m2 0h3m3 0h3m1 0h6m2 0h1m1 0h1m2 0h1m3 0h5m2 0h6M12 101.5h2m1 0h1m1 0h1m3 0h3m2 0h1m1 0h1m3 0h1m2 0h1m1 0h3m2 0h2m8 0h1m3 0h4m5 0h1m2 0h3m1 0h1m3 0h1m3 0h1m4 0h4m2 0h1m1 0h2m3 0h3m3 0h1m1 0h1M4 102.5h7m1 0h1m1 0h3m1 0h1m1 0h2m2 0h2m1 0h2m1 0h1m1 0h2m4 0h5m2 0h1m1 0h1m2 0h3m1 0h1m1 0h1m1 0h2m1 0h1m5 0h1m1 0h2m5 0h1m1 0h1m1 0h2m1 0h1m2 0h3m1 0h1m4 0h1m4 0h1m1 0h1m1 0h5M4 103.5h1m5 0h1m2 0h1m1 0h4m1 0h6m2 0h1m3 0h1m1 0h2m1 0h1m1 0h2m2 0h1m2 0h1m5 0h1m3 0h3m1 0h1m4 0h1m2 0h2m1 0h3m2 0h1m3 0h1m1 0h1m2 0h1m2 0h2m1 0h1m5 0h2m1 0h1m3 0h1M4 104.5h1m1 0h3m1 0h1m1 0h4m2 0h1m3 0h1m2 0h1m2 0h6m3 0h1m1 0h1m1 0h2m3 0h2m1 0h1m1 0h6m1 0h1m3 0h9m1 0h1m1 0h1m1 0h6m1 0h1m1 0h1m1 0h3m3 0h1m1 0h1m1 0h2m1 0h6m1 0h2M4 105.5h1m1 0h3m1 0h1m1 0h1m2 0h4m3 0h1m3 0h1m2 0h4m2 0h3m3 0h1m1 0h1m1 0h1m5 0h1m2 0h6m2 0h1m1 0h3m1 0h2m1 0h6m1 0h3m3 0h1m1 0h6m6 0h1m2 0h1m1 0h1m2 0h1M4 106.5h1m1 0h3m1 0h1m1 0h2m1 0h1m4 0h3m2 0h1m1 0h5m1 0h1m5 0h1m1 0h1m3 0h1m1 0h1m1 0h1m1 0h3m4 0h1m1 0h1m4 0h2m1 0h1m1 0h1m3 0h2m2 0h2m1 0h1m1 0h2m1 0h2m1 0h1m1 0h1m2 0h2m1 0h1m1 0h4m2 0h2M4 107.5h1m5 0h1m1 0h3m1 0h2m2 0h1m1 0h1m2 0h1m1 0h1m4 0h1m1 0h1m2 0h2m1 0h1m2 0h1m7 0h3m1 0h1m1 0h3m3 0h1m1 0h1m1 0h2m1 0h4m1 0h2m3 0h1m1 0h2m2 0h1m1 0h1m2 0h1m1 0h2m3 0h4m4 0h1M4 108.5h7m1 0h1m1 0h1m2 0h1m3 0h6m1 0h1m1 0h4m1 0h1m1 0h1m2 0h1m2 0h2m2 0h1m1 0h1m2 0h2m4 0h1m5 0h1m1 0h1m1 0h1m1 0h1m1 0h1m1 0h2m3 0h3m1 0h1m1 0h1m2 0h4m1 0h1m1 0h1m1 0h1m1 0h2m2 0h2m2 0h1\"/></svg>\n"
      ]
     },
     "execution_count": 12,
     "metadata": {},
     "output_type": "execute_result"
    }
   ],
   "source": [
    "var QRCode = require('qrcode')\n",
    "\n",
    "const segments = [\n",
    "    {data: 'shc:/', mode: 'byte'},\n",
    "    {data: numericJWS, mode: 'numeric'}\n",
    "]\n",
    "\n",
    "let qrSVG\n",
    "QRCode.toString(segments,{type: 'svg', errorCorrectionLevel: 'low', version: 22 }).then(function(result){\n",
    "    qrSVG = result\n",
    "    $$.svg(qrSVG)\n",
    "})\n",
    "\n",
    "// Also print as PNG for scanning later on.\n",
    "\n",
    "\n",
    "QRCode.toFile('./qrcode.png', segments, {width: 800, version: 22})"
   ]
  },
  {
   "cell_type": "markdown",
   "id": "5f812e7f",
   "metadata": {},
   "source": [
    "### QR Code Scanning\n",
    "\n",
    "Now let's try and scan the QR Code!"
   ]
  },
  {
   "cell_type": "code",
   "execution_count": 13,
   "id": "6dce536a",
   "metadata": {
    "scrolled": true
   },
   "outputs": [
    {
     "name": "stdout",
     "output_type": "stream",
     "text": [
      "Are the QR Codes Equal? true\n",
      "shc:/56762909524320603460292437404460312229595326546034602925407728043360287028647167452228092865456436625803314033033926630844416677437725345342712353240704387763443725412636426744382363593765553145775541526411605736010641313153717074243576414427720412446739753968045566240023624221296903403571234005642921623629297643442350437106523971715832386565326953626934773211331220344012413322240335626839430369432659360933206240696152671058435352573767743970035424247727662341571005726958675305552564547730445830235934662106626369207207234123115730435610435330103968775367624242060953384444036430302512347238746462200755325855351222676137296961547127233204104055725344772763076029347142047304261137632340435855283468701065313468737734501200595730743507056143306203613335215332623806316007127125530568336127276653561162066241435427660772743767713852056675285207200862654559106956005529702208731166285422095628570826556860573503380356223637695531242100113344457635321045683632357557692433040770244160324543227076500324240870696533506203760955252172320756414533576365330809543700762122100933550667092050242623622528454333660932625953301034337473062121057535560358500300587631587465640667416706314424072632654121622944766954363155304428664507323423427310330324224238631025085044102904686175372533297675314467684404043176110452592077423242427157305525612734757335682821670636410800701004385875377408372606230410085554767162115636732963611163746242111255347034382762540757014174293708052725030766376068090432225653323157675264647666775873387407755334430344553676340468602021057520656376423240765827383473432310541067246937070538533137117121726074\n"
     ]
    }
   ],
   "source": [
    "var jsQR = require('jsqr');\n",
    "var PNG = require('pngjs').PNG;\n",
    "\n",
    "\n",
    "imageData = PNG.sync.read(fs.readFileSync('./qrcode.png'))\n",
    "\n",
    "const scannedQR = jsQR(new Uint8ClampedArray(imageData.data.buffer), imageData.width, imageData.height)\n",
    "\n",
    "const qrCodesEqual = scannedQR.data === qrCodeData\n",
    "\n",
    "console.log(\"Are the QR Codes Equal? \" + qrCodesEqual)\n",
    "\n",
    "console.log(scannedQR.data)"
   ]
  },
  {
   "cell_type": "markdown",
   "id": "0461b993",
   "metadata": {},
   "source": [
    "### Extracting Data from the QR Code\n",
    "\n",
    "Now let's reverse the process to get the original data back and check the signature. First, let's extract the JWS."
   ]
  },
  {
   "cell_type": "code",
   "execution_count": 14,
   "id": "08551432",
   "metadata": {},
   "outputs": [
    {
     "name": "stdout",
     "output_type": "stream",
     "text": [
      "eyJ6aXAiOiJERUYiLCJhbGciOiJFUzI1NiIsImtpZCI6InZmQkg0LUN0TGl5YVozXzFObWtDbE41SzlYRFVGQWpYSDlhRndLZzdVam8ifQ.3VLLbtswEPyVYHu19YpTxTq1doE-DkWBJr0UPtDU2mJBkQJJyXYD_Xt3aTttgMSnnMrbkrOzM8N9AOU9VNCE0PkqTX0rXGhQ6NAkUrjap7gXbafRpwTs0cEEzHoDVf72urgpb2dFmczKYgKDhOoB3klrAu4DVD8fKXe7XbK7TqzbpkWW36bSYY0mKKF9OuSwmkA4dMgdP9CpjRJrjctHDM17UdubYzHl4iJOtW1v1G8RlDUXgdIOqs7nLOqvzO_9-hfKwP42jXKk0jNPBbMkS3Li49tFb2qNjHHobe8k3kVXcHo4uwRptSa2oxIa4A5knZh7re-dJsC5v8oIcC6eIf5GdqifP0S0eCQRrdLEB-8NYZyPM7ZqQMPxfrEN14sEViMZXCsy_0EE5srnN_k0y6dFBuM4eVZNflnN56cR-yBC76Nd3p6A_EGDkFIZXNo6MkhbK7ONwv3BB2xPe0g_0-gyLgwnm3pVp3LYE4GMnVBkJYyrcQLdKYIoZ4MODWv7N0ECWSl7F5_Y7J1qjxRFNJyxLYpqY11Ly81ahAzWMWWtfKdFjHOxvPqIBp3QV5-s71SgxRw5RG3D175dcytk8eQvJlj8lwkW89dOsOSHkc4f.VwJR52HF04oRiq61MCebMLfpammyozgvSw4xbOX0YdQyO1qiAB2xAnlyWMUygHSOvXD7c7pErR42SbLR8tBuiw\n"
     ]
    }
   ],
   "source": [
    "const scannedJWS = scannedQR\n",
    "    .chunks\n",
    "    .filter(chunk => chunk.type === \"numeric\")[0] // Grab the numeric chunk\n",
    "    .text.match(/(..?)/g) // Split into groups of 2 numeric characters each of which represent a single JWS char\n",
    "    .map(num => String.fromCharCode(parseInt(num, 10) + 45)).join('') // Convert from numeric encoding to JWS\n",
    "\n",
    "console.log(scannedJWS)"
   ]
  },
  {
   "cell_type": "markdown",
   "id": "6fb39789",
   "metadata": {},
   "source": [
    "Next we can verify the signature and extract the payload"
   ]
  },
  {
   "cell_type": "code",
   "execution_count": 15,
   "id": "9304076b",
   "metadata": {},
   "outputs": [],
   "source": [
    "let scannedResult;\n",
    "\n",
    "jose.JWS.createVerify(signingKey)\n",
    "    .verify(jws).then(function(result) {\n",
    "    zlib.inflateRaw(result.payload, function(err, decompressedResult){\n",
    "        scannedResult = decompressedResult.toString('utf8')\n",
    "    })\n",
    "})"
   ]
  },
  {
   "cell_type": "code",
   "execution_count": 16,
   "id": "0a3e25d8",
   "metadata": {},
   "outputs": [
    {
     "data": {
      "text/plain": [
       "'{\"iss\":\"https://smarthealth.cards/examples/issuer\",\"nbf\":1632578427.472,\"vc\":{\"@context\":[\"https://www.w3.org/2018/credentials/v1\"],\"type\":[\"VerifiableCredential\",\"https://smarthealth.cards#health-card\",\"https://smarthealth.cards#immunization\",\"https://smarthealth.cards#covid19\"],\"credentialSubject\":{\"fhirVersion\":\"4.0.1\",\"fhirBundle\":{\"resourceType\":\"Bundle\",\"type\":\"collection\",\"entry\":[{\"fullUrl\":\"resource:0\",\"resource\":{\"resourceType\":\"Patient\",\"name\":[{\"family\":\"Anyperson\",\"given\":[\"John\",\"B.\"]}],\"birthDate\":\"1951-01-20\"}},{\"fullUrl\":\"resource:1\",\"resource\":{\"resourceType\":\"Immunization\",\"status\":\"completed\",\"vaccineCode\":{\"coding\":[{\"system\":\"http://hl7.org/fhir/sid/cvx\",\"code\":\"207\"}]},\"patient\":{\"reference\":\"resource:0\"},\"occurrenceDateTime\":\"2021-01-01\",\"performer\":[{\"actor\":{\"display\":\"ABC General Hospital\"}}],\"lotNumber\":\"0000001\"}},{\"fullUrl\":\"resource:2\",\"resource\":{\"resourceType\":\"Immunization\",\"status\":\"completed\",\"vaccineCode\":{\"coding\":[{\"system\":\"http://hl7.org/fhir/sid/cvx\",\"code\":\"207\"}]},\"patient\":{\"reference\":\"resource:0\"},\"occurrenceDateTime\":\"2021-01-29\",\"performer\":[{\"actor\":{\"display\":\"ABC General Hospital\"}}],\"lotNumber\":\"0000007\"}}]}}}}'"
      ]
     },
     "execution_count": 16,
     "metadata": {},
     "output_type": "execute_result"
    }
   ],
   "source": [
    "scannedResult"
   ]
  },
  {
   "cell_type": "markdown",
   "id": "b46da6e1",
   "metadata": {},
   "source": [
    "Let's compare this to our original minified payload with whitespace removed"
   ]
  },
  {
   "cell_type": "code",
   "execution_count": 17,
   "id": "a228a8b8",
   "metadata": {},
   "outputs": [
    {
     "data": {
      "text/plain": [
       "true"
      ]
     },
     "execution_count": 17,
     "metadata": {},
     "output_type": "execute_result"
    }
   ],
   "source": [
    "scannedResult === noWhiteSpaceHealthCard"
   ]
  },
  {
   "cell_type": "markdown",
   "id": "a3fe0c96",
   "metadata": {},
   "source": [
    "Finally, lets print the entries for easy inspection."
   ]
  },
  {
   "cell_type": "code",
   "execution_count": 18,
   "id": "23700ca8",
   "metadata": {},
   "outputs": [
    {
     "name": "stdout",
     "output_type": "stream",
     "text": [
      "{\n",
      "  \"fullUrl\": \"resource:0\",\n",
      "  \"resource\": {\n",
      "    \"resourceType\": \"Patient\",\n",
      "    \"name\": [\n",
      "      {\n",
      "        \"family\": \"Anyperson\",\n",
      "        \"given\": [\n",
      "          \"John\",\n",
      "          \"B.\"\n",
      "        ]\n",
      "      }\n",
      "    ],\n",
      "    \"birthDate\": \"1951-01-20\"\n",
      "  }\n",
      "}\n",
      "{\n",
      "  \"fullUrl\": \"resource:1\",\n",
      "  \"resource\": {\n",
      "    \"resourceType\": \"Immunization\",\n",
      "    \"status\": \"completed\",\n",
      "    \"vaccineCode\": {\n",
      "      \"coding\": [\n",
      "        {\n",
      "          \"system\": \"http://hl7.org/fhir/sid/cvx\",\n",
      "          \"code\": \"207\"\n",
      "        }\n",
      "      ]\n",
      "    },\n",
      "    \"patient\": {\n",
      "      \"reference\": \"resource:0\"\n",
      "    },\n",
      "    \"occurrenceDateTime\": \"2021-01-01\",\n",
      "    \"performer\": [\n",
      "      {\n",
      "        \"actor\": {\n",
      "          \"display\": \"ABC General Hospital\"\n",
      "        }\n",
      "      }\n",
      "    ],\n",
      "    \"lotNumber\": \"0000001\"\n",
      "  }\n",
      "}\n",
      "{\n",
      "  \"fullUrl\": \"resource:2\",\n",
      "  \"resource\": {\n",
      "    \"resourceType\": \"Immunization\",\n",
      "    \"status\": \"completed\",\n",
      "    \"vaccineCode\": {\n",
      "      \"coding\": [\n",
      "        {\n",
      "          \"system\": \"http://hl7.org/fhir/sid/cvx\",\n",
      "          \"code\": \"207\"\n",
      "        }\n",
      "      ]\n",
      "    },\n",
      "    \"patient\": {\n",
      "      \"reference\": \"resource:0\"\n",
      "    },\n",
      "    \"occurrenceDateTime\": \"2021-01-29\",\n",
      "    \"performer\": [\n",
      "      {\n",
      "        \"actor\": {\n",
      "          \"display\": \"ABC General Hospital\"\n",
      "        }\n",
      "      }\n",
      "    ],\n",
      "    \"lotNumber\": \"0000007\"\n",
      "  }\n",
      "}\n"
     ]
    }
   ],
   "source": [
    "const entries = JSON.parse(scannedResult)\n",
    "    .vc.credentialSubject.fhirBundle.entry\n",
    "    .map(entry => console.log(JSON.stringify(entry, null, 2)))"
   ]
  },
  {
   "cell_type": "code",
   "execution_count": null,
   "id": "955d13ad",
   "metadata": {},
   "outputs": [],
   "source": []
  }
 ],
 "metadata": {
  "interpreter": {
   "hash": "767d51c1340bd893661ea55ea3124f6de3c7a262a8b4abca0554b478b1e2ff90"
  },
  "kernelspec": {
   "display_name": "Javascript (Node.js)",
   "language": "javascript",
   "name": "javascript"
  },
  "language_info": {
   "file_extension": ".js",
   "mimetype": "application/javascript",
   "name": "javascript",
   "version": "14.17.6"
  }
 },
 "nbformat": 4,
 "nbformat_minor": 5
}
