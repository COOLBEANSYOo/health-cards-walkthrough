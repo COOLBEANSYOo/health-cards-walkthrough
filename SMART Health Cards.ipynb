{
 "cells": [
  {
   "cell_type": "markdown",
   "id": "thick-dominican",
   "metadata": {},
   "source": [
    "# SMART Health Cards\n",
    "\n",
    "This notebook is designed to give an overview of [SMART Health Cards Framework](https://smarthealth.cards/) and how it works.\n",
    "\n",
    "\n",
    "This notebook is written in JavaScript and uses the [IJavascript kernel](https://github.com/n-riesco/ijavascript) for Jupyter Notebook."
   ]
  },
  {
   "cell_type": "markdown",
   "id": "portable-reducing",
   "metadata": {},
   "source": [
    "## Walkthrough\n",
    "\n",
    "The high level outline is as follows:\n",
    "* FHIR Bundle is created\n",
    "* FHIR Bundle is minified\n",
    "* SMART Health Card is created from FHIR Bundle\n",
    "* SMART Health Card is encoded as a JWS\n",
    "* Patient Retrieves the SMART Health Cards via:\n",
    "  * File Download\n",
    "  * QR Code\n",
    "  * FHIR API"
   ]
  },
  {
   "cell_type": "markdown",
   "id": "natural-gothic",
   "metadata": {},
   "source": [
    "### The FHIR Bundle\n",
    "\n",
    "A SMART Health Card is composed of a [W3C Verifiable Credential](https://w3c.github.io/vc-data-model/), [encoded as a JWT](https://w3c.github.io/vc-data-model/#jwt-encoding), with a Credential Subject that contains the FHIR version and a FHIR Bundle (See [Modeling W3C Verifiable Credentials in FHIR](https://smarthealth.cards/credential-modeling/).\n",
    "\n",
    "The FHIR Bundle contains the health care information.\n",
    "\n",
    "Let's assume we have the below FHIR Bundle ([Example 0](https://smarthealth.cards/examples/example-00-a-fhirBundle.json) at the time of writing). This FHIR Bundle could be produced in a number of ways, but for now let's imagine that the patient, John B. Anyperson, has just received his second COVID-19 vaccination shot and the healthcare worker entered his information into their system which produced the below in their system."
   ]
  },
  {
   "cell_type": "code",
   "execution_count": 1,
   "id": "useful-reset",
   "metadata": {},
   "outputs": [],
   "source": [
    "const fhirBundle = {\n",
    "  \"resourceType\": \"Bundle\",\n",
    "  \"type\": \"collection\",\n",
    "  \"entry\": [\n",
    "    {\n",
    "      \"fullUrl\": \"resource:0\",\n",
    "      \"resource\": {\n",
    "        \"resourceType\": \"Patient\",\n",
    "        \"name\": [\n",
    "          {\n",
    "            \"family\": \"Anyperson\",\n",
    "            \"given\": [\n",
    "              \"John\",\n",
    "              \"B.\"\n",
    "            ]\n",
    "          }\n",
    "        ],\n",
    "        \"gender\": \"male\",\n",
    "        \"birthDate\": \"1951-01-20\"\n",
    "      }\n",
    "    },\n",
    "    {\n",
    "      \"fullUrl\": \"resource:1\",\n",
    "      \"resource\": {\n",
    "        \"resourceType\": \"Immunization\",\n",
    "        \"status\": \"completed\",\n",
    "        \"vaccineCode\": {\n",
    "          \"coding\": [\n",
    "            {\n",
    "              \"system\": \"http://hl7.org/fhir/sid/cvx\",\n",
    "              \"code\": \"207\"\n",
    "            }\n",
    "          ]\n",
    "        },\n",
    "        \"patient\": {\n",
    "          \"reference\": \"resource:0\"\n",
    "        },\n",
    "        \"occurrenceDateTime\": \"2021-01-01\",\n",
    "        \"lotNumber\": \"Lot #0000001\",\n",
    "        \"performer\": [\n",
    "          {\n",
    "            \"actor\": {\n",
    "              \"display\": \"ABC General Hospital\"\n",
    "            }\n",
    "          }\n",
    "        ]\n",
    "      }\n",
    "    },\n",
    "    {\n",
    "      \"fullUrl\": \"resource:2\",\n",
    "      \"resource\": {\n",
    "        \"resourceType\": \"Immunization\",\n",
    "        \"status\": \"completed\",\n",
    "        \"vaccineCode\": {\n",
    "          \"coding\": [\n",
    "            {\n",
    "              \"system\": \"http://hl7.org/fhir/sid/cvx\",\n",
    "              \"code\": \"207\"\n",
    "            }\n",
    "          ]\n",
    "        },\n",
    "        \"patient\": {\n",
    "          \"reference\": \"resource:0\"\n",
    "        },\n",
    "        \"occurrenceDateTime\": \"2021-01-29\",\n",
    "        \"lotNumber\": \"Lot #0000007\",\n",
    "        \"performer\": [\n",
    "          {\n",
    "            \"actor\": {\n",
    "              \"display\": \"ABC General Hospital\"\n",
    "            }\n",
    "          }\n",
    "        ]\n",
    "      }\n",
    "    }\n",
    "  ]\n",
    "}"
   ]
  },
  {
   "cell_type": "markdown",
   "id": "found-murray",
   "metadata": {},
   "source": [
    "A couple things to note in the above JSON. This is a Bundle that contains 3 resources: one for the patient, one for the first vaccination, and another for the second vaccination. This Bundle conforms to the requirements laid out in [SMART Health Cards: Vaccination & Testing Implementation Guide](http://build.fhir.org/ig/dvci/vaccine-credential-ig/branches/main/) which defines what resources should be included in the Health Card. Specifically, this is an example of [Vaccine Credential Bundle - Data Minimization](http://build.fhir.org/ig/dvci/vaccine-credential-ig/branches/main/StructureDefinition-vaccine-credential-bundle-dm.html). We'll talk about what \"Data Minimization\" means in a second.\n",
    "\n",
    "Now let's create the \"Expanded Health Card\"."
   ]
  },
  {
   "cell_type": "markdown",
   "id": "excited-fraction",
   "metadata": {},
   "source": [
    "### Expanded Health Card\n",
    "\n",
    "The Expanded Health Card shows what the Health Card looks like before it is minified and serialized using the compact JWS serialization.\n",
    "\n",
    "[Health Cards are encoded as Compact Serialization JSON Web Signatures (JWS)](https://smarthealth.cards/#health-cards-are-encoded-as-compact-serialization-json-web-signatures-jws) and [Modeling W3C Verifiable Credentials in FHIR](https://smarthealth.cards/credential-modeling/) cover this in more detail.\n",
    "\n",
    "Before we get into the details it's important to note that some of the VC properties are mapped to standard JWT fields when using the [JWT encoding](https://w3c.github.io/vc-data-model/#jwt-encoding) (which we are). These include the `iss` and `nbf` fields.\n",
    "\n",
    "Below shows the expanded Health Card for the example:"
   ]
  },
  {
   "cell_type": "code",
   "execution_count": 2,
   "id": "fleet-cream",
   "metadata": {},
   "outputs": [],
   "source": [
    "const expandedHealthCard = {\n",
    "  \"iss\": \"https://smarthealth.cards/examples/issuer\",\n",
    "  \"nbf\": Date.now() / 1000,\n",
    "  \"vc\": {\n",
    "    \"@context\": [\n",
    "      \"https://www.w3.org/2018/credentials/v1\"\n",
    "    ],\n",
    "    \"type\": [\n",
    "      \"VerifiableCredential\",\n",
    "      \"https://smarthealth.cards#health-card\",\n",
    "      \"https://smarthealth.cards#immunization\",\n",
    "      \"https://smarthealth.cards#covid19\"\n",
    "    ],\n",
    "    \"credentialSubject\": {\n",
    "        \"fhirVersion\": \"4.0.1\",\n",
    "        \"fhirBundle\": fhirBundle\n",
    "    }\n",
    "  }\n",
    "}"
   ]
  },
  {
   "cell_type": "markdown",
   "id": "interpreted-estate",
   "metadata": {},
   "source": [
    "Let's talk about the three root fields:\n",
    "\n",
    "`iss` - This represents the [Issuer](https://w3c.github.io/vc-data-model/#issuer)\n",
    "  * Note this property is represented by `iss` according to the [JWT Encoding Rules](https://w3c.github.io/vc-data-model/#jwt-encoding)\n",
    "\n",
    "`nbf` - This represents the [IssuanceDate](https://w3c.github.io/vc-data-model/#issuance-date)\n",
    "  * Note this property is represented by `nbf`.\n",
    "\n",
    "`vc` - This represents the VC claim minus all the unmapped fields (`iss` and `nbf`)\n",
    "\n",
    "\n",
    "TODO: Fill out the rest of these properties"
   ]
  },
  {
   "cell_type": "markdown",
   "id": "related-cruise",
   "metadata": {},
   "source": [
    "### Health Cards are Small\n",
    "\n",
    "SMART Health Cards can be issued on pieces of paper via QR Codes. This introduces some unique size constraints in order to keep the number and size of QR codes manageable. When using and applying SMART Health Cards, it's important to keep them small.\n",
    "\n",
    "The SMART Health Card spec requires that [the JWS payload is minified and compressed](https://smarthealth.cards/#health-cards-are-small) in order to reduce payload size.\n",
    "\n",
    "SMART Health Cards are designed to be be atomic and shared as a whole. Information within the Health Card cannot be removed without affecting the verifiability of the Health Card. This imposes a privacy challenge when too much information is included in a single Health Card.\n",
    "\n",
    "The \"Data Minimization\" profiles in the IG are designed to address these size and privacy concerns by ensuring the FHIR profiles only require the minimal set of information to achieve the desired results.\n",
    "\n",
    "Below the JWS Payload (i.e. the \"Expanded Health Card\") is compressed according to the spec:"
   ]
  },
  {
   "cell_type": "code",
   "execution_count": 3,
   "id": "seasonal-begin",
   "metadata": {
    "scrolled": true
   },
   "outputs": [
    {
     "name": "stdout",
     "output_type": "stream",
     "text": [
      "{\"iss\":\"https://smarthealth.cards/examples/issuer\",\"nbf\":1617290880.843,\"vc\":{\"@context\":[\"https://www.w3.org/2018/credentials/v1\"],\"type\":[\"VerifiableCredential\",\"https://smarthealth.cards#health-card\",\"https://smarthealth.cards#immunization\",\"https://smarthealth.cards#covid19\"],\"credentialSubject\":{\"fhirVersion\":\"4.0.1\",\"fhirBundle\":{\"resourceType\":\"Bundle\",\"type\":\"collection\",\"entry\":[{\"fullUrl\":\"resource:0\",\"resource\":{\"resourceType\":\"Patient\",\"name\":[{\"family\":\"Anyperson\",\"given\":[\"John\",\"B.\"]}],\"gender\":\"male\",\"birthDate\":\"1951-01-20\"}},{\"fullUrl\":\"resource:1\",\"resource\":{\"resourceType\":\"Immunization\",\"status\":\"completed\",\"vaccineCode\":{\"coding\":[{\"system\":\"http://hl7.org/fhir/sid/cvx\",\"code\":\"207\"}]},\"patient\":{\"reference\":\"resource:0\"},\"occurrenceDateTime\":\"2021-01-01\",\"lotNumber\":\"Lot #0000001\",\"performer\":[{\"actor\":{\"display\":\"ABC General Hospital\"}}]}},{\"fullUrl\":\"resource:2\",\"resource\":{\"resourceType\":\"Immunization\",\"status\":\"completed\",\"vaccineCode\":{\"coding\":[{\"system\":\"http://hl7.org/fhir/sid/cvx\",\"code\":\"207\"}]},\"patient\":{\"reference\":\"resource:0\"},\"occurrenceDateTime\":\"2021-01-29\",\"lotNumber\":\"Lot #0000007\",\"performer\":[{\"actor\":{\"display\":\"ABC General Hospital\"}}]}}]}}}}\n"
     ]
    }
   ],
   "source": [
    "// Remove the optional whitespace\n",
    "const noWhiteSpaceHealthCard = JSON.stringify(expandedHealthCard)\n",
    "console.log(noWhiteSpaceHealthCard)"
   ]
  },
  {
   "cell_type": "code",
   "execution_count": 4,
   "id": "divine-casino",
   "metadata": {},
   "outputs": [],
   "source": [
    "// Normally we'd remove some of the fhirBundle elements at \n",
    "// this step ( e.g. Resource.id, Resource.meta, CodebableConcept.text).\n",
    "// These are already missing from the original payload, so we'll skip that here\n",
    "\n",
    "// Compress the payload with DEFLATE, omitting any zlib headers\n",
    "\n",
    "const compressedPayload = zlib.deflateRawSync(noWhiteSpaceHealthCard)"
   ]
  },
  {
   "cell_type": "markdown",
   "id": "southwest-output",
   "metadata": {},
   "source": [
    "### Creating the Signed Health Card\n",
    "\n",
    "Now that we have the compressed payload we can sign it as a JWS. First, let's create the key pair for signing and verifying."
   ]
  },
  {
   "cell_type": "code",
   "execution_count": 5,
   "id": "wanted-mistress",
   "metadata": {},
   "outputs": [],
   "source": [
    "var jose = require('node-jose');\n",
    "\n",
    "const keystore = jose.JWK.createKeyStore()\n",
    "\n",
    "let signingKey;\n",
    "\n",
    "keystore.generate(\"EC\", \"P-256\").\n",
    "        then(function(result) {\n",
    "          // {result} is a jose.JWK.Key\n",
    "          signingKey = result;\n",
    "        });"
   ]
  },
  {
   "cell_type": "code",
   "execution_count": 6,
   "id": "characteristic-directory",
   "metadata": {},
   "outputs": [
    {
     "data": {
      "text/plain": [
       "{\n",
       "  keys: [\n",
       "    {\n",
       "      kty: 'EC',\n",
       "      kid: 'geaNJ2-5CYdgr5vLQis1uNkhvxOocDTKCMBOKC4xCXY',\n",
       "      crv: 'P-256',\n",
       "      x: 'E278uPjnO6zoy9VrhtgiAljG6nxbSeZ8NRoMUgLz7xI',\n",
       "      y: 'eYHNxOC9GW3TR2mHFkVpSrtqxP9l6_6TRcu0lCZ335M',\n",
       "      d: 'mLc10AgevEje_9CeQlzoOfVGoSuBJ3yiMU1UH-I6ffU'\n",
       "    }\n",
       "  ]\n",
       "}"
      ]
     },
     "execution_count": 6,
     "metadata": {},
     "output_type": "execute_result"
    }
   ],
   "source": [
    "// Print the entire key store, including the `d` member which contains the private key value\n",
    "// Remove true to just present the public key\n",
    "// See: https://tools.ietf.org/id/draft-jones-jose-json-private-and-symmetric-key-00.html#rfc.section.3.1.1\n",
    "keystore.toJSON(true);"
   ]
  },
  {
   "cell_type": "markdown",
   "id": "ordered-preserve",
   "metadata": {},
   "source": [
    "With a signing key in hand we can create the JWS:"
   ]
  },
  {
   "cell_type": "code",
   "execution_count": 7,
   "id": "fantastic-absorption",
   "metadata": {},
   "outputs": [
    {
     "name": "stdout",
     "output_type": "stream",
     "text": [
      "eyJ6aXAiOiJERUYiLCJhbGciOiJFUzI1NiIsImtpZCI6ImdlYU5KMi01Q1lkZ3I1dkxRaXMxdU5raHZ4T29jRFRLQ01CT0tDNHhDWFkifQ.3VLLjtpAEPwV1Hs1fu0mgE8JRMpDURQpm1wiDsO4jSeahzUzNpCV_z09A2x2pYVLbkFcxl1dXVXdDyCcgwpa7ztXZZlTzPoWmfRtypmtXYZ7pjqJLiNgjxYS0JsGquJ1MSsX-Xyep_O72wQGDtUDvOFGe9x7qH4-Uu52u3R3mxq7zcq8mGfcYo3aCyZdNhSwTsAfOgwdP9CKRrCNxNUjhuZd1HZzfEzD4ypOKNVr8Zt5YfRVIDeDqItFEPVX5rd-8wu5D_6aVlhS6QJPBXdpnhbEF74ue11LDBiLzvSW4310BafC2SVwIyWxHZXQAHsg68TcS_ndSgKc-6ucAOfHC8RfyQ71h4UwhUcSpoQkPnirCWNdnLEVA-oQ7yfThvcyhfVIBreoa9pnBYpFfRtBYbxjPnAXi1fFNC-mZQ7jmLyorriu7uPzyJ1nvnfRfrgmj2FhA-NcaFyZOjJwUwu9jUbcwXlUp7ukTbVyFg8oJJ05UWd82BMBj51Q5jMY12MC3SmSKKdBizpoe5oogQznvY2lYPZeqCNFGQ3nwZY0_kuvNjGcz8ZPbvL4CyVKtTFWhRLJZNwbG6bVwnWSxeSXq8l71GiZnHwwrhOebngkdRdiLP_LGMvF5Rhn_xYj_cfxDw.XrF7y9I3Gw059C9yrLjSB8U6J81KwDTXsPtrjBMsbnTAlIlv7EqxC7o8YSeIWE3MjA7oTpqBY4mkypA6xh_eQA\n"
     ]
    }
   ],
   "source": [
    "const fields = { zip: 'DEF' }\n",
    "\n",
    "let jws;\n",
    "\n",
    "jose.JWS.createSign({ format: 'compact', fields }, signingKey)\n",
    "    .update(Buffer.from(compressedPayload))\n",
    "    .final()\n",
    "    .then(function(result) {\n",
    "        jws = result;\n",
    "        console.log(jws)\n",
    "});"
   ]
  },
  {
   "cell_type": "markdown",
   "id": "pediatric-pressing",
   "metadata": {},
   "source": [
    "Now that we have the JWS we should check that we can actually verify the signature"
   ]
  },
  {
   "cell_type": "code",
   "execution_count": 8,
   "id": "difficult-packing",
   "metadata": {},
   "outputs": [
    {
     "name": "stdout",
     "output_type": "stream",
     "text": [
      "{\n",
      "  protected: [ 'zip', 'alg', 'kid' ],\n",
      "  header: {\n",
      "    zip: 'DEF',\n",
      "    alg: 'ES256',\n",
      "    kid: 'geaNJ2-5CYdgr5vLQis1uNkhvxOocDTKCMBOKC4xCXY'\n",
      "  },\n",
      "  payload: <Buffer dd 52 cb 8e da 40 10 fc 15 d4 7b 35 7e ed 26 80 4f 09 44 ca 43 51 14 29 9b 5c 22 0e c3 b8 8d 27 9a 87 35 33 36 90 95 ff 3d 3d 03 6c 76 a5 85 4b 6e 41 ... 431 more bytes>,\n",
      "  signature: <Buffer 5e b1 7b cb d2 37 1b 0d 39 f4 2f 72 ac b8 d2 07 c5 3a 27 cd 4a c0 34 d7 b0 fb 6b 8c 13 2c 6e 74 c0 94 89 6f ec 4a b1 0b ba 3c 61 27 88 58 4d cc 8c 0e ... 14 more bytes>,\n",
      "  key: JWKBaseKeyObject {\n",
      "    keystore: JWKStore {},\n",
      "    length: 256,\n",
      "    kty: 'EC',\n",
      "    kid: 'geaNJ2-5CYdgr5vLQis1uNkhvxOocDTKCMBOKC4xCXY',\n",
      "    use: '',\n",
      "    alg: ''\n",
      "  }\n",
      "}\n"
     ]
    }
   ],
   "source": [
    "jose.JWS.createVerify(signingKey)\n",
    "    .verify(jws).then(function(result) {\n",
    "    console.log(result)\n",
    "})"
   ]
  },
  {
   "cell_type": "markdown",
   "id": "discrete-morrison",
   "metadata": {},
   "source": [
    "Let's also create a fake key and test with that to make sure we aren't getting a false positive"
   ]
  },
  {
   "cell_type": "code",
   "execution_count": 9,
   "id": "biological-consumer",
   "metadata": {},
   "outputs": [],
   "source": [
    "let fakeKey;\n",
    "\n",
    "keystore.generate(\"EC\", \"P-256\").\n",
    "        then(function(result) {\n",
    "          // {result} is a jose.JWK.Key\n",
    "          fakeKey = result;\n",
    "        });"
   ]
  },
  {
   "cell_type": "code",
   "execution_count": 10,
   "id": "modern-label",
   "metadata": {},
   "outputs": [
    {
     "ename": "Error",
     "evalue": "no key found",
     "output_type": "error",
     "traceback": [
      "Error: no key found",
      "    at processSig (/Users/radamson/software/vci/health-cards-walkthrough/node_modules/node-jose/lib/jws/verify.js:131:22)",
      "    at processTicksAndRejections (node:internal/process/task_queues:94:5)"
     ]
    }
   ],
   "source": [
    "// Note \"Error: no key found\" is the generic error message for keys that won't decrypt\n",
    "// See: https://github.com/cisco/node-jose/issues/262\n",
    "jose.JWS.createVerify(fakeKey)\n",
    "    .verify(jws).then(function(result) {\n",
    "    console.log(result)\n",
    "})"
   ]
  },
  {
   "cell_type": "markdown",
   "id": "surrounded-conditioning",
   "metadata": {},
   "source": [
    "### QR Code Generation\n",
    "\n",
    "Now that we have a JWS we can turn that into a QR Code which can be scanned. We won't worry about chunking just yet since the payload is below the 1195 character threshold in this example, but its a simple addition and [this code snippet](https://github.com/smart-on-fhir/health-cards/blob/152a4f83b223b5fd14027f765e957e290649f2c0/generate-examples/src/index.ts#L146) goes over the process."
   ]
  },
  {
   "cell_type": "code",
   "execution_count": 11,
   "id": "presidential-turkey",
   "metadata": {},
   "outputs": [
    {
     "name": "stdout",
     "output_type": "stream",
     "text": [
      "shc:/5676290952432060346029243740446031222959532654603460292540772804336028702864716745222809286455634440083032600304360463624506280455627537524332755540086952274507390512613725373136030422390371233327592342256260573601064131316171672024357441042770045772036458241129373267234037366764047460237034076138565259774077336722415077031220057505674441315362255475630455434143552376225458746752107771434545633977356642645737717667647143444510676168293160335861754438032970266872290432387043004376566750341005743626237140237334252656127510682707004072080572063706647568107754681164265754446606522276455533593874397020573458745535122230376922337533406159724555042745775724772307766734303341691145710844573741282356236828712524354143086955001174720823500952416359380936293521435567655953242510077256040431232160317773384207060403215257220538417428764275274543362027705809113954385065553858305400097254203457272211375776361004590740745940543867663662356560692242335565312441200066361076573959735476595741282169566652126765214467255737712144537561356520436004572533220064453610616431766669696072107235777629046573655737576958646105255920003354522576453461297440747212614053547443634067107262395341762558116629290308404255110521322161080436086132440405322206386438303055216077676656086666583677657344056344354556682233252636066574454403506272733361265477114535537331072276413071392542593731294533745326095341746542387556384368116310042660456527747469593456536558625537556031355031263273250837596550754461505457752374014369251076122806267403081222127669316138211140092911043074233943703571696121327053653920632863731024687522106611443856284224063261201066396768214407646276672009755950563620\n"
     ]
    }
   ],
   "source": [
    "// Convert to numeric mode QR\n",
    "\n",
    "// This code snippet was adapted/taken from https://github.com/smart-on-fhir/health-cards/blob/152a4f83b223b5fd14027f765e957e290649f2c0/generate-examples/src/index.ts#L173\n",
    "const numericJWS = jws.split('')\n",
    "    .map((c) => c.charCodeAt(0) - 45)\n",
    "    .flatMap((c) => [Math.floor(c / 10), c % 10]) //Need to maintain leading zeros\n",
    "    .join('')\n",
    "\n",
    "const qrCodeData = 'shc:/' + numericJWS\n",
    "\n",
    "console.log(qrCodeData)"
   ]
  },
  {
   "cell_type": "markdown",
   "id": "undefined-telephone",
   "metadata": {},
   "source": [
    "The above shows what the value of the QR code will be, with the leading `byte` segment and the `numeric` segment following"
   ]
  },
  {
   "cell_type": "code",
   "execution_count": 14,
   "id": "macro-shift",
   "metadata": {
    "scrolled": false
   },
   "outputs": [
    {
     "data": {
      "image/svg+xml": [
       "<svg xmlns=\"http://www.w3.org/2000/svg\" viewBox=\"0 0 113 113\" shape-rendering=\"crispEdges\"><path fill=\"#ffffff\" d=\"M0 0h113v113H0z\"/><path stroke=\"#000000\" d=\"M4 4.5h7m1 0h1m3 0h4m1 0h1m1 0h3m2 0h1m1 0h2m2 0h2m1 0h1m2 0h2m1 0h1m6 0h2m1 0h6m1 0h2m1 0h1m5 0h5m2 0h3m1 0h1m3 0h1m5 0h2m1 0h2m1 0h1m1 0h1m3 0h7M4 5.5h1m5 0h1m1 0h1m1 0h1m1 0h4m2 0h1m4 0h3m1 0h2m1 0h1m1 0h2m4 0h4m1 0h1m1 0h2m1 0h2m2 0h1m1 0h3m2 0h1m6 0h3m2 0h5m2 0h1m1 0h3m1 0h2m2 0h1m1 0h3m1 0h1m3 0h1m5 0h1M4 6.5h1m1 0h3m1 0h1m1 0h3m1 0h2m1 0h2m1 0h1m3 0h2m2 0h3m1 0h1m5 0h1m1 0h2m1 0h1m3 0h2m1 0h3m4 0h2m2 0h1m1 0h3m4 0h1m1 0h2m1 0h3m5 0h3m2 0h2m3 0h5m2 0h1m1 0h3m1 0h1M4 7.5h1m1 0h3m1 0h1m1 0h7m2 0h4m8 0h3m1 0h1m1 0h2m1 0h1m3 0h3m2 0h3m1 0h4m1 0h1m2 0h2m2 0h1m1 0h1m2 0h1m1 0h1m2 0h1m3 0h1m1 0h1m1 0h1m1 0h1m2 0h2m2 0h1m5 0h1m1 0h1m1 0h3m1 0h1M4 8.5h1m1 0h3m1 0h1m3 0h2m2 0h2m3 0h2m3 0h5m2 0h3m1 0h1m8 0h2m1 0h6m1 0h1m2 0h2m6 0h2m1 0h1m1 0h1m1 0h5m1 0h5m2 0h3m7 0h2m1 0h1m1 0h3m1 0h1M4 9.5h1m5 0h1m1 0h1m3 0h1m2 0h3m1 0h1m4 0h1m3 0h1m3 0h2m2 0h1m4 0h1m1 0h2m2 0h2m3 0h1m2 0h5m1 0h1m1 0h2m1 0h2m4 0h1m3 0h3m1 0h1m2 0h5m1 0h1m1 0h3m1 0h1m2 0h1m5 0h1M4 10.5h7m1 0h1m1 0h1m1 0h1m1 0h1m1 0h1m1 0h1m1 0h1m1 0h1m1 0h1m1 0h1m1 0h1m1 0h1m1 0h1m1 0h1m1 0h1m1 0h1m1 0h1m1 0h1m1 0h1m1 0h1m1 0h1m1 0h1m1 0h1m1 0h1m1 0h1m1 0h1m1 0h1m1 0h1m1 0h1m1 0h1m1 0h1m1 0h1m1 0h1m1 0h1m1 0h1m1 0h1m1 0h1m1 0h1m1 0h1m1 0h1m1 0h1m1 0h1m1 0h1m1 0h1m1 0h1m1 0h7M14 11.5h4m1 0h2m2 0h1m1 0h2m1 0h1m3 0h2m3 0h1m1 0h4m1 0h2m1 0h1m1 0h4m3 0h2m1 0h3m1 0h3m5 0h1m4 0h1m3 0h1m4 0h2m2 0h1m1 0h3m2 0h1m2 0h1M4 12.5h2m2 0h3m3 0h3m2 0h1m2 0h1m1 0h3m1 0h7m1 0h3m1 0h1m2 0h3m1 0h1m4 0h5m1 0h2m2 0h1m1 0h4m2 0h3m3 0h7m1 0h2m2 0h4m1 0h1m3 0h3m3 0h1m1 0h4M4 13.5h1m9 0h2m2 0h4m2 0h3m1 0h2m2 0h1m2 0h5m1 0h1m1 0h2m4 0h3m2 0h4m3 0h2m1 0h1m1 0h5m2 0h2m1 0h1m1 0h2m3 0h2m2 0h1m3 0h2m2 0h1m2 0h1m4 0h4m1 0h1M4 14.5h2m1 0h2m1 0h1m1 0h2m2 0h4m2 0h1m3 0h1m2 0h4m2 0h1m5 0h4m1 0h1m2 0h1m1 0h2m3 0h3m3 0h2m3 0h3m1 0h1m1 0h2m2 0h1m1 0h3m1 0h1m1 0h2m4 0h2m1 0h1m1 0h1m3 0h1m4 0h1m1 0h2M4 15.5h1m3 0h1m2 0h2m2 0h1m1 0h1m1 0h2m1 0h1m1 0h1m1 0h2m1 0h2m3 0h1m3 0h2m4 0h2m2 0h1m1 0h1m1 0h2m1 0h3m1 0h4m1 0h2m1 0h1m4 0h1m2 0h1m2 0h1m2 0h1m1 0h1m1 0h3m1 0h3m1 0h1m3 0h1m1 0h1m2 0h1m1 0h1M4 16.5h1m1 0h1m3 0h2m2 0h1m2 0h2m1 0h1m2 0h1m1 0h1m3 0h2m1 0h3m1 0h1m1 0h3m3 0h1m2 0h2m1 0h2m1 0h3m2 0h2m5 0h2m1 0h1m1 0h1m1 0h1m2 0h1m4 0h5m1 0h3m7 0h1m2 0h1m5 0h1M4 17.5h1m1 0h3m5 0h1m1 0h2m2 0h1m1 0h2m2 0h3m2 0h6m3 0h2m2 0h2m1 0h1m2 0h1m1 0h1m4 0h1m3 0h1m1 0h1m2 0h1m1 0h1m1 0h2m1 0h2m1 0h2m1 0h2m2 0h1m4 0h2m2 0h2m7 0h1m4 0h1M4 18.5h3m3 0h1m1 0h1m1 0h1m1 0h2m2 0h1m10 0h4m1 0h3m2 0h2m1 0h2m1 0h1m5 0h2m1 0h3m4 0h1m3 0h4m3 0h3m1 0h3m5 0h1m2 0h2m2 0h6m1 0h1m3 0h1m3 0h1M5 19.5h1m10 0h3m2 0h2m1 0h2m10 0h4m4 0h2m3 0h1m2 0h2m1 0h3m1 0h2m1 0h1m1 0h2m2 0h2m1 0h2m2 0h2m5 0h3m1 0h2m4 0h1m3 0h4m1 0h5m1 0h1M4 20.5h1m5 0h1m1 0h1m1 0h2m4 0h3m1 0h5m1 0h1m1 0h3m1 0h5m2 0h2m1 0h1m4 0h5m1 0h2m6 0h4m1 0h1m2 0h1m1 0h2m1 0h1m1 0h1m5 0h3m4 0h6m1 0h2m1 0h1m1 0h3M4 21.5h1m1 0h2m1 0h1m1 0h1m2 0h2m2 0h1m2 0h3m1 0h1m1 0h1m1 0h5m4 0h1m1 0h2m2 0h1m4 0h1m2 0h3m3 0h4m1 0h1m2 0h1m1 0h2m1 0h1m3 0h6m1 0h2m1 0h2m1 0h2m1 0h3m1 0h1m3 0h3m2 0h1m1 0h3M4 22.5h7m1 0h1m1 0h1m2 0h2m2 0h1m4 0h1m1 0h1m2 0h3m1 0h2m4 0h2m1 0h4m1 0h1m1 0h2m1 0h1m1 0h2m3 0h3m3 0h6m1 0h1m3 0h3m3 0h3m2 0h2m1 0h4m1 0h7m3 0h2M5 23.5h2m1 0h2m1 0h2m3 0h1m3 0h3m2 0h1m1 0h3m7 0h3m3 0h3m2 0h2m1 0h1m1 0h1m1 0h2m1 0h1m1 0h1m1 0h1m1 0h2m4 0h1m3 0h1m3 0h1m4 0h1m3 0h2m2 0h4m2 0h1m2 0h3m2 0h1m1 0h1M5 24.5h2m1 0h4m8 0h2m2 0h4m1 0h1m2 0h3m2 0h7m4 0h2m2 0h4m1 0h4m4 0h2m1 0h4m1 0h1m6 0h2m1 0h4m2 0h1m1 0h1m1 0h1m1 0h4m2 0h2m2 0h2m1 0h1M4 25.5h1m1 0h1m1 0h1m3 0h1m2 0h1m3 0h1m2 0h1m3 0h1m1 0h1m1 0h4m1 0h1m2 0h1m1 0h1m4 0h1m1 0h2m2 0h1m1 0h2m3 0h4m1 0h1m1 0h6m1 0h1m1 0h1m2 0h4m2 0h2m1 0h2m1 0h1m3 0h3m3 0h2m2 0h1m2 0h3M6 26.5h1m2 0h2m2 0h2m4 0h1m1 0h4m5 0h2m3 0h2m2 0h1m4 0h2m1 0h1m1 0h2m1 0h2m3 0h3m1 0h2m3 0h3m4 0h2m5 0h1m2 0h2m4 0h1m2 0h2m2 0h1m2 0h2m1 0h3m1 0h2M6 27.5h4m2 0h2m2 0h4m2 0h8m1 0h1m1 0h2m2 0h2m1 0h1m1 0h3m1 0h2m5 0h2m1 0h1m1 0h2m2 0h1m2 0h2m6 0h1m8 0h1m1 0h4m3 0h2m1 0h2m2 0h1m1 0h3m4 0h1M6 28.5h9m2 0h2m2 0h1m1 0h1m1 0h2m1 0h6m3 0h7m1 0h1m1 0h1m2 0h7m1 0h3m7 0h1m1 0h1m5 0h5m3 0h3m2 0h3m2 0h1m1 0h2m1 0h6m2 0h1M4 29.5h5m3 0h2m1 0h1m1 0h3m4 0h1m1 0h3m3 0h1m2 0h2m1 0h1m1 0h1m1 0h1m5 0h2m1 0h2m3 0h3m1 0h2m1 0h1m1 0h4m1 0h1m2 0h2m1 0h1m3 0h1m5 0h3m5 0h2m1 0h2m1 0h1m3 0h1m2 0h2M4 30.5h2m2 0h1m1 0h1m1 0h1m1 0h2m2 0h2m3 0h2m3 0h1m1 0h1m1 0h1m1 0h3m2 0h2m1 0h1m1 0h4m3 0h2m1 0h1m1 0h2m1 0h1m1 0h2m1 0h5m4 0h4m1 0h1m1 0h5m4 0h1m2 0h1m1 0h2m2 0h1m1 0h1m1 0h1m1 0h1m1 0h3M5 31.5h1m2 0h1m3 0h2m3 0h1m1 0h1m2 0h1m1 0h3m1 0h1m3 0h2m1 0h1m1 0h2m1 0h1m1 0h3m5 0h3m3 0h1m2 0h1m2 0h1m2 0h1m3 0h8m3 0h2m1 0h1m1 0h7m5 0h4m3 0h3M5 32.5h1m2 0h5m4 0h3m2 0h1m2 0h9m2 0h1m2 0h1m1 0h3m1 0h1m2 0h1m3 0h5m1 0h2m1 0h1m2 0h2m2 0h1m2 0h1m1 0h2m1 0h6m1 0h1m1 0h1m1 0h3m2 0h1m3 0h2m2 0h5m3 0h1M5 33.5h3m5 0h2m3 0h3m2 0h2m1 0h5m4 0h4m3 0h1m3 0h4m2 0h1m4 0h2m3 0h1m1 0h6m4 0h1m1 0h4m4 0h1m1 0h2m1 0h1m2 0h1m1 0h3m1 0h7m1 0h1M4 34.5h4m2 0h1m1 0h5m1 0h2m4 0h1m2 0h3m2 0h1m1 0h1m2 0h1m1 0h1m1 0h4m2 0h1m1 0h3m2 0h2m1 0h1m3 0h5m9 0h1m1 0h1m1 0h1m2 0h1m2 0h1m1 0h2m1 0h6m1 0h2m2 0h2m1 0h4M4 35.5h4m1 0h1m4 0h1m4 0h1m2 0h1m2 0h2m1 0h1m3 0h2m4 0h2m1 0h1m2 0h3m3 0h6m7 0h2m6 0h4m1 0h1m2 0h3m2 0h4m2 0h1m1 0h3m2 0h4m1 0h3m2 0h1M5 36.5h1m4 0h2m2 0h3m1 0h2m3 0h3m4 0h2m1 0h1m2 0h1m1 0h1m4 0h1m4 0h1m3 0h4m2 0h1m1 0h1m3 0h1m1 0h1m1 0h2m1 0h1m1 0h4m1 0h1m2 0h1m1 0h1m1 0h3m3 0h1m4 0h1m3 0h1m2 0h1m4 0h1M5 37.5h2m6 0h11m2 0h1m1 0h3m4 0h1m1 0h2m1 0h6m1 0h3m6 0h7m1 0h4m1 0h2m3 0h1m1 0h3m1 0h1m4 0h2m1 0h2m1 0h2m1 0h4m1 0h1m1 0h2m3 0h3M4 38.5h1m5 0h1m1 0h3m3 0h1m6 0h3m1 0h1m2 0h1m1 0h1m2 0h4m1 0h2m1 0h3m1 0h2m3 0h1m2 0h1m4 0h1m3 0h5m6 0h1m1 0h1m2 0h1m2 0h4m4 0h2m1 0h6m2 0h2m1 0h2M6 39.5h1m2 0h1m3 0h3m2 0h3m4 0h4m2 0h1m1 0h1m1 0h1m1 0h2m1 0h1m1 0h2m6 0h5m4 0h3m2 0h1m1 0h11m4 0h1m1 0h1m2 0h2m6 0h2m2 0h1m3 0h5m1 0h1M4 40.5h2m1 0h1m1 0h2m1 0h2m1 0h2m7 0h1m5 0h1m1 0h1m4 0h4m1 0h3m1 0h1m1 0h1m2 0h4m3 0h2m2 0h3m2 0h3m1 0h1m1 0h2m1 0h1m1 0h1m5 0h1m2 0h2m3 0h1m3 0h1m4 0h1m1 0h1M6 41.5h1m2 0h1m1 0h1m2 0h1m2 0h1m3 0h6m2 0h6m1 0h1m2 0h3m1 0h7m2 0h1m2 0h1m1 0h1m2 0h2m2 0h1m3 0h1m5 0h8m3 0h4m1 0h2m2 0h2m1 0h1m1 0h4m2 0h1m1 0h2M4 42.5h1m4 0h2m2 0h1m1 0h1m1 0h2m1 0h1m4 0h1m1 0h1m1 0h1m2 0h3m4 0h1m3 0h1m1 0h1m2 0h5m1 0h6m1 0h1m6 0h1m1 0h1m1 0h1m4 0h1m2 0h2m3 0h1m1 0h6m4 0h4m1 0h3m2 0h2M6 43.5h1m2 0h1m1 0h7m2 0h1m5 0h3m4 0h4m3 0h1m3 0h1m5 0h2m1 0h2m1 0h2m5 0h1m2 0h4m1 0h1m1 0h4m3 0h1m2 0h8m3 0h2m2 0h2m1 0h1m2 0h1m3 0h1M7 44.5h1m2 0h1m1 0h1m1 0h4m1 0h3m2 0h5m1 0h1m1 0h2m1 0h1m1 0h2m2 0h1m1 0h2m1 0h2m1 0h1m3 0h2m2 0h1m2 0h2m1 0h1m2 0h4m2 0h1m1 0h3m1 0h1m1 0h1m2 0h1m3 0h2m1 0h1m1 0h1m1 0h1m1 0h4m2 0h2m1 0h2M5 45.5h2m1 0h2m2 0h1m2 0h1m4 0h1m1 0h4m1 0h1m1 0h1m4 0h1m2 0h2m6 0h2m1 0h2m2 0h6m1 0h3m1 0h3m2 0h1m3 0h1m1 0h2m3 0h3m4 0h2m3 0h1m1 0h4m5 0h3m1 0h1M4 46.5h12m2 0h1m2 0h1m1 0h3m3 0h3m1 0h1m3 0h1m4 0h1m1 0h2m1 0h2m1 0h6m3 0h1m1 0h1m1 0h1m1 0h2m1 0h1m1 0h1m1 0h3m2 0h1m1 0h4m2 0h1m1 0h1m4 0h2m2 0h1m2 0h2m2 0h2m2 0h2M4 47.5h2m1 0h3m2 0h1m1 0h1m2 0h2m1 0h1m1 0h2m2 0h3m1 0h2m1 0h5m1 0h2m1 0h1m7 0h2m1 0h1m4 0h1m8 0h3m2 0h6m1 0h2m1 0h3m1 0h1m1 0h2m1 0h2m2 0h2m2 0h5m1 0h1m1 0h2M4 48.5h2m1 0h2m1 0h2m1 0h3m1 0h1m1 0h1m1 0h4m2 0h3m1 0h5m2 0h6m2 0h1m3 0h1m4 0h2m3 0h1m1 0h2m3 0h3m2 0h1m2 0h2m4 0h1m1 0h1m3 0h2m1 0h1m3 0h1m4 0h1m1 0h1m2 0h5M5 49.5h1m2 0h2m1 0h4m4 0h4m2 0h3m1 0h1m1 0h4m2 0h2m1 0h1m1 0h5m3 0h1m1 0h3m1 0h1m2 0h2m2 0h3m1 0h1m4 0h1m2 0h1m1 0h1m1 0h4m4 0h2m1 0h2m1 0h3m5 0h1m1 0h2m3 0h1M4 50.5h1m3 0h3m2 0h1m1 0h1m2 0h1m2 0h6m3 0h3m5 0h2m3 0h3m1 0h1m1 0h4m1 0h2m1 0h3m2 0h1m2 0h3m2 0h1m2 0h1m7 0h7m1 0h1m2 0h2m2 0h2m1 0h1m1 0h4m3 0h1M6 51.5h2m5 0h3m1 0h2m1 0h10m2 0h1m2 0h2m3 0h2m2 0h1m2 0h2m2 0h1m2 0h1m1 0h1m4 0h1m1 0h1m3 0h1m1 0h1m2 0h1m2 0h3m1 0h2m1 0h1m2 0h2m1 0h1m1 0h1m1 0h1m2 0h1m1 0h1m1 0h2m2 0h2m3 0h1M6 52.5h1m1 0h7m2 0h2m2 0h1m4 0h8m1 0h1m2 0h1m2 0h4m2 0h3m2 0h5m1 0h1m1 0h2m1 0h2m3 0h14m1 0h2m1 0h1m2 0h5m3 0h2m1 0h6M6 53.5h1m1 0h1m3 0h3m2 0h1m1 0h2m1 0h3m1 0h1m1 0h1m3 0h1m1 0h1m2 0h1m1 0h1m2 0h1m7 0h3m3 0h1m1 0h3m3 0h2m1 0h1m2 0h1m1 0h1m3 0h1m3 0h1m6 0h1m2 0h2m2 0h3m1 0h1m1 0h1m3 0h2m2 0h1M4 54.5h3m1 0h1m1 0h1m1 0h1m1 0h7m3 0h1m3 0h1m1 0h1m1 0h1m5 0h2m5 0h4m2 0h2m1 0h1m1 0h1m1 0h1m1 0h1m1 0h1m2 0h2m1 0h4m1 0h2m1 0h1m1 0h1m1 0h3m1 0h2m1 0h1m3 0h1m3 0h1m2 0h3m1 0h1m1 0h3M6 55.5h3m3 0h1m3 0h1m1 0h1m3 0h3m3 0h1m3 0h1m2 0h4m1 0h2m2 0h2m5 0h2m3 0h3m1 0h1m1 0h2m3 0h1m2 0h1m1 0h2m2 0h1m3 0h6m2 0h2m2 0h1m3 0h3m1 0h1m3 0h1m1 0h1M8 56.5h8m2 0h6m1 0h9m1 0h2m4 0h2m6 0h2m1 0h7m2 0h4m2 0h5m1 0h1m1 0h9m5 0h3m1 0h1m1 0h1m4 0h5m1 0h3M8 57.5h2m1 0h4m1 0h3m1 0h5m3 0h2m2 0h1m3 0h2m1 0h1m2 0h2m4 0h1m1 0h1m3 0h3m3 0h1m1 0h1m1 0h2m1 0h1m6 0h4m1 0h1m1 0h2m3 0h2m2 0h1m1 0h2m1 0h1m4 0h3m1 0h2m1 0h1M4 58.5h3m1 0h5m1 0h4m1 0h1m3 0h1m3 0h1m1 0h3m1 0h3m1 0h3m3 0h2m1 0h1m1 0h2m3 0h3m1 0h1m1 0h1m5 0h2m1 0h1m2 0h1m2 0h1m1 0h2m1 0h1m5 0h3m3 0h2m1 0h1m1 0h2m4 0h2m1 0h3M9 59.5h1m1 0h1m7 0h3m1 0h2m1 0h1m1 0h2m1 0h2m3 0h1m1 0h1m1 0h2m4 0h1m3 0h1m4 0h1m1 0h1m1 0h5m3 0h4m1 0h2m1 0h4m1 0h4m4 0h2m6 0h2m1 0h1m3 0h2m1 0h2M4 60.5h1m4 0h8m1 0h2m1 0h1m1 0h4m2 0h1m1 0h1m2 0h2m8 0h6m2 0h2m3 0h9m1 0h1m1 0h2m3 0h1m1 0h1m1 0h2m1 0h1m1 0h2m2 0h3m2 0h1m1 0h1m5 0h3m3 0h1m1 0h1M4 61.5h1m2 0h1m6 0h5m1 0h1m1 0h1m2 0h4m1 0h1m6 0h1m1 0h1m3 0h2m2 0h4m3 0h3m2 0h2m1 0h1m1 0h1m1 0h1m3 0h1m1 0h3m2 0h1m6 0h2m4 0h3m2 0h1m2 0h4m2 0h1m2 0h1M4 62.5h2m1 0h1m1 0h2m2 0h6m2 0h2m2 0h2m5 0h3m2 0h2m2 0h1m1 0h2m3 0h5m2 0h1m2 0h1m5 0h2m2 0h3m1 0h2m3 0h1m2 0h1m3 0h11m1 0h2m4 0h1m1 0h2m2 0h1M8 63.5h1m2 0h2m4 0h1m1 0h1m1 0h3m1 0h3m2 0h3m5 0h1m2 0h2m3 0h4m1 0h1m6 0h1m2 0h2m3 0h3m2 0h1m1 0h1m3 0h6m3 0h2m1 0h2m2 0h2m6 0h4m2 0h1M4 64.5h1m1 0h2m2 0h3m1 0h3m1 0h1m1 0h10m1 0h1m2 0h1m4 0h1m1 0h1m2 0h1m1 0h3m3 0h1m1 0h1m2 0h1m1 0h4m1 0h4m1 0h2m2 0h1m1 0h5m2 0h2m3 0h2m3 0h4m1 0h1m3 0h3m4 0h1M4 65.5h4m4 0h2m1 0h2m1 0h1m2 0h2m1 0h3m1 0h1m4 0h2m1 0h2m2 0h2m1 0h3m2 0h2m5 0h2m3 0h1m1 0h2m1 0h1m3 0h1m1 0h2m1 0h5m3 0h1m1 0h2m1 0h2m1 0h4m1 0h2m1 0h1m1 0h1m1 0h1m3 0h3M5 66.5h6m1 0h2m1 0h1m3 0h3m2 0h1m1 0h1m1 0h3m1 0h2m2 0h3m3 0h5m2 0h1m1 0h2m1 0h2m2 0h1m1 0h1m4 0h2m1 0h1m1 0h2m1 0h1m4 0h1m1 0h2m1 0h1m1 0h3m9 0h1m1 0h4M4 67.5h1m2 0h3m3 0h1m1 0h2m2 0h2m1 0h1m7 0h3m3 0h1m1 0h1m2 0h2m2 0h1m1 0h3m3 0h1m3 0h1m2 0h4m3 0h3m6 0h6m1 0h1m2 0h2m1 0h1m3 0h1m1 0h2m6 0h2m2 0h1M10 68.5h1m1 0h3m1 0h1m4 0h1m2 0h3m1 0h1m1 0h2m2 0h2m1 0h1m4 0h1m1 0h1m1 0h2m1 0h2m1 0h1m1 0h1m2 0h1m2 0h1m5 0h2m4 0h1m5 0h2m2 0h2m5 0h1m1 0h5m1 0h1m1 0h7m1 0h1M4 69.5h1m2 0h1m1 0h1m3 0h5m1 0h1m5 0h2m1 0h1m1 0h1m2 0h3m1 0h1m2 0h1m1 0h3m1 0h1m3 0h1m1 0h5m3 0h1m1 0h1m2 0h2m3 0h4m3 0h2m2 0h3m1 0h1m3 0h3m2 0h1m3 0h1m4 0h1m1 0h4M4 70.5h2m3 0h7m3 0h3m2 0h1m1 0h1m3 0h1m1 0h2m2 0h2m3 0h6m4 0h2m2 0h1m2 0h1m1 0h2m1 0h2m1 0h2m2 0h2m1 0h2m2 0h1m2 0h2m1 0h1m3 0h1m1 0h2m1 0h1m5 0h2m1 0h1m1 0h4M4 71.5h1m3 0h1m3 0h1m1 0h9m4 0h1m1 0h1m1 0h2m2 0h1m1 0h1m1 0h3m1 0h1m3 0h5m1 0h2m2 0h1m1 0h1m6 0h2m1 0h2m3 0h3m2 0h2m5 0h2m1 0h2m1 0h1m2 0h2m3 0h1m2 0h1M8 72.5h1m1 0h1m1 0h1m1 0h1m2 0h2m2 0h2m2 0h1m1 0h5m2 0h1m1 0h1m5 0h1m1 0h1m1 0h2m1 0h2m2 0h1m3 0h1m1 0h1m5 0h1m4 0h1m1 0h1m5 0h3m1 0h1m2 0h1m1 0h2m2 0h2m1 0h2m1 0h2m3 0h1m3 0h3M5 73.5h1m1 0h1m4 0h5m1 0h2m2 0h2m4 0h3m1 0h3m2 0h1m3 0h1m1 0h4m3 0h1m1 0h1m3 0h1m2 0h1m1 0h4m1 0h1m1 0h2m1 0h3m2 0h3m1 0h3m2 0h4m4 0h1m4 0h5m1 0h2m2 0h1M4 74.5h1m1 0h5m2 0h6m5 0h1m1 0h5m1 0h2m2 0h3m2 0h1m3 0h1m5 0h1m3 0h1m2 0h1m3 0h1m1 0h2m1 0h2m1 0h2m1 0h7m1 0h1m5 0h3m4 0h2m3 0h3m1 0h1m1 0h1M5 75.5h2m1 0h1m2 0h2m3 0h3m1 0h2m2 0h1m1 0h3m1 0h1m1 0h1m2 0h1m1 0h1m1 0h2m5 0h5m1 0h2m2 0h2m3 0h1m2 0h1m2 0h1m2 0h1m3 0h1m3 0h3m2 0h1m1 0h1m1 0h4m3 0h1m1 0h4m3 0h2m2 0h1M6 76.5h1m1 0h6m1 0h1m3 0h1m1 0h2m1 0h1m3 0h8m4 0h2m2 0h2m1 0h1m1 0h8m7 0h2m1 0h1m2 0h1m1 0h1m3 0h5m2 0h4m1 0h1m1 0h1m5 0h10m1 0h2M5 77.5h2m1 0h1m3 0h4m2 0h1m3 0h4m2 0h1m3 0h1m1 0h2m1 0h1m1 0h3m1 0h2m5 0h1m1 0h1m3 0h1m10 0h1m1 0h5m2 0h1m3 0h4m2 0h2m1 0h1m2 0h1m1 0h2m2 0h1m1 0h1m3 0h1m3 0h1M6 78.5h3m1 0h1m1 0h2m2 0h4m4 0h5m1 0h1m1 0h4m1 0h1m1 0h1m1 0h1m1 0h2m1 0h1m5 0h1m1 0h1m1 0h3m2 0h1m2 0h1m1 0h4m1 0h6m1 0h1m1 0h1m2 0h1m1 0h1m7 0h1m6 0h1m1 0h1m1 0h3M4 79.5h3m1 0h1m3 0h1m1 0h1m4 0h3m2 0h1m1 0h3m3 0h3m3 0h2m2 0h4m1 0h1m1 0h2m1 0h1m3 0h2m1 0h4m1 0h1m1 0h1m4 0h2m1 0h3m3 0h3m2 0h2m1 0h1m2 0h1m4 0h5m3 0h1m2 0h1M4 80.5h3m1 0h5m1 0h2m2 0h1m1 0h1m1 0h1m1 0h1m1 0h7m1 0h1m1 0h7m2 0h1m1 0h4m1 0h5m1 0h2m2 0h1m1 0h2m1 0h1m2 0h1m3 0h1m1 0h5m3 0h1m5 0h2m1 0h1m1 0h1m4 0h5m1 0h3M5 81.5h2m1 0h1m8 0h1m1 0h1m1 0h5m2 0h1m2 0h1m3 0h3m1 0h2m3 0h1m3 0h2m2 0h3m1 0h1m1 0h1m6 0h2m2 0h3m2 0h1m1 0h1m2 0h2m2 0h3m1 0h1m2 0h1m1 0h1m4 0h3m2 0h7M4 82.5h1m3 0h4m2 0h1m1 0h1m4 0h2m1 0h4m5 0h1m1 0h1m2 0h3m1 0h2m2 0h1m2 0h2m1 0h2m1 0h1m1 0h1m5 0h3m1 0h3m2 0h3m4 0h1m1 0h1m1 0h1m1 0h5m2 0h1m1 0h2m1 0h4m2 0h1M5 83.5h5m3 0h4m1 0h1m2 0h4m1 0h1m1 0h3m7 0h1m1 0h2m1 0h1m1 0h1m3 0h1m5 0h2m1 0h4m1 0h4m4 0h1m2 0h1m1 0h3m1 0h1m1 0h1m4 0h1m1 0h2m2 0h1m7 0h1m6 0h1M5 84.5h2m2 0h2m2 0h3m2 0h1m1 0h7m1 0h2m1 0h1m4 0h1m1 0h1m1 0h1m4 0h1m1 0h1m6 0h1m3 0h2m2 0h1m1 0h3m3 0h1m2 0h1m2 0h2m3 0h2m1 0h2m2 0h1m2 0h1m1 0h1m1 0h2m1 0h1m2 0h1m4 0h3M5 85.5h4m4 0h1m1 0h1m1 0h1m1 0h1m4 0h1m1 0h1m7 0h4m3 0h1m1 0h1m3 0h1m1 0h6m1 0h3m3 0h1m1 0h1m1 0h6m2 0h1m6 0h1m1 0h3m1 0h3m1 0h2m3 0h2m3 0h6m1 0h1M4 86.5h1m3 0h6m5 0h1m1 0h1m1 0h5m3 0h1m1 0h1m1 0h1m1 0h1m3 0h3m2 0h3m3 0h2m1 0h2m1 0h1m3 0h2m5 0h1m1 0h5m3 0h4m2 0h2m5 0h1m1 0h1m2 0h2m3 0h2m3 0h1M4 87.5h1m1 0h3m6 0h1m2 0h7m2 0h7m4 0h2m3 0h3m1 0h2m1 0h1m6 0h1m1 0h2m1 0h1m1 0h2m2 0h1m2 0h1m2 0h6m1 0h3m3 0h1m2 0h2m1 0h1m2 0h1m1 0h1m1 0h1m4 0h1m1 0h1M4 88.5h1m3 0h4m1 0h2m5 0h2m3 0h2m1 0h2m6 0h1m1 0h3m2 0h3m1 0h1m2 0h1m3 0h1m1 0h1m2 0h1m5 0h2m2 0h1m3 0h1m2 0h2m1 0h1m2 0h1m1 0h5m2 0h1m1 0h1m2 0h4m1 0h3m1 0h4M4 89.5h2m2 0h2m1 0h1m1 0h3m4 0h1m1 0h2m2 0h1m4 0h3m1 0h2m3 0h2m1 0h2m2 0h2m1 0h9m2 0h1m1 0h1m2 0h1m1 0h6m9 0h1m2 0h1m1 0h2m2 0h5m5 0h1m1 0h1m1 0h2M4 90.5h1m1 0h3m1 0h3m1 0h5m1 0h1m2 0h2m2 0h1m6 0h1m6 0h2m1 0h1m1 0h1m1 0h2m2 0h2m1 0h6m1 0h2m3 0h3m3 0h1m1 0h1m3 0h1m1 0h2m2 0h1m3 0h6m7 0h1m1 0h1M6 91.5h1m1 0h2m2 0h1m1 0h1m1 0h1m4 0h5m1 0h2m2 0h2m3 0h4m3 0h1m2 0h2m1 0h1m5 0h1m1 0h1m1 0h4m1 0h2m1 0h3m3 0h1m1 0h2m1 0h1m3 0h1m1 0h2m1 0h1m5 0h1m1 0h3m1 0h2m1 0h2m1 0h1M4 92.5h1m1 0h9m3 0h3m4 0h2m1 0h3m1 0h2m1 0h1m1 0h4m4 0h2m6 0h2m1 0h4m5 0h2m2 0h1m2 0h3m1 0h2m1 0h2m4 0h4m3 0h1m3 0h1m2 0h3m1 0h4m1 0h1M4 93.5h4m3 0h1m1 0h2m6 0h1m4 0h1m3 0h1m1 0h1m1 0h1m1 0h1m1 0h1m1 0h2m5 0h1m1 0h1m1 0h3m1 0h2m4 0h1m1 0h1m2 0h2m5 0h1m3 0h1m2 0h1m1 0h3m3 0h2m3 0h2m1 0h2m1 0h1m3 0h1m2 0h1M4 94.5h1m1 0h5m1 0h1m1 0h4m3 0h1m1 0h1m1 0h1m1 0h1m2 0h4m1 0h1m5 0h2m1 0h1m1 0h3m1 0h1m1 0h1m1 0h1m3 0h6m3 0h4m1 0h1m1 0h2m4 0h3m4 0h1m1 0h2m1 0h1m5 0h1m2 0h4m3 0h1M7 95.5h3m4 0h1m1 0h1m4 0h1m2 0h2m1 0h1m1 0h2m1 0h1m1 0h1m1 0h4m3 0h7m2 0h2m3 0h1m1 0h2m1 0h1m1 0h2m3 0h1m1 0h1m3 0h1m5 0h1m1 0h2m3 0h1m2 0h2m1 0h2m1 0h4m2 0h3m1 0h2M4 96.5h2m2 0h3m2 0h1m2 0h2m1 0h1m1 0h1m1 0h4m5 0h3m1 0h8m3 0h3m2 0h1m1 0h1m1 0h1m8 0h1m2 0h1m7 0h4m1 0h1m2 0h4m1 0h1m1 0h1m1 0h1m2 0h2m1 0h2m1 0h2m1 0h2m1 0h1M4 97.5h4m1 0h1m2 0h1m2 0h1m4 0h1m2 0h1m2 0h1m1 0h2m1 0h3m2 0h1m1 0h1m1 0h1m4 0h2m1 0h4m1 0h1m4 0h1m2 0h1m1 0h1m1 0h1m1 0h4m2 0h1m1 0h2m3 0h3m3 0h2m6 0h2m3 0h1m2 0h3m1 0h1M4 98.5h3m3 0h1m1 0h10m4 0h2m1 0h5m1 0h2m3 0h1m1 0h1m1 0h2m1 0h1m3 0h2m2 0h1m1 0h2m1 0h3m2 0h1m1 0h2m1 0h3m1 0h1m3 0h1m1 0h2m1 0h2m2 0h1m2 0h1m1 0h2m7 0h1m4 0h2M6 99.5h1m1 0h2m1 0h1m2 0h1m1 0h5m8 0h1m3 0h6m3 0h3m1 0h1m1 0h2m1 0h1m1 0h1m1 0h2m3 0h1m1 0h1m1 0h3m3 0h1m2 0h1m1 0h1m2 0h1m3 0h8m1 0h2m3 0h2m3 0h1m1 0h3m1 0h2M7 100.5h2m1 0h2m4 0h2m1 0h2m1 0h2m3 0h7m1 0h6m2 0h1m1 0h1m2 0h3m1 0h5m1 0h1m4 0h1m1 0h2m1 0h1m1 0h2m2 0h1m1 0h6m1 0h4m3 0h2m7 0h7m1 0h1M12 101.5h4m8 0h3m1 0h1m3 0h1m2 0h1m2 0h1m2 0h2m2 0h1m1 0h2m1 0h3m3 0h4m1 0h1m1 0h3m1 0h4m1 0h1m1 0h1m1 0h1m3 0h1m2 0h1m2 0h4m3 0h6m1 0h1m3 0h1m1 0h3M4 102.5h7m4 0h2m1 0h1m2 0h2m1 0h3m1 0h1m1 0h1m1 0h1m1 0h3m4 0h2m1 0h4m2 0h3m1 0h1m1 0h2m3 0h2m1 0h2m1 0h4m2 0h1m1 0h2m1 0h1m1 0h1m1 0h1m4 0h1m1 0h1m1 0h1m1 0h3m1 0h1m2 0h1m1 0h1m1 0h1m1 0h2M4 103.5h1m5 0h1m1 0h1m1 0h1m1 0h1m4 0h2m2 0h4m3 0h2m1 0h6m1 0h4m3 0h1m2 0h1m3 0h1m3 0h1m1 0h3m6 0h2m3 0h1m3 0h2m2 0h6m1 0h1m2 0h1m2 0h4m3 0h3M4 104.5h1m1 0h3m1 0h1m1 0h2m2 0h1m1 0h2m3 0h2m2 0h7m1 0h1m5 0h1m1 0h1m4 0h1m2 0h6m1 0h2m1 0h4m1 0h1m1 0h2m1 0h1m1 0h2m1 0h6m2 0h1m2 0h2m3 0h3m1 0h2m2 0h5m1 0h3M4 105.5h1m1 0h3m1 0h1m3 0h6m2 0h2m1 0h3m1 0h3m9 0h2m2 0h5m1 0h1m2 0h1m2 0h3m3 0h7m4 0h4m2 0h1m3 0h3m3 0h1m1 0h1m2 0h2m2 0h2m1 0h3m2 0h2M4 106.5h1m1 0h3m1 0h1m4 0h2m1 0h1m3 0h1m2 0h8m1 0h1m1 0h1m1 0h2m4 0h1m2 0h1m1 0h3m1 0h2m1 0h2m1 0h2m1 0h1m1 0h1m2 0h1m1 0h2m7 0h3m1 0h3m5 0h3m1 0h2m2 0h2m2 0h3m1 0h1M4 107.5h1m5 0h1m1 0h2m1 0h1m1 0h2m4 0h1m1 0h2m2 0h1m3 0h1m1 0h1m1 0h1m3 0h1m1 0h2m1 0h1m3 0h2m1 0h1m1 0h2m2 0h3m1 0h1m1 0h1m3 0h1m1 0h6m4 0h1m2 0h1m2 0h6m4 0h1m2 0h1m1 0h1m2 0h2M4 108.5h7m1 0h2m2 0h4m1 0h5m1 0h3m2 0h2m1 0h6m4 0h2m1 0h1m3 0h2m1 0h1m2 0h1m1 0h3m1 0h2m1 0h1m1 0h3m1 0h2m1 0h3m1 0h2m1 0h1m1 0h7m4 0h1m2 0h2m3 0h2m2 0h1\"/></svg>\n"
      ]
     },
     "execution_count": 12,
     "metadata": {},
     "output_type": "execute_result"
    }
   ],
   "source": [
    "var QRCode = require('qrcode')\n",
    "\n",
    "const segments = [\n",
    "    {data: 'shc:/', mode: 'byte'},\n",
    "    {data: numericJWS, mode: 'numeric'}\n",
    "]\n",
    "\n",
    "let qrSVG\n",
    "QRCode.toString(segments,{type: 'svg', errorCorrectionLevel: 'low', version: 22 }).then(function(result){\n",
    "    qrSVG = result\n",
    "    $$.svg(qrSVG)\n",
    "})\n",
    "\n",
    "// Also print as PNG for scanning later on.\n",
    "\n",
    "\n",
    "QRCode.toFile('./qrcode.png', segments, {width: 800, version: 22})"
   ]
  },
  {
   "cell_type": "markdown",
   "id": "tender-viewer",
   "metadata": {},
   "source": [
    "### QR Code Scanning\n",
    "\n",
    "Now let's try and scan the QR Code!"
   ]
  },
  {
   "cell_type": "code",
   "execution_count": 13,
   "id": "inner-enhancement",
   "metadata": {
    "scrolled": true
   },
   "outputs": [
    {
     "name": "stdout",
     "output_type": "stream",
     "text": [
      "Are the QR Codes Equal? true\n",
      "shc:/5676290952432060346029243740446031222959532654603460292540772804336028702864716745222809286455634440083032600304360463624506280455627537524332755540086952274507390512613725373136030422390371233327592342256260573601064131316171672024357441042770045772036458241129373267234037366764047460237034076138565259774077336722415077031220057505674441315362255475630455434143552376225458746752107771434545633977356642645737717667647143444510676168293160335861754438032970266872290432387043004376566750341005743626237140237334252656127510682707004072080572063706647568107754681164265754446606522276455533593874397020573458745535122230376922337533406159724555042745775724772307766734303341691145710844573741282356236828712524354143086955001174720823500952416359380936293521435567655953242510077256040431232160317773384207060403215257220538417428764275274543362027705809113954385065553858305400097254203457272211375776361004590740745940543867663662356560692242335565312441200066361076573959735476595741282169566652126765214467255737712144537561356520436004572533220064453610616431766669696072107235777629046573655737576958646105255920003354522576453461297440747212614053547443634067107262395341762558116629290308404255110521322161080436086132440405322206386438303055216077676656086666583677657344056344354556682233252636066574454403506272733361265477114535537331072276413071392542593731294533745326095341746542387556384368116310042660456527747469593456536558625537556031355031263273250837596550754461505457752374014369251076122806267403081222127669316138211140092911043074233943703571696121327053653920632863731024687522106611443856284224063261201066396768214407646276672009755950563620\n"
     ]
    }
   ],
   "source": [
    "var jsQR = require('jsqr');\n",
    "var PNG = require('pngjs').PNG;\n",
    "\n",
    "\n",
    "imageData = PNG.sync.read(fs.readFileSync('./qrcode.png'))\n",
    "\n",
    "const scannedQR = jsQR(new Uint8ClampedArray(imageData.data.buffer), imageData.width, imageData.height)\n",
    "\n",
    "const qrCodesEqual = scannedQR.data === qrCodeData\n",
    "\n",
    "console.log(\"Are the QR Codes Equal? \" + qrCodesEqual)\n",
    "\n",
    "console.log(scannedQR.data)"
   ]
  },
  {
   "cell_type": "markdown",
   "id": "dense-colleague",
   "metadata": {},
   "source": [
    "### Extracting Data from the QR Code\n",
    "\n",
    "Now let's reverse the process to get the original data back and check the signature. First, let's extract the JWS."
   ]
  },
  {
   "cell_type": "code",
   "execution_count": 14,
   "id": "engaging-shape",
   "metadata": {},
   "outputs": [
    {
     "name": "stdout",
     "output_type": "stream",
     "text": [
      "eyJ6aXAiOiJERUYiLCJhbGciOiJFUzI1NiIsImtpZCI6ImdlYU5KMi01Q1lkZ3I1dkxRaXMxdU5raHZ4T29jRFRLQ01CT0tDNHhDWFkifQ.3VLLjtpAEPwV1Hs1fu0mgE8JRMpDURQpm1wiDsO4jSeahzUzNpCV_z09A2x2pYVLbkFcxl1dXVXdDyCcgwpa7ztXZZlTzPoWmfRtypmtXYZ7pjqJLiNgjxYS0JsGquJ1MSsX-Xyep_O72wQGDtUDvOFGe9x7qH4-Uu52u3R3mxq7zcq8mGfcYo3aCyZdNhSwTsAfOgwdP9CKRrCNxNUjhuZd1HZzfEzD4ypOKNVr8Zt5YfRVIDeDqItFEPVX5rd-8wu5D_6aVlhS6QJPBXdpnhbEF74ue11LDBiLzvSW4310BafC2SVwIyWxHZXQAHsg68TcS_ndSgKc-6ucAOfHC8RfyQ71h4UwhUcSpoQkPnirCWNdnLEVA-oQ7yfThvcyhfVIBreoa9pnBYpFfRtBYbxjPnAXi1fFNC-mZQ7jmLyorriu7uPzyJ1nvnfRfrgmj2FhA-NcaFyZOjJwUwu9jUbcwXlUp7ukTbVyFg8oJJ05UWd82BMBj51Q5jMY12MC3SmSKKdBizpoe5oogQznvY2lYPZeqCNFGQ3nwZY0_kuvNjGcz8ZPbvL4CyVKtTFWhRLJZNwbG6bVwnWSxeSXq8l71GiZnHwwrhOebngkdRdiLP_LGMvF5Rhn_xYj_cfxDw.XrF7y9I3Gw059C9yrLjSB8U6J81KwDTXsPtrjBMsbnTAlIlv7EqxC7o8YSeIWE3MjA7oTpqBY4mkypA6xh_eQA\n"
     ]
    }
   ],
   "source": [
    "const scannedJWS = scannedQR\n",
    "    .chunks\n",
    "    .filter(chunk => chunk.type === \"numeric\")[0] // Grab the numeric chunk\n",
    "    .text.match(/(..?)/g) // Split into groups of 2 numeric characters each of which represent a single JWS char\n",
    "    .map(num => String.fromCharCode(parseInt(num, 10) + 45)).join('') // Convert from numeric encoding to JWS\n",
    "\n",
    "console.log(scannedJWS)"
   ]
  },
  {
   "cell_type": "markdown",
   "id": "surgical-techno",
   "metadata": {},
   "source": [
    "Next we can verify the signature and extract the payload"
   ]
  },
  {
   "cell_type": "code",
   "execution_count": 15,
   "id": "arabic-infrastructure",
   "metadata": {},
   "outputs": [],
   "source": [
    "let scannedResult;\n",
    "\n",
    "jose.JWS.createVerify(signingKey)\n",
    "    .verify(jws).then(function(result) {\n",
    "    zlib.inflateRaw(result.payload, function(err, decompressedResult){\n",
    "        scannedResult = decompressedResult.toString('utf8')\n",
    "    })\n",
    "})"
   ]
  },
  {
   "cell_type": "code",
   "execution_count": 16,
   "id": "processed-killer",
   "metadata": {},
   "outputs": [
    {
     "data": {
      "text/plain": [
       "'{\"iss\":\"https://smarthealth.cards/examples/issuer\",\"nbf\":1617290880.843,\"vc\":{\"@context\":[\"https://www.w3.org/2018/credentials/v1\"],\"type\":[\"VerifiableCredential\",\"https://smarthealth.cards#health-card\",\"https://smarthealth.cards#immunization\",\"https://smarthealth.cards#covid19\"],\"credentialSubject\":{\"fhirVersion\":\"4.0.1\",\"fhirBundle\":{\"resourceType\":\"Bundle\",\"type\":\"collection\",\"entry\":[{\"fullUrl\":\"resource:0\",\"resource\":{\"resourceType\":\"Patient\",\"name\":[{\"family\":\"Anyperson\",\"given\":[\"John\",\"B.\"]}],\"gender\":\"male\",\"birthDate\":\"1951-01-20\"}},{\"fullUrl\":\"resource:1\",\"resource\":{\"resourceType\":\"Immunization\",\"status\":\"completed\",\"vaccineCode\":{\"coding\":[{\"system\":\"http://hl7.org/fhir/sid/cvx\",\"code\":\"207\"}]},\"patient\":{\"reference\":\"resource:0\"},\"occurrenceDateTime\":\"2021-01-01\",\"lotNumber\":\"Lot #0000001\",\"performer\":[{\"actor\":{\"display\":\"ABC General Hospital\"}}]}},{\"fullUrl\":\"resource:2\",\"resource\":{\"resourceType\":\"Immunization\",\"status\":\"completed\",\"vaccineCode\":{\"coding\":[{\"system\":\"http://hl7.org/fhir/sid/cvx\",\"code\":\"207\"}]},\"patient\":{\"reference\":\"resource:0\"},\"occurrenceDateTime\":\"2021-01-29\",\"lotNumber\":\"Lot #0000007\",\"performer\":[{\"actor\":{\"display\":\"ABC General Hospital\"}}]}}]}}}}'"
      ]
     },
     "execution_count": 16,
     "metadata": {},
     "output_type": "execute_result"
    }
   ],
   "source": [
    "scannedResult"
   ]
  },
  {
   "cell_type": "markdown",
   "id": "interstate-registration",
   "metadata": {},
   "source": [
    "Let's compare this to our original minified payload with whitespace removed"
   ]
  },
  {
   "cell_type": "code",
   "execution_count": 17,
   "id": "least-pregnancy",
   "metadata": {},
   "outputs": [
    {
     "data": {
      "text/plain": [
       "true"
      ]
     },
     "execution_count": 17,
     "metadata": {},
     "output_type": "execute_result"
    }
   ],
   "source": [
    "scannedResult === noWhiteSpaceHealthCard"
   ]
  },
  {
   "cell_type": "markdown",
   "id": "partial-confidentiality",
   "metadata": {},
   "source": [
    "Finally, lets print the entries for easy inspection."
   ]
  },
  {
   "cell_type": "code",
   "execution_count": 29,
   "id": "quick-disaster",
   "metadata": {},
   "outputs": [
    {
     "name": "stdout",
     "output_type": "stream",
     "text": [
      "{\n",
      "  \"fullUrl\": \"resource:0\",\n",
      "  \"resource\": {\n",
      "    \"resourceType\": \"Patient\",\n",
      "    \"name\": [\n",
      "      {\n",
      "        \"family\": \"Anyperson\",\n",
      "        \"given\": [\n",
      "          \"John\",\n",
      "          \"B.\"\n",
      "        ]\n",
      "      }\n",
      "    ],\n",
      "    \"gender\": \"male\",\n",
      "    \"birthDate\": \"1951-01-20\"\n",
      "  }\n",
      "}\n",
      "{\n",
      "  \"fullUrl\": \"resource:1\",\n",
      "  \"resource\": {\n",
      "    \"resourceType\": \"Immunization\",\n",
      "    \"status\": \"completed\",\n",
      "    \"vaccineCode\": {\n",
      "      \"coding\": [\n",
      "        {\n",
      "          \"system\": \"http://hl7.org/fhir/sid/cvx\",\n",
      "          \"code\": \"207\"\n",
      "        }\n",
      "      ]\n",
      "    },\n",
      "    \"patient\": {\n",
      "      \"reference\": \"resource:0\"\n",
      "    },\n",
      "    \"occurrenceDateTime\": \"2021-01-01\",\n",
      "    \"lotNumber\": \"Lot #0000001\",\n",
      "    \"performer\": [\n",
      "      {\n",
      "        \"actor\": {\n",
      "          \"display\": \"ABC General Hospital\"\n",
      "        }\n",
      "      }\n",
      "    ]\n",
      "  }\n",
      "}\n",
      "{\n",
      "  \"fullUrl\": \"resource:2\",\n",
      "  \"resource\": {\n",
      "    \"resourceType\": \"Immunization\",\n",
      "    \"status\": \"completed\",\n",
      "    \"vaccineCode\": {\n",
      "      \"coding\": [\n",
      "        {\n",
      "          \"system\": \"http://hl7.org/fhir/sid/cvx\",\n",
      "          \"code\": \"207\"\n",
      "        }\n",
      "      ]\n",
      "    },\n",
      "    \"patient\": {\n",
      "      \"reference\": \"resource:0\"\n",
      "    },\n",
      "    \"occurrenceDateTime\": \"2021-01-29\",\n",
      "    \"lotNumber\": \"Lot #0000007\",\n",
      "    \"performer\": [\n",
      "      {\n",
      "        \"actor\": {\n",
      "          \"display\": \"ABC General Hospital\"\n",
      "        }\n",
      "      }\n",
      "    ]\n",
      "  }\n",
      "}\n"
     ]
    }
   ],
   "source": [
    "const entries = JSON.parse(scannedResult)\n",
    "    .vc.credentialSubject.fhirBundle.entry\n",
    "    .map(entry => console.log(JSON.stringify(entry, null, 2)))"
   ]
  }
 ],
 "metadata": {
  "kernelspec": {
   "display_name": "Javascript (Node.js)",
   "language": "javascript",
   "name": "javascript"
  },
  "language_info": {
   "file_extension": ".js",
   "mimetype": "application/javascript",
   "name": "javascript",
   "version": "15.12.0"
  }
 },
 "nbformat": 4,
 "nbformat_minor": 5
}
