{
 "cells": [
  {
   "cell_type": "markdown",
   "id": "thick-dominican",
   "metadata": {},
   "source": [
    "# SMART Health Cards\n",
    "\n",
    "This notebook is designed to give an overview of [SMART Health Cards Framework](https://smarthealth.cards/) and how it works.\n",
    "\n",
    "\n",
    "This notebook is written in JavaScript and uses the [IJavascript kernel](https://github.com/n-riesco/ijavascript) for Jupyter Notebook."
   ]
  },
  {
   "cell_type": "markdown",
   "id": "portable-reducing",
   "metadata": {},
   "source": [
    "## Walkthrough\n",
    "\n",
    "The high level outline is as follows:\n",
    "* FHIR Bundle is created\n",
    "* FHIR Bundle is minified\n",
    "* SMART Health Card is created from FHIR Bundle\n",
    "* SMART Health Card is encoded as a JWS\n",
    "* Patient Retrieves the SMART Health Cards via:\n",
    "  * File Download\n",
    "  * QR Code\n",
    "  * FHIR API"
   ]
  },
  {
   "cell_type": "markdown",
   "id": "natural-gothic",
   "metadata": {},
   "source": [
    "### The FHIR Bundle\n",
    "\n",
    "A SMART Health Card is composed of a [W3C Verifiable Credential](https://w3c.github.io/vc-data-model/), [encoded as a JWT](https://w3c.github.io/vc-data-model/#jwt-encoding), with a Credential Subject that contains the FHIR version and a FHIR Bundle (See [Modeling W3C Verifiable Credentials in FHIR](https://smarthealth.cards/credential-modeling/).\n",
    "\n",
    "The FHIR Bundle contains the health care information.\n",
    "\n",
    "Let's assume we have the below FHIR Bundle ([Example 0](https://smarthealth.cards/examples/example-00-a-fhirBundle.json) at the time of writing). This FHIR Bundle could be produced in a number of ways, but for now let's imagine that the patient, John B. Anyperson, has just received his second COVID-19 vaccination shot and the healthcare worker entered his information into their system which produced the below in their system."
   ]
  },
  {
   "cell_type": "code",
   "execution_count": 1,
   "id": "useful-reset",
   "metadata": {},
   "outputs": [],
   "source": [
    "const fhirBundle = {\n",
    "  \"resourceType\": \"Bundle\",\n",
    "  \"type\": \"collection\",\n",
    "  \"entry\": [\n",
    "    {\n",
    "      \"fullUrl\": \"resource:0\",\n",
    "      \"resource\": {\n",
    "        \"resourceType\": \"Patient\",\n",
    "        \"name\": [\n",
    "          {\n",
    "            \"family\": \"Anyperson\",\n",
    "            \"given\": [\n",
    "              \"John\",\n",
    "              \"B.\"\n",
    "            ]\n",
    "          }\n",
    "        ],\n",
    "        \"gender\": \"male\",\n",
    "        \"birthDate\": \"1951-01-20\"\n",
    "      }\n",
    "    },\n",
    "    {\n",
    "      \"fullUrl\": \"resource:1\",\n",
    "      \"resource\": {\n",
    "        \"resourceType\": \"Immunization\",\n",
    "        \"status\": \"completed\",\n",
    "        \"vaccineCode\": {\n",
    "          \"coding\": [\n",
    "            {\n",
    "              \"system\": \"http://hl7.org/fhir/sid/cvx\",\n",
    "              \"code\": \"207\"\n",
    "            }\n",
    "          ]\n",
    "        },\n",
    "        \"patient\": {\n",
    "          \"reference\": \"resource:0\"\n",
    "        },\n",
    "        \"occurrenceDateTime\": \"2021-01-01\",\n",
    "        \"lotNumber\": \"Lot #0000001\",\n",
    "        \"performer\": [\n",
    "          {\n",
    "            \"actor\": {\n",
    "              \"display\": \"ABC General Hospital\"\n",
    "            }\n",
    "          }\n",
    "        ]\n",
    "      }\n",
    "    },\n",
    "    {\n",
    "      \"fullUrl\": \"resource:2\",\n",
    "      \"resource\": {\n",
    "        \"resourceType\": \"Immunization\",\n",
    "        \"status\": \"completed\",\n",
    "        \"vaccineCode\": {\n",
    "          \"coding\": [\n",
    "            {\n",
    "              \"system\": \"http://hl7.org/fhir/sid/cvx\",\n",
    "              \"code\": \"207\"\n",
    "            }\n",
    "          ]\n",
    "        },\n",
    "        \"patient\": {\n",
    "          \"reference\": \"resource:0\"\n",
    "        },\n",
    "        \"occurrenceDateTime\": \"2021-01-29\",\n",
    "        \"lotNumber\": \"Lot #0000007\",\n",
    "        \"performer\": [\n",
    "          {\n",
    "            \"actor\": {\n",
    "              \"display\": \"ABC General Hospital\"\n",
    "            }\n",
    "          }\n",
    "        ]\n",
    "      }\n",
    "    }\n",
    "  ]\n",
    "}"
   ]
  },
  {
   "cell_type": "markdown",
   "id": "found-murray",
   "metadata": {},
   "source": [
    "A couple things to note in the above JSON. This is a Bundle that contains 3 resources: one for the patient, one for the first vaccination, and another for the second vaccination. This Bundle conforms to the requirements laid out in [SMART Health Cards: Vaccination & Testing Implementation Guide](http://build.fhir.org/ig/dvci/vaccine-credential-ig/branches/main/) which defines what resources should be included in the Health Card. Specifically, this is an example of [Vaccine Credential Bundle - Data Minimization](http://build.fhir.org/ig/dvci/vaccine-credential-ig/branches/main/StructureDefinition-vaccine-credential-bundle-dm.html). We'll talk about what \"Data Minimization\" means in a second.\n",
    "\n",
    "Now let's create the \"Expanded Health Card\"."
   ]
  },
  {
   "cell_type": "markdown",
   "id": "excited-fraction",
   "metadata": {},
   "source": [
    "### Expanded Health Card\n",
    "\n",
    "The Expanded Health Card shows what the Health Card looks like before it is minified and serialized using the compact JWS serialization.\n",
    "\n",
    "[Health Cards are encoded as Compact Serialization JSON Web Signatures (JWS)](https://smarthealth.cards/#health-cards-are-encoded-as-compact-serialization-json-web-signatures-jws) and [Modeling W3C Verifiable Credentials in FHIR](https://smarthealth.cards/credential-modeling/) cover this in more detail.\n",
    "\n",
    "Before we get into the details it's important to note that some of the VC properties are mapped to standard JWT fields when using the [JWT encoding](https://w3c.github.io/vc-data-model/#jwt-encoding) (which we are). These include the `iss` and `nbf` fields.\n",
    "\n",
    "Below shows the expanded Health Card for the example:"
   ]
  },
  {
   "cell_type": "code",
   "execution_count": 2,
   "id": "fleet-cream",
   "metadata": {},
   "outputs": [],
   "source": [
    "const expandedHealthCard = {\n",
    "  \"iss\": \"https://smarthealth.cards/examples/issuer\",\n",
    "  \"nbf\": Date.now() / 1000,\n",
    "  \"vc\": {\n",
    "    \"@context\": [\n",
    "      \"https://www.w3.org/2018/credentials/v1\"\n",
    "    ],\n",
    "    \"type\": [\n",
    "      \"VerifiableCredential\",\n",
    "      \"https://smarthealth.cards#health-card\",\n",
    "      \"https://smarthealth.cards#immunization\",\n",
    "      \"https://smarthealth.cards#covid19\"\n",
    "    ],\n",
    "    \"credentialSubject\": {\n",
    "        \"fhirVersion\": \"4.0.1\",\n",
    "        \"fhirBundle\": fhirBundle\n",
    "    }\n",
    "  }\n",
    "}"
   ]
  },
  {
   "cell_type": "markdown",
   "id": "interpreted-estate",
   "metadata": {},
   "source": [
    "Let's talk about the three root fields:\n",
    "\n",
    "`iss` - This represents the [Issuer](https://w3c.github.io/vc-data-model/#issuer)\n",
    "  * Note this property is represented by `iss` according to the [JWT Encoding Rules](https://w3c.github.io/vc-data-model/#jwt-encoding)\n",
    "\n",
    "`nbf` - This represents the [IssuanceDate](https://w3c.github.io/vc-data-model/#issuance-date)\n",
    "  * Note this property is represented by `nbf`.\n",
    "\n",
    "`vc` - This represents the VC claim minus all the unmapped fields (`iss` and `nbf`)\n",
    "\n",
    "\n",
    "TODO: Fill out the rest of these properties"
   ]
  },
  {
   "cell_type": "markdown",
   "id": "related-cruise",
   "metadata": {},
   "source": [
    "### Health Cards are Small\n",
    "\n",
    "SMART Health Cards can be issued on pieces of paper via QR Codes. This introduces some unique size constraints in order to keep the number and size of QR codes manageable. When using and applying SMART Health Cards, it's important to keep them small.\n",
    "\n",
    "The SMART Health Card spec requires that [the JWS payload is minified and compressed](https://smarthealth.cards/#health-cards-are-small) in order to reduce payload size.\n",
    "\n",
    "SMART Health Cards are designed to be be atomic and shared as a whole. Information within the Health Card cannot be removed without affecting the verifiability of the Health Card. This imposes a privacy challenge when too much information is included in a single Health Card.\n",
    "\n",
    "The \"Data Minimization\" profiles in the IG are designed to address these size and privacy concerns by ensuring the FHIR profiles only require the minimal set of information to achieve the desired results.\n",
    "\n",
    "Below the JWS Payload (i.e. the \"Expanded Health Card\") is compressed according to the spec:"
   ]
  },
  {
   "cell_type": "code",
   "execution_count": 3,
   "id": "seasonal-begin",
   "metadata": {
    "scrolled": true
   },
   "outputs": [
    {
     "name": "stdout",
     "output_type": "stream",
     "text": [
      "{\"iss\":\"https://smarthealth.cards/examples/issuer\",\"nbf\":1617280484.976,\"vc\":{\"@context\":[\"https://www.w3.org/2018/credentials/v1\"],\"type\":[\"VerifiableCredential\",\"https://smarthealth.cards#health-card\",\"https://smarthealth.cards#immunization\",\"https://smarthealth.cards#covid19\"],\"credentialSubject\":{\"fhirVersion\":\"4.0.1\",\"fhirBundle\":{\"resourceType\":\"Bundle\",\"type\":\"collection\",\"entry\":[{\"fullUrl\":\"resource:0\",\"resource\":{\"resourceType\":\"Patient\",\"name\":[{\"family\":\"Anyperson\",\"given\":[\"John\",\"B.\"]}],\"gender\":\"male\",\"birthDate\":\"1951-01-20\"}},{\"fullUrl\":\"resource:1\",\"resource\":{\"resourceType\":\"Immunization\",\"status\":\"completed\",\"vaccineCode\":{\"coding\":[{\"system\":\"http://hl7.org/fhir/sid/cvx\",\"code\":\"207\"}]},\"patient\":{\"reference\":\"resource:0\"},\"occurrenceDateTime\":\"2021-01-01\",\"lotNumber\":\"Lot #0000001\",\"performer\":[{\"actor\":{\"display\":\"ABC General Hospital\"}}]}},{\"fullUrl\":\"resource:2\",\"resource\":{\"resourceType\":\"Immunization\",\"status\":\"completed\",\"vaccineCode\":{\"coding\":[{\"system\":\"http://hl7.org/fhir/sid/cvx\",\"code\":\"207\"}]},\"patient\":{\"reference\":\"resource:0\"},\"occurrenceDateTime\":\"2021-01-29\",\"lotNumber\":\"Lot #0000007\",\"performer\":[{\"actor\":{\"display\":\"ABC General Hospital\"}}]}}]}}}}\n"
     ]
    }
   ],
   "source": [
    "// Remove the optional whitespace\n",
    "const noWhiteSpaceHealthCard = JSON.stringify(expandedHealthCard)\n",
    "console.log(noWhiteSpaceHealthCard)"
   ]
  },
  {
   "cell_type": "code",
   "execution_count": 4,
   "id": "divine-casino",
   "metadata": {},
   "outputs": [],
   "source": [
    "// Normally we'd remove some of the fhirBundle elements at \n",
    "// this step ( e.g. Resource.id, Resource.meta, CodebableConcept.text).\n",
    "// These are already missing from the original payload, so we'll skip that here\n",
    "\n",
    "// Compress the payload with DEFLATE, omitting any zlib headers\n",
    "\n",
    "const compressedPayload = zlib.deflateRawSync(noWhiteSpaceHealthCard)"
   ]
  },
  {
   "cell_type": "markdown",
   "id": "southwest-output",
   "metadata": {},
   "source": [
    "### Creating the Signed Health Card\n",
    "\n",
    "Now that we have the compressed payload we can sign it as a JWS. First, let's create the key pair for signing and verifying."
   ]
  },
  {
   "cell_type": "code",
   "execution_count": 5,
   "id": "wanted-mistress",
   "metadata": {},
   "outputs": [],
   "source": [
    "var jose = require('node-jose');\n",
    "\n",
    "const keystore = jose.JWK.createKeyStore()\n",
    "\n",
    "let signingKey;\n",
    "\n",
    "keystore.generate(\"EC\", \"P-256\").\n",
    "        then(function(result) {\n",
    "          // {result} is a jose.JWK.Key\n",
    "          signingKey = result;\n",
    "        });"
   ]
  },
  {
   "cell_type": "code",
   "execution_count": 6,
   "id": "characteristic-directory",
   "metadata": {},
   "outputs": [
    {
     "data": {
      "text/plain": [
       "{\n",
       "  keys: [\n",
       "    {\n",
       "      kty: 'EC',\n",
       "      kid: 'v3EFxye_O4Srg4RiXnyACJx6fsVCkjeavNFb4TqiK-Y',\n",
       "      crv: 'P-256',\n",
       "      x: 'mPXgK0P1nSM2mLKyYaZIr-X0G7UYnkHCnbfLm0dMj6M',\n",
       "      y: '1hhtPnO5MTbp4sv_ZBfEuCgOW5gxpFt_bpxs4uCedRk',\n",
       "      d: 'qZ9lks3taY7N8LCtwlRulVbdoPyeAOjkFhkJzRjTds8'\n",
       "    }\n",
       "  ]\n",
       "}"
      ]
     },
     "execution_count": 6,
     "metadata": {},
     "output_type": "execute_result"
    }
   ],
   "source": [
    "// Print the entire key store, including the `d` member which contains the private key value\n",
    "// Remove true to just present the public key\n",
    "// See: https://tools.ietf.org/id/draft-jones-jose-json-private-and-symmetric-key-00.html#rfc.section.3.1.1\n",
    "keystore.toJSON(true);"
   ]
  },
  {
   "cell_type": "markdown",
   "id": "ordered-preserve",
   "metadata": {},
   "source": [
    "With a signing key in hand we can create the JWS:"
   ]
  },
  {
   "cell_type": "code",
   "execution_count": 7,
   "id": "fantastic-absorption",
   "metadata": {},
   "outputs": [
    {
     "name": "stdout",
     "output_type": "stream",
     "text": [
      "eyJ6aXAiOiJERUYiLCJhbGciOiJFUzI1NiIsImtpZCI6InYzRUZ4eWVfTzRTcmc0UmlYbnlBQ0p4NmZzVkNramVhdk5GYjRUcWlLLVkifQ.3VLLjtNAEPyVqPea-EVYJz5BgsRDCCGxcEE5jMedeNA8rJmxk7Dyv9MzSRaQNrlwI8pl3NXVVdX9CMI5qKD1vnNVmjrFrG-RSd8mnNnGpXhgqpPoUgL2aGEKut5Cld_nZbHI5ot5sizvpzBwqB7hFTfa48FD9f2Jcr_fJ_sXibG7tMjyRcotNqi9YNKlQw6bKfhjh6HjG1qxFayWuH7C0Lyr2u5Oj1l43MQJpXotfjIvjL4J5GYQTb4Mon7L_NLXP5D74G_bCksqXeCpYJ5kSU584euq143EgLHoTG85PkRXcC5cXAI3UhLbSQkNsEeyTsy9lF-tJMClv8oIcHk8Q_yZ7FB_WAhTeCJhSkjig9eaMNbFGTsxoA7xfjBteK8S2IxkcIe6oX1WoFjUVwsK4w3zgTtfvsxnWT4rMhjH6bPq8tvq3v8dufPM9y7aD9fkMSxsYJwLjWvTRAZuGqF30Yg7Oo_qfJe0qVaW8YBC0qkTTcqHAxHw2AlFVsK4GafQnSOJcrZoUQdtfyZKIMN5b2MpmH0Q6kRRRMNZsCWN_9SrOobz0fjJXRZ_oUSpbo1VoUQyGffGhmmNcJ1kMfnVevIWNVomJ--M64SnGx5J3ZUYi_8yxmJ5Pcby32Kk_zj-Ag.A-Tkruz4yOmOj_SE_iPAW30T_MpOnel6w-npkLD1vrn8dP0VkQDSmyxH7ZMt_SbnKN8a31z0_6Rb8ltiRVZhWQ\n"
     ]
    }
   ],
   "source": [
    "const fields = { zip: 'DEF' }\n",
    "\n",
    "let jws;\n",
    "\n",
    "jose.JWS.createSign({ format: 'compact', fields }, signingKey)\n",
    "    .update(Buffer.from(compressedPayload))\n",
    "    .final()\n",
    "    .then(function(result) {\n",
    "        jws = result;\n",
    "        console.log(jws)\n",
    "});"
   ]
  },
  {
   "cell_type": "markdown",
   "id": "pediatric-pressing",
   "metadata": {},
   "source": [
    "Now that we have the JWS we should check that we can actually verify the signature"
   ]
  },
  {
   "cell_type": "code",
   "execution_count": 8,
   "id": "difficult-packing",
   "metadata": {},
   "outputs": [
    {
     "name": "stdout",
     "output_type": "stream",
     "text": [
      "{\n",
      "  protected: [ 'zip', 'alg', 'kid' ],\n",
      "  header: {\n",
      "    zip: 'DEF',\n",
      "    alg: 'ES256',\n",
      "    kid: 'v3EFxye_O4Srg4RiXnyACJx6fsVCkjeavNFb4TqiK-Y'\n",
      "  },\n",
      "  payload: <Buffer dd 52 cb 8e d3 40 10 fc 95 a8 f7 9a f8 45 58 27 3e 41 82 c4 43 08 21 b1 70 41 39 8c c7 9d 78 d0 3c ac 99 b1 93 b0 f2 bf d3 33 49 16 90 36 b9 70 23 ca ... 431 more bytes>,\n",
      "  signature: <Buffer 03 e4 e4 ae ec f8 c8 e9 8e 8f f4 84 fe 23 c0 5b 7d 13 fc ca 4e 9d e9 7a c3 e9 e9 90 b0 f5 be b9 fc 74 fd 15 91 00 d2 9b 2c 47 ed 93 2d fd 26 e7 28 df ... 14 more bytes>,\n",
      "  key: JWKBaseKeyObject {\n",
      "    keystore: JWKStore {},\n",
      "    length: 256,\n",
      "    kty: 'EC',\n",
      "    kid: 'v3EFxye_O4Srg4RiXnyACJx6fsVCkjeavNFb4TqiK-Y',\n",
      "    use: '',\n",
      "    alg: ''\n",
      "  }\n",
      "}\n"
     ]
    }
   ],
   "source": [
    "jose.JWS.createVerify(signingKey)\n",
    "    .verify(jws).then(function(result) {\n",
    "    console.log(result)\n",
    "})"
   ]
  },
  {
   "cell_type": "markdown",
   "id": "discrete-morrison",
   "metadata": {},
   "source": [
    "Let's also create a fake key and test with that to make sure we aren't getting a false positive"
   ]
  },
  {
   "cell_type": "code",
   "execution_count": 9,
   "id": "biological-consumer",
   "metadata": {},
   "outputs": [],
   "source": [
    "let fakeKey;\n",
    "\n",
    "keystore.generate(\"EC\", \"P-256\").\n",
    "        then(function(result) {\n",
    "          // {result} is a jose.JWK.Key\n",
    "          fakeKey = result;\n",
    "        });"
   ]
  },
  {
   "cell_type": "code",
   "execution_count": 10,
   "id": "modern-label",
   "metadata": {},
   "outputs": [
    {
     "ename": "Error",
     "evalue": "no key found",
     "output_type": "error",
     "traceback": [
      "Error: no key found",
      "    at processSig (/Users/radamson/software/vci/health-cards-walkthrough/node_modules/node-jose/lib/jws/verify.js:131:22)",
      "    at processTicksAndRejections (node:internal/process/task_queues:94:5)"
     ]
    }
   ],
   "source": [
    "// Note \"Error: no key found\" is the generic error message for keys that won't decrypt\n",
    "// See: https://github.com/cisco/node-jose/issues/262\n",
    "jose.JWS.createVerify(fakeKey)\n",
    "    .verify(jws).then(function(result) {\n",
    "    console.log(result)\n",
    "})"
   ]
  },
  {
   "cell_type": "markdown",
   "id": "surrounded-conditioning",
   "metadata": {},
   "source": [
    "### QR Code Generation\n",
    "\n",
    "Now that we have a JWS we can turn that into a QR Code which can be scanned. We won't worry about chunking just yet since the payload is below the 1195 character threshold in this example, but its a simple addition and [this code snippet](https://github.com/smart-on-fhir/health-cards/blob/152a4f83b223b5fd14027f765e957e290649f2c0/generate-examples/src/index.ts#L146) goes over the process."
   ]
  },
  {
   "cell_type": "code",
   "execution_count": 11,
   "id": "presidential-turkey",
   "metadata": {},
   "outputs": [
    {
     "name": "stdout",
     "output_type": "stream",
     "text": [
      "shc:/5676290952432060346029243740446031222959532654603460292540772804336028702864716745222809286544773740450756424157397737395464540340646344536563213603670733644577416233695264415955620826446137405442633131416260573601064131316171332024357641683556520024414429770821587037232222267554242408613256555633201169296475621023767312327738375236336963742811676306334341415543122232280868302304736533416461692569260037385511646533652667435958686735664058310552262430727108226355506545532728086671087060777367772174682110592539575207112523125705295469505729507043605326107132617637546671336860124433306336740953305759615909276126046875255276427227102203317669057208346104630706323629674366715761287361310729082644363953073266651031503331433508231007265053226270684356226744290862384008110756726804070624583127663926110835623743542208544320280640593153383662337024567639707612632500712932226373116628542762113650764510252150422059395622295938626160581256523233532526397075662010755761217156301138052875625428560966430442662561404174703007740677583971577370756542390769325961270953356811717368067311557257353212761052231257623238757044297431614273393720457226682506034458103466506857295603684152421144212203686239395468272075277405206325417030072652573665383429546945664036557157764530283233085305326764270336096237373732334570224233501238693466537703576129433745506640386753660441664036762657572659646433542904623257654156732842334166642900003209073865267508290645404460501176756429083554537606053062507761002058012000396269727707763464346150382450603520420603395032673465566309740065676231230473696511553503416236233864767527104532715038536530331152060477035009375311637160374145594236\n"
     ]
    }
   ],
   "source": [
    "// Convert to numeric mode QR\n",
    "\n",
    "// This code snippet was adapted/taken from https://github.com/smart-on-fhir/health-cards/blob/152a4f83b223b5fd14027f765e957e290649f2c0/generate-examples/src/index.ts#L173\n",
    "const numericJWS = jws.split('')\n",
    "    .map((c) => c.charCodeAt(0) - 45)\n",
    "    .flatMap((c) => [Math.floor(c / 10), c % 10]) //Need to maintain leading zeros\n",
    "    .join('')\n",
    "\n",
    "const qrCodeData = 'shc:/' + numericJWS\n",
    "\n",
    "console.log(qrCodeData)"
   ]
  },
  {
   "cell_type": "markdown",
   "id": "undefined-telephone",
   "metadata": {},
   "source": [
    "The above shows what the value of the QR code will be, with the leading `byte` segment and the `numeric` segment following"
   ]
  },
  {
   "cell_type": "code",
   "execution_count": 14,
   "id": "macro-shift",
   "metadata": {
    "scrolled": false
   },
   "outputs": [
    {
     "data": {
      "image/svg+xml": [
       "<svg xmlns=\"http://www.w3.org/2000/svg\" viewBox=\"0 0 113 113\" shape-rendering=\"crispEdges\"><path fill=\"#ffffff\" d=\"M0 0h113v113H0z\"/><path stroke=\"#000000\" d=\"M4 4.5h7m1 0h1m1 0h2m1 0h1m3 0h1m1 0h3m2 0h1m5 0h2m1 0h5m8 0h2m2 0h10m2 0h1m2 0h5m2 0h1m2 0h1m4 0h1m3 0h1m2 0h2m2 0h1m2 0h1m3 0h7M4 5.5h1m5 0h1m1 0h2m2 0h3m1 0h1m1 0h1m4 0h2m1 0h3m1 0h1m1 0h5m2 0h1m1 0h1m1 0h4m1 0h1m1 0h1m1 0h5m6 0h2m1 0h3m2 0h2m1 0h2m2 0h1m1 0h7m1 0h1m1 0h1m1 0h1m1 0h1m3 0h1m5 0h1M4 6.5h1m1 0h3m1 0h1m1 0h7m1 0h1m1 0h1m3 0h2m2 0h3m1 0h1m2 0h1m1 0h4m1 0h2m2 0h3m1 0h1m3 0h2m1 0h2m1 0h3m3 0h1m5 0h2m2 0h2m5 0h5m4 0h6m2 0h1m1 0h3m1 0h1M4 7.5h1m1 0h3m1 0h1m1 0h1m1 0h1m1 0h3m1 0h5m5 0h1m2 0h3m1 0h1m1 0h2m5 0h1m4 0h2m1 0h1m1 0h2m2 0h1m1 0h2m1 0h2m2 0h1m2 0h1m1 0h1m3 0h1m4 0h1m1 0h1m4 0h3m1 0h1m5 0h1m1 0h1m1 0h3m1 0h1M4 8.5h1m1 0h3m1 0h1m7 0h1m3 0h3m1 0h1m1 0h6m1 0h2m1 0h1m1 0h1m3 0h1m2 0h3m1 0h6m4 0h1m3 0h2m2 0h3m2 0h1m1 0h5m1 0h4m3 0h1m1 0h1m3 0h1m3 0h2m1 0h1m1 0h3m1 0h1M4 9.5h1m5 0h1m1 0h1m6 0h2m3 0h1m1 0h1m1 0h1m3 0h1m1 0h1m1 0h2m2 0h1m2 0h3m1 0h1m1 0h1m1 0h2m3 0h1m2 0h4m1 0h1m1 0h1m3 0h1m1 0h1m3 0h1m3 0h3m1 0h5m1 0h1m1 0h2m2 0h2m1 0h1m2 0h1m5 0h1M4 10.5h7m1 0h1m1 0h1m1 0h1m1 0h1m1 0h1m1 0h1m1 0h1m1 0h1m1 0h1m1 0h1m1 0h1m1 0h1m1 0h1m1 0h1m1 0h1m1 0h1m1 0h1m1 0h1m1 0h1m1 0h1m1 0h1m1 0h1m1 0h1m1 0h1m1 0h1m1 0h1m1 0h1m1 0h1m1 0h1m1 0h1m1 0h1m1 0h1m1 0h1m1 0h1m1 0h1m1 0h1m1 0h1m1 0h1m1 0h1m1 0h1m1 0h1m1 0h1m1 0h1m1 0h1m1 0h1m1 0h7M14 11.5h4m7 0h1m2 0h1m3 0h2m3 0h5m3 0h1m2 0h1m2 0h2m3 0h2m1 0h3m1 0h2m1 0h2m4 0h1m3 0h1m3 0h1m4 0h2m6 0h1m1 0h2m2 0h1M4 12.5h2m2 0h3m2 0h1m2 0h1m4 0h1m1 0h1m4 0h6m2 0h1m3 0h1m4 0h1m1 0h1m1 0h1m2 0h6m1 0h1m1 0h2m1 0h5m1 0h1m1 0h2m2 0h5m1 0h1m1 0h1m3 0h1m3 0h2m1 0h1m2 0h2m3 0h1m1 0h4M4 13.5h2m1 0h2m2 0h1m1 0h3m2 0h1m4 0h1m1 0h2m1 0h3m1 0h1m2 0h5m1 0h1m2 0h1m2 0h1m3 0h1m1 0h3m1 0h2m2 0h2m1 0h1m1 0h1m1 0h3m2 0h2m1 0h1m1 0h2m1 0h4m2 0h1m1 0h1m1 0h2m3 0h1m7 0h3M4 14.5h1m1 0h5m6 0h3m1 0h2m2 0h1m3 0h4m2 0h1m2 0h1m2 0h2m3 0h1m2 0h1m1 0h2m3 0h2m3 0h1m1 0h1m4 0h2m1 0h3m5 0h2m3 0h3m3 0h1m1 0h1m1 0h1m1 0h1m3 0h2m5 0h2M5 15.5h2m4 0h1m2 0h1m2 0h1m1 0h2m4 0h3m2 0h1m2 0h2m2 0h3m3 0h1m1 0h1m1 0h3m2 0h1m2 0h7m2 0h2m1 0h1m3 0h1m2 0h2m1 0h2m3 0h2m2 0h2m1 0h5m1 0h1m1 0h1m1 0h1m1 0h1m6 0h1M4 16.5h1m4 0h2m3 0h1m1 0h2m1 0h1m1 0h2m1 0h2m1 0h1m1 0h2m1 0h1m3 0h1m2 0h2m2 0h1m2 0h1m1 0h1m3 0h2m1 0h1m1 0h3m5 0h4m1 0h3m1 0h1m1 0h1m3 0h3m3 0h3m7 0h2m1 0h1m1 0h5M4 17.5h1m1 0h3m2 0h2m1 0h2m1 0h6m3 0h3m2 0h3m1 0h3m2 0h2m5 0h2m1 0h1m1 0h1m4 0h2m4 0h1m2 0h1m7 0h1m2 0h1m1 0h3m4 0h1m1 0h2m3 0h1m2 0h1m1 0h1m2 0h2m3 0h2M4 18.5h3m2 0h4m1 0h1m2 0h1m1 0h1m2 0h1m1 0h2m3 0h1m1 0h3m2 0h1m1 0h1m2 0h5m2 0h5m3 0h2m2 0h2m1 0h1m6 0h1m2 0h1m1 0h1m2 0h4m1 0h1m1 0h2m2 0h2m2 0h2m2 0h1m2 0h1m2 0h1m4 0h1M5 19.5h4m2 0h2m2 0h1m1 0h1m1 0h2m1 0h1m3 0h1m1 0h1m5 0h1m3 0h2m3 0h1m4 0h1m1 0h2m3 0h3m6 0h2m1 0h2m2 0h1m5 0h1m4 0h1m2 0h3m4 0h1m3 0h5m1 0h4m1 0h2M4 20.5h1m2 0h1m1 0h4m1 0h1m1 0h1m1 0h1m1 0h2m1 0h2m5 0h1m1 0h1m1 0h2m1 0h4m4 0h1m2 0h1m1 0h1m1 0h1m2 0h1m1 0h1m1 0h1m5 0h2m1 0h1m1 0h1m2 0h1m1 0h1m1 0h1m2 0h3m1 0h1m2 0h2m4 0h1m1 0h2m2 0h2m1 0h1m1 0h5M4 21.5h1m3 0h2m4 0h1m2 0h1m3 0h2m1 0h2m1 0h2m1 0h3m1 0h2m2 0h1m1 0h2m1 0h1m1 0h5m2 0h1m1 0h1m2 0h1m3 0h1m1 0h1m2 0h4m1 0h1m2 0h3m1 0h5m1 0h3m1 0h2m1 0h5m1 0h2m1 0h1m1 0h2m2 0h1M4 22.5h2m1 0h2m1 0h3m1 0h1m6 0h1m1 0h1m1 0h1m3 0h8m4 0h2m1 0h1m1 0h1m2 0h2m3 0h1m1 0h3m2 0h3m3 0h2m5 0h1m1 0h6m1 0h1m1 0h1m1 0h4m1 0h1m2 0h1m1 0h2m1 0h1m1 0h2m3 0h1M5 23.5h2m1 0h2m1 0h2m3 0h1m1 0h5m2 0h1m1 0h1m1 0h1m3 0h1m2 0h4m3 0h3m3 0h2m3 0h3m1 0h1m3 0h1m1 0h2m4 0h1m1 0h3m1 0h1m5 0h3m2 0h2m2 0h2m2 0h1m1 0h1m5 0h3m1 0h1M5 24.5h4m1 0h2m1 0h2m5 0h1m1 0h5m3 0h1m1 0h2m1 0h1m1 0h5m1 0h1m7 0h1m2 0h2m1 0h3m8 0h1m6 0h4m1 0h4m1 0h2m1 0h2m1 0h1m1 0h2m4 0h4m1 0h4M4 25.5h2m2 0h1m3 0h4m1 0h2m3 0h1m1 0h1m1 0h1m4 0h2m1 0h2m2 0h1m1 0h3m2 0h2m2 0h1m3 0h1m3 0h2m2 0h1m1 0h1m1 0h4m2 0h2m1 0h7m2 0h1m2 0h2m1 0h1m3 0h7m3 0h1m2 0h3M4 26.5h1m1 0h2m1 0h2m2 0h1m3 0h1m1 0h1m1 0h2m1 0h1m3 0h1m1 0h1m2 0h2m5 0h1m3 0h5m1 0h2m1 0h1m1 0h2m1 0h1m2 0h4m2 0h2m1 0h1m2 0h1m2 0h3m3 0h1m4 0h1m1 0h1m2 0h2m2 0h3m1 0h1m1 0h3m1 0h1m1 0h1M4 27.5h2m2 0h2m2 0h2m2 0h2m1 0h1m4 0h6m1 0h2m2 0h1m1 0h2m1 0h2m1 0h2m5 0h1m4 0h2m2 0h2m1 0h4m3 0h1m2 0h2m1 0h2m1 0h1m1 0h1m1 0h1m2 0h2m4 0h5m1 0h1m1 0h1m1 0h2m4 0h1M6 28.5h1m1 0h6m3 0h4m1 0h1m1 0h3m1 0h6m1 0h1m1 0h2m1 0h4m1 0h3m4 0h5m1 0h3m2 0h1m1 0h1m2 0h1m1 0h1m1 0h1m1 0h1m1 0h5m3 0h3m1 0h1m2 0h1m1 0h2m1 0h3m1 0h5M4 29.5h1m1 0h3m3 0h2m1 0h1m2 0h1m1 0h1m1 0h2m2 0h3m3 0h1m3 0h1m1 0h1m1 0h1m4 0h1m4 0h1m1 0h1m3 0h4m1 0h1m2 0h1m1 0h3m1 0h1m5 0h1m3 0h3m1 0h1m1 0h2m2 0h1m4 0h1m1 0h1m1 0h2m3 0h1M5 30.5h1m2 0h1m1 0h1m1 0h4m1 0h1m1 0h1m1 0h1m1 0h2m2 0h2m1 0h1m1 0h1m1 0h1m6 0h1m2 0h2m1 0h1m2 0h1m1 0h1m1 0h1m1 0h2m2 0h3m1 0h5m1 0h1m2 0h2m1 0h1m1 0h1m1 0h1m1 0h1m1 0h1m3 0h1m5 0h2m1 0h1m2 0h1m1 0h1m1 0h1m3 0h1M5 31.5h1m2 0h1m3 0h1m3 0h2m1 0h1m5 0h4m3 0h2m1 0h4m1 0h1m1 0h5m4 0h2m3 0h1m2 0h1m2 0h4m3 0h1m1 0h4m1 0h1m3 0h1m4 0h7m1 0h1m3 0h1m2 0h1m3 0h1m2 0h1M5 32.5h2m1 0h5m3 0h2m1 0h1m3 0h1m1 0h9m1 0h1m4 0h1m1 0h2m1 0h1m2 0h1m3 0h5m1 0h1m3 0h4m2 0h1m2 0h1m1 0h9m1 0h1m1 0h1m1 0h1m5 0h1m2 0h2m2 0h5m2 0h1M4 33.5h2m1 0h1m8 0h2m1 0h6m1 0h1m1 0h3m1 0h1m3 0h3m1 0h1m1 0h1m2 0h5m6 0h3m1 0h1m5 0h3m1 0h1m3 0h1m2 0h2m4 0h1m2 0h1m6 0h1m1 0h10m1 0h1M4 34.5h4m2 0h1m1 0h1m1 0h1m1 0h1m1 0h2m1 0h1m1 0h1m3 0h3m1 0h1m2 0h1m2 0h1m1 0h1m1 0h1m1 0h1m1 0h3m1 0h2m3 0h4m2 0h1m1 0h1m1 0h1m1 0h1m1 0h1m1 0h1m4 0h1m1 0h1m2 0h1m1 0h4m2 0h1m2 0h1m3 0h1m1 0h2m1 0h3m1 0h4M4 35.5h2m1 0h1m1 0h1m3 0h5m1 0h1m2 0h1m1 0h3m5 0h2m1 0h2m1 0h2m1 0h2m1 0h3m3 0h1m1 0h3m1 0h1m2 0h4m2 0h5m1 0h4m4 0h1m1 0h1m1 0h1m1 0h2m1 0h1m1 0h1m7 0h1m3 0h4m1 0h1M4 36.5h2m1 0h1m2 0h2m1 0h2m2 0h3m3 0h1m1 0h1m1 0h1m2 0h1m2 0h1m1 0h1m1 0h1m1 0h3m2 0h3m1 0h1m4 0h2m3 0h2m2 0h1m1 0h2m2 0h2m1 0h1m1 0h3m2 0h1m1 0h2m2 0h2m7 0h2m1 0h1m6 0h1m4 0h1M16 37.5h1m2 0h4m1 0h7m1 0h1m3 0h1m3 0h3m2 0h5m1 0h1m4 0h3m2 0h1m1 0h3m8 0h1m2 0h2m4 0h4m3 0h2m3 0h3m3 0h2m3 0h3M4 38.5h1m5 0h1m1 0h2m1 0h1m3 0h2m4 0h3m1 0h1m4 0h1m3 0h3m6 0h1m1 0h2m1 0h1m1 0h4m4 0h2m2 0h2m1 0h2m6 0h1m2 0h1m1 0h1m2 0h1m1 0h1m1 0h1m2 0h1m1 0h2m1 0h2m2 0h1m2 0h2m1 0h2M4 39.5h3m2 0h1m3 0h3m1 0h2m6 0h2m1 0h1m2 0h1m1 0h1m1 0h1m1 0h2m2 0h1m1 0h1m1 0h2m3 0h1m2 0h2m4 0h1m1 0h2m1 0h5m1 0h7m3 0h2m1 0h1m1 0h5m3 0h3m2 0h1m1 0h1m1 0h3m1 0h1m1 0h1M7 40.5h1m2 0h6m4 0h1m3 0h2m1 0h2m1 0h2m5 0h1m1 0h6m1 0h1m1 0h1m2 0h1m1 0h4m1 0h2m3 0h3m1 0h3m1 0h1m1 0h2m1 0h1m1 0h3m3 0h2m1 0h1m5 0h2m1 0h1m2 0h3m1 0h1m1 0h1M5 41.5h2m1 0h2m1 0h1m1 0h12m1 0h1m1 0h3m1 0h3m1 0h2m1 0h1m1 0h9m2 0h1m2 0h5m1 0h1m4 0h3m5 0h5m2 0h1m4 0h1m4 0h1m2 0h1m1 0h2m1 0h1m1 0h2m2 0h4M4 42.5h1m4 0h2m2 0h1m3 0h2m1 0h1m4 0h1m3 0h1m2 0h3m3 0h3m1 0h1m2 0h1m1 0h4m1 0h1m1 0h1m1 0h1m2 0h1m1 0h1m4 0h1m3 0h1m6 0h1m2 0h2m7 0h1m3 0h1m2 0h3m1 0h3m2 0h1m1 0h2M6 43.5h1m1 0h1m3 0h4m2 0h2m5 0h4m3 0h9m3 0h1m3 0h1m1 0h2m1 0h2m6 0h1m1 0h1m2 0h4m3 0h4m3 0h1m2 0h3m1 0h1m2 0h2m1 0h2m1 0h1m1 0h3m1 0h1m2 0h2m1 0h1M7 44.5h1m2 0h8m4 0h1m1 0h1m1 0h3m1 0h2m3 0h1m3 0h1m2 0h1m3 0h3m4 0h2m1 0h1m3 0h1m1 0h1m5 0h2m1 0h1m2 0h3m1 0h1m4 0h1m2 0h1m3 0h3m1 0h2m1 0h5m2 0h3M4 45.5h3m6 0h2m1 0h1m3 0h2m1 0h3m1 0h1m1 0h1m1 0h1m2 0h1m5 0h3m1 0h6m2 0h1m4 0h5m6 0h1m3 0h1m1 0h2m6 0h1m5 0h3m2 0h2m1 0h1m4 0h1m1 0h1m1 0h2M4 46.5h1m1 0h1m1 0h4m2 0h2m2 0h1m2 0h1m3 0h2m2 0h4m4 0h2m4 0h3m1 0h3m1 0h2m2 0h2m1 0h2m1 0h1m1 0h2m1 0h1m3 0h1m1 0h3m2 0h1m3 0h1m3 0h1m1 0h1m5 0h1m1 0h1m3 0h8m1 0h1M5 47.5h1m2 0h1m2 0h5m1 0h3m3 0h8m1 0h2m1 0h8m1 0h1m3 0h4m1 0h1m1 0h1m1 0h1m3 0h1m7 0h1m1 0h1m1 0h5m2 0h5m3 0h1m1 0h2m3 0h1m3 0h2m1 0h1m4 0h1M5 48.5h1m1 0h1m2 0h1m2 0h1m1 0h3m4 0h1m2 0h1m1 0h2m3 0h2m1 0h1m2 0h7m1 0h1m3 0h1m4 0h1m4 0h1m1 0h1m1 0h1m2 0h3m3 0h1m1 0h2m4 0h1m1 0h1m2 0h3m2 0h1m2 0h1m4 0h1m1 0h1m1 0h1m1 0h3M5 49.5h1m2 0h2m1 0h2m1 0h2m3 0h3m3 0h3m2 0h1m8 0h1m2 0h1m2 0h3m4 0h4m1 0h7m1 0h1m2 0h1m2 0h1m2 0h2m2 0h1m1 0h3m3 0h3m2 0h1m1 0h3m2 0h1m2 0h1m1 0h2m3 0h1M5 50.5h2m2 0h4m3 0h1m1 0h2m2 0h1m1 0h3m2 0h1m1 0h4m3 0h2m5 0h1m2 0h1m1 0h3m1 0h1m1 0h1m1 0h2m1 0h1m3 0h3m2 0h1m13 0h1m2 0h1m1 0h1m1 0h3m1 0h3m1 0h1m1 0h1M6 51.5h1m6 0h2m2 0h2m1 0h2m1 0h3m1 0h4m1 0h7m1 0h2m1 0h1m3 0h1m1 0h1m1 0h1m2 0h2m2 0h1m2 0h3m5 0h1m1 0h1m1 0h5m1 0h3m4 0h1m1 0h3m1 0h1m6 0h2m1 0h1m1 0h1m3 0h1M7 52.5h8m3 0h2m3 0h1m1 0h8m1 0h2m5 0h2m2 0h2m3 0h1m1 0h6m2 0h1m1 0h3m2 0h2m1 0h12m1 0h1m1 0h2m2 0h3m1 0h1m3 0h2m1 0h7M7 53.5h2m3 0h3m13 0h1m3 0h1m1 0h1m2 0h3m2 0h1m1 0h1m1 0h1m1 0h5m3 0h5m3 0h2m3 0h2m1 0h1m1 0h1m1 0h1m3 0h1m2 0h1m1 0h1m1 0h1m2 0h3m1 0h1m1 0h3m1 0h1m3 0h2M4 54.5h3m1 0h1m1 0h1m1 0h1m1 0h2m1 0h6m1 0h1m3 0h1m1 0h1m1 0h1m3 0h1m1 0h2m3 0h1m1 0h3m2 0h3m1 0h1m1 0h1m2 0h2m4 0h3m1 0h1m2 0h3m1 0h1m1 0h1m1 0h3m1 0h1m1 0h2m3 0h1m4 0h5m1 0h1m1 0h3M6 55.5h1m1 0h1m3 0h1m2 0h4m1 0h3m2 0h2m1 0h1m3 0h4m4 0h2m3 0h3m1 0h4m3 0h3m1 0h4m5 0h2m2 0h2m1 0h1m3 0h2m1 0h3m2 0h2m2 0h1m2 0h1m4 0h1m3 0h1m1 0h2M6 56.5h9m1 0h1m2 0h1m1 0h2m1 0h11m1 0h1m4 0h2m1 0h2m6 0h5m3 0h5m2 0h3m1 0h3m1 0h10m4 0h3m2 0h1m1 0h2m2 0h5m1 0h3M12 57.5h3m4 0h2m1 0h2m3 0h1m2 0h1m1 0h1m3 0h2m1 0h1m2 0h2m3 0h2m2 0h1m1 0h1m3 0h2m1 0h1m1 0h1m1 0h2m1 0h1m2 0h2m1 0h1m2 0h2m1 0h1m1 0h2m2 0h3m2 0h1m1 0h6m2 0h4m1 0h1m2 0h1M4 58.5h4m2 0h2m2 0h4m1 0h1m2 0h1m2 0h7m3 0h1m1 0h3m3 0h3m1 0h2m1 0h2m2 0h1m1 0h2m1 0h2m4 0h2m1 0h1m1 0h2m1 0h4m1 0h2m2 0h1m1 0h4m3 0h2m9 0h5M7 59.5h2m3 0h1m4 0h2m2 0h2m1 0h2m1 0h1m2 0h5m3 0h1m1 0h2m3 0h2m8 0h4m2 0h3m3 0h4m1 0h3m2 0h2m1 0h1m2 0h1m1 0h2m2 0h1m3 0h4m1 0h2m1 0h3m2 0h1m1 0h1M4 60.5h2m1 0h4m2 0h1m1 0h4m2 0h3m1 0h1m2 0h1m1 0h2m1 0h1m2 0h1m4 0h2m1 0h1m1 0h1m3 0h1m1 0h3m2 0h2m2 0h4m1 0h2m1 0h3m1 0h1m3 0h1m1 0h1m1 0h1m2 0h1m3 0h2m2 0h3m2 0h1m8 0h2M7 61.5h1m1 0h1m1 0h2m2 0h3m1 0h2m1 0h4m2 0h2m3 0h3m1 0h1m1 0h1m1 0h6m1 0h3m4 0h2m1 0h3m1 0h1m1 0h2m5 0h1m1 0h1m4 0h1m2 0h5m4 0h3m2 0h2m1 0h1m1 0h2m2 0h1M5 62.5h1m2 0h1m1 0h1m2 0h4m1 0h1m3 0h1m7 0h1m1 0h4m1 0h5m1 0h4m2 0h1m1 0h1m1 0h3m2 0h1m1 0h1m2 0h4m1 0h2m1 0h1m2 0h1m2 0h2m1 0h1m3 0h3m1 0h6m2 0h2m1 0h1m2 0h1m2 0h1m2 0h1M4 63.5h1m3 0h2m4 0h1m3 0h4m3 0h5m1 0h2m1 0h3m1 0h5m4 0h1m1 0h1m1 0h1m2 0h1m2 0h1m1 0h1m1 0h4m1 0h3m1 0h2m1 0h1m2 0h9m1 0h1m2 0h2m2 0h2m5 0h2m5 0h2M6 64.5h1m1 0h1m1 0h1m4 0h2m1 0h4m1 0h4m1 0h1m2 0h1m2 0h1m1 0h1m4 0h1m2 0h3m1 0h1m1 0h5m2 0h1m3 0h2m2 0h1m1 0h1m2 0h1m1 0h1m5 0h2m9 0h1m2 0h1m1 0h2m5 0h1m6 0h1M5 65.5h4m3 0h1m2 0h3m1 0h3m1 0h4m1 0h1m1 0h1m2 0h2m1 0h2m2 0h1m1 0h6m1 0h1m2 0h1m2 0h2m5 0h3m1 0h1m2 0h2m4 0h2m1 0h1m3 0h2m1 0h1m2 0h2m1 0h2m1 0h3m1 0h1m3 0h2m1 0h1m1 0h2M4 66.5h3m1 0h4m1 0h2m2 0h1m1 0h2m2 0h2m1 0h1m2 0h1m2 0h2m3 0h2m2 0h4m8 0h3m2 0h1m4 0h1m2 0h1m1 0h4m2 0h1m5 0h2m2 0h5m2 0h1m1 0h1m4 0h1m1 0h2m1 0h4M7 67.5h1m1 0h1m4 0h1m3 0h5m4 0h1m3 0h2m2 0h1m2 0h1m3 0h1m2 0h1m1 0h8m2 0h1m1 0h5m2 0h3m5 0h8m1 0h1m2 0h1m2 0h1m5 0h3m1 0h1m2 0h5M5 68.5h1m3 0h2m2 0h1m1 0h4m4 0h1m1 0h4m2 0h1m2 0h4m2 0h2m2 0h1m1 0h2m1 0h2m1 0h1m4 0h1m5 0h1m2 0h2m2 0h1m1 0h1m6 0h1m2 0h2m3 0h1m1 0h1m4 0h2m1 0h1m1 0h1m2 0h2m1 0h1m1 0h2M9 69.5h1m1 0h1m3 0h1m3 0h1m1 0h7m1 0h1m3 0h2m1 0h2m1 0h1m3 0h3m4 0h1m1 0h5m2 0h1m3 0h4m2 0h5m3 0h1m3 0h2m2 0h1m1 0h1m1 0h1m1 0h2m1 0h1m2 0h1m5 0h1m1 0h1m1 0h2M4 70.5h1m1 0h2m1 0h2m1 0h1m1 0h3m1 0h4m2 0h1m1 0h3m1 0h1m1 0h2m3 0h1m2 0h1m2 0h2m6 0h2m2 0h1m2 0h1m2 0h1m5 0h2m2 0h1m1 0h3m2 0h1m1 0h2m7 0h1m1 0h1m5 0h5m1 0h3M4 71.5h1m3 0h1m8 0h1m1 0h5m3 0h6m2 0h3m1 0h4m2 0h6m1 0h3m2 0h1m4 0h7m1 0h1m3 0h1m2 0h1m1 0h2m2 0h2m1 0h3m1 0h1m1 0h1m2 0h6m2 0h1M4 72.5h5m1 0h1m3 0h1m6 0h2m5 0h1m2 0h1m2 0h2m4 0h2m1 0h1m3 0h1m1 0h2m1 0h3m2 0h1m1 0h2m2 0h3m1 0h1m4 0h1m5 0h2m2 0h3m1 0h1m2 0h2m1 0h1m1 0h2m1 0h4m1 0h1m2 0h1m1 0h2M4 73.5h2m6 0h1m1 0h2m2 0h2m2 0h1m1 0h3m1 0h3m2 0h2m1 0h3m1 0h3m1 0h3m3 0h1m1 0h1m2 0h2m2 0h2m2 0h4m2 0h1m1 0h3m1 0h3m3 0h3m1 0h3m1 0h1m1 0h1m2 0h1m3 0h1m1 0h3m1 0h1m3 0h1M4 74.5h7m3 0h2m1 0h2m5 0h2m2 0h6m2 0h5m2 0h4m8 0h1m2 0h2m1 0h3m1 0h7m1 0h7m1 0h1m4 0h4m1 0h1m1 0h4m3 0h2m1 0h1M6 75.5h1m1 0h1m2 0h2m2 0h1m1 0h1m2 0h2m2 0h1m1 0h2m2 0h3m2 0h1m1 0h1m1 0h1m2 0h2m2 0h5m2 0h1m1 0h1m1 0h1m1 0h1m3 0h2m5 0h1m3 0h1m1 0h1m1 0h2m3 0h1m1 0h1m1 0h3m1 0h1m2 0h6m3 0h2m1 0h2M5 76.5h2m1 0h5m1 0h1m4 0h4m1 0h1m2 0h9m3 0h2m1 0h1m1 0h2m1 0h1m1 0h2m1 0h5m2 0h3m1 0h2m1 0h3m1 0h1m1 0h1m2 0h6m2 0h6m2 0h1m2 0h1m1 0h3m1 0h5m1 0h3M5 77.5h2m1 0h1m3 0h1m3 0h1m1 0h3m1 0h4m2 0h1m3 0h1m1 0h2m2 0h1m4 0h2m5 0h3m3 0h1m4 0h2m3 0h2m1 0h5m2 0h1m3 0h4m1 0h1m1 0h2m4 0h2m3 0h1m1 0h1m3 0h3m1 0h1M5 78.5h4m1 0h1m1 0h1m2 0h3m2 0h1m3 0h3m1 0h1m1 0h1m1 0h4m1 0h1m1 0h2m2 0h1m2 0h1m5 0h1m1 0h1m1 0h2m3 0h1m5 0h1m1 0h1m1 0h6m1 0h1m1 0h1m2 0h1m2 0h1m1 0h1m1 0h4m2 0h1m2 0h2m1 0h1m1 0h1M5 79.5h2m1 0h1m3 0h1m2 0h2m1 0h1m1 0h2m2 0h5m3 0h2m4 0h4m1 0h3m1 0h6m3 0h1m2 0h4m2 0h4m3 0h1m1 0h3m3 0h3m2 0h3m2 0h3m4 0h2m1 0h1m3 0h2m1 0h1M6 80.5h1m1 0h9m1 0h1m3 0h1m1 0h2m1 0h7m2 0h1m1 0h1m4 0h3m1 0h2m2 0h6m2 0h1m3 0h4m3 0h3m1 0h1m1 0h6m2 0h3m3 0h1m2 0h1m1 0h2m3 0h5m1 0h3M6 81.5h1m1 0h1m4 0h1m1 0h1m1 0h1m1 0h1m1 0h6m1 0h1m3 0h5m2 0h4m6 0h2m1 0h3m1 0h1m6 0h2m2 0h5m2 0h1m1 0h1m2 0h2m2 0h2m1 0h2m1 0h1m5 0h4m1 0h1m1 0h7M6 82.5h1m1 0h4m1 0h2m1 0h1m2 0h2m3 0h1m2 0h1m5 0h3m3 0h1m1 0h1m2 0h1m1 0h2m1 0h1m2 0h2m7 0h2m6 0h1m2 0h3m4 0h1m3 0h1m3 0h6m1 0h5m1 0h1m2 0h1m3 0h2M4 83.5h2m2 0h2m3 0h1m1 0h1m2 0h1m1 0h2m1 0h1m1 0h1m2 0h3m3 0h1m2 0h5m2 0h2m1 0h1m2 0h1m5 0h2m1 0h2m2 0h2m1 0h2m4 0h1m3 0h3m1 0h1m1 0h1m4 0h1m1 0h5m2 0h1m4 0h1m6 0h1M4 84.5h3m2 0h2m7 0h2m1 0h1m1 0h3m2 0h2m2 0h1m3 0h1m1 0h1m1 0h1m3 0h2m2 0h1m5 0h1m1 0h1m2 0h1m2 0h1m1 0h3m3 0h2m2 0h1m1 0h2m1 0h2m3 0h1m1 0h1m1 0h1m2 0h1m1 0h1m2 0h3m2 0h1m5 0h2M4 85.5h1m1 0h1m1 0h1m6 0h3m2 0h3m1 0h1m1 0h1m4 0h2m1 0h3m1 0h4m1 0h1m4 0h7m1 0h3m7 0h2m1 0h3m7 0h1m3 0h6m1 0h2m3 0h1m5 0h6m1 0h1M5 86.5h1m1 0h4m2 0h2m1 0h1m3 0h1m2 0h1m1 0h3m5 0h3m1 0h2m2 0h4m1 0h1m1 0h1m1 0h1m1 0h2m1 0h3m3 0h1m1 0h1m5 0h1m1 0h3m1 0h1m3 0h1m1 0h5m5 0h2m1 0h3m5 0h2m3 0h1M5 87.5h1m1 0h1m1 0h1m1 0h3m2 0h1m1 0h6m2 0h6m6 0h2m4 0h2m1 0h3m7 0h1m1 0h2m3 0h2m1 0h1m4 0h10m1 0h1m2 0h2m1 0h2m2 0h1m4 0h1m1 0h1m4 0h3M4 88.5h1m4 0h3m1 0h5m4 0h1m3 0h1m1 0h2m1 0h2m1 0h1m1 0h5m6 0h1m1 0h1m4 0h3m1 0h2m1 0h1m3 0h3m1 0h1m2 0h3m1 0h2m1 0h1m1 0h3m3 0h2m4 0h1m1 0h1m2 0h2m4 0h3M4 89.5h3m4 0h4m2 0h3m3 0h1m1 0h1m5 0h1m1 0h5m2 0h2m1 0h2m1 0h3m1 0h5m2 0h2m2 0h1m1 0h1m2 0h2m4 0h2m5 0h2m1 0h1m1 0h1m1 0h1m1 0h2m2 0h7m4 0h2m1 0h1M4 90.5h1m3 0h3m3 0h3m1 0h3m4 0h3m5 0h1m1 0h2m4 0h2m1 0h1m2 0h4m1 0h2m1 0h1m1 0h1m3 0h1m1 0h1m3 0h1m1 0h2m1 0h2m1 0h1m7 0h1m2 0h1m2 0h6m3 0h1m2 0h2m4 0h2M8 91.5h1m2 0h2m1 0h1m1 0h2m2 0h1m1 0h3m1 0h3m2 0h1m1 0h1m2 0h1m1 0h2m3 0h1m1 0h1m3 0h1m5 0h2m1 0h5m1 0h2m2 0h2m1 0h6m1 0h1m3 0h1m1 0h4m5 0h1m3 0h1m1 0h2m1 0h2m1 0h1m2 0h1M4 92.5h1m1 0h1m2 0h2m1 0h7m4 0h2m3 0h3m1 0h1m1 0h7m2 0h1m2 0h1m1 0h1m1 0h1m2 0h1m4 0h1m1 0h1m4 0h2m1 0h3m2 0h2m1 0h2m1 0h2m1 0h3m2 0h2m3 0h1m5 0h5m2 0h2M4 93.5h4m3 0h1m1 0h5m1 0h1m3 0h2m1 0h1m2 0h1m1 0h6m1 0h1m1 0h2m2 0h2m3 0h1m1 0h2m1 0h3m1 0h1m2 0h1m1 0h1m2 0h1m3 0h4m3 0h1m2 0h1m1 0h2m2 0h1m1 0h2m4 0h2m1 0h1m1 0h1m2 0h1m1 0h1m1 0h2M4 94.5h1m1 0h1m1 0h1m1 0h1m1 0h1m1 0h3m3 0h3m2 0h1m1 0h1m2 0h5m1 0h1m4 0h2m1 0h1m1 0h2m1 0h1m2 0h1m1 0h10m3 0h3m3 0h3m3 0h1m1 0h1m2 0h1m1 0h1m2 0h2m1 0h1m1 0h1m3 0h1m4 0h1m4 0h1M6 95.5h1m1 0h1m2 0h1m2 0h1m1 0h1m2 0h4m1 0h6m1 0h2m3 0h4m3 0h3m1 0h1m5 0h3m1 0h1m2 0h1m1 0h1m1 0h2m6 0h1m2 0h1m1 0h1m2 0h3m1 0h1m1 0h3m2 0h2m1 0h1m1 0h2m1 0h3m1 0h1m1 0h1M4 96.5h8m2 0h1m1 0h1m4 0h3m3 0h4m1 0h2m1 0h6m1 0h2m1 0h1m1 0h1m3 0h3m2 0h1m8 0h2m1 0h3m1 0h1m1 0h5m1 0h7m2 0h1m1 0h1m3 0h1m1 0h1m1 0h10M4 97.5h6m2 0h1m1 0h2m2 0h3m3 0h4m1 0h4m1 0h1m1 0h1m1 0h1m1 0h3m3 0h1m1 0h2m4 0h3m1 0h4m1 0h1m3 0h3m4 0h1m1 0h2m2 0h2m4 0h1m6 0h1m1 0h1m2 0h2m1 0h1m1 0h2m1 0h1M4 98.5h3m3 0h2m1 0h1m1 0h3m1 0h1m2 0h2m1 0h1m2 0h5m1 0h1m4 0h1m1 0h2m1 0h4m1 0h1m2 0h3m3 0h2m1 0h2m3 0h4m1 0h1m1 0h1m1 0h1m2 0h1m1 0h1m1 0h1m1 0h1m2 0h1m2 0h1m1 0h2m6 0h2m4 0h3M6 99.5h1m1 0h2m1 0h1m1 0h1m2 0h5m1 0h3m2 0h3m2 0h3m1 0h4m2 0h3m3 0h2m1 0h2m2 0h1m2 0h1m3 0h1m1 0h1m6 0h4m1 0h3m2 0h2m1 0h3m2 0h1m1 0h4m1 0h3m3 0h1m1 0h2m1 0h2M7 100.5h2m1 0h1m2 0h1m2 0h1m2 0h1m3 0h1m3 0h7m1 0h1m1 0h2m1 0h1m2 0h1m1 0h2m3 0h7m1 0h2m3 0h4m1 0h1m1 0h1m1 0h1m3 0h6m1 0h7m1 0h1m1 0h1m4 0h8m1 0h2M12 101.5h1m2 0h1m2 0h3m2 0h6m3 0h1m3 0h1m1 0h1m2 0h1m3 0h1m1 0h1m1 0h4m3 0h4m1 0h1m2 0h1m2 0h3m1 0h1m3 0h2m3 0h1m5 0h4m4 0h3m1 0h1m1 0h1m3 0h2m1 0h2M4 102.5h7m3 0h1m2 0h2m2 0h1m1 0h6m1 0h1m1 0h1m1 0h1m9 0h1m1 0h2m3 0h2m1 0h1m1 0h2m2 0h3m2 0h1m1 0h2m4 0h4m1 0h1m1 0h1m1 0h2m3 0h1m3 0h3m1 0h1m2 0h3m1 0h1m1 0h1m2 0h2M4 103.5h1m5 0h1m1 0h3m1 0h3m2 0h2m1 0h3m1 0h1m3 0h2m1 0h5m2 0h5m2 0h4m3 0h1m3 0h1m1 0h2m1 0h1m5 0h2m2 0h2m3 0h2m2 0h4m1 0h1m7 0h1m2 0h1m3 0h2M4 104.5h1m1 0h3m1 0h1m1 0h1m2 0h3m1 0h1m1 0h2m1 0h1m3 0h6m1 0h2m3 0h1m1 0h2m1 0h2m1 0h1m3 0h5m1 0h1m1 0h4m2 0h1m1 0h1m1 0h2m1 0h9m1 0h1m3 0h2m5 0h1m1 0h12M4 105.5h1m1 0h3m1 0h1m3 0h3m2 0h1m1 0h1m1 0h1m1 0h2m2 0h3m7 0h2m6 0h3m2 0h1m1 0h2m1 0h2m1 0h1m1 0h7m1 0h1m3 0h1m5 0h1m2 0h1m1 0h17m4 0h3M4 106.5h1m1 0h3m1 0h1m2 0h4m6 0h5m3 0h2m1 0h1m1 0h1m1 0h1m1 0h1m3 0h1m2 0h1m1 0h2m1 0h1m3 0h2m2 0h2m1 0h2m3 0h1m7 0h1m1 0h3m1 0h1m1 0h1m2 0h1m2 0h2m3 0h1m2 0h3m1 0h1m1 0h1m1 0h1M4 107.5h1m5 0h1m1 0h1m2 0h4m4 0h8m2 0h1m2 0h2m1 0h1m1 0h1m1 0h1m1 0h1m4 0h2m2 0h3m2 0h2m1 0h1m1 0h1m1 0h1m2 0h6m2 0h1m3 0h1m1 0h2m2 0h2m2 0h1m1 0h1m7 0h1m1 0h1m2 0h1M4 108.5h7m1 0h2m4 0h2m1 0h2m1 0h1m2 0h1m1 0h1m2 0h2m1 0h2m1 0h1m1 0h2m2 0h1m1 0h1m1 0h1m5 0h2m2 0h1m1 0h1m1 0h1m1 0h2m1 0h2m1 0h2m1 0h3m1 0h2m1 0h2m1 0h5m1 0h1m4 0h1m1 0h1m4 0h2m1 0h2m2 0h1\"/></svg>\n"
      ]
     },
     "execution_count": 12,
     "metadata": {},
     "output_type": "execute_result"
    }
   ],
   "source": [
    "var QRCode = require('qrcode')\n",
    "\n",
    "const segments = [\n",
    "    {data: 'shc:/', mode: 'byte'},\n",
    "    {data: numericJWS, mode: 'numeric'}\n",
    "]\n",
    "\n",
    "let qrSVG\n",
    "QRCode.toString(segments,{type: 'svg', errorCorrectionLevel: 'low', version: 22 }).then(function(result){\n",
    "    qrSVG = result\n",
    "    $$.svg(qrSVG)\n",
    "})\n",
    "\n",
    "// Also print as PNG for scanning later on.\n",
    "\n",
    "\n",
    "QRCode.toFile('./qrcode.png', segments, {width: 800, version: 22})"
   ]
  },
  {
   "cell_type": "markdown",
   "id": "tender-viewer",
   "metadata": {},
   "source": [
    "### QR Code Scanning\n",
    "\n",
    "Now let's try and scan the QR Code!"
   ]
  },
  {
   "cell_type": "code",
   "execution_count": 13,
   "id": "inner-enhancement",
   "metadata": {
    "scrolled": true
   },
   "outputs": [
    {
     "name": "stdout",
     "output_type": "stream",
     "text": [
      "Are the QR Codes Equal? true\n",
      "shc:/5676290952432060346029243740446031222959532654603460292540772804336028702864716745222809286544773740450756424157397737395464540340646344536563213603670733644577416233695264415955620826446137405442633131416260573601064131316171332024357641683556520024414429770821587037232222267554242408613256555633201169296475621023767312327738375236336963742811676306334341415543122232280868302304736533416461692569260037385511646533652667435958686735664058310552262430727108226355506545532728086671087060777367772174682110592539575207112523125705295469505729507043605326107132617637546671336860124433306336740953305759615909276126046875255276427227102203317669057208346104630706323629674366715761287361310729082644363953073266651031503331433508231007265053226270684356226744290862384008110756726804070624583127663926110835623743542208544320280640593153383662337024567639707612632500712932226373116628542762113650764510252150422059395622295938626160581256523233532526397075662010755761217156301138052875625428560966430442662561404174703007740677583971577370756542390769325961270953356811717368067311557257353212761052231257623238757044297431614273393720457226682506034458103466506857295603684152421144212203686239395468272075277405206325417030072652573665383429546945664036557157764530283233085305326764270336096237373732334570224233501238693466537703576129433745506640386753660441664036762657572659646433542904623257654156732842334166642900003209073865267508290645404460501176756429083554537606053062507761002058012000396269727707763464346150382450603520420603395032673465566309740065676231230473696511553503416236233864767527104532715038536530331152060477035009375311637160374145594236\n"
     ]
    }
   ],
   "source": [
    "var jsQR = require('jsqr');\n",
    "var PNG = require('pngjs').PNG;\n",
    "\n",
    "\n",
    "imageData = PNG.sync.read(fs.readFileSync('./qrcode.png'))\n",
    "\n",
    "const scannedQR = jsQR(new Uint8ClampedArray(imageData.data.buffer), imageData.width, imageData.height)\n",
    "\n",
    "const qrCodesEqual = scannedQR.data === qrCodeData\n",
    "\n",
    "console.log(\"Are the QR Codes Equal? \" + qrCodesEqual)\n",
    "\n",
    "console.log(scannedQR.data)"
   ]
  },
  {
   "cell_type": "markdown",
   "id": "dense-colleague",
   "metadata": {},
   "source": [
    "### Extracting Data from the QR Code\n",
    "\n",
    "Now let's reverse the process to get the original data back and check the signature. First, let's extract the JWS."
   ]
  },
  {
   "cell_type": "code",
   "execution_count": 14,
   "id": "engaging-shape",
   "metadata": {},
   "outputs": [
    {
     "name": "stdout",
     "output_type": "stream",
     "text": [
      "eyJ6aXAiOiJERUYiLCJhbGciOiJFUzI1NiIsImtpZCI6InYzRUZ4eWVfTzRTcmc0UmlYbnlBQ0p4NmZzVkNramVhdk5GYjRUcWlLLVkifQ.3VLLjtNAEPyVqPea-EVYJz5BgsRDCCGxcEE5jMedeNA8rJmxk7Dyv9MzSRaQNrlwI8pl3NXVVdX9CMI5qKD1vnNVmjrFrG-RSd8mnNnGpXhgqpPoUgL2aGEKut5Cld_nZbHI5ot5sizvpzBwqB7hFTfa48FD9f2Jcr_fJ_sXibG7tMjyRcotNqi9YNKlQw6bKfhjh6HjG1qxFayWuH7C0Lyr2u5Oj1l43MQJpXotfjIvjL4J5GYQTb4Mon7L_NLXP5D74G_bCksqXeCpYJ5kSU584euq143EgLHoTG85PkRXcC5cXAI3UhLbSQkNsEeyTsy9lF-tJMClv8oIcHk8Q_yZ7FB_WAhTeCJhSkjig9eaMNbFGTsxoA7xfjBteK8S2IxkcIe6oX1WoFjUVwsK4w3zgTtfvsxnWT4rMhjH6bPq8tvq3v8dufPM9y7aD9fkMSxsYJwLjWvTRAZuGqF30Yg7Oo_qfJe0qVaW8YBC0qkTTcqHAxHw2AlFVsK4GafQnSOJcrZoUQdtfyZKIMN5b2MpmH0Q6kRRRMNZsCWN_9SrOobz0fjJXRZ_oUSpbo1VoUQyGffGhmmNcJ1kMfnVevIWNVomJ--M64SnGx5J3ZUYi_8yxmJ5Pcby32Kk_zj-Ag.A-Tkruz4yOmOj_SE_iPAW30T_MpOnel6w-npkLD1vrn8dP0VkQDSmyxH7ZMt_SbnKN8a31z0_6Rb8ltiRVZhWQ\n"
     ]
    }
   ],
   "source": [
    "const scannedJWS = scannedQR\n",
    "    .chunks\n",
    "    .filter(chunk => chunk.type === \"numeric\")[0] // Grab the numeric chunk\n",
    "    .text.match(/(..?)/g) // Split into groups of 2 numeric characters each of which represent a single JWS char\n",
    "    .map(num => String.fromCharCode(parseInt(num, 10) + 45)).join('') // Convert from numeric encoding to JWS\n",
    "\n",
    "console.log(scannedJWS)"
   ]
  },
  {
   "cell_type": "markdown",
   "id": "distributed-springfield",
   "metadata": {},
   "source": [
    "Next we can verify the signature and extract the payload"
   ]
  },
  {
   "cell_type": "code",
   "execution_count": 15,
   "id": "ancient-revision",
   "metadata": {},
   "outputs": [],
   "source": [
    "let scannedResult;\n",
    "\n",
    "jose.JWS.createVerify(signingKey)\n",
    "    .verify(jws).then(function(result) {\n",
    "    zlib.inflateRaw(result.payload, function(err, decompressedResult){\n",
    "        scannedResult = decompressedResult.toString('utf8')\n",
    "    })\n",
    "})"
   ]
  },
  {
   "cell_type": "code",
   "execution_count": 16,
   "id": "eastern-costa",
   "metadata": {},
   "outputs": [
    {
     "data": {
      "text/plain": [
       "'{\"iss\":\"https://smarthealth.cards/examples/issuer\",\"nbf\":1617280484.976,\"vc\":{\"@context\":[\"https://www.w3.org/2018/credentials/v1\"],\"type\":[\"VerifiableCredential\",\"https://smarthealth.cards#health-card\",\"https://smarthealth.cards#immunization\",\"https://smarthealth.cards#covid19\"],\"credentialSubject\":{\"fhirVersion\":\"4.0.1\",\"fhirBundle\":{\"resourceType\":\"Bundle\",\"type\":\"collection\",\"entry\":[{\"fullUrl\":\"resource:0\",\"resource\":{\"resourceType\":\"Patient\",\"name\":[{\"family\":\"Anyperson\",\"given\":[\"John\",\"B.\"]}],\"gender\":\"male\",\"birthDate\":\"1951-01-20\"}},{\"fullUrl\":\"resource:1\",\"resource\":{\"resourceType\":\"Immunization\",\"status\":\"completed\",\"vaccineCode\":{\"coding\":[{\"system\":\"http://hl7.org/fhir/sid/cvx\",\"code\":\"207\"}]},\"patient\":{\"reference\":\"resource:0\"},\"occurrenceDateTime\":\"2021-01-01\",\"lotNumber\":\"Lot #0000001\",\"performer\":[{\"actor\":{\"display\":\"ABC General Hospital\"}}]}},{\"fullUrl\":\"resource:2\",\"resource\":{\"resourceType\":\"Immunization\",\"status\":\"completed\",\"vaccineCode\":{\"coding\":[{\"system\":\"http://hl7.org/fhir/sid/cvx\",\"code\":\"207\"}]},\"patient\":{\"reference\":\"resource:0\"},\"occurrenceDateTime\":\"2021-01-29\",\"lotNumber\":\"Lot #0000007\",\"performer\":[{\"actor\":{\"display\":\"ABC General Hospital\"}}]}}]}}}}'"
      ]
     },
     "execution_count": 16,
     "metadata": {},
     "output_type": "execute_result"
    }
   ],
   "source": [
    "scannedResult"
   ]
  },
  {
   "cell_type": "markdown",
   "id": "horizontal-rebound",
   "metadata": {},
   "source": [
    "Let's compare this to our original minified payload with whitespace removed"
   ]
  },
  {
   "cell_type": "code",
   "execution_count": 18,
   "id": "supported-genetics",
   "metadata": {},
   "outputs": [
    {
     "data": {
      "text/plain": [
       "true"
      ]
     },
     "execution_count": 18,
     "metadata": {},
     "output_type": "execute_result"
    }
   ],
   "source": [
    "scannedResult === noWhiteSpaceHealthCard"
   ]
  },
  {
   "cell_type": "markdown",
   "id": "tender-steel",
   "metadata": {},
   "source": [
    "Lastly, let's pretty print it for easier inspection"
   ]
  },
  {
   "cell_type": "code",
   "execution_count": 24,
   "id": "digital-albuquerque",
   "metadata": {},
   "outputs": [
    {
     "data": {
      "text/plain": [
       "'{\\n' +\n",
       "  '  \"iss\": \"https://smarthealth.cards/examples/issuer\",\\n' +\n",
       "  '  \"nbf\": 1617280484.976,\\n' +\n",
       "  '  \"vc\": {\\n' +\n",
       "  '    \"@context\": [\\n' +\n",
       "  '      \"https://www.w3.org/2018/credentials/v1\"\\n' +\n",
       "  '    ],\\n' +\n",
       "  '    \"type\": [\\n' +\n",
       "  '      \"VerifiableCredential\",\\n' +\n",
       "  '      \"https://smarthealth.cards#health-card\",\\n' +\n",
       "  '      \"https://smarthealth.cards#immunization\",\\n' +\n",
       "  '      \"https://smarthealth.cards#covid19\"\\n' +\n",
       "  '    ],\\n' +\n",
       "  '    \"credentialSubject\": {\\n' +\n",
       "  '      \"fhirVersion\": \"4.0.1\",\\n' +\n",
       "  '      \"fhirBundle\": {\\n' +\n",
       "  '        \"resourceType\": \"Bundle\",\\n' +\n",
       "  '        \"type\": \"collection\",\\n' +\n",
       "  '        \"entry\": [\\n' +\n",
       "  '          {\\n' +\n",
       "  '            \"fullUrl\": \"resource:0\",\\n' +\n",
       "  '            \"resource\": {\\n' +\n",
       "  '              \"resourceType\": \"Patient\",\\n' +\n",
       "  '              \"name\": [\\n' +\n",
       "  '                {\\n' +\n",
       "  '                  \"family\": \"Anyperson\",\\n' +\n",
       "  '                  \"given\": [\\n' +\n",
       "  '                    \"John\",\\n' +\n",
       "  '                    \"B.\"\\n' +\n",
       "  '                  ]\\n' +\n",
       "  '                }\\n' +\n",
       "  '              ],\\n' +\n",
       "  '              \"gender\": \"male\",\\n' +\n",
       "  '              \"birthDate\": \"1951-01-20\"\\n' +\n",
       "  '            }\\n' +\n",
       "  '          },\\n' +\n",
       "  '          {\\n' +\n",
       "  '            \"fullUrl\": \"resource:1\",\\n' +\n",
       "  '            \"resource\": {\\n' +\n",
       "  '              \"resourceType\": \"Immunization\",\\n' +\n",
       "  '              \"status\": \"completed\",\\n' +\n",
       "  '              \"vaccineCode\": {\\n' +\n",
       "  '                \"coding\": [\\n' +\n",
       "  '                  {\\n' +\n",
       "  '                    \"system\": \"http://hl7.org/fhir/sid/cvx\",\\n' +\n",
       "  '                    \"code\": \"207\"\\n' +\n",
       "  '                  }\\n' +\n",
       "  '                ]\\n' +\n",
       "  '              },\\n' +\n",
       "  '              \"patient\": {\\n' +\n",
       "  '                \"reference\": \"resource:0\"\\n' +\n",
       "  '              },\\n' +\n",
       "  '              \"occurrenceDateTime\": \"2021-01-01\",\\n' +\n",
       "  '              \"lotNumber\": \"Lot #0000001\",\\n' +\n",
       "  '              \"performer\": [\\n' +\n",
       "  '                {\\n' +\n",
       "  '                  \"actor\": {\\n' +\n",
       "  '                    \"display\": \"ABC General Hospital\"\\n' +\n",
       "  '                  }\\n' +\n",
       "  '                }\\n' +\n",
       "  '              ]\\n' +\n",
       "  '            }\\n' +\n",
       "  '          },\\n' +\n",
       "  '          {\\n' +\n",
       "  '            \"fullUrl\": \"resource:2\",\\n' +\n",
       "  '            \"resource\": {\\n' +\n",
       "  '              \"resourceType\": \"Immunization\",\\n' +\n",
       "  '              \"status\": \"completed\",\\n' +\n",
       "  '              \"vaccineCode\": {\\n' +\n",
       "  '                \"coding\": [\\n' +\n",
       "  '                  {\\n' +\n",
       "  '                    \"system\": \"http://hl7.org/fhir/sid/cvx\",\\n' +\n",
       "  '                    \"code\": \"207\"\\n' +\n",
       "  '                  }\\n' +\n",
       "  '                ]\\n' +\n",
       "  '              },\\n' +\n",
       "  '              \"patient\": {\\n' +\n",
       "  '                \"reference\": \"resource:0\"\\n' +\n",
       "  '              },\\n' +\n",
       "  '              \"occurrenceDateTime\": \"2021-01-29\",\\n' +\n",
       "  '              \"lotNumber\": \"Lot #0000007\",\\n' +\n",
       "  '              \"performer\": [\\n' +\n",
       "  '                {\\n' +\n",
       "  '                  \"actor\": {\\n' +\n",
       "  '                    \"display\": \"ABC General Hospital\"\\n' +\n",
       "  '                  }\\n' +\n",
       "  '                }\\n' +\n",
       "  '              ]\\n' +\n",
       "  '            }\\n' +\n",
       "  '          }\\n' +\n",
       "  '        ]\\n' +\n",
       "  '      }\\n' +\n",
       "  '    }\\n' +\n",
       "  '  }\\n' +\n",
       "  '}'"
      ]
     },
     "execution_count": 24,
     "metadata": {},
     "output_type": "execute_result"
    }
   ],
   "source": [
    "JSON.stringify(JSON.parse(scannedResult), null, 2)"
   ]
  },
  {
   "cell_type": "code",
   "execution_count": null,
   "id": "noble-video",
   "metadata": {},
   "outputs": [],
   "source": []
  }
 ],
 "metadata": {
  "kernelspec": {
   "display_name": "Javascript (Node.js)",
   "language": "javascript",
   "name": "javascript"
  },
  "language_info": {
   "file_extension": ".js",
   "mimetype": "application/javascript",
   "name": "javascript",
   "version": "15.12.0"
  }
 },
 "nbformat": 4,
 "nbformat_minor": 5
}
