{
 "cells": [
  {
   "cell_type": "markdown",
   "id": "thick-dominican",
   "metadata": {},
   "source": [
    "# SMART Health Cards\n",
    "\n",
    "This notebook is designed to give an overview of [SMART Health Cards Framework](https://smarthealth.cards/) and how it works.\n",
    "\n",
    "\n",
    "This notebook is written in JavaScript and uses the [IJavascript kernel](https://github.com/n-riesco/ijavascript) for Jupyter Notebook."
   ]
  },
  {
   "cell_type": "markdown",
   "id": "portable-reducing",
   "metadata": {},
   "source": [
    "## Walkthrough\n",
    "\n",
    "The high level outline is as follows:\n",
    "* FHIR Bundle is created\n",
    "* FHIR Bundle is minified\n",
    "* SMART Health Card is created from FHIR Bundle\n",
    "* SMART Health Card is encoded as a JWS\n",
    "* Patient Retrieves the SMART Health Cards via:\n",
    "  * File Download\n",
    "  * QR Code\n",
    "  * FHIR API"
   ]
  },
  {
   "cell_type": "markdown",
   "id": "natural-gothic",
   "metadata": {},
   "source": [
    "### The FHIR Bundle\n",
    "\n",
    "A SMART Health Card is composed of a [W3C Verifiable Credential](https://w3c.github.io/vc-data-model/), [encoded as a JWT](https://w3c.github.io/vc-data-model/#jwt-encoding), with a Credential Subject that contains the FHIR version and a FHIR Bundle (See [Modeling W3C Verifiable Credentials in FHIR](https://smarthealth.cards/credential-modeling/).\n",
    "\n",
    "The FHIR Bundle contains the health care information.\n",
    "\n",
    "Let's assume we have the below FHIR Bundle ([Example 0](https://smarthealth.cards/examples/example-00-a-fhirBundle.json) at the time of writing). This FHIR Bundle could be produced in a number of ways, but for now let's imagine that the patient, John B. Anyperson, has just received his second COVID-19 vaccination shot and the healthcare worker entered his information into their system which produced the below in their system."
   ]
  },
  {
   "cell_type": "code",
   "execution_count": 1,
   "id": "useful-reset",
   "metadata": {},
   "outputs": [],
   "source": [
    "const fhirBundle = {\n",
    "  \"resourceType\": \"Bundle\",\n",
    "  \"type\": \"collection\",\n",
    "  \"entry\": [\n",
    "    {\n",
    "      \"fullUrl\": \"resource:0\",\n",
    "      \"resource\": {\n",
    "        \"resourceType\": \"Patient\",\n",
    "        \"name\": [\n",
    "          {\n",
    "            \"family\": \"Anyperson\",\n",
    "            \"given\": [\n",
    "              \"John\",\n",
    "              \"B.\"\n",
    "            ]\n",
    "          }\n",
    "        ],\n",
    "        \"gender\": \"male\",\n",
    "        \"birthDate\": \"1951-01-20\"\n",
    "      }\n",
    "    },\n",
    "    {\n",
    "      \"fullUrl\": \"resource:1\",\n",
    "      \"resource\": {\n",
    "        \"resourceType\": \"Immunization\",\n",
    "        \"status\": \"completed\",\n",
    "        \"vaccineCode\": {\n",
    "          \"coding\": [\n",
    "            {\n",
    "              \"system\": \"http://hl7.org/fhir/sid/cvx\",\n",
    "              \"code\": \"207\"\n",
    "            }\n",
    "          ]\n",
    "        },\n",
    "        \"patient\": {\n",
    "          \"reference\": \"resource:0\"\n",
    "        },\n",
    "        \"occurrenceDateTime\": \"2021-01-01\",\n",
    "        \"lotNumber\": \"Lot #0000001\",\n",
    "        \"performer\": [\n",
    "          {\n",
    "            \"actor\": {\n",
    "              \"display\": \"ABC General Hospital\"\n",
    "            }\n",
    "          }\n",
    "        ]\n",
    "      }\n",
    "    },\n",
    "    {\n",
    "      \"fullUrl\": \"resource:2\",\n",
    "      \"resource\": {\n",
    "        \"resourceType\": \"Immunization\",\n",
    "        \"status\": \"completed\",\n",
    "        \"vaccineCode\": {\n",
    "          \"coding\": [\n",
    "            {\n",
    "              \"system\": \"http://hl7.org/fhir/sid/cvx\",\n",
    "              \"code\": \"207\"\n",
    "            }\n",
    "          ]\n",
    "        },\n",
    "        \"patient\": {\n",
    "          \"reference\": \"resource:0\"\n",
    "        },\n",
    "        \"occurrenceDateTime\": \"2021-01-29\",\n",
    "        \"lotNumber\": \"Lot #0000007\",\n",
    "        \"performer\": [\n",
    "          {\n",
    "            \"actor\": {\n",
    "              \"display\": \"ABC General Hospital\"\n",
    "            }\n",
    "          }\n",
    "        ]\n",
    "      }\n",
    "    }\n",
    "  ]\n",
    "}"
   ]
  },
  {
   "cell_type": "markdown",
   "id": "found-murray",
   "metadata": {},
   "source": [
    "A couple things to note in the above JSON. This is a Bundle that contains 3 resources: one for the patient, one for the first vaccination, and another for the second vaccination. This Bundle conforms to the requirements laid out in [SMART Health Cards: Vaccination & Testing Implementation Guide](http://build.fhir.org/ig/dvci/vaccine-credential-ig/branches/main/) which defines what resources should be included in the Health Card. Specifically, this is an example of [Vaccine Credential Bundle - Data Minimization](http://build.fhir.org/ig/dvci/vaccine-credential-ig/branches/main/StructureDefinition-vaccine-credential-bundle-dm.html). We'll talk about what \"Data Minimization\" means in a second.\n",
    "\n",
    "Now let's create the \"Expanded Health Card\"."
   ]
  },
  {
   "cell_type": "markdown",
   "id": "excited-fraction",
   "metadata": {},
   "source": [
    "### Expanded Health Card\n",
    "\n",
    "The Expanded Health Card shows what the Health Card looks like before it is minified and serialized using the compact JWS serialization.\n",
    "\n",
    "[Health Cards are encoded as Compact Serialization JSON Web Signatures (JWS)](https://smarthealth.cards/#health-cards-are-encoded-as-compact-serialization-json-web-signatures-jws) and [Modeling W3C Verifiable Credentials in FHIR](https://smarthealth.cards/credential-modeling/) cover this in more detail.\n",
    "\n",
    "Before we get into the details it's important to note that some of the VC properties are mapped to standard JWT fields when using the [JWT encoding](https://w3c.github.io/vc-data-model/#jwt-encoding) (which we are). These include the `iss` and `iat` fields.\n",
    "\n",
    "Below shows the expanded Health Card for the example:"
   ]
  },
  {
   "cell_type": "code",
   "execution_count": 2,
   "id": "fleet-cream",
   "metadata": {},
   "outputs": [],
   "source": [
    "const expandedHealthCard = {\n",
    "  \"iss\": \"https://smarthealth.cards/examples/issuer\",\n",
    "  \"iat\": Date.now() / 1000,\n",
    "  \"vc\": {\n",
    "    \"@context\": [\n",
    "      \"https://www.w3.org/2018/credentials/v1\"\n",
    "    ],\n",
    "    \"type\": [\n",
    "      \"VerifiableCredential\",\n",
    "      \"https://smarthealth.cards#health-card\",\n",
    "      \"https://smarthealth.cards#immunization\",\n",
    "      \"https://smarthealth.cards#covid19\"\n",
    "    ],\n",
    "    \"credentialSubject\": {\n",
    "        \"fhirVersion\": \"4.0.1\",\n",
    "        \"fhirBundle\": fhirBundle\n",
    "    }\n",
    "  }\n",
    "}"
   ]
  },
  {
   "cell_type": "markdown",
   "id": "interpreted-estate",
   "metadata": {},
   "source": [
    "Let's talk about the three root fields:\n",
    "\n",
    "`iss` - This represents the [Issuer](https://w3c.github.io/vc-data-model/#issuer)\n",
    "  * Note this property is represented by `iss` according to the [JWT Encoding Rules](https://w3c.github.io/vc-data-model/#jwt-encoding)\n",
    "\n",
    "`iat` - This represents the [IssuanceDate](https://w3c.github.io/vc-data-model/#issuance-date)\n",
    "  * Note this property is represented by `iat`. The spec currently, indicates this should be `nbf` so I posted an issue about that to follow up.\n",
    "\n",
    "`vc` - This represents the VC claim minus all the unmapped fields (`iss` and `iat`)\n",
    "\n",
    "\n",
    "TODO: Fill out the rest of these properties"
   ]
  },
  {
   "cell_type": "markdown",
   "id": "related-cruise",
   "metadata": {},
   "source": [
    "### Health Cards are Small\n",
    "\n",
    "SMART Health Cards can be issued on pieces of paper via QR Codes. This introduces some unique size constraints in order to keep the number and size of QR codes manageable. When using and applying SMART Health Cards, it's important to keep them small.\n",
    "\n",
    "The SMART Health Card spec requires that [the JWS payload is minified and compressed](https://smarthealth.cards/#health-cards-are-small) in order to reduce payload size.\n",
    "\n",
    "SMART Health Cards are designed to be be atomic and shared as a whole. Information within the Health Card cannot be removed without affecting the verifiability of the Health Card. This imposes a privacy challenge when too much information is included in a single Health Card.\n",
    "\n",
    "The \"Data Minimization\" profiles in the IG are designed to address these size and privacy concerns by ensuring the FHIR profiles only require the minimal set of information to achieve the desired results.\n",
    "\n",
    "Below the JWS Payload (i.e. the \"Expanded Health Card\") is compressed according to the spec:"
   ]
  },
  {
   "cell_type": "code",
   "execution_count": 3,
   "id": "seasonal-begin",
   "metadata": {},
   "outputs": [
    {
     "name": "stdout",
     "output_type": "stream",
     "text": [
      "{\"iss\":\"https://smarthealth.cards/examples/issuer\",\"iat\":1617117375.274,\"vc\":{\"@context\":[\"https://www.w3.org/2018/credentials/v1\"],\"type\":[\"VerifiableCredential\",\"https://smarthealth.cards#health-card\",\"https://smarthealth.cards#immunization\",\"https://smarthealth.cards#covid19\"],\"credentialSubject\":{\"fhirVersion\":\"4.0.1\",\"fhirBundle\":{\"resourceType\":\"Bundle\",\"type\":\"collection\",\"entry\":[{\"fullUrl\":\"resource:0\",\"resource\":{\"resourceType\":\"Patient\",\"name\":[{\"family\":\"Anyperson\",\"given\":[\"John\",\"B.\"]}],\"gender\":\"male\",\"birthDate\":\"1951-01-20\"}},{\"fullUrl\":\"resource:1\",\"resource\":{\"resourceType\":\"Immunization\",\"status\":\"completed\",\"vaccineCode\":{\"coding\":[{\"system\":\"http://hl7.org/fhir/sid/cvx\",\"code\":\"207\"}]},\"patient\":{\"reference\":\"resource:0\"},\"occurrenceDateTime\":\"2021-01-01\",\"lotNumber\":\"Lot #0000001\",\"performer\":[{\"actor\":{\"display\":\"ABC General Hospital\"}}]}},{\"fullUrl\":\"resource:2\",\"resource\":{\"resourceType\":\"Immunization\",\"status\":\"completed\",\"vaccineCode\":{\"coding\":[{\"system\":\"http://hl7.org/fhir/sid/cvx\",\"code\":\"207\"}]},\"patient\":{\"reference\":\"resource:0\"},\"occurrenceDateTime\":\"2021-01-29\",\"lotNumber\":\"Lot #0000007\",\"performer\":[{\"actor\":{\"display\":\"ABC General Hospital\"}}]}}]}}}}\n"
     ]
    }
   ],
   "source": [
    "// Remove the optional whitespace\n",
    "const noWhiteSpaceHealthCard = JSON.stringify(expandedHealthCard)\n",
    "console.log(noWhiteSpaceHealthCard)"
   ]
  },
  {
   "cell_type": "code",
   "execution_count": 4,
   "id": "divine-casino",
   "metadata": {},
   "outputs": [],
   "source": [
    "// Normally we'd remove some of the fhirBundle elements at \n",
    "// this step ( e.g. Resource.id, Resource.meta, CodebableConcept.text).\n",
    "// These are already missing from the original payload, so we'll skip that here\n",
    "\n",
    "// Compress the payload with DEFLATE, omitting any zlib headers\n",
    "\n",
    "const compressedPayload = zlib.deflateRawSync(noWhiteSpaceHealthCard)"
   ]
  },
  {
   "cell_type": "markdown",
   "id": "southwest-output",
   "metadata": {},
   "source": [
    "### Creating the Signed Health Card\n",
    "\n",
    "Now that we have the compressed payload we can sign it as a JWS. First, let's create the key pair for signing and verifying."
   ]
  },
  {
   "cell_type": "code",
   "execution_count": 5,
   "id": "wanted-mistress",
   "metadata": {},
   "outputs": [],
   "source": [
    "var jose = require('node-jose');\n",
    "\n",
    "const keystore = jose.JWK.createKeyStore()\n",
    "\n",
    "let signingKey;\n",
    "\n",
    "keystore.generate(\"EC\", \"P-256\").\n",
    "        then(function(result) {\n",
    "          // {result} is a jose.JWK.Key\n",
    "          signingKey = result;\n",
    "        });"
   ]
  },
  {
   "cell_type": "code",
   "execution_count": 6,
   "id": "characteristic-directory",
   "metadata": {},
   "outputs": [
    {
     "data": {
      "text/plain": [
       "{\n",
       "  keys: [\n",
       "    {\n",
       "      kty: 'EC',\n",
       "      kid: 'geNWAh-vx5llWA7tek4N3CjpxOd3nyp9CHxXJ6s-7hA',\n",
       "      crv: 'P-256',\n",
       "      x: '8nCYp86ifH0vEbAYkKIDhLVNaMXKCWSVKqA18m3jB-c',\n",
       "      y: 'VMnim_B_UDoDqxzDT4Lr9zPBWiM1a3qRwz_W61MtCGQ',\n",
       "      d: '3f-69TfAoMurStP9EhWYWJvP-1ZvCmra866QmQ_6vGQ'\n",
       "    }\n",
       "  ]\n",
       "}"
      ]
     },
     "execution_count": 6,
     "metadata": {},
     "output_type": "execute_result"
    }
   ],
   "source": [
    "// Print the entire key store, including the `d` member which contains the private key value\n",
    "// Remove true to just present the public key\n",
    "// See: https://tools.ietf.org/id/draft-jones-jose-json-private-and-symmetric-key-00.html#rfc.section.3.1.1\n",
    "keystore.toJSON(true);"
   ]
  },
  {
   "cell_type": "markdown",
   "id": "ordered-preserve",
   "metadata": {},
   "source": [
    "With a signing key in hand we can create the JWS:"
   ]
  },
  {
   "cell_type": "code",
   "execution_count": 7,
   "id": "fantastic-absorption",
   "metadata": {},
   "outputs": [
    {
     "name": "stdout",
     "output_type": "stream",
     "text": [
      "eyJ6aXAiOiJERUYiLCJhbGciOiJFUzI1NiIsImtpZCI6ImdlTldBaC12eDVsbFdBN3RlazROM0NqcHhPZDNueXA5Q0h4WEo2cy03aEEifQ.3VJNj9MwEP0r1ey1TeLsLqE5QYvEhxBCYuGCenCdaWPkj8h20pZV_jtjt11A2vbCjaqXybx5897zPIL0HmpoQ-h8nedecxda5Cq0meCu8Tnuue4U-pyAPTqYguQBavaCVYxVt9V9VlZ3UxgE1I_wSlgTcE_970-Uu90u291m1m3zsmAvc-GwQRMkVz4fGKymEA4dxolv6ORG8rXC5ROG9l3UdnMsZrG4ipNa90b-5EFacxUo7CAbNo-ifsv80q9_oAjR36aVjlT6yFPDXVZkjPji10VvGoUR49Db3gl8SK7g1Di7BGGVIrajElrgDmSdmHulvjpFgPN8XRDgXDxD_Jns0DyBDNd4JOFaKuKD14YwzqcdWzmgifF-sG2sFxmsRjK4RdPQe9agedK3lhTGGx4iN5vfs1nBZmUB4zh9Vh27ru7935H7wEPvk_14TQHjgw1cCGlwaZvEIGwjzTYZ8QcfUJ_ukl6qVVU6oJh07mWTi2FPBCJNQllUMK7GKXSnSJKcDTo0UdufiRLICtG71IpmH6Q-UpTJcBFtKRs-9Xqdwvlow-SmSL_YolQ31unYIplcBOvitkb6TvGU_GI5eYsGHVeTd9Z3MtANj6TuQozlfxljOb8cY_VvMdJ_HH8B.P2N0xJHSKMFItPyGNjNEcn_kTAb-FfZ7hSHo7Frw2ejYmVCuqRbrgy0aJwGMfbQMylmkhTzdfTLSGBApBGudpA\n"
     ]
    }
   ],
   "source": [
    "const fields = { zip: 'DEF' }\n",
    "\n",
    "let jws;\n",
    "\n",
    "jose.JWS.createSign({ format: 'compact', fields }, signingKey)\n",
    "    .update(Buffer.from(compressedPayload))\n",
    "    .final()\n",
    "    .then(function(result) {\n",
    "        jws = result;\n",
    "        console.log(jws)\n",
    "});"
   ]
  },
  {
   "cell_type": "markdown",
   "id": "pediatric-pressing",
   "metadata": {},
   "source": [
    "Now that we have the JWS we should check that we can actually verify the signature"
   ]
  },
  {
   "cell_type": "code",
   "execution_count": 8,
   "id": "difficult-packing",
   "metadata": {},
   "outputs": [
    {
     "name": "stdout",
     "output_type": "stream",
     "text": [
      "{\n",
      "  protected: [ 'zip', 'alg', 'kid' ],\n",
      "  header: {\n",
      "    zip: 'DEF',\n",
      "    alg: 'ES256',\n",
      "    kid: 'geNWAh-vx5llWA7tek4N3CjpxOd3nyp9CHxXJ6s-7hA'\n",
      "  },\n",
      "  payload: <Buffer dd 52 4d 8f d3 30 10 fd 2b d5 ec b5 4d e2 ec 2e a1 39 41 8b c4 87 10 42 62 e1 82 7a 70 9d 69 63 e4 8f c8 76 d2 96 55 fe 3b 63 b7 5d 40 da f6 c2 8d aa ... 430 more bytes>,\n",
      "  signature: <Buffer 3f 63 74 c4 91 d2 28 c1 48 b4 fc 86 36 33 44 72 7f e4 4c 06 fe 15 f6 7b 85 21 e8 ec 5a f0 d9 e8 d8 99 50 ae a9 16 eb 83 2d 1a 27 01 8c 7d b4 0c ca 59 ... 14 more bytes>,\n",
      "  key: JWKBaseKeyObject {\n",
      "    keystore: JWKStore {},\n",
      "    length: 256,\n",
      "    kty: 'EC',\n",
      "    kid: 'geNWAh-vx5llWA7tek4N3CjpxOd3nyp9CHxXJ6s-7hA',\n",
      "    use: '',\n",
      "    alg: ''\n",
      "  }\n",
      "}\n"
     ]
    }
   ],
   "source": [
    "jose.JWS.createVerify(signingKey)\n",
    "    .verify(jws).then(function(result) {\n",
    "    console.log(result)\n",
    "})"
   ]
  },
  {
   "cell_type": "markdown",
   "id": "discrete-morrison",
   "metadata": {},
   "source": [
    "Let's also create a fake key and test with that to make sure we aren't getting a false positive"
   ]
  },
  {
   "cell_type": "code",
   "execution_count": 9,
   "id": "biological-consumer",
   "metadata": {},
   "outputs": [],
   "source": [
    "let fakeKey;\n",
    "\n",
    "keystore.generate(\"EC\", \"P-256\").\n",
    "        then(function(result) {\n",
    "          // {result} is a jose.JWK.Key\n",
    "          fakeKey = result;\n",
    "        });"
   ]
  },
  {
   "cell_type": "code",
   "execution_count": 10,
   "id": "modern-label",
   "metadata": {},
   "outputs": [
    {
     "ename": "Error",
     "evalue": "no key found",
     "output_type": "error",
     "traceback": [
      "Error: no key found",
      "    at processSig (/Users/radamson/software/vci/health-cards-walkthrough/node_modules/node-jose/lib/jws/verify.js:131:22)",
      "    at processTicksAndRejections (node:internal/process/task_queues:94:5)"
     ]
    }
   ],
   "source": [
    "// Note \"Error: no key found\" is the generic error message for keys that won't decrypt\n",
    "// See: https://github.com/cisco/node-jose/issues/262\n",
    "jose.JWS.createVerify(fakeKey)\n",
    "    .verify(jws).then(function(result) {\n",
    "    console.log(result)\n",
    "})"
   ]
  },
  {
   "cell_type": "markdown",
   "id": "surrounded-conditioning",
   "metadata": {},
   "source": [
    "### QR Code Generation\n",
    "\n",
    "Now that we have a JWS we can turn that into a QR Code which can be scanned. We won't worry about chunking just yet since the payload is below the 1195 character threshold in this example, but its a simple addition and [this code snippet](https://github.com/smart-on-fhir/health-cards/blob/152a4f83b223b5fd14027f765e957e290649f2c0/generate-examples/src/index.ts#L146) goes over the process."
   ]
  },
  {
   "cell_type": "code",
   "execution_count": 11,
   "id": "presidential-turkey",
   "metadata": {},
   "outputs": [
    {
     "name": "stdout",
     "output_type": "stream",
     "text": [
      "shc:/567629095243206034602924374044603122295953265460346029254077280433602870286471674522280928645563396355215222040556234170532555213306376352773734320333685427593545233372564320083603590742246605547603065224246057360106412933611232742435036904567604395631703168240836447324597521224472262256652255524235626111590503674541506171617104042005735322615268437653750811121077352831032764676636005911655655565475555208226803645622721139657272560740006776203539684458723621527352224144754171124112416345064075582404285074386358395424501210030040721203720512046404640677706420735400267436373262417707572630766424200755756663730934372611694322083734261263064055653270456926076067335212035300082425525475406610222053336600605770731103681250662061370609524161633909762535234341456261356160040341732666403707122353065863113830105804236010212626412869526124636958236438556427726373616725583533114337235843237523502965700323762123335507293425523072302304074474776854554277645860572500702605702575647037613007375535365612525856553006635939262675076033087357700465214564402107775912415905106972101206082710742435736250040739362761587404542226637452457324282674617739444511365457402950726263096841414009662959031064423960052535212229333663634032301026304338653829305423396603405572576037312822712610042867642709360040673929542125713037700012436855747363667400386438315044666336060472654428676354213473607162530939732640502628085644702627415639551245063271203361093972366677635775636134531154445041733255295027271121013505330375292738303225287135762633613324546550623920530025574510593827661025697405566144644122726837536958760352297426325753363276636462593977555739313826212067212672556720\n"
     ]
    }
   ],
   "source": [
    "// Convert to numeric mode QR\n",
    "\n",
    "// This code snippet was adapted/taken from https://github.com/smart-on-fhir/health-cards/blob/152a4f83b223b5fd14027f765e957e290649f2c0/generate-examples/src/index.ts#L173\n",
    "const numericJWS = jws.split('')\n",
    "    .map((c) => c.charCodeAt(0) - 45)\n",
    "    .flatMap((c) => [Math.floor(c / 10), c % 10]) //Need to maintain leading zeros\n",
    "    .join('')\n",
    "\n",
    "const qrCodeData = 'shc:/' + numericJWS\n",
    "\n",
    "console.log(qrCodeData)"
   ]
  },
  {
   "cell_type": "markdown",
   "id": "undefined-telephone",
   "metadata": {},
   "source": [
    "The above shows what the value of the QR code will be, with the leading `byte` segment and the `numeric` segment following"
   ]
  },
  {
   "cell_type": "code",
   "execution_count": 13,
   "id": "macro-shift",
   "metadata": {
    "scrolled": false
   },
   "outputs": [
    {
     "data": {
      "image/svg+xml": [
       "<svg xmlns=\"http://www.w3.org/2000/svg\" viewBox=\"0 0 113 113\" shape-rendering=\"crispEdges\"><path fill=\"#ffffff\" d=\"M0 0h113v113H0z\"/><path stroke=\"#000000\" d=\"M4 4.5h7m1 0h2m1 0h2m1 0h4m1 0h3m2 0h1m1 0h1m1 0h1m2 0h1m5 0h2m7 0h2m1 0h1m1 0h2m3 0h1m1 0h2m1 0h1m2 0h6m2 0h4m4 0h1m3 0h1m4 0h3m2 0h1m3 0h7M4 5.5h1m5 0h1m1 0h2m2 0h1m2 0h1m2 0h1m4 0h8m1 0h1m3 0h4m1 0h1m2 0h3m1 0h2m2 0h2m1 0h2m3 0h1m1 0h2m2 0h2m3 0h5m2 0h1m1 0h2m4 0h4m2 0h1m1 0h1m3 0h1m5 0h1M4 6.5h1m1 0h3m1 0h1m1 0h1m1 0h1m1 0h2m1 0h2m1 0h1m3 0h2m1 0h1m1 0h2m6 0h1m3 0h3m3 0h2m1 0h4m3 0h2m1 0h4m5 0h1m2 0h2m2 0h2m5 0h1m1 0h3m1 0h2m1 0h1m2 0h3m2 0h1m1 0h3m1 0h1M4 7.5h1m1 0h3m1 0h1m1 0h3m2 0h2m2 0h1m1 0h4m8 0h1m1 0h1m4 0h2m2 0h1m1 0h1m1 0h3m3 0h2m2 0h1m1 0h4m3 0h1m1 0h1m2 0h1m3 0h1m4 0h1m1 0h3m1 0h1m1 0h2m1 0h3m3 0h1m1 0h1m1 0h3m1 0h1M4 8.5h1m1 0h3m1 0h1m3 0h1m3 0h1m1 0h1m1 0h4m2 0h5m2 0h2m5 0h3m4 0h1m1 0h6m1 0h1m4 0h1m2 0h1m2 0h2m3 0h1m1 0h5m2 0h3m3 0h1m2 0h1m6 0h2m1 0h1m1 0h3m1 0h1M4 9.5h1m5 0h1m1 0h3m1 0h1m2 0h1m2 0h1m2 0h1m2 0h1m3 0h1m3 0h1m1 0h1m1 0h2m2 0h2m1 0h1m1 0h1m1 0h2m3 0h1m1 0h3m1 0h4m1 0h2m1 0h1m5 0h1m3 0h1m3 0h1m1 0h6m1 0h1m3 0h1m1 0h1m2 0h1m5 0h1M4 10.5h7m1 0h1m1 0h1m1 0h1m1 0h1m1 0h1m1 0h1m1 0h1m1 0h1m1 0h1m1 0h1m1 0h1m1 0h1m1 0h1m1 0h1m1 0h1m1 0h1m1 0h1m1 0h1m1 0h1m1 0h1m1 0h1m1 0h1m1 0h1m1 0h1m1 0h1m1 0h1m1 0h1m1 0h1m1 0h1m1 0h1m1 0h1m1 0h1m1 0h1m1 0h1m1 0h1m1 0h1m1 0h1m1 0h1m1 0h1m1 0h1m1 0h1m1 0h1m1 0h1m1 0h1m1 0h1m1 0h7M13 11.5h1m2 0h2m1 0h1m1 0h1m2 0h1m1 0h1m1 0h1m3 0h2m3 0h5m1 0h1m1 0h1m1 0h1m3 0h2m3 0h1m1 0h5m2 0h1m1 0h2m2 0h1m4 0h1m3 0h2m8 0h1m2 0h1m2 0h1m2 0h1M4 12.5h2m2 0h3m2 0h1m6 0h1m1 0h4m2 0h5m3 0h2m1 0h2m2 0h3m6 0h5m2 0h1m1 0h3m1 0h2m3 0h3m1 0h1m1 0h5m3 0h2m2 0h1m2 0h3m2 0h2m1 0h1m3 0h1m1 0h4M6 13.5h4m3 0h1m1 0h2m1 0h5m2 0h1m2 0h1m1 0h1m1 0h1m2 0h2m1 0h2m1 0h1m1 0h2m3 0h1m2 0h1m3 0h1m2 0h1m2 0h2m1 0h1m1 0h1m2 0h4m3 0h1m2 0h1m1 0h1m1 0h5m1 0h1m1 0h1m3 0h1m2 0h1m4 0h1M4 14.5h2m3 0h2m6 0h2m1 0h3m1 0h2m5 0h3m1 0h1m1 0h2m2 0h3m2 0h2m1 0h1m1 0h3m2 0h1m1 0h1m4 0h1m4 0h2m2 0h1m4 0h4m1 0h1m2 0h1m3 0h2m1 0h1m1 0h1m1 0h3m1 0h5m1 0h1M5 15.5h2m1 0h1m2 0h1m2 0h2m1 0h1m3 0h5m1 0h1m9 0h1m1 0h1m5 0h1m3 0h2m1 0h2m1 0h2m2 0h4m1 0h2m1 0h1m4 0h1m1 0h2m1 0h1m4 0h1m2 0h3m2 0h2m1 0h1m2 0h4m2 0h2m3 0h1M4 16.5h1m2 0h1m1 0h2m3 0h4m2 0h1m2 0h2m1 0h3m1 0h1m1 0h1m1 0h1m1 0h5m6 0h1m1 0h1m1 0h3m1 0h1m1 0h1m1 0h1m1 0h1m3 0h2m1 0h3m1 0h2m1 0h2m1 0h1m1 0h5m1 0h3m2 0h2m2 0h2m1 0h2m1 0h3m1 0h2M4 17.5h1m3 0h1m3 0h1m1 0h6m1 0h2m1 0h1m1 0h1m3 0h9m1 0h2m1 0h1m1 0h1m1 0h1m1 0h2m2 0h1m4 0h1m4 0h1m2 0h1m1 0h1m3 0h2m4 0h7m3 0h2m2 0h2m1 0h4m3 0h1m3 0h2M4 18.5h3m1 0h3m3 0h2m1 0h2m1 0h2m1 0h2m2 0h1m1 0h9m3 0h9m1 0h2m3 0h2m5 0h1m3 0h3m5 0h1m3 0h5m2 0h1m2 0h2m2 0h2m1 0h2m2 0h1m1 0h3m2 0h1M5 19.5h3m4 0h1m2 0h1m4 0h3m1 0h1m2 0h3m3 0h4m1 0h2m3 0h1m3 0h1m1 0h3m1 0h1m1 0h5m1 0h2m1 0h2m4 0h2m2 0h4m5 0h5m4 0h1m3 0h1m2 0h5m1 0h1M4 20.5h1m1 0h5m1 0h1m1 0h1m2 0h3m1 0h1m5 0h3m2 0h3m1 0h5m2 0h1m2 0h1m3 0h6m1 0h2m6 0h2m1 0h3m1 0h1m1 0h3m3 0h3m4 0h2m5 0h3m5 0h1m2 0h3M4 21.5h1m2 0h1m1 0h1m1 0h2m1 0h2m1 0h1m1 0h1m7 0h9m2 0h1m1 0h2m1 0h2m3 0h1m1 0h5m2 0h2m1 0h2m1 0h1m2 0h1m2 0h9m1 0h2m1 0h1m1 0h3m1 0h2m1 0h2m1 0h1m1 0h3m2 0h1m4 0h2M4 22.5h7m3 0h1m3 0h3m2 0h3m1 0h3m1 0h5m5 0h2m1 0h1m1 0h3m4 0h1m2 0h1m3 0h4m3 0h5m1 0h2m1 0h1m2 0h2m2 0h1m1 0h3m1 0h2m1 0h3m4 0h4m1 0h1m3 0h1M5 23.5h3m1 0h1m1 0h1m4 0h1m1 0h6m1 0h1m1 0h1m1 0h2m2 0h3m1 0h3m3 0h4m4 0h1m3 0h2m2 0h2m1 0h1m1 0h2m3 0h1m1 0h2m2 0h4m2 0h1m1 0h1m7 0h4m2 0h1m1 0h1m1 0h2m2 0h1m1 0h1M4 24.5h2m1 0h1m1 0h3m1 0h1m3 0h2m2 0h1m3 0h3m1 0h1m2 0h2m1 0h7m1 0h1m2 0h3m3 0h1m1 0h2m1 0h1m1 0h2m4 0h2m1 0h2m1 0h4m1 0h2m2 0h1m2 0h1m1 0h2m1 0h2m1 0h1m2 0h1m1 0h2m1 0h3m3 0h3M4 25.5h1m4 0h1m1 0h1m1 0h3m1 0h1m1 0h2m2 0h2m1 0h1m1 0h1m1 0h3m5 0h1m1 0h3m3 0h2m2 0h3m4 0h1m1 0h3m1 0h1m3 0h2m3 0h1m2 0h3m1 0h2m2 0h2m1 0h1m1 0h2m4 0h2m7 0h1m2 0h2M4 26.5h1m1 0h6m2 0h1m2 0h1m1 0h1m1 0h1m2 0h1m5 0h1m1 0h3m5 0h3m1 0h2m1 0h1m1 0h1m2 0h1m1 0h3m1 0h1m1 0h4m2 0h3m1 0h2m1 0h1m2 0h2m5 0h2m2 0h3m2 0h2m2 0h1m5 0h3m1 0h2M4 27.5h1m3 0h2m2 0h3m1 0h1m2 0h1m1 0h2m1 0h4m2 0h3m2 0h1m1 0h4m1 0h6m1 0h1m2 0h2m4 0h1m1 0h1m1 0h3m1 0h1m7 0h1m1 0h3m3 0h2m1 0h3m3 0h5m1 0h2m2 0h2m5 0h1M7 28.5h7m3 0h2m1 0h1m1 0h1m2 0h2m1 0h6m3 0h4m1 0h2m1 0h1m1 0h1m1 0h1m1 0h6m1 0h1m1 0h1m4 0h2m1 0h2m3 0h2m1 0h6m2 0h3m4 0h1m2 0h1m1 0h3m1 0h5m3 0h1M4 29.5h5m3 0h4m1 0h2m1 0h3m3 0h3m3 0h1m2 0h1m2 0h1m2 0h1m4 0h1m2 0h4m3 0h3m2 0h1m1 0h3m1 0h3m1 0h2m2 0h2m3 0h1m2 0h1m2 0h1m2 0h2m2 0h1m1 0h1m2 0h3m3 0h3M4 30.5h2m2 0h1m1 0h1m1 0h2m1 0h5m1 0h3m3 0h2m1 0h1m1 0h1m1 0h1m1 0h1m2 0h4m1 0h2m1 0h1m2 0h3m1 0h1m1 0h2m3 0h2m2 0h1m1 0h3m6 0h1m1 0h1m1 0h1m1 0h1m1 0h1m2 0h1m2 0h2m3 0h1m4 0h1m1 0h1m1 0h1m1 0h2M5 31.5h1m2 0h1m3 0h2m5 0h1m2 0h5m1 0h1m3 0h2m1 0h5m1 0h1m1 0h4m4 0h2m3 0h1m5 0h5m4 0h2m2 0h2m3 0h2m1 0h1m1 0h4m2 0h1m5 0h4m3 0h3m1 0h1M8 32.5h7m1 0h1m1 0h2m1 0h1m2 0h3m1 0h6m7 0h1m1 0h1m2 0h1m1 0h1m3 0h5m1 0h4m4 0h1m1 0h1m1 0h2m1 0h2m1 0h6m3 0h1m2 0h2m4 0h1m1 0h2m2 0h5M6 33.5h1m6 0h2m1 0h9m1 0h1m1 0h3m4 0h1m1 0h2m1 0h2m3 0h1m1 0h3m1 0h2m2 0h4m1 0h2m1 0h2m2 0h4m3 0h5m1 0h1m3 0h1m1 0h3m1 0h1m1 0h2m1 0h3m3 0h4m1 0h1M6 34.5h2m2 0h1m1 0h1m1 0h2m1 0h3m1 0h2m1 0h1m2 0h1m1 0h1m2 0h1m1 0h1m2 0h1m3 0h1m2 0h2m1 0h1m1 0h4m1 0h4m1 0h1m1 0h3m2 0h2m1 0h2m6 0h1m1 0h1m2 0h1m2 0h1m2 0h1m3 0h4m1 0h2m1 0h3m1 0h4M4 35.5h2m1 0h1m1 0h1m3 0h2m4 0h1m1 0h6m5 0h2m4 0h1m2 0h1m1 0h1m1 0h2m3 0h2m1 0h3m3 0h2m3 0h1m1 0h2m1 0h1m1 0h4m1 0h1m2 0h1m1 0h1m1 0h1m1 0h4m2 0h2m1 0h1m3 0h2m2 0h3m1 0h2M4 36.5h1m1 0h1m3 0h2m1 0h1m2 0h4m3 0h1m2 0h3m1 0h1m2 0h1m4 0h2m2 0h5m1 0h1m4 0h2m3 0h5m5 0h1m2 0h1m1 0h2m3 0h2m1 0h1m1 0h1m3 0h1m1 0h1m1 0h1m1 0h1m2 0h1m6 0h1m1 0h2m1 0h1M6 37.5h1m8 0h2m2 0h4m3 0h1m2 0h2m1 0h1m3 0h5m2 0h1m2 0h4m7 0h2m2 0h2m1 0h1m3 0h3m3 0h1m2 0h2m1 0h1m2 0h1m1 0h1m2 0h3m1 0h6m1 0h4m2 0h4M5 38.5h1m4 0h1m1 0h1m2 0h1m1 0h1m1 0h1m5 0h3m1 0h1m1 0h1m2 0h3m4 0h1m2 0h1m2 0h1m1 0h3m2 0h2m1 0h1m1 0h1m1 0h1m4 0h1m1 0h2m7 0h1m1 0h1m2 0h1m6 0h1m1 0h1m1 0h2m2 0h5m2 0h5M4 39.5h3m2 0h1m4 0h2m2 0h1m6 0h1m2 0h1m3 0h2m3 0h3m1 0h1m1 0h1m2 0h1m3 0h1m2 0h2m1 0h1m4 0h7m3 0h6m3 0h2m1 0h1m2 0h1m2 0h2m2 0h1m1 0h1m2 0h1m3 0h3m3 0h1M5 40.5h1m1 0h4m1 0h3m2 0h1m1 0h1m4 0h1m2 0h1m2 0h1m10 0h2m3 0h1m1 0h1m2 0h1m1 0h3m1 0h1m1 0h2m2 0h1m1 0h1m3 0h1m1 0h1m1 0h2m1 0h1m1 0h1m5 0h2m1 0h3m2 0h1m1 0h1m1 0h1m4 0h1m1 0h1m2 0h1M5 41.5h2m2 0h1m1 0h1m5 0h3m1 0h4m1 0h1m2 0h3m1 0h2m1 0h1m2 0h3m1 0h7m1 0h2m2 0h1m5 0h2m1 0h1m9 0h5m1 0h2m4 0h2m1 0h1m3 0h5m3 0h2m4 0h2M5 42.5h1m2 0h1m1 0h1m1 0h3m1 0h2m2 0h1m8 0h1m1 0h4m2 0h1m1 0h1m1 0h1m2 0h2m3 0h4m1 0h3m2 0h1m1 0h2m1 0h1m1 0h1m1 0h1m1 0h1m1 0h1m4 0h1m3 0h1m3 0h1m1 0h2m1 0h1m1 0h1m1 0h1m2 0h5m1 0h1m2 0h3M5 43.5h2m1 0h2m1 0h2m4 0h1m1 0h1m5 0h4m2 0h1m1 0h1m1 0h3m1 0h1m1 0h1m5 0h2m1 0h2m1 0h4m4 0h3m1 0h2m1 0h2m3 0h4m6 0h6m1 0h1m1 0h2m4 0h3m5 0h1m1 0h1M4 44.5h2m1 0h1m2 0h1m3 0h1m1 0h2m1 0h4m1 0h1m2 0h2m1 0h1m3 0h2m2 0h1m1 0h1m1 0h2m2 0h1m2 0h1m3 0h2m1 0h1m3 0h2m5 0h3m4 0h3m1 0h1m3 0h2m1 0h1m1 0h1m1 0h2m1 0h1m1 0h5m1 0h1m1 0h3m1 0h1M6 45.5h1m1 0h1m3 0h1m1 0h1m5 0h8m1 0h6m3 0h1m3 0h2m1 0h3m4 0h2m1 0h1m2 0h3m4 0h1m2 0h1m2 0h2m1 0h2m3 0h2m1 0h1m3 0h3m2 0h1m1 0h4m2 0h1m1 0h1m2 0h4M7 46.5h2m1 0h1m3 0h3m1 0h2m5 0h1m6 0h1m5 0h1m1 0h2m1 0h3m2 0h2m1 0h5m1 0h3m1 0h1m2 0h5m1 0h2m1 0h2m2 0h1m3 0h2m2 0h1m1 0h1m1 0h1m3 0h1m1 0h1m3 0h3m1 0h1m4 0h1M5 47.5h5m4 0h1m2 0h3m1 0h1m5 0h2m1 0h1m4 0h5m4 0h1m3 0h4m2 0h2m2 0h1m4 0h7m2 0h6m2 0h7m1 0h2m1 0h1m4 0h1m2 0h5m3 0h2M5 48.5h2m2 0h4m1 0h1m2 0h1m1 0h1m2 0h7m1 0h1m1 0h4m4 0h3m1 0h1m1 0h1m1 0h3m3 0h2m2 0h1m1 0h1m6 0h1m1 0h1m2 0h1m1 0h3m2 0h2m2 0h1m1 0h6m3 0h1m3 0h2m1 0h1m1 0h3m2 0h1M6 49.5h2m3 0h1m2 0h1m1 0h1m4 0h2m4 0h1m1 0h1m3 0h1m6 0h1m1 0h1m1 0h3m1 0h1m3 0h1m1 0h1m1 0h1m2 0h2m3 0h2m6 0h4m1 0h1m1 0h4m3 0h3m2 0h1m1 0h3m1 0h1m3 0h2m1 0h1m2 0h1M5 50.5h1m2 0h1m1 0h2m3 0h2m1 0h3m1 0h4m3 0h1m2 0h2m3 0h1m1 0h1m5 0h1m1 0h6m3 0h1m1 0h2m1 0h2m2 0h4m1 0h1m2 0h1m3 0h1m2 0h4m1 0h3m1 0h1m1 0h1m1 0h1m3 0h3m6 0h2M5 51.5h1m1 0h2m4 0h1m1 0h1m1 0h12m1 0h1m1 0h1m1 0h4m2 0h2m1 0h1m3 0h3m1 0h1m1 0h1m3 0h1m3 0h3m5 0h1m1 0h2m2 0h2m1 0h8m2 0h1m10 0h3m2 0h1M6 52.5h10m1 0h2m1 0h1m2 0h10m2 0h1m2 0h1m2 0h2m1 0h1m1 0h1m5 0h5m1 0h1m1 0h1m1 0h3m2 0h2m1 0h1m4 0h6m2 0h1m2 0h1m2 0h2m2 0h1m3 0h1m2 0h5m1 0h1M8 53.5h1m3 0h3m2 0h3m1 0h1m2 0h2m2 0h1m3 0h1m6 0h1m2 0h1m1 0h2m1 0h6m3 0h2m1 0h3m2 0h2m1 0h3m1 0h1m2 0h1m1 0h1m3 0h1m2 0h5m2 0h1m3 0h2m4 0h1m3 0h2m1 0h2M4 54.5h3m1 0h1m1 0h1m1 0h1m1 0h5m1 0h1m4 0h2m1 0h1m1 0h1m1 0h2m1 0h3m1 0h1m4 0h4m2 0h3m1 0h1m1 0h1m2 0h3m3 0h3m4 0h1m1 0h1m1 0h1m1 0h1m1 0h2m3 0h1m1 0h1m3 0h1m3 0h1m1 0h4m1 0h1m1 0h4M7 55.5h2m3 0h1m2 0h7m1 0h1m1 0h1m2 0h1m3 0h1m1 0h5m1 0h2m2 0h3m1 0h1m1 0h3m3 0h1m3 0h2m1 0h1m3 0h2m4 0h1m2 0h1m3 0h3m2 0h1m2 0h2m2 0h1m3 0h2m2 0h1m3 0h1m1 0h1m1 0h1M8 56.5h7m1 0h5m1 0h4m1 0h6m1 0h3m4 0h2m1 0h1m1 0h3m1 0h1m1 0h5m1 0h1m1 0h5m3 0h1m1 0h3m1 0h12m3 0h3m2 0h1m1 0h1m3 0h5m1 0h1m1 0h1M8 57.5h1m4 0h8m6 0h2m1 0h1m1 0h1m1 0h2m1 0h1m1 0h1m2 0h1m1 0h4m2 0h5m1 0h2m1 0h1m2 0h1m1 0h2m2 0h2m2 0h4m2 0h2m2 0h2m1 0h1m1 0h1m2 0h1m1 0h2m1 0h1m1 0h1m2 0h3m1 0h2m1 0h1M4 58.5h3m1 0h1m1 0h3m1 0h4m2 0h2m3 0h2m1 0h2m2 0h2m2 0h4m3 0h4m3 0h1m2 0h3m3 0h1m5 0h2m1 0h2m4 0h1m1 0h1m2 0h1m3 0h4m4 0h3m1 0h1m1 0h1m6 0h3M6 59.5h1m1 0h1m2 0h1m5 0h4m1 0h1m1 0h1m2 0h1m1 0h1m1 0h1m1 0h2m1 0h1m1 0h1m1 0h2m4 0h1m3 0h1m2 0h1m1 0h1m1 0h3m1 0h3m3 0h2m1 0h2m1 0h1m2 0h1m1 0h1m1 0h4m1 0h1m3 0h1m3 0h1m3 0h1m1 0h1m2 0h1m1 0h1m1 0h3M4 60.5h1m2 0h1m1 0h2m4 0h4m2 0h2m2 0h2m3 0h2m1 0h4m5 0h1m1 0h1m8 0h1m3 0h2m2 0h5m1 0h1m1 0h1m1 0h1m1 0h1m1 0h3m1 0h1m1 0h4m2 0h1m1 0h1m2 0h1m2 0h6m1 0h1m1 0h1m1 0h1m1 0h1M4 61.5h2m1 0h2m2 0h1m1 0h1m1 0h2m2 0h2m2 0h2m3 0h1m1 0h1m3 0h4m1 0h1m2 0h4m1 0h1m1 0h2m1 0h1m2 0h2m1 0h3m1 0h1m1 0h3m7 0h3m1 0h1m3 0h1m1 0h2m2 0h1m1 0h3m3 0h1m1 0h5m1 0h1m2 0h1M4 62.5h1m1 0h2m2 0h1m1 0h2m1 0h5m3 0h4m2 0h1m2 0h1m3 0h5m1 0h3m5 0h1m1 0h2m1 0h1m1 0h3m3 0h1m2 0h1m1 0h1m3 0h1m1 0h1m2 0h2m1 0h2m1 0h1m1 0h3m1 0h4m3 0h6m3 0h1m1 0h1M4 63.5h1m1 0h1m1 0h2m1 0h4m2 0h1m1 0h1m1 0h1m3 0h1m1 0h2m1 0h3m1 0h1m1 0h1m1 0h1m2 0h2m2 0h3m3 0h1m1 0h2m5 0h5m1 0h4m1 0h1m1 0h2m1 0h1m2 0h2m2 0h1m2 0h1m1 0h3m7 0h3m1 0h1m1 0h1m2 0h1M4 64.5h2m3 0h3m1 0h5m3 0h1m1 0h4m1 0h1m1 0h2m2 0h1m6 0h1m2 0h3m1 0h2m1 0h2m1 0h1m2 0h1m1 0h1m1 0h2m1 0h1m2 0h1m1 0h2m2 0h1m1 0h1m1 0h1m1 0h1m2 0h1m4 0h1m2 0h1m1 0h1m1 0h2m3 0h1m2 0h3m2 0h1M6 65.5h4m3 0h1m1 0h3m1 0h10m1 0h1m2 0h2m2 0h1m2 0h9m2 0h2m1 0h3m2 0h2m1 0h1m1 0h3m3 0h4m4 0h1m2 0h3m1 0h1m1 0h3m1 0h2m2 0h2m1 0h1m2 0h2m2 0h1m1 0h1M4 66.5h2m2 0h4m2 0h1m2 0h4m1 0h2m2 0h1m1 0h1m1 0h1m1 0h2m1 0h1m1 0h2m1 0h1m2 0h4m2 0h1m1 0h1m2 0h2m2 0h2m3 0h1m4 0h2m1 0h1m1 0h5m2 0h2m2 0h3m2 0h2m1 0h1m11 0h1m1 0h1M4 67.5h2m3 0h1m2 0h1m2 0h3m1 0h4m1 0h1m6 0h2m2 0h2m1 0h5m4 0h2m1 0h1m1 0h3m2 0h1m1 0h5m3 0h2m1 0h1m2 0h2m1 0h1m1 0h3m5 0h7m1 0h7m2 0h2m1 0h1m1 0h1M4 68.5h1m3 0h3m2 0h1m4 0h1m3 0h5m1 0h1m1 0h2m2 0h4m3 0h1m2 0h4m1 0h3m2 0h1m2 0h1m1 0h2m3 0h4m2 0h1m1 0h1m3 0h1m2 0h1m2 0h1m4 0h2m1 0h2m3 0h1m1 0h1m2 0h1m1 0h3m1 0h1m1 0h1M9 69.5h1m1 0h2m2 0h5m3 0h1m1 0h2m1 0h1m4 0h3m1 0h1m1 0h8m3 0h1m2 0h4m5 0h3m4 0h1m1 0h3m1 0h1m5 0h2m2 0h1m1 0h1m1 0h4m1 0h1m3 0h2m2 0h3m2 0h2M4 70.5h1m1 0h1m1 0h1m1 0h3m2 0h6m1 0h1m1 0h1m1 0h2m1 0h2m1 0h2m3 0h1m2 0h1m2 0h1m1 0h2m8 0h1m2 0h1m1 0h1m1 0h2m1 0h1m5 0h1m1 0h4m3 0h2m1 0h1m3 0h2m2 0h1m1 0h1m5 0h1m2 0h5M6 71.5h1m1 0h2m1 0h1m3 0h1m1 0h1m1 0h3m5 0h2m1 0h3m4 0h1m1 0h1m1 0h3m2 0h7m4 0h1m2 0h1m1 0h4m1 0h1m1 0h1m4 0h7m3 0h1m1 0h1m1 0h1m1 0h2m1 0h1m1 0h2m3 0h1m2 0h1m1 0h2M4 72.5h2m1 0h1m1 0h2m2 0h2m1 0h2m3 0h2m3 0h1m3 0h2m2 0h1m3 0h1m1 0h2m2 0h2m1 0h1m1 0h2m2 0h2m2 0h1m1 0h6m1 0h2m1 0h2m1 0h1m2 0h2m1 0h1m3 0h1m2 0h1m1 0h1m7 0h1m1 0h4m1 0h1m3 0h3M5 73.5h1m6 0h1m1 0h2m2 0h2m2 0h2m1 0h2m1 0h1m1 0h2m1 0h2m8 0h2m1 0h1m3 0h1m1 0h1m2 0h1m3 0h1m1 0h1m3 0h3m1 0h1m1 0h3m3 0h1m1 0h1m1 0h3m1 0h2m2 0h4m5 0h1m1 0h3m1 0h2m2 0h1M5 74.5h6m2 0h2m1 0h3m5 0h1m4 0h3m1 0h1m2 0h2m1 0h3m3 0h2m11 0h1m3 0h3m1 0h3m2 0h1m1 0h2m2 0h5m8 0h2m1 0h1m1 0h1m4 0h2m1 0h1m1 0h2M4 75.5h1m1 0h1m1 0h1m2 0h3m1 0h1m1 0h1m1 0h3m2 0h1m3 0h1m1 0h2m3 0h1m1 0h1m1 0h2m1 0h4m1 0h7m1 0h1m1 0h1m4 0h2m1 0h1m1 0h1m2 0h1m3 0h2m2 0h2m3 0h1m1 0h1m3 0h1m1 0h1m2 0h5m1 0h1m2 0h2m1 0h2M4 76.5h1m1 0h1m1 0h5m1 0h1m2 0h2m2 0h2m1 0h2m1 0h7m1 0h1m4 0h1m1 0h1m1 0h2m1 0h1m1 0h2m1 0h5m1 0h2m1 0h1m1 0h1m3 0h2m1 0h1m1 0h1m2 0h6m2 0h3m2 0h1m4 0h1m1 0h1m1 0h2m1 0h5m1 0h3M5 77.5h2m1 0h1m3 0h1m5 0h2m2 0h5m1 0h1m3 0h1m1 0h2m1 0h1m1 0h1m1 0h3m6 0h3m3 0h1m1 0h1m1 0h1m2 0h2m2 0h1m1 0h5m1 0h2m3 0h4m2 0h3m6 0h1m2 0h1m1 0h1m3 0h1m1 0h1m1 0h1M4 78.5h1m1 0h3m1 0h1m1 0h9m3 0h2m1 0h2m1 0h1m1 0h1m1 0h2m1 0h1m2 0h3m3 0h1m5 0h1m1 0h1m1 0h2m3 0h2m1 0h1m4 0h1m1 0h6m1 0h1m1 0h1m2 0h1m4 0h1m1 0h1m2 0h3m4 0h1m1 0h1m1 0h1M5 79.5h2m1 0h1m3 0h3m3 0h1m2 0h1m2 0h5m3 0h3m3 0h2m2 0h1m1 0h2m1 0h1m1 0h4m3 0h1m2 0h2m3 0h1m3 0h1m2 0h2m1 0h3m3 0h3m2 0h2m1 0h2m1 0h2m2 0h1m1 0h4m3 0h1m1 0h2M5 80.5h2m1 0h5m2 0h2m1 0h1m2 0h2m1 0h3m1 0h5m3 0h1m3 0h1m1 0h1m2 0h1m1 0h1m1 0h2m1 0h5m1 0h2m2 0h1m1 0h3m3 0h3m1 0h1m1 0h5m3 0h1m1 0h3m1 0h4m2 0h1m2 0h7m1 0h2M4 81.5h1m1 0h1m1 0h1m4 0h1m1 0h3m1 0h1m1 0h8m2 0h6m3 0h3m4 0h3m2 0h3m1 0h1m4 0h1m3 0h2m1 0h5m1 0h1m1 0h1m2 0h1m2 0h5m3 0h2m3 0h1m1 0h4m1 0h3m2 0h2M4 82.5h2m2 0h4m2 0h1m6 0h2m1 0h1m1 0h2m4 0h2m1 0h1m2 0h3m1 0h2m2 0h1m2 0h2m2 0h1m3 0h1m3 0h5m3 0h1m1 0h4m4 0h1m1 0h1m1 0h1m1 0h7m2 0h1m1 0h3m4 0h1m2 0h1M5 83.5h5m3 0h3m2 0h1m2 0h1m1 0h1m1 0h2m1 0h5m4 0h1m2 0h1m2 0h1m1 0h1m1 0h2m1 0h2m4 0h1m1 0h3m2 0h1m1 0h2m1 0h1m3 0h1m1 0h1m1 0h4m1 0h1m4 0h2m1 0h1m1 0h1m1 0h1m1 0h1m3 0h3m3 0h3M4 84.5h1m1 0h1m2 0h2m3 0h2m2 0h2m1 0h3m1 0h2m1 0h2m2 0h1m3 0h1m1 0h1m1 0h1m2 0h3m1 0h4m3 0h1m1 0h1m1 0h2m1 0h6m3 0h2m2 0h1m1 0h2m6 0h1m1 0h1m1 0h1m2 0h1m1 0h1m1 0h2m1 0h1m1 0h1m1 0h1m4 0h2M5 85.5h1m1 0h2m4 0h5m6 0h2m6 0h1m2 0h7m1 0h1m4 0h1m1 0h6m1 0h2m2 0h1m1 0h2m1 0h1m2 0h2m1 0h3m4 0h1m2 0h4m1 0h3m2 0h1m8 0h8M7 86.5h5m1 0h3m3 0h1m2 0h1m2 0h3m3 0h5m2 0h1m2 0h4m1 0h1m1 0h1m1 0h1m1 0h2m1 0h1m5 0h3m3 0h1m1 0h1m1 0h1m1 0h3m3 0h3m1 0h2m4 0h1m4 0h6m2 0h2M4 87.5h1m3 0h1m2 0h2m1 0h1m3 0h2m1 0h5m1 0h6m4 0h1m1 0h1m5 0h1m2 0h3m4 0h1m1 0h1m1 0h3m2 0h2m1 0h2m2 0h3m1 0h4m1 0h1m1 0h1m1 0h1m2 0h1m1 0h5m4 0h1m1 0h1m4 0h2M4 88.5h1m1 0h1m2 0h10m1 0h3m5 0h2m4 0h1m1 0h2m1 0h2m2 0h1m1 0h1m3 0h1m4 0h1m1 0h4m1 0h1m3 0h2m2 0h1m6 0h2m2 0h2m1 0h2m1 0h3m4 0h1m1 0h2m2 0h1m3 0h2m1 0h3M4 89.5h2m7 0h2m1 0h2m2 0h1m1 0h1m1 0h1m6 0h1m1 0h4m3 0h2m7 0h1m1 0h4m1 0h1m5 0h2m2 0h1m1 0h1m1 0h1m1 0h3m5 0h4m1 0h2m1 0h2m2 0h3m1 0h1m9 0h3M4 90.5h1m2 0h1m2 0h2m2 0h1m1 0h1m1 0h2m2 0h1m1 0h2m1 0h1m4 0h2m1 0h1m1 0h1m3 0h2m1 0h1m2 0h1m2 0h1m1 0h2m1 0h1m1 0h2m1 0h1m2 0h1m3 0h2m1 0h2m1 0h1m1 0h1m3 0h2m3 0h2m3 0h10m2 0h3m3 0h1M6 91.5h1m2 0h1m2 0h1m1 0h4m6 0h1m2 0h2m3 0h1m1 0h1m1 0h4m5 0h3m1 0h2m2 0h1m2 0h2m6 0h2m1 0h2m3 0h2m1 0h2m1 0h2m7 0h1m5 0h1m2 0h6m2 0h2m1 0h2M4 92.5h1m1 0h2m2 0h1m1 0h4m2 0h4m1 0h1m1 0h1m2 0h1m2 0h1m4 0h5m2 0h2m2 0h1m1 0h2m2 0h2m1 0h1m2 0h2m4 0h2m1 0h2m2 0h1m3 0h2m8 0h3m3 0h2m1 0h3m1 0h4m1 0h5M4 93.5h2m1 0h1m1 0h1m1 0h4m2 0h2m3 0h1m2 0h1m3 0h1m4 0h3m1 0h1m1 0h2m5 0h3m1 0h2m1 0h2m1 0h2m1 0h2m1 0h1m2 0h4m7 0h1m1 0h2m3 0h1m1 0h1m1 0h2m3 0h1m1 0h5m1 0h1m1 0h1m2 0h1M4 94.5h1m2 0h4m1 0h1m1 0h3m2 0h1m5 0h1m1 0h1m3 0h4m1 0h1m4 0h2m1 0h4m1 0h1m2 0h1m1 0h3m2 0h5m3 0h3m1 0h1m1 0h1m1 0h1m3 0h1m1 0h2m2 0h6m1 0h1m1 0h1m2 0h2m3 0h1m1 0h1m3 0h1M9 95.5h1m2 0h1m1 0h1m1 0h3m3 0h1m1 0h2m1 0h3m1 0h4m1 0h4m3 0h2m1 0h1m2 0h1m2 0h1m1 0h2m2 0h2m2 0h1m1 0h2m3 0h1m5 0h1m1 0h2m1 0h9m2 0h2m1 0h1m1 0h2m1 0h2m4 0h1m1 0h1M4 96.5h2m2 0h1m1 0h1m1 0h3m1 0h6m1 0h2m1 0h1m2 0h2m3 0h1m2 0h7m1 0h1m1 0h2m2 0h1m1 0h2m1 0h2m2 0h1m4 0h1m2 0h1m1 0h1m3 0h2m2 0h2m1 0h2m1 0h4m1 0h1m1 0h1m4 0h2m1 0h2m1 0h1m2 0h2m1 0h1M4 97.5h2m5 0h1m2 0h2m1 0h3m1 0h3m2 0h1m3 0h4m1 0h2m1 0h1m1 0h1m1 0h1m3 0h6m1 0h1m1 0h1m2 0h4m1 0h1m1 0h1m1 0h5m1 0h3m1 0h2m1 0h3m1 0h1m1 0h1m1 0h1m4 0h1m5 0h1m6 0h3M4 98.5h3m3 0h1m2 0h4m2 0h1m2 0h1m1 0h1m1 0h2m3 0h1m1 0h2m1 0h1m2 0h2m3 0h1m6 0h4m2 0h1m1 0h1m1 0h2m1 0h1m1 0h3m2 0h3m2 0h1m3 0h1m2 0h2m5 0h1m1 0h2m3 0h1m3 0h1m2 0h1m1 0h1M6 99.5h1m1 0h2m3 0h1m2 0h2m2 0h2m4 0h1m1 0h1m1 0h3m1 0h7m2 0h4m3 0h2m1 0h1m1 0h2m5 0h1m1 0h1m10 0h3m3 0h2m1 0h6m1 0h3m2 0h2m1 0h3m1 0h1m1 0h1m2 0h1M7 100.5h2m1 0h2m4 0h6m2 0h1m2 0h7m2 0h3m1 0h1m2 0h1m3 0h2m2 0h6m1 0h3m2 0h4m1 0h1m2 0h1m1 0h9m1 0h1m1 0h5m1 0h1m2 0h1m3 0h1m1 0h6m2 0h1M12 101.5h1m2 0h1m2 0h2m1 0h1m3 0h2m1 0h1m3 0h1m2 0h1m2 0h1m3 0h1m2 0h2m1 0h1m1 0h1m1 0h1m3 0h6m4 0h4m2 0h5m3 0h1m2 0h1m2 0h1m3 0h1m4 0h2m1 0h1m1 0h1m3 0h1m2 0h2M4 102.5h7m3 0h1m1 0h2m6 0h3m1 0h1m1 0h1m1 0h1m1 0h3m3 0h2m2 0h1m2 0h1m4 0h1m1 0h1m1 0h2m1 0h5m1 0h1m1 0h2m1 0h1m5 0h1m1 0h1m1 0h1m1 0h1m4 0h2m6 0h1m2 0h3m1 0h1m1 0h5M4 103.5h1m5 0h1m1 0h3m1 0h2m4 0h1m1 0h3m1 0h1m3 0h2m1 0h1m1 0h3m2 0h4m3 0h1m2 0h1m3 0h1m5 0h1m1 0h3m2 0h4m1 0h1m1 0h1m3 0h2m2 0h4m1 0h2m1 0h3m2 0h1m1 0h2m3 0h4M4 104.5h1m1 0h3m1 0h1m1 0h1m4 0h3m2 0h1m5 0h6m1 0h1m3 0h1m3 0h1m1 0h2m1 0h1m3 0h5m1 0h1m1 0h4m1 0h2m1 0h1m2 0h1m1 0h2m1 0h6m5 0h2m4 0h1m2 0h1m3 0h5m1 0h1m1 0h1M4 105.5h1m1 0h3m1 0h1m2 0h1m1 0h3m1 0h1m2 0h1m1 0h4m2 0h1m1 0h1m7 0h1m1 0h1m4 0h3m2 0h2m1 0h1m1 0h2m1 0h1m1 0h9m3 0h1m1 0h1m3 0h1m2 0h4m3 0h2m1 0h1m1 0h3m2 0h2m1 0h1m1 0h4M4 106.5h1m1 0h3m1 0h1m3 0h1m6 0h3m1 0h2m1 0h1m2 0h2m1 0h2m2 0h2m1 0h1m5 0h1m1 0h3m1 0h1m2 0h2m1 0h10m9 0h3m1 0h1m1 0h1m3 0h1m1 0h2m1 0h3m2 0h2m2 0h3m1 0h1M4 107.5h1m5 0h1m1 0h1m1 0h1m6 0h1m1 0h4m1 0h1m4 0h1m3 0h1m3 0h1m1 0h1m6 0h4m1 0h2m3 0h1m1 0h3m1 0h1m2 0h7m1 0h2m2 0h1m2 0h1m2 0h1m1 0h3m1 0h2m3 0h3m1 0h1m3 0h1M4 108.5h7m1 0h1m2 0h1m2 0h2m1 0h3m5 0h1m2 0h2m4 0h1m3 0h5m1 0h1m3 0h1m2 0h1m2 0h1m1 0h5m1 0h1m2 0h1m1 0h1m1 0h4m1 0h1m1 0h2m1 0h2m1 0h2m3 0h1m4 0h1m2 0h2m4 0h2m1 0h1\"/></svg>\n"
      ]
     },
     "execution_count": 12,
     "metadata": {},
     "output_type": "execute_result"
    }
   ],
   "source": [
    "var QRCode = require('qrcode')\n",
    "\n",
    "const segments = [\n",
    "    {data: 'shc:/', mode: 'byte'},\n",
    "    {data: numericJWS, mode: 'numeric'}\n",
    "]\n",
    "\n",
    "let qrSVG\n",
    "QRCode.toString(segments,{type: 'svg', errorCorrectionLevel: 'low', version: 22 }).then(function(result){\n",
    "    qrSVG = result\n",
    "    $$.svg(qrSVG)\n",
    "})\n",
    "\n",
    "// Also print as PNG for scanning later on.\n",
    "\n",
    "\n",
    "QRCode.toFile('./qrcode.png', segments, {width: 800, version: 22})"
   ]
  },
  {
   "cell_type": "markdown",
   "id": "tender-viewer",
   "metadata": {},
   "source": [
    "### QR Code Scanning\n",
    "\n",
    "Now let's try and scan the QR Code!"
   ]
  },
  {
   "cell_type": "code",
   "execution_count": 13,
   "id": "inner-enhancement",
   "metadata": {
    "scrolled": true
   },
   "outputs": [
    {
     "name": "stdout",
     "output_type": "stream",
     "text": [
      "Are the QR Codes Equal? true\n"
     ]
    }
   ],
   "source": [
    "var jsQR = require('jsqr');\n",
    "var PNG = require('pngjs').PNG;\n",
    "\n",
    "\n",
    "imageData = PNG.sync.read(fs.readFileSync('./qrcode.png'))\n",
    "\n",
    "const scannedQR = jsQR(new Uint8ClampedArray(imageData.data.buffer), imageData.width, imageData.height)\n",
    "\n",
    "const qrCodesEqual = scannedQR.data === qrCodeData\n",
    "\n",
    "console.log(\"Are the QR Codes Equal? \" + qrCodesEqual)"
   ]
  }
 ],
 "metadata": {
  "kernelspec": {
   "display_name": "Javascript (Node.js)",
   "language": "javascript",
   "name": "javascript"
  },
  "language_info": {
   "file_extension": ".js",
   "mimetype": "application/javascript",
   "name": "javascript",
   "version": "15.12.0"
  }
 },
 "nbformat": 4,
 "nbformat_minor": 5
}
