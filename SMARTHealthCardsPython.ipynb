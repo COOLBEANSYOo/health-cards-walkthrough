{
 "cells": [
  {
   "cell_type": "markdown",
   "metadata": {},
   "source": [
    "# SMART Health Cards\n",
    "\n",
    "This notebook is designed to give an overview of [SMART Health Cards Framework](https://smarthealth.cards/) and how it works.\n"
   ]
  },
  {
   "cell_type": "markdown",
   "metadata": {},
   "source": [
    "### The FHIR Bundle\n",
    "\n",
    "A SMART Health Card is composed of a [W3C Verifiable Credential](https://w3c.github.io/vc-data-model/), [encoded as a JWT](https://w3c.github.io/vc-data-model/#jwt-encoding), with a Credential Subject that contains the FHIR version and a FHIR Bundle (See [Modeling W3C Verifiable Credentials in FHIR](https://smarthealth.cards/credential-modeling/).\n",
    "\n",
    "The FHIR Bundle contains the health care information.\n",
    "\n",
    "Let's assume we have the below FHIR Bundle ([Example 0](https://smarthealth.cards/examples/example-00-a-fhirBundle.json) at the time of writing). This FHIR Bundle could be produced in a number of ways, but for now let's imagine that the patient, John B. Anyperson, has just received his second COVID-19 vaccination shot and the healthcare worker entered his information into their system which produced the below in their system."
   ]
  },
  {
   "cell_type": "markdown",
   "metadata": {},
   "source": [
    "## Walkthrough\n",
    "\n",
    "The high level outline is as follows:\n",
    "* FHIR Bundle is created\n",
    "* FHIR Bundle is minified\n",
    "* SMART Health Card is created from FHIR Bundle\n",
    "* SMART Health Card is encoded as a JWS\n",
    "* Patient Retrieves the SMART Health Cards via:\n",
    "  * File Download\n",
    "  * QR Code\n",
    "  * FHIR API"
   ]
  },
  {
   "cell_type": "code",
   "execution_count": 1,
   "metadata": {},
   "outputs": [],
   "source": [
    "import json\n",
    "from datetime import datetime\n",
    "import zlib\n",
    "import math\n",
    "\n",
    "from pyzbar.pyzbar import decode\n",
    "from PIL import Image\n",
    "import qrcode\n",
    "from jwcrypto import jwk as jwk_crypto\n",
    "from jose import jws, jwk\n",
    "from jose.constants import ALGORITHMS\n",
    "\n"
   ]
  },
  {
   "cell_type": "code",
   "execution_count": 2,
   "metadata": {},
   "outputs": [],
   "source": [
    "\n",
    "fhir_bundle = {\n",
    "  \"resourceType\": \"Bundle\",\n",
    "  \"type\": \"collection\",\n",
    "  \"entry\": [\n",
    "    {\n",
    "      \"fullUrl\": \"resource:0\",\n",
    "      \"resource\": {\n",
    "        \"resourceType\": \"Patient\",\n",
    "        \"name\": [\n",
    "          {\n",
    "            \"family\": \"Anyperson\",\n",
    "            \"given\": [\n",
    "              \"John\",\n",
    "              \"B.\"\n",
    "            ]\n",
    "          }\n",
    "        ],\n",
    "        \"birthDate\": \"1951-01-20\"\n",
    "      }\n",
    "    },\n",
    "    {\n",
    "      \"fullUrl\": \"resource:1\",\n",
    "      \"resource\": {\n",
    "        \"resourceType\": \"Immunization\",\n",
    "        \"status\": \"completed\",\n",
    "        \"vaccineCode\": {\n",
    "          \"coding\": [\n",
    "            {\n",
    "              \"system\": \"http://hl7.org/fhir/sid/cvx\",\n",
    "              \"code\": \"207\"\n",
    "            }\n",
    "          ]\n",
    "        },\n",
    "        \"patient\": {\n",
    "          \"reference\": \"resource:0\"\n",
    "        },\n",
    "        \"occurrenceDateTime\": \"2021-01-01\",\n",
    "        \"performer\": [\n",
    "          {\n",
    "            \"actor\": {\n",
    "              \"display\": \"ABC General Hospital\"\n",
    "            }\n",
    "          }\n",
    "        ],\n",
    "        \"lotNumber\": \"0000001\"\n",
    "      }\n",
    "    },\n",
    "    {\n",
    "      \"fullUrl\": \"resource:2\",\n",
    "      \"resource\": {\n",
    "        \"resourceType\": \"Immunization\",\n",
    "        \"status\": \"completed\",\n",
    "        \"vaccineCode\": {\n",
    "          \"coding\": [\n",
    "            {\n",
    "              \"system\": \"http://hl7.org/fhir/sid/cvx\",\n",
    "              \"code\": \"207\"\n",
    "            }\n",
    "          ]\n",
    "        },\n",
    "        \"patient\": {\n",
    "          \"reference\": \"resource:0\"\n",
    "        },\n",
    "        \"occurrenceDateTime\": \"2021-01-29\",\n",
    "        \"performer\": [\n",
    "          {\n",
    "            \"actor\": {\n",
    "              \"display\": \"ABC General Hospital\"\n",
    "            }\n",
    "          }\n",
    "        ],\n",
    "        \"lotNumber\": \"0000007\"\n",
    "      }\n",
    "    }\n",
    "  ]\n",
    "}\n",
    "# print(fhir_bundle)"
   ]
  },
  {
   "cell_type": "markdown",
   "metadata": {},
   "source": [
    "A couple things to note in the above JSON. This is a Bundle that contains 3 resources: one for the patient, one for the first vaccination, and another for the second vaccination. This Bundle conforms to the requirements laid out in [SMART Health Cards: Vaccination & Testing Implementation Guide](http://build.fhir.org/ig/dvci/vaccine-credential-ig/branches/main/) which defines what resources should be included in the Health Card. Specifically, this is an example of [Vaccine Credential Bundle - Data Minimization](http://build.fhir.org/ig/dvci/vaccine-credential-ig/branches/main/StructureDefinition-vaccine-credential-bundle-dm.html). We'll talk about what \"Data Minimization\" means in a second.\n",
    "\n",
    "Now let's create the \"Expanded Health Card\"."
   ]
  },
  {
   "cell_type": "markdown",
   "metadata": {},
   "source": [
    "### Expanded Health Card\n",
    "\n",
    "The Expanded Health Card shows what the Health Card looks like before it is minified and serialized using the compact JWS serialization.\n",
    "\n",
    "[Health Cards are encoded as Compact Serialization JSON Web Signatures (JWS)](https://smarthealth.cards/#health-cards-are-encoded-as-compact-serialization-json-web-signatures-jws) and [Modeling W3C Verifiable Credentials in FHIR](https://smarthealth.cards/credential-modeling/) cover this in more detail.\n",
    "\n",
    "Before we get into the details it's important to note that some of the VC properties are mapped to standard JWT fields when using the [JWT encoding](https://w3c.github.io/vc-data-model/#jwt-encoding) (which we are). These include the `iss` and `nbf` fields.\n",
    "\n",
    "Below shows the expanded Health Card for the example:"
   ]
  },
  {
   "cell_type": "code",
   "execution_count": 3,
   "metadata": {},
   "outputs": [
    {
     "name": "stdout",
     "output_type": "stream",
     "text": [
      "{'iss': 'https://smarthealth.cards/examples/issuer', 'nbf': 1633590343.15148, 'vc': {'@context': ['https://www.w3.org/2018/credentials/v1'], 'type': ['VerifiableCredential', 'https://smarthealth.cards#health-card', 'https://smarthealth.cards#immunization', 'https://smarthealth.cards#covid19'], 'credentialSubject': {'fhirVersion': '4.0.1', 'fhirBundle': {'resourceType': 'Bundle', 'type': 'collection', 'entry': [{'fullUrl': 'resource:0', 'resource': {'resourceType': 'Patient', 'name': [{'family': 'Anyperson', 'given': ['John', 'B.']}], 'birthDate': '1951-01-20'}}, {'fullUrl': 'resource:1', 'resource': {'resourceType': 'Immunization', 'status': 'completed', 'vaccineCode': {'coding': [{'system': 'http://hl7.org/fhir/sid/cvx', 'code': '207'}]}, 'patient': {'reference': 'resource:0'}, 'occurrenceDateTime': '2021-01-01', 'performer': [{'actor': {'display': 'ABC General Hospital'}}], 'lotNumber': '0000001'}}, {'fullUrl': 'resource:2', 'resource': {'resourceType': 'Immunization', 'status': 'completed', 'vaccineCode': {'coding': [{'system': 'http://hl7.org/fhir/sid/cvx', 'code': '207'}]}, 'patient': {'reference': 'resource:0'}, 'occurrenceDateTime': '2021-01-29', 'performer': [{'actor': {'display': 'ABC General Hospital'}}], 'lotNumber': '0000007'}}]}}}}\n"
     ]
    }
   ],
   "source": [
    "expanded_health_card = {\n",
    "  \"iss\": \"https://smarthealth.cards/examples/issuer\",\n",
    "  \"nbf\": datetime.utcnow().timestamp(),\n",
    "  \"vc\": {\n",
    "    \"@context\": [\n",
    "      \"https://www.w3.org/2018/credentials/v1\"\n",
    "    ],\n",
    "    \"type\": [\n",
    "      \"VerifiableCredential\",\n",
    "      \"https://smarthealth.cards#health-card\",\n",
    "      \"https://smarthealth.cards#immunization\",\n",
    "      \"https://smarthealth.cards#covid19\"\n",
    "    ],\n",
    "    \"credentialSubject\": {\n",
    "        \"fhirVersion\": \"4.0.1\",\n",
    "        \"fhirBundle\": fhir_bundle\n",
    "    }\n",
    "  }\n",
    "}\n",
    "print(expanded_health_card)"
   ]
  },
  {
   "cell_type": "markdown",
   "metadata": {},
   "source": [
    "Let's talk about the three root fields:\n",
    "\n",
    "`iss` - This represents the [Issuer](https://w3c.github.io/vc-data-model/#issuer)\n",
    "  * Note this property is represented by `iss` according to the [JWT Encoding Rules](https://w3c.github.io/vc-data-model/#jwt-encoding)\n",
    "\n",
    "`nbf` - This represents the [IssuanceDate](https://w3c.github.io/vc-data-model/#issuance-date)\n",
    "  * Note this property is represented by `nbf`.\n",
    "\n",
    "`vc` - This represents the VC claim minus all the unmapped fields (`iss` and `nbf`)\n",
    "\n",
    "\n",
    "TODO: Fill out the rest of these properties"
   ]
  },
  {
   "cell_type": "markdown",
   "metadata": {},
   "source": [
    "### Health Cards are Small\n",
    "\n",
    "SMART Health Cards can be issued on pieces of paper via QR Codes. This introduces some unique size constraints in order to keep the number and size of QR codes manageable. When using and applying SMART Health Cards, it's important to keep them small.\n",
    "\n",
    "The SMART Health Card spec requires that [the JWS payload is minified and compressed](https://smarthealth.cards/#health-cards-are-small) in order to reduce payload size.\n",
    "\n",
    "SMART Health Cards are designed to be be atomic and shared as a whole. Information within the Health Card cannot be removed without affecting the verifiability of the Health Card. This imposes a privacy challenge when too much information is included in a single Health Card.\n",
    "\n",
    "The \"Data Minimization\" profiles in the IG are designed to address these size and privacy concerns by ensuring the FHIR profiles only require the minimal set of information to achieve the desired results.\n",
    "\n",
    "Below the JWS Payload (i.e. the \"Expanded Health Card\") is compressed according to the spec:"
   ]
  },
  {
   "cell_type": "code",
   "execution_count": 4,
   "metadata": {},
   "outputs": [
    {
     "name": "stdout",
     "output_type": "stream",
     "text": [
      "{\"iss\":\"https://smarthealth.cards/examples/issuer\",\"nbf\":1633590343.15148,\"vc\":{\"@context\":[\"https://www.w3.org/2018/credentials/v1\"],\"type\":[\"VerifiableCredential\",\"https://smarthealth.cards#health-card\",\"https://smarthealth.cards#immunization\",\"https://smarthealth.cards#covid19\"],\"credentialSubject\":{\"fhirVersion\":\"4.0.1\",\"fhirBundle\":{\"resourceType\":\"Bundle\",\"type\":\"collection\",\"entry\":[{\"fullUrl\":\"resource:0\",\"resource\":{\"resourceType\":\"Patient\",\"name\":[{\"family\":\"Anyperson\",\"given\":[\"John\",\"B.\"]}],\"birthDate\":\"1951-01-20\"}},{\"fullUrl\":\"resource:1\",\"resource\":{\"resourceType\":\"Immunization\",\"status\":\"completed\",\"vaccineCode\":{\"coding\":[{\"system\":\"http://hl7.org/fhir/sid/cvx\",\"code\":\"207\"}]},\"patient\":{\"reference\":\"resource:0\"},\"occurrenceDateTime\":\"2021-01-01\",\"performer\":[{\"actor\":{\"display\":\"ABC General Hospital\"}}],\"lotNumber\":\"0000001\"}},{\"fullUrl\":\"resource:2\",\"resource\":{\"resourceType\":\"Immunization\",\"status\":\"completed\",\"vaccineCode\":{\"coding\":[{\"system\":\"http://hl7.org/fhir/sid/cvx\",\"code\":\"207\"}]},\"patient\":{\"reference\":\"resource:0\"},\"occurrenceDateTime\":\"2021-01-29\",\"performer\":[{\"actor\":{\"display\":\"ABC General Hospital\"}}],\"lotNumber\":\"0000007\"}}]}}}}\n"
     ]
    }
   ],
   "source": [
    "# Remove the optional whitespace\n",
    "no_white_space_health_card = json.dumps(expanded_health_card, separators=(',', ':'))\n",
    "print(no_white_space_health_card)"
   ]
  },
  {
   "cell_type": "code",
   "execution_count": 5,
   "metadata": {},
   "outputs": [
    {
     "name": "stdout",
     "output_type": "stream",
     "text": [
      "b'\\xddRM\\x8f\\xd30\\x10\\xfd+\\xab\\xe1\\xda&q\\xda\\xd2mN\\xd0\"\\xf1q@H\\xecrA=\\xb8\\xce\\xb41r\\xec\\xc8v\\xfa\\xc1*\\xff\\x9d\\x19\\xb7]@\\xda\\xdd\\x13\\'|\\x1b\\xfb\\xcd\\x9b\\xf7\\x9e\\xe7\\x01t\\x08PA\\x13c\\x17\\xaa<\\x0f\\xad\\xf4\\xb1Aib\\x93)\\xe9\\xeb\\x90\\xe3Q\\xb6\\x9d\\xc1\\x90\\x13\\xb0G\\x0f#\\xb0\\x9b-T\\xe2\\xf5d2[\\x14\\x93\\xe9$\\x1331\\xbd\\x1d\\xc1^A\\xf5\\x00o\\x94\\xb3\\x11\\x8f\\x11\\xaa\\xef\\x8f\\xa4\\x87\\xc3!;L2\\xe7wyY\\x88\\xdb\\\\y\\xac\\xd1F-M\\xc8\\xf7\\x02\\xd6#\\x88\\xa7\\x0e\\xb9\\xe3\\x1bz\\xbd\\xd5rcp\\xf5\\x88\\xa1\\x89\\xcf\\xaa{u.\\xc6\\\\\\xbc\\x88\\xd3m\\xdb[\\xfdSF\\xed\\xec\\x8b@\\xe5\\xf6\\xba\\x16\\x0b\\x16\\xf5[\\xe6\\xd7~\\xf3\\x03Ud\\x7f\\xdbF{R\\x19\\x98\\xa7\\x82iVd\\x82\\xf8\\xf8v\\xd9\\xdb\\xda c<\\x06\\xd7{\\x85w\\xc9\\x15\\\\\\x1e\\xae.A9c\\x88\\xed\\xac\\x84\\x06\\xf8\\x13Y\\'\\xe6\\xde\\x98{o\\x08p\\xed\\xaf\\n\\x02\\\\\\x8b\\'\\x88\\xbf\\x90\\x1d\\xea\\xe7/\\x91-\\x9eId\\xab\\r\\xf1\\xc1[K\\x18\\x1f\\xd2\\x8c\\x9d\\xde\\xa3\\xe5x?\\xb9\\x86\\xebe\\x06\\xeb\\x81\\x0cn4\\x99\\x7f\\'#s\\x89\\xc5L\\x8c\\x0b1.\\x0b\\x18\\x86\\xd1\\x93j\\xc4\\xcbj>\\xfe\\x1dq\\x882\\xf6!\\xd9\\xe5\\xfd\\x89\\xc8\\x1f\\xb4\\x97Ji\\x8b+W\\'\\x06\\xe5jmwIx8\\x85\\x88\\xede\\x13\\xe9g\\x1a3O\\x0b\\xc3\\xc9\\xe6A\\xd7\\xb9\\xda\\x1f\\x89@\\xa5N(\\x8b9\\x0c\\xeba\\x04\\xdd%\\x82$g\\x8b\\x1e-k\\xfb3A\\x029\\xa5z\\x9f\\x9e\\xd8\\xec\\x9dn\\xcf\\x14e2\\\\\\xb0-\\x8aj\\xeb|K\\xeb\\xcdZ\\xa4\\x8a\\xce3e\\xadCgd\\x8as\\xb9\\xbay\\x8f\\x16\\xbd47\\x1f\\\\\\xe8t\\xa4\\xc5\\x1c8D\\xe3\\xe2\\xe7\\xbe\\xddp+\\x14\\xe9\\x88g\\x13,\\xff\\xcb\\x04\\xcb\\xc5\\xbfNp\\xce\\x0f\\x03\\x9d_'\n"
     ]
    }
   ],
   "source": [
    "# Normally we'd remove some of the fhirBundle elements at \n",
    "# this step ( e.g. Resource.id, Resource.meta, CodebableConcept.text).\n",
    "# These are already missing from the original payload, so we'll skip that here\n",
    "\n",
    "# Compress the payload with DEFLATE, omitting any zlib headers\n",
    "compress = zlib.compressobj(zlib.Z_DEFAULT_COMPRESSION, zlib.DEFLATED, -15)\n",
    "compressed_payload = compress.compress(no_white_space_health_card.encode('utf-8'))\n",
    "compressed_payload += compress.flush()\n",
    "\n",
    "print(compressed_payload)"
   ]
  },
  {
   "cell_type": "markdown",
   "metadata": {},
   "source": [
    "### Creating the Signed Health Card\n",
    "\n",
    "Now that we have the compressed payload we can sign it as a JWS. First, let's create the key pair for signing and verifying."
   ]
  },
  {
   "cell_type": "code",
   "execution_count": 6,
   "metadata": {},
   "outputs": [],
   "source": [
    "# Use jwcrypto to generate key data\n",
    "key_data = jwk_crypto.JWK.generate(kty='EC', crv='P-256')\n",
    "\n",
    "private_key_data = key_data.export(as_dict=True)"
   ]
  },
  {
   "cell_type": "code",
   "execution_count": 7,
   "metadata": {},
   "outputs": [
    {
     "name": "stdout",
     "output_type": "stream",
     "text": [
      "{\n",
      "    \"kty\": \"EC\",\n",
      "    \"crv\": \"P-256\",\n",
      "    \"x\": \"OWSTMrSG4wnLMEdVPnxAegE8lpfQzoEz6L4OYmp7FLY\",\n",
      "    \"y\": \"8CadTgQJrMBJgwxy2o86ENnVDxW2Rw_D7NFpOi56hGc\",\n",
      "    \"d\": \"pbEztzk7uvQmhAxyttk4V6lsiZA_V4m_8O__ulQZjnE\"\n",
      "}\n"
     ]
    }
   ],
   "source": [
    "# Print the entire key store, including the `d` member which contains the private key value\n",
    "# Set export parameter: `private_key=False` to just present the public key\n",
    "# See: https://tools.ietf.org/id/draft-jones-jose-json-private-and-symmetric-key-00.html#rfc.section.3.1.1\n",
    "print(json.dumps(private_key_data, indent=4))"
   ]
  },
  {
   "cell_type": "markdown",
   "metadata": {},
   "source": [
    "With a signing key in hand we can create the JWS:"
   ]
  },
  {
   "cell_type": "code",
   "execution_count": 8,
   "metadata": {
    "scrolled": true
   },
   "outputs": [
    {
     "name": "stdout",
     "output_type": "stream",
     "text": [
      "eyJhbGciOiJFUzI1NiIsImtpZCI6ImJhMVdteGpFZWtLUTd5NlNjSVJ4eGR2TG9FS3FiWkJBcGYybFRDNVRXLUEiLCJ0eXAiOiJKV1QiLCJ6aXAiOiJERUYifQ.3VJNj9MwEP0rq-HaJnHa0m1O0CLxcUBI7HJBPbjOtDFy7Mh2-sEq_50Zt11A2t0TJ3wb-82b957nAXQIUEETYxeqPA-t9LFBaWKTKenrkONRtp3BkBOwRw8jsJstVOL1ZDJbFJPpJBMzMb0dwV5B9QBvlLMRjxGq74-kh8MhO0wy53d5WYjbXHms0UYtTcj3AtYjiKcOueMber3VcmNw9Yihic-qe3Uuxly8iNNt21v9U0bt7ItA5fa6FgsW9Vvm137zA1Vkf9tGe1IZmKeCaVZkgvj4dtnb2iBjPAbXe4V3yRVcHq4uQTljiO2shAb4E1kn5t6Ye28IcO2vCgJciyeIv5Ad6ucvkS2eSWSrDfHBW0sYH9KMnd6j5Xg_uYbrZQbrgQxuNJl_JyNzicVMjAsxLgsYhtGTasTLaj7-HXGIMvYh2eX9icgftJdKaYsrVycG5Wptd0l4OIWI7WUT6WcaM08Lw8nmQde52h-JQKVOKIs5DOthBN0lgiRnix4ta_szQQI5pXqfntjsnW7PFGUyXLAtimrrfEvrzVqkis4zZa1DZ2SKc7m6eY8WvTQ3H1zodKTFHDhE4-Lnvt1wKxTpiGcTLP_LBMvFv05wzg8DnV8.AHDOVm7wWJwsMtI2KDRLMsmQms-3ZV050zfXUL9kA27-3oI8Hs39JPSSbksApu0JhUmUnCu9aHyVTc5rJ0SWJA\n"
     ]
    }
   ],
   "source": [
    "kid = key_data.thumbprint() # use thumbprint from jwt_cryto.JWK key object as kid\n",
    "\n",
    "key = jwk.construct(private_key_data, algorithm=ALGORITHMS.ES256)\n",
    "jws_token = jws.sign(compressed_payload, key, algorithm=ALGORITHMS.ES256, headers={\"alg\":\"ES256\",\"zip\": \"DEF\", \"kid\":kid})\n",
    "print(jws_token)"
   ]
  },
  {
   "cell_type": "markdown",
   "metadata": {},
   "source": [
    "Now that we have the JWS we should check that we can actually verify the signature"
   ]
  },
  {
   "cell_type": "code",
   "execution_count": 9,
   "metadata": {},
   "outputs": [
    {
     "name": "stdout",
     "output_type": "stream",
     "text": [
      "b'\\xddRM\\x8f\\xd30\\x10\\xfd+\\xab\\xe1\\xda&q\\xda\\xd2mN\\xd0\"\\xf1q@H\\xecrA=\\xb8\\xce\\xb41r\\xec\\xc8v\\xfa\\xc1*\\xff\\x9d\\x19\\xb7]@\\xda\\xdd\\x13\\'|\\x1b\\xfb\\xcd\\x9b\\xf7\\x9e\\xe7\\x01t\\x08PA\\x13c\\x17\\xaa<\\x0f\\xad\\xf4\\xb1Aib\\x93)\\xe9\\xeb\\x90\\xe3Q\\xb6\\x9d\\xc1\\x90\\x13\\xb0G\\x0f#\\xb0\\x9b-T\\xe2\\xf5d2[\\x14\\x93\\xe9$\\x1331\\xbd\\x1d\\xc1^A\\xf5\\x00o\\x94\\xb3\\x11\\x8f\\x11\\xaa\\xef\\x8f\\xa4\\x87\\xc3!;L2\\xe7wyY\\x88\\xdb\\\\y\\xac\\xd1F-M\\xc8\\xf7\\x02\\xd6#\\x88\\xa7\\x0e\\xb9\\xe3\\x1bz\\xbd\\xd5rcp\\xf5\\x88\\xa1\\x89\\xcf\\xaa{u.\\xc6\\\\\\xbc\\x88\\xd3m\\xdb[\\xfdSF\\xed\\xec\\x8b@\\xe5\\xf6\\xba\\x16\\x0b\\x16\\xf5[\\xe6\\xd7~\\xf3\\x03Ud\\x7f\\xdbF{R\\x19\\x98\\xa7\\x82iVd\\x82\\xf8\\xf8v\\xd9\\xdb\\xda c<\\x06\\xd7{\\x85w\\xc9\\x15\\\\\\x1e\\xae.A9c\\x88\\xed\\xac\\x84\\x06\\xf8\\x13Y\\'\\xe6\\xde\\x98{o\\x08p\\xed\\xaf\\n\\x02\\\\\\x8b\\'\\x88\\xbf\\x90\\x1d\\xea\\xe7/\\x91-\\x9eId\\xab\\r\\xf1\\xc1[K\\x18\\x1f\\xd2\\x8c\\x9d\\xde\\xa3\\xe5x?\\xb9\\x86\\xebe\\x06\\xeb\\x81\\x0cn4\\x99\\x7f\\'#s\\x89\\xc5L\\x8c\\x0b1.\\x0b\\x18\\x86\\xd1\\x93j\\xc4\\xcbj>\\xfe\\x1dq\\x882\\xf6!\\xd9\\xe5\\xfd\\x89\\xc8\\x1f\\xb4\\x97Ji\\x8b+W\\'\\x06\\xe5jmwIx8\\x85\\x88\\xede\\x13\\xe9g\\x1a3O\\x0b\\xc3\\xc9\\xe6A\\xd7\\xb9\\xda\\x1f\\x89@\\xa5N(\\x8b9\\x0c\\xeba\\x04\\xdd%\\x82$g\\x8b\\x1e-k\\xfb3A\\x029\\xa5z\\x9f\\x9e\\xd8\\xec\\x9dn\\xcf\\x14e2\\\\\\xb0-\\x8aj\\xeb|K\\xeb\\xcdZ\\xa4\\x8a\\xce3e\\xadCgd\\x8as\\xb9\\xbay\\x8f\\x16\\xbd47\\x1f\\\\\\xe8t\\xa4\\xc5\\x1c8D\\xe3\\xe2\\xe7\\xbe\\xddp+\\x14\\xe9\\x88g\\x13,\\xff\\xcb\\x04\\xcb\\xc5\\xbfNp\\xce\\x0f\\x03\\x9d_'\n"
     ]
    }
   ],
   "source": [
    "public_key_data = key_data.export(private_key=False, as_dict=True)\n",
    "print(jws.verify(jws_token, public_key_data, ALGORITHMS.ES256))"
   ]
  },
  {
   "cell_type": "markdown",
   "metadata": {},
   "source": [
    "Let's also create a fake key and test with that to make sure we aren't getting a false positive"
   ]
  },
  {
   "cell_type": "code",
   "execution_count": 10,
   "metadata": {},
   "outputs": [],
   "source": [
    "fake_key_data = jwk_crypto.JWK.generate(kty='EC', crv='P-256')\n",
    "private_fake_key = fake_key_data.export(private_key=False, as_dict=True)\n"
   ]
  },
  {
   "cell_type": "code",
   "execution_count": 11,
   "metadata": {},
   "outputs": [
    {
     "ename": "JWSError",
     "evalue": "Signature verification failed.",
     "output_type": "error",
     "traceback": [
      "\u001b[0;31m---------------------------------------------------------------------------\u001b[0m",
      "\u001b[0;31mJWSSignatureError\u001b[0m                         Traceback (most recent call last)",
      "\u001b[0;32m~/glen/health-cards-walkthrough/venv/lib/python3.8/site-packages/jose/jws.py\u001b[0m in \u001b[0;36m_verify_signature\u001b[0;34m(signing_input, header, signature, key, algorithms)\u001b[0m\n\u001b[1;32m    261\u001b[0m         \u001b[0;32mif\u001b[0m \u001b[0;32mnot\u001b[0m \u001b[0m_sig_matches_keys\u001b[0m\u001b[0;34m(\u001b[0m\u001b[0mkeys\u001b[0m\u001b[0;34m,\u001b[0m \u001b[0msigning_input\u001b[0m\u001b[0;34m,\u001b[0m \u001b[0msignature\u001b[0m\u001b[0;34m,\u001b[0m \u001b[0malg\u001b[0m\u001b[0;34m)\u001b[0m\u001b[0;34m:\u001b[0m\u001b[0;34m\u001b[0m\u001b[0;34m\u001b[0m\u001b[0m\n\u001b[0;32m--> 262\u001b[0;31m             \u001b[0;32mraise\u001b[0m \u001b[0mJWSSignatureError\u001b[0m\u001b[0;34m(\u001b[0m\u001b[0;34m)\u001b[0m\u001b[0;34m\u001b[0m\u001b[0;34m\u001b[0m\u001b[0m\n\u001b[0m\u001b[1;32m    263\u001b[0m     \u001b[0;32mexcept\u001b[0m \u001b[0mJWSSignatureError\u001b[0m\u001b[0;34m:\u001b[0m\u001b[0;34m\u001b[0m\u001b[0;34m\u001b[0m\u001b[0m\n",
      "\u001b[0;31mJWSSignatureError\u001b[0m: ",
      "\nDuring handling of the above exception, another exception occurred:\n",
      "\u001b[0;31mJWSError\u001b[0m                                  Traceback (most recent call last)",
      "\u001b[0;32m/tmp/ipykernel_42572/180918712.py\u001b[0m in \u001b[0;36m<module>\u001b[0;34m\u001b[0m\n\u001b[1;32m      1\u001b[0m \u001b[0;31m# A JWSSignatureError exception will be thrown if signing_key is invalid.\u001b[0m\u001b[0;34m\u001b[0m\u001b[0;34m\u001b[0m\u001b[0;34m\u001b[0m\u001b[0m\n\u001b[1;32m      2\u001b[0m \u001b[0;34m\u001b[0m\u001b[0m\n\u001b[0;32m----> 3\u001b[0;31m \u001b[0mjws\u001b[0m\u001b[0;34m.\u001b[0m\u001b[0mverify\u001b[0m\u001b[0;34m(\u001b[0m\u001b[0mjws_token\u001b[0m\u001b[0;34m,\u001b[0m \u001b[0mprivate_fake_key\u001b[0m\u001b[0;34m,\u001b[0m \u001b[0mALGORITHMS\u001b[0m\u001b[0;34m.\u001b[0m\u001b[0mES256\u001b[0m\u001b[0;34m)\u001b[0m\u001b[0;34m\u001b[0m\u001b[0;34m\u001b[0m\u001b[0m\n\u001b[0m",
      "\u001b[0;32m~/glen/health-cards-walkthrough/venv/lib/python3.8/site-packages/jose/jws.py\u001b[0m in \u001b[0;36mverify\u001b[0;34m(token, key, algorithms, verify)\u001b[0m\n\u001b[1;32m     71\u001b[0m \u001b[0;34m\u001b[0m\u001b[0m\n\u001b[1;32m     72\u001b[0m     \u001b[0;32mif\u001b[0m \u001b[0mverify\u001b[0m\u001b[0;34m:\u001b[0m\u001b[0;34m\u001b[0m\u001b[0;34m\u001b[0m\u001b[0m\n\u001b[0;32m---> 73\u001b[0;31m         \u001b[0m_verify_signature\u001b[0m\u001b[0;34m(\u001b[0m\u001b[0msigning_input\u001b[0m\u001b[0;34m,\u001b[0m \u001b[0mheader\u001b[0m\u001b[0;34m,\u001b[0m \u001b[0msignature\u001b[0m\u001b[0;34m,\u001b[0m \u001b[0mkey\u001b[0m\u001b[0;34m,\u001b[0m \u001b[0malgorithms\u001b[0m\u001b[0;34m)\u001b[0m\u001b[0;34m\u001b[0m\u001b[0;34m\u001b[0m\u001b[0m\n\u001b[0m\u001b[1;32m     74\u001b[0m \u001b[0;34m\u001b[0m\u001b[0m\n\u001b[1;32m     75\u001b[0m     \u001b[0;32mreturn\u001b[0m \u001b[0mpayload\u001b[0m\u001b[0;34m\u001b[0m\u001b[0;34m\u001b[0m\u001b[0m\n",
      "\u001b[0;32m~/glen/health-cards-walkthrough/venv/lib/python3.8/site-packages/jose/jws.py\u001b[0m in \u001b[0;36m_verify_signature\u001b[0;34m(signing_input, header, signature, key, algorithms)\u001b[0m\n\u001b[1;32m    262\u001b[0m             \u001b[0;32mraise\u001b[0m \u001b[0mJWSSignatureError\u001b[0m\u001b[0;34m(\u001b[0m\u001b[0;34m)\u001b[0m\u001b[0;34m\u001b[0m\u001b[0;34m\u001b[0m\u001b[0m\n\u001b[1;32m    263\u001b[0m     \u001b[0;32mexcept\u001b[0m \u001b[0mJWSSignatureError\u001b[0m\u001b[0;34m:\u001b[0m\u001b[0;34m\u001b[0m\u001b[0;34m\u001b[0m\u001b[0m\n\u001b[0;32m--> 264\u001b[0;31m         \u001b[0;32mraise\u001b[0m \u001b[0mJWSError\u001b[0m\u001b[0;34m(\u001b[0m\u001b[0;34m\"Signature verification failed.\"\u001b[0m\u001b[0;34m)\u001b[0m\u001b[0;34m\u001b[0m\u001b[0;34m\u001b[0m\u001b[0m\n\u001b[0m\u001b[1;32m    265\u001b[0m     \u001b[0;32mexcept\u001b[0m \u001b[0mJWSError\u001b[0m\u001b[0;34m:\u001b[0m\u001b[0;34m\u001b[0m\u001b[0;34m\u001b[0m\u001b[0m\n\u001b[1;32m    266\u001b[0m         \u001b[0;32mraise\u001b[0m \u001b[0mJWSError\u001b[0m\u001b[0;34m(\u001b[0m\u001b[0;34m\"Invalid or unsupported algorithm: %s\"\u001b[0m \u001b[0;34m%\u001b[0m \u001b[0malg\u001b[0m\u001b[0;34m)\u001b[0m\u001b[0;34m\u001b[0m\u001b[0;34m\u001b[0m\u001b[0m\n",
      "\u001b[0;31mJWSError\u001b[0m: Signature verification failed."
     ]
    }
   ],
   "source": [
    "# A JWSSignatureError exception will be thrown if signing_key is invalid. \n",
    "\n",
    "jws.verify(jws_token, private_fake_key, ALGORITHMS.ES256)\n"
   ]
  },
  {
   "cell_type": "markdown",
   "metadata": {},
   "source": [
    "### QR Code Generation\n",
    "\n",
    "Now that we have a JWS we can turn that into a QR Code which can be scanned. We won't worry about chunking just yet since the payload is below the 1195 character threshold in this example, but its a simple addition and [this code snippet](https://github.com/smart-on-fhir/health-cards/blob/152a4f83b223b5fd14027f765e957e290649f2c0/generate-examples/src/index.ts#L146) goes over the process."
   ]
  },
  {
   "cell_type": "code",
   "execution_count": 12,
   "metadata": {},
   "outputs": [
    {
     "name": "stdout",
     "output_type": "stream",
     "text": [
      "shc:/5676295953265460346029254077280433602870286471674522280928642959324155715626672545427131403955083363336138412907562637053926122538062560426229215426447653253723334137433140246031222903564320603460293041043660312229095243206034602924374044605736010641293361123274243503696800275229652752036404340322317554402128102729213553613471232576103259050070246850080345710404200571033929067453001105531208106520433628402424394475566835200071123125215242303930566569623433377167062162213474377411617029707141343104452329532529356729213277325303557441082112362173633132376175266810070062591132593403747608065508424461534327647003404471395461062071446160305434725632535669064154643374124460596054006856064072756376116033337105047312400353711028712008575209255870421241736404061077200441625712712656042845643056225241456258736107557165530560216135205343560741067637415427680772363963616034057059205307240462650871094456051128543405732258295460765628730820550972547362380556384238692357272142037044271230326555096108435850724453694536536958367572332963502976337760544132612070753158704459712639527039315261100027432628327344590556431260545857712955305244706941765426084267715503630734284228104240390942545232031131741165643655560805590029363041343028700823347159213303635860376560750771525070773636280867436857657161706542103525264076433120716064696957247369774168626070077745520423450538305410640956441142733936062704776655303925272359240700316573710474307539676026543931355031213273257303087477581123654111012027233441641074422974703271280530233731327064366470000645410308037757434031126220051000066628112770061229353838536270206772032959406440652272125227764139540869290338422920\n"
     ]
    }
   ],
   "source": [
    "token_caracters = list(jws_token)\n",
    "\n",
    "number_pairs = []\n",
    "for char in token_caracters:\n",
    "    int_char = ord(char) - 45\n",
    "    int_pair = [math.floor(int_char/10), int_char % 10] # Need to maintain leading zeros\n",
    "    number_pairs.append(int_pair)  \n",
    "\n",
    "numeric_jws = \"\".join([str(num) for pair in number_pairs for num in pair]) # Flatten nested list in numeric_jws_pairs\n",
    "\n",
    "qr_code_data = 'shc:/' + numeric_jws\n",
    "print(qr_code_data)"
   ]
  },
  {
   "cell_type": "markdown",
   "metadata": {},
   "source": [
    "The above shows what the value of the QR code will be, with the leading `byte` segment and the `numeric` segment following"
   ]
  },
  {
   "cell_type": "code",
   "execution_count": 13,
   "metadata": {},
   "outputs": [
    {
     "data": {
      "image/png": "[encoded data removed]",
      "text/plain": [
       "<PIL.PngImagePlugin.PngImageFile image mode=1 size=1130x1130 at 0x7FA8D80466D0>"
      ]
     },
     "metadata": {},
     "output_type": "display_data"
    }
   ],
   "source": [
    "from IPython.display import display\n",
    "\n",
    "qr = qrcode.QRCode(\n",
    "    version=22,\n",
    "    error_correction=qrcode.constants.ERROR_CORRECT_L,\n",
    ")\n",
    "qr.add_data(qr_code_data)\n",
    "\n",
    "img = qr.make_image()\n",
    "img.save(\"py_qrcode.png\")\n",
    "\n",
    "display(Image.open(\"py_qrcode.png\"))"
   ]
  },
  {
   "cell_type": "markdown",
   "metadata": {},
   "source": [
    "### QR Code Scanning\n",
    "\n",
    "Now let's try and scan the QR Code!"
   ]
  },
  {
   "cell_type": "code",
   "execution_count": 15,
   "metadata": {},
   "outputs": [
    {
     "name": "stdout",
     "output_type": "stream",
     "text": [
      "Are the QR Codes Equal? True\n",
      "shc:/5676295953265460346029254077280433602870286471674522280928642959324155715626672545427131403955083363336138412907562637053926122538062560426229215426447653253723334137433140246031222903564320603460293041043660312229095243206034602924374044605736010641293361123274243503696800275229652752036404340322317554402128102729213553613471232576103259050070246850080345710404200571033929067453001105531208106520433628402424394475566835200071123125215242303930566569623433377167062162213474377411617029707141343104452329532529356729213277325303557441082112362173633132376175266810070062591132593403747608065508424461534327647003404471395461062071446160305434725632535669064154643374124460596054006856064072756376116033337105047312400353711028712008575209255870421241736404061077200441625712712656042845643056225241456258736107557165530560216135205343560741067637415427680772363963616034057059205307240462650871094456051128543405732258295460765628730820550972547362380556384238692357272142037044271230326555096108435850724453694536536958367572332963502976337760544132612070753158704459712639527039315261100027432628327344590556431260545857712955305244706941765426084267715503630734284228104240390942545232031131741165643655560805590029363041343028700823347159213303635860376560750771525070773636280867436857657161706542103525264076433120716064696957247369774168626070077745520423450538305410640956441142733936062704776655303925272359240700316573710474307539676026543931355031213273257303087477581123654111012027233441641074422974703271280530233731327064366470000645410308037757434031126220051000066628112770061229353838536270206772032959406440652272125227764139540869290338422920\n"
     ]
    }
   ],
   "source": [
    "image_data = decode(Image.open('py_qrcode.png'))[0][0]\n",
    "scannedQR_data  = image_data.decode()\n",
    "\n",
    "qr_codes_equal = scannedQR_data == qr_code_data\n",
    "\n",
    "print(f\"Are the QR Codes Equal? {qr_codes_equal}\")\n",
    "print(scannedQR_data)"
   ]
  },
  {
   "cell_type": "markdown",
   "metadata": {},
   "source": [
    "### Extracting Data from the QR Code\n",
    "\n",
    "Now let's reverse the process to get the original data back and check the signature. First, let's extract the JWS."
   ]
  },
  {
   "cell_type": "code",
   "execution_count": 16,
   "metadata": {},
   "outputs": [
    {
     "name": "stdout",
     "output_type": "stream",
     "text": [
      "eyJhbGciOiJFUzI1NiIsImtpZCI6ImJhMVdteGpFZWtLUTd5NlNjSVJ4eGR2TG9FS3FiWkJBcGYybFRDNVRXLUEiLCJ0eXAiOiJKV1QiLCJ6aXAiOiJERUYifQ.3VJNj9MwEP0rq-HaJnHa0m1O0CLxcUBI7HJBPbjOtDFy7Mh2-sEq_50Zt11A2t0TJ3wb-82b957nAXQIUEETYxeqPA-t9LFBaWKTKenrkONRtp3BkBOwRw8jsJstVOL1ZDJbFJPpJBMzMb0dwV5B9QBvlLMRjxGq74-kh8MhO0wy53d5WYjbXHms0UYtTcj3AtYjiKcOueMber3VcmNw9Yihic-qe3Uuxly8iNNt21v9U0bt7ItA5fa6FgsW9Vvm137zA1Vkf9tGe1IZmKeCaVZkgvj4dtnb2iBjPAbXe4V3yRVcHq4uQTljiO2shAb4E1kn5t6Ye28IcO2vCgJciyeIv5Ad6ucvkS2eSWSrDfHBW0sYH9KMnd6j5Xg_uYbrZQbrgQxuNJl_JyNzicVMjAsxLgsYhtGTasTLaj7-HXGIMvYh2eX9icgftJdKaYsrVycG5Wptd0l4OIWI7WUT6WcaM08Lw8nmQde52h-JQKVOKIs5DOthBN0lgiRnix4ta_szQQI5pXqfntjsnW7PFGUyXLAtimrrfEvrzVqkis4zZa1DZ2SKc7m6eY8WvTQ3H1zodKTFHDhE4-Lnvt1wKxTpiGcTLP_LBMvFv05wzg8DnV8.AHDOVm7wWJwsMtI2KDRLMsmQms-3ZV050zfXUL9kA27-3oI8Hs39JPSSbksApu0JhUmUnCu9aHyVTc5rJ0SWJA\n"
     ]
    }
   ],
   "source": [
    "import re\n",
    "\n",
    "numeric_chunk = re.findall('.{1,2}', scannedQR_data[5:])\n",
    "jws_tk = \"\".join([chr(int(x) + 45) for x in numeric_chunk])\n",
    "print(jws_tk)"
   ]
  },
  {
   "cell_type": "markdown",
   "metadata": {},
   "source": [
    "Next we can verify the signature and extract the payload"
   ]
  },
  {
   "cell_type": "code",
   "execution_count": 17,
   "metadata": {},
   "outputs": [
    {
     "name": "stdout",
     "output_type": "stream",
     "text": [
      "{\"iss\":\"https://smarthealth.cards/examples/issuer\",\"nbf\":1633590343.15148,\"vc\":{\"@context\":[\"https://www.w3.org/2018/credentials/v1\"],\"type\":[\"VerifiableCredential\",\"https://smarthealth.cards#health-card\",\"https://smarthealth.cards#immunization\",\"https://smarthealth.cards#covid19\"],\"credentialSubject\":{\"fhirVersion\":\"4.0.1\",\"fhirBundle\":{\"resourceType\":\"Bundle\",\"type\":\"collection\",\"entry\":[{\"fullUrl\":\"resource:0\",\"resource\":{\"resourceType\":\"Patient\",\"name\":[{\"family\":\"Anyperson\",\"given\":[\"John\",\"B.\"]}],\"birthDate\":\"1951-01-20\"}},{\"fullUrl\":\"resource:1\",\"resource\":{\"resourceType\":\"Immunization\",\"status\":\"completed\",\"vaccineCode\":{\"coding\":[{\"system\":\"http://hl7.org/fhir/sid/cvx\",\"code\":\"207\"}]},\"patient\":{\"reference\":\"resource:0\"},\"occurrenceDateTime\":\"2021-01-01\",\"performer\":[{\"actor\":{\"display\":\"ABC General Hospital\"}}],\"lotNumber\":\"0000001\"}},{\"fullUrl\":\"resource:2\",\"resource\":{\"resourceType\":\"Immunization\",\"status\":\"completed\",\"vaccineCode\":{\"coding\":[{\"system\":\"http://hl7.org/fhir/sid/cvx\",\"code\":\"207\"}]},\"patient\":{\"reference\":\"resource:0\"},\"occurrenceDateTime\":\"2021-01-29\",\"performer\":[{\"actor\":{\"display\":\"ABC General Hospital\"}}],\"lotNumber\":\"0000007\"}}]}}}}\n"
     ]
    }
   ],
   "source": [
    "payload = jws.verify(jws_tk, public_key_data, ALGORITHMS.ES256)\n",
    "\n",
    "# https://bugs.python.org/issue5784\n",
    "scanned_result = zlib.decompress(payload, wbits=-15).decode()\n",
    "print(scanned_result)"
   ]
  },
  {
   "cell_type": "markdown",
   "metadata": {},
   "source": [
    "Let's compare this to our original minified payload with whitespace removed"
   ]
  },
  {
   "cell_type": "code",
   "execution_count": 18,
   "metadata": {},
   "outputs": [
    {
     "name": "stdout",
     "output_type": "stream",
     "text": [
      "True\n"
     ]
    }
   ],
   "source": [
    "print(scanned_result == no_white_space_health_card)"
   ]
  },
  {
   "cell_type": "markdown",
   "metadata": {},
   "source": [
    "Finally, lets print the entries for easy inspection."
   ]
  },
  {
   "cell_type": "code",
   "execution_count": 19,
   "metadata": {},
   "outputs": [
    {
     "name": "stdout",
     "output_type": "stream",
     "text": [
      "{\n",
      "    \"fullUrl\": \"resource:0\",\n",
      "    \"resource\": {\n",
      "        \"resourceType\": \"Patient\",\n",
      "        \"name\": [\n",
      "            {\n",
      "                \"family\": \"Anyperson\",\n",
      "                \"given\": [\n",
      "                    \"John\",\n",
      "                    \"B.\"\n",
      "                ]\n",
      "            }\n",
      "        ],\n",
      "        \"birthDate\": \"1951-01-20\"\n",
      "    }\n",
      "}\n",
      "{\n",
      "    \"fullUrl\": \"resource:1\",\n",
      "    \"resource\": {\n",
      "        \"resourceType\": \"Immunization\",\n",
      "        \"status\": \"completed\",\n",
      "        \"vaccineCode\": {\n",
      "            \"coding\": [\n",
      "                {\n",
      "                    \"system\": \"http://hl7.org/fhir/sid/cvx\",\n",
      "                    \"code\": \"207\"\n",
      "                }\n",
      "            ]\n",
      "        },\n",
      "        \"patient\": {\n",
      "            \"reference\": \"resource:0\"\n",
      "        },\n",
      "        \"occurrenceDateTime\": \"2021-01-01\",\n",
      "        \"performer\": [\n",
      "            {\n",
      "                \"actor\": {\n",
      "                    \"display\": \"ABC General Hospital\"\n",
      "                }\n",
      "            }\n",
      "        ],\n",
      "        \"lotNumber\": \"0000001\"\n",
      "    }\n",
      "}\n",
      "{\n",
      "    \"fullUrl\": \"resource:2\",\n",
      "    \"resource\": {\n",
      "        \"resourceType\": \"Immunization\",\n",
      "        \"status\": \"completed\",\n",
      "        \"vaccineCode\": {\n",
      "            \"coding\": [\n",
      "                {\n",
      "                    \"system\": \"http://hl7.org/fhir/sid/cvx\",\n",
      "                    \"code\": \"207\"\n",
      "                }\n",
      "            ]\n",
      "        },\n",
      "        \"patient\": {\n",
      "            \"reference\": \"resource:0\"\n",
      "        },\n",
      "        \"occurrenceDateTime\": \"2021-01-29\",\n",
      "        \"performer\": [\n",
      "            {\n",
      "                \"actor\": {\n",
      "                    \"display\": \"ABC General Hospital\"\n",
      "                }\n",
      "            }\n",
      "        ],\n",
      "        \"lotNumber\": \"0000007\"\n",
      "    }\n",
      "}\n"
     ]
    }
   ],
   "source": [
    "entry = json.loads(scanned_result)[\"vc\"][\"credentialSubject\"][\"fhirBundle\"][\"entry\"]\n",
    "for item in entry:\n",
    "    print(json.dumps(item, indent = 4 ))\n"
   ]
  },
  {
   "cell_type": "code",
   "execution_count": null,
   "metadata": {},
   "outputs": [],
   "source": []
  },
  {
   "cell_type": "code",
   "execution_count": null,
   "metadata": {},
   "outputs": [],
   "source": []
  },
  {
   "cell_type": "code",
   "execution_count": null,
   "metadata": {},
   "outputs": [],
   "source": []
  }
 ],
 "metadata": {
  "interpreter": {
   "hash": "e7370f93d1d0cde622a1f8e1c04877d8463912d04d973331ad4851f04de6915a"
  },
  "kernelspec": {
   "display_name": "Python 3",
   "language": "python",
   "name": "python3"
  },
  "language_info": {
   "codemirror_mode": {
    "name": "ipython",
    "version": 3
   },
   "file_extension": ".py",
   "mimetype": "text/x-python",
   "name": "python",
   "nbconvert_exporter": "python",
   "pygments_lexer": "ipython3",
   "version": "3.8.10"
  }
 },
 "nbformat": 4,
 "nbformat_minor": 4
}
