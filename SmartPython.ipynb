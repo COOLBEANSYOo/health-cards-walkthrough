{
 "cells": [
  {
   "cell_type": "markdown",
   "source": [
    "# SMART Health Cards\n",
    "\n",
    "This notebook is designed to give an overview of [SMART Health Cards Framework](https://smarthealth.cards/) and how it works.\n",
    "\n",
    "\n",
    "This notebook is written in JavaScript and uses the [IJavascript kernel](https://github.com/n-riesco/ijavascript) for Jupyter Notebook."
   ],
   "metadata": {}
  },
  {
   "cell_type": "markdown",
   "source": [
    "### The FHIR Bundle\n",
    "\n",
    "A SMART Health Card is composed of a [W3C Verifiable Credential](https://w3c.github.io/vc-data-model/), [encoded as a JWT](https://w3c.github.io/vc-data-model/#jwt-encoding), with a Credential Subject that contains the FHIR version and a FHIR Bundle (See [Modeling W3C Verifiable Credentials in FHIR](https://smarthealth.cards/credential-modeling/).\n",
    "\n",
    "The FHIR Bundle contains the health care information.\n",
    "\n",
    "Let's assume we have the below FHIR Bundle ([Example 0](https://smarthealth.cards/examples/example-00-a-fhirBundle.json) at the time of writing). This FHIR Bundle could be produced in a number of ways, but for now let's imagine that the patient, John B. Anyperson, has just received his second COVID-19 vaccination shot and the healthcare worker entered his information into their system which produced the below in their system."
   ],
   "metadata": {}
  },
  {
   "cell_type": "markdown",
   "source": [
    "## Walkthrough\n",
    "\n",
    "The high level outline is as follows:\n",
    "* FHIR Bundle is created\n",
    "* FHIR Bundle is minified\n",
    "* SMART Health Card is created from FHIR Bundle\n",
    "* SMART Health Card is encoded as a JWS\n",
    "* Patient Retrieves the SMART Health Cards via:\n",
    "  * File Download\n",
    "  * QR Code\n",
    "  * FHIR API"
   ],
   "metadata": {}
  },
  {
   "cell_type": "code",
   "execution_count": 5,
   "source": [
    "import json\n",
    "from datetime import datetime\n",
    "import zlib\n",
    "import math\n",
    "\n",
    "from pyzbar.pyzbar import decode\n",
    "from PIL import Image\n",
    "import qrcode\n",
    "from jwcrypto import jwk as jwk_crypto\n",
    "from jose import jws, jwk\n",
    "from jose.constants import ALGORITHMS\n",
    "\n"
   ],
   "outputs": [],
   "metadata": {}
  },
  {
   "cell_type": "code",
   "execution_count": 6,
   "source": [
    "\n",
    "fhir_bundle = {\n",
    "  \"resourceType\": \"Bundle\",\n",
    "  \"type\": \"collection\",\n",
    "  \"entry\": [\n",
    "    {\n",
    "      \"fullUrl\": \"resource:0\",\n",
    "      \"resource\": {\n",
    "        \"resourceType\": \"Patient\",\n",
    "        \"name\": [\n",
    "          {\n",
    "            \"family\": \"Anyperson\",\n",
    "            \"given\": [\n",
    "              \"John\",\n",
    "              \"B.\"\n",
    "            ]\n",
    "          }\n",
    "        ],\n",
    "        \"birthDate\": \"1951-01-20\"\n",
    "      }\n",
    "    },\n",
    "    {\n",
    "      \"fullUrl\": \"resource:1\",\n",
    "      \"resource\": {\n",
    "        \"resourceType\": \"Immunization\",\n",
    "        \"status\": \"completed\",\n",
    "        \"vaccineCode\": {\n",
    "          \"coding\": [\n",
    "            {\n",
    "              \"system\": \"http://hl7.org/fhir/sid/cvx\",\n",
    "              \"code\": \"207\"\n",
    "            }\n",
    "          ]\n",
    "        },\n",
    "        \"patient\": {\n",
    "          \"reference\": \"resource:0\"\n",
    "        },\n",
    "        \"occurrenceDateTime\": \"2021-01-01\",\n",
    "        \"performer\": [\n",
    "          {\n",
    "            \"actor\": {\n",
    "              \"display\": \"ABC General Hospital\"\n",
    "            }\n",
    "          }\n",
    "        ],\n",
    "        \"lotNumber\": \"0000001\"\n",
    "      }\n",
    "    },\n",
    "    {\n",
    "      \"fullUrl\": \"resource:2\",\n",
    "      \"resource\": {\n",
    "        \"resourceType\": \"Immunization\",\n",
    "        \"status\": \"completed\",\n",
    "        \"vaccineCode\": {\n",
    "          \"coding\": [\n",
    "            {\n",
    "              \"system\": \"http://hl7.org/fhir/sid/cvx\",\n",
    "              \"code\": \"207\"\n",
    "            }\n",
    "          ]\n",
    "        },\n",
    "        \"patient\": {\n",
    "          \"reference\": \"resource:0\"\n",
    "        },\n",
    "        \"occurrenceDateTime\": \"2021-01-29\",\n",
    "        \"performer\": [\n",
    "          {\n",
    "            \"actor\": {\n",
    "              \"display\": \"ABC General Hospital\"\n",
    "            }\n",
    "          }\n",
    "        ],\n",
    "        \"lotNumber\": \"0000007\"\n",
    "      }\n",
    "    }\n",
    "  ]\n",
    "}\n",
    "# print(fhir_bundle)"
   ],
   "outputs": [],
   "metadata": {}
  },
  {
   "cell_type": "markdown",
   "source": [
    "A couple things to note in the above JSON. This is a Bundle that contains 3 resources: one for the patient, one for the first vaccination, and another for the second vaccination. This Bundle conforms to the requirements laid out in [SMART Health Cards: Vaccination & Testing Implementation Guide](http://build.fhir.org/ig/dvci/vaccine-credential-ig/branches/main/) which defines what resources should be included in the Health Card. Specifically, this is an example of [Vaccine Credential Bundle - Data Minimization](http://build.fhir.org/ig/dvci/vaccine-credential-ig/branches/main/StructureDefinition-vaccine-credential-bundle-dm.html). We'll talk about what \"Data Minimization\" means in a second.\n",
    "\n",
    "Now let's create the \"Expanded Health Card\"."
   ],
   "metadata": {}
  },
  {
   "cell_type": "markdown",
   "source": [
    "### Expanded Health Card\n",
    "\n",
    "The Expanded Health Card shows what the Health Card looks like before it is minified and serialized using the compact JWS serialization.\n",
    "\n",
    "[Health Cards are encoded as Compact Serialization JSON Web Signatures (JWS)](https://smarthealth.cards/#health-cards-are-encoded-as-compact-serialization-json-web-signatures-jws) and [Modeling W3C Verifiable Credentials in FHIR](https://smarthealth.cards/credential-modeling/) cover this in more detail.\n",
    "\n",
    "Before we get into the details it's important to note that some of the VC properties are mapped to standard JWT fields when using the [JWT encoding](https://w3c.github.io/vc-data-model/#jwt-encoding) (which we are). These include the `iss` and `nbf` fields.\n",
    "\n",
    "Below shows the expanded Health Card for the example:"
   ],
   "metadata": {}
  },
  {
   "cell_type": "code",
   "execution_count": 7,
   "source": [
    "expanded_health_card = {\n",
    "  \"iss\": \"https://smarthealth.cards/examples/issuer\",\n",
    "  \"nbf\": datetime.utcnow().timestamp(),\n",
    "  \"vc\": {\n",
    "    \"@context\": [\n",
    "      \"https://www.w3.org/2018/credentials/v1\"\n",
    "    ],\n",
    "    \"type\": [\n",
    "      \"VerifiableCredential\",\n",
    "      \"https://smarthealth.cards#health-card\",\n",
    "      \"https://smarthealth.cards#immunization\",\n",
    "      \"https://smarthealth.cards#covid19\"\n",
    "    ],\n",
    "    \"credentialSubject\": {\n",
    "        \"fhirVersion\": \"4.0.1\",\n",
    "        \"fhirBundle\": fhir_bundle\n",
    "    }\n",
    "  }\n",
    "}\n",
    "print(expanded_health_card)"
   ],
   "outputs": [
    {
     "output_type": "stream",
     "name": "stdout",
     "text": [
      "{'iss': 'https://smarthealth.cards/examples/issuer', 'nbf': 1632575313.813761, 'vc': {'@context': ['https://www.w3.org/2018/credentials/v1'], 'type': ['VerifiableCredential', 'https://smarthealth.cards#health-card', 'https://smarthealth.cards#immunization', 'https://smarthealth.cards#covid19'], 'credentialSubject': {'fhirVersion': '4.0.1', 'fhirBundle': {'resourceType': 'Bundle', 'type': 'collection', 'entry': [{'fullUrl': 'resource:0', 'resource': {'resourceType': 'Patient', 'name': [{'family': 'Anyperson', 'given': ['John', 'B.']}], 'birthDate': '1951-01-20'}}, {'fullUrl': 'resource:1', 'resource': {'resourceType': 'Immunization', 'status': 'completed', 'vaccineCode': {'coding': [{'system': 'http://hl7.org/fhir/sid/cvx', 'code': '207'}]}, 'patient': {'reference': 'resource:0'}, 'occurrenceDateTime': '2021-01-01', 'performer': [{'actor': {'display': 'ABC General Hospital'}}], 'lotNumber': '0000001'}}, {'fullUrl': 'resource:2', 'resource': {'resourceType': 'Immunization', 'status': 'completed', 'vaccineCode': {'coding': [{'system': 'http://hl7.org/fhir/sid/cvx', 'code': '207'}]}, 'patient': {'reference': 'resource:0'}, 'occurrenceDateTime': '2021-01-29', 'performer': [{'actor': {'display': 'ABC General Hospital'}}], 'lotNumber': '0000007'}}]}}}}\n"
     ]
    }
   ],
   "metadata": {}
  },
  {
   "cell_type": "markdown",
   "source": [
    "Let's talk about the three root fields:\n",
    "\n",
    "`iss` - This represents the [Issuer](https://w3c.github.io/vc-data-model/#issuer)\n",
    "  * Note this property is represented by `iss` according to the [JWT Encoding Rules](https://w3c.github.io/vc-data-model/#jwt-encoding)\n",
    "\n",
    "`nbf` - This represents the [IssuanceDate](https://w3c.github.io/vc-data-model/#issuance-date)\n",
    "  * Note this property is represented by `nbf`.\n",
    "\n",
    "`vc` - This represents the VC claim minus all the unmapped fields (`iss` and `nbf`)\n",
    "\n",
    "\n",
    "TODO: Fill out the rest of these properties"
   ],
   "metadata": {}
  },
  {
   "cell_type": "markdown",
   "source": [
    "### Health Cards are Small\n",
    "\n",
    "SMART Health Cards can be issued on pieces of paper via QR Codes. This introduces some unique size constraints in order to keep the number and size of QR codes manageable. When using and applying SMART Health Cards, it's important to keep them small.\n",
    "\n",
    "The SMART Health Card spec requires that [the JWS payload is minified and compressed](https://smarthealth.cards/#health-cards-are-small) in order to reduce payload size.\n",
    "\n",
    "SMART Health Cards are designed to be be atomic and shared as a whole. Information within the Health Card cannot be removed without affecting the verifiability of the Health Card. This imposes a privacy challenge when too much information is included in a single Health Card.\n",
    "\n",
    "The \"Data Minimization\" profiles in the IG are designed to address these size and privacy concerns by ensuring the FHIR profiles only require the minimal set of information to achieve the desired results.\n",
    "\n",
    "Below the JWS Payload (i.e. the \"Expanded Health Card\") is compressed according to the spec:"
   ],
   "metadata": {}
  },
  {
   "cell_type": "code",
   "execution_count": 8,
   "source": [
    "# Remove the optional whitespace\n",
    "no_white_space_health_card = json.dumps(expanded_health_card, separators=(',', ':'))\n",
    "print(no_white_space_health_card)"
   ],
   "outputs": [
    {
     "output_type": "stream",
     "name": "stdout",
     "text": [
      "{\"iss\":\"https://smarthealth.cards/examples/issuer\",\"nbf\":1632575313.813761,\"vc\":{\"@context\":[\"https://www.w3.org/2018/credentials/v1\"],\"type\":[\"VerifiableCredential\",\"https://smarthealth.cards#health-card\",\"https://smarthealth.cards#immunization\",\"https://smarthealth.cards#covid19\"],\"credentialSubject\":{\"fhirVersion\":\"4.0.1\",\"fhirBundle\":{\"resourceType\":\"Bundle\",\"type\":\"collection\",\"entry\":[{\"fullUrl\":\"resource:0\",\"resource\":{\"resourceType\":\"Patient\",\"name\":[{\"family\":\"Anyperson\",\"given\":[\"John\",\"B.\"]}],\"birthDate\":\"1951-01-20\"}},{\"fullUrl\":\"resource:1\",\"resource\":{\"resourceType\":\"Immunization\",\"status\":\"completed\",\"vaccineCode\":{\"coding\":[{\"system\":\"http://hl7.org/fhir/sid/cvx\",\"code\":\"207\"}]},\"patient\":{\"reference\":\"resource:0\"},\"occurrenceDateTime\":\"2021-01-01\",\"performer\":[{\"actor\":{\"display\":\"ABC General Hospital\"}}],\"lotNumber\":\"0000001\"}},{\"fullUrl\":\"resource:2\",\"resource\":{\"resourceType\":\"Immunization\",\"status\":\"completed\",\"vaccineCode\":{\"coding\":[{\"system\":\"http://hl7.org/fhir/sid/cvx\",\"code\":\"207\"}]},\"patient\":{\"reference\":\"resource:0\"},\"occurrenceDateTime\":\"2021-01-29\",\"performer\":[{\"actor\":{\"display\":\"ABC General Hospital\"}}],\"lotNumber\":\"0000007\"}}]}}}}\n"
     ]
    }
   ],
   "metadata": {}
  },
  {
   "cell_type": "code",
   "execution_count": 9,
   "source": [
    "# Normally we'd remove some of the fhirBundle elements at \n",
    "# this step ( e.g. Resource.id, Resource.meta, CodebableConcept.text).\n",
    "# These are already missing from the original payload, so we'll skip that here\n",
    "\n",
    "# Compress the payload with DEFLATE, omitting any zlib headers\n",
    "compress = zlib.compressobj(zlib.Z_DEFAULT_COMPRESSION, zlib.DEFLATED, -15)\n",
    "compressed_payload = compress.compress(no_white_space_health_card.encode('utf-8'))\n",
    "compressed_payload += compress.flush()\n",
    "\n",
    "print(compressed_payload)"
   ],
   "outputs": [
    {
     "output_type": "stream",
     "name": "stdout",
     "text": [
      "b'\\xddRM\\x8f\\xd30\\x10\\xfd+\\xab\\xe1\\xda&qJ\\xb7\\xdb\\x9c\\xa0E\\xe2\\xe3\\x80\\x90\\xd8\\xe5\\x82zp\\x9dic\\xe4\\xd8\\x91\\xed\\xf4\\x83U\\xfe;3n\\xbb\\x80\\xb4\\xdb\\x13\\'|\\x1b\\xfb\\xcd\\x9b\\xf7\\x9e\\xe7\\x11t\\x08PA\\x13c\\x17\\xaa<\\x0f\\xad\\xf4\\xb1Aib\\x93)\\xe9\\xeb\\x90\\xe3A\\xb6\\x9d\\xc1\\x90\\x13\\xb0G\\x0f#\\xb0\\xeb\\rT\\xe2vRNg\\xd3\\x89\\x98dwb2\\xbb\\x15#\\xd8)\\xa8\\x1e\\xe1\\x8dr6\\xe2!B\\xf5\\xfd\\x89u\\xbf\\xdfg\\xfbI\\xe6\\xfc6/\\x0bq\\x97+\\x8f5\\xda\\xa8\\xa5\\t\\xf9N\\xc0j\\x04\\xf1\\xd8!w|C\\xaf7Z\\xae\\r.\\x9f04\\xf2Ey\\xafN\\xc5\\x98\\x8b\\xab8\\xdd\\xb6\\xbd\\xd5?e\\xd4\\xce^\\x05*\\xb7\\xd3\\xb5\\x98\\xb3\\xa8\\xdf2\\xbf\\xf6\\xeb\\x1f\\xa8\"\\xfb\\xdb4\\xda\\x93\\xca\\xc0<\\x15\\xbc\\xce\\x8aL\\x10\\x1f\\xdf.z[\\x1bd\\x8c\\xc7\\xe0z\\xaf\\xf0>\\xb9\\x82\\xf3\\xc3\\xc5%(g\\x0c\\xb1\\x9d\\x94\\xd0\\x00\\x7f$\\xeb\\xc4\\xdc\\x1b\\xf3\\xe0\\r\\x01.\\xfdUA\\x80K\\xf1\\x0c\\xf1\\x17\\xb2C\\xfd\\xfc\\'\\xb2\\xc5\\x13\\x89l\\xb5!>xk\\t\\xe3C\\x9a\\xb1\\xd5;\\xb4\\x1c\\xef\\'\\xd7p\\xbd\\xc8`5\\x90\\xc1\\xb5&\\xf3\\xefdd.1\\x9f\\x8aq!\\xc6e\\x01\\xc30zV\\x8d\\xb8\\xae\\xe6\\xe3\\xdf\\x11\\x87(c\\x1f\\x92]^\\xa0\\x88\\xfcA;\\xa9\\x94\\xb6\\xb8tubP\\xae\\xd6v\\x9b\\x84\\x87c\\x88\\xd8\\x9eW\\x91~\\xa61\\xb3\\xb40\\x9cl\\x1et\\x9d\\xab\\xdd\\x81\\x08T\\xea\\x84\\xb2\\x98\\xc1\\xb0\\x1aF\\xd0\\x9d#Hr6\\xe8\\xd1\\xb2\\xb6?\\x13$\\x90S\\xaa\\xf7\\xe9\\x89\\xcd\\xde\\xeb\\xf6DQ&\\xc3\\x05\\xdb\\xa2\\xa86\\xce\\xb7\\xb4\\xdf\\xacE\\xaa\\xe8<S\\xd6:tF\\xa68\\x17\\xcb\\x9b\\xf7h\\xd1Ks\\xf3\\xc1\\x85NGZ\\xcc\\x81C4.~\\xee\\xdb5\\xb7B\\x91\\x8ex1\\xc1\\xf2\\xbfL\\xb0\\x9c\\xff\\xeb\\x04g\\xfc0\\xd0\\xf9\\x05'\n"
     ]
    }
   ],
   "metadata": {}
  },
  {
   "cell_type": "markdown",
   "source": [
    "### Creating the Signed Health Card\n",
    "\n",
    "Now that we have the compressed payload we can sign it as a JWS. First, let's create the key pair for signing and verifying."
   ],
   "metadata": {}
  },
  {
   "cell_type": "code",
   "execution_count": 10,
   "source": [
    "# Use jwcrypto to generate key data\n",
    "key_data = jwk_crypto.JWK.generate(kty='EC', crv='P-256')\n",
    "\n",
    "private_key_data = key_data.export(as_dict=True)"
   ],
   "outputs": [],
   "metadata": {}
  },
  {
   "cell_type": "code",
   "execution_count": 11,
   "source": [
    "# Print the entire key store, including the `d` member which contains the private key value\n",
    "# Set export parameter: `private_key=False` to just present the public key\n",
    "# See: https://tools.ietf.org/id/draft-jones-jose-json-private-and-symmetric-key-00.html#rfc.section.3.1.1\n",
    "print(json.dumps(private_key_data, indent=4))"
   ],
   "outputs": [
    {
     "output_type": "stream",
     "name": "stdout",
     "text": [
      "{\n",
      "    \"kty\": \"EC\",\n",
      "    \"crv\": \"P-256\",\n",
      "    \"x\": \"eHBF8ordarF2oi6lhoaQbcUwFr07mjzip6gCsQMroco\",\n",
      "    \"y\": \"M2R0jZ_o6Th53iDXsE0r64KUWieq_Yk2yst1OtPGfPI\",\n",
      "    \"d\": \"AGaxKK6KOefVcr9iEVvxN3bFu-e6-PImaqodvqvXbls\"\n",
      "}\n"
     ]
    }
   ],
   "metadata": {}
  },
  {
   "cell_type": "markdown",
   "source": [
    "With a signing key in hand we can create the JWS:"
   ],
   "metadata": {}
  },
  {
   "cell_type": "code",
   "execution_count": 12,
   "source": [
    "kid = key_data.thumbprint() # use thumbprint from jwt_cryto.JWK key object as kid\n",
    "\n",
    "key = jwk.construct(private_key_data, algorithm=ALGORITHMS.ES256)\n",
    "jws_token = jws.sign(compressed_payload, key, algorithm=ALGORITHMS.ES256, headers={\"alg\":\"ES256\",\"zip\": \"DEF\", \"kid\":kid})\n",
    "print(jws_token)"
   ],
   "outputs": [
    {
     "output_type": "stream",
     "name": "stdout",
     "text": [
      "eyJhbGciOiJFUzI1NiIsImtpZCI6ImMzb29VRE9ZUWtzNHQ0ZWFuaTU1TXFEMV9qMWM1ZzRJUUpPbU56aTZaLTAiLCJ0eXAiOiJKV1QiLCJ6aXAiOiJERUYifQ.3VJNj9MwEP0rq-HaJnFKt9ucoEXi44CQ2OWCenCdaWPk2JHt9INV_jszbruAtNsTJ3wb-82b957nEXQIUEETYxeqPA-t9LFBaWKTKenrkONBtp3BkBOwRw8jsOsNVOJ2Uk5n04mYZHdiMrsVI9gpqB7hjXI24iFC9f2Jdb_fZ_tJ5vw2LwtxlyuPNdqopQn5TsBqBPHYIXd8Q683Wq4NLp8wNPJFea9OxZiLqzjdtr3VP2XUzl4FKrfTtZizqN8yv_brH6gi-9s02pPKwDwVvM6KTBAf3y56WxtkjMfgeq_wPrmC88PFJShnDLGdlNAAfyTrxNwb8-ANAS79VUGAS_EM8ReyQ_38J7LFE4lstSE-eGsJ40OasdU7tBzvJ9dwvchgNZDBtSbz72RkLjGfinEhxmUBwzB6Vo24rubj3xGHKGMfkl1eoIj8QTuplLa4dHViUK7WdpuEh2OI2J5XkX6mMbO0MJxsHnSdq92BCFTqhLKYwbAaRtCdI0hyNujRsrY_EySQU6r36YnN3uv2RFEmwwXboqg2zre036xFqug8U9Y6dEamOBfLm_do0Utz88GFTkdazIFDNC5-7ts1t0KRjngxwfK_TLCc_-sEZ_ww0PkF.B-Jza5cgIYLbX5F7UPR0vyJwxwalTzFFmwGQFc3Vi_ihPkgATQSrFyHgO7HZ-EMN-l0S-m-0d3KbML8hHR-6WQ\n"
     ]
    }
   ],
   "metadata": {
    "scrolled": true
   }
  },
  {
   "cell_type": "markdown",
   "source": [
    "Now that we have the JWS we should check that we can actually verify the signature"
   ],
   "metadata": {}
  },
  {
   "cell_type": "code",
   "execution_count": 13,
   "source": [
    "public_key_data = key_data.export(private_key=False, as_dict=True)\n",
    "print(jws.verify(jws_token, public_key_data, ALGORITHMS.ES256))"
   ],
   "outputs": [
    {
     "output_type": "stream",
     "name": "stdout",
     "text": [
      "b'\\xddRM\\x8f\\xd30\\x10\\xfd+\\xab\\xe1\\xda&qJ\\xb7\\xdb\\x9c\\xa0E\\xe2\\xe3\\x80\\x90\\xd8\\xe5\\x82zp\\x9dic\\xe4\\xd8\\x91\\xed\\xf4\\x83U\\xfe;3n\\xbb\\x80\\xb4\\xdb\\x13\\'|\\x1b\\xfb\\xcd\\x9b\\xf7\\x9e\\xe7\\x11t\\x08PA\\x13c\\x17\\xaa<\\x0f\\xad\\xf4\\xb1Aib\\x93)\\xe9\\xeb\\x90\\xe3A\\xb6\\x9d\\xc1\\x90\\x13\\xb0G\\x0f#\\xb0\\xeb\\rT\\xe2vRNg\\xd3\\x89\\x98dwb2\\xbb\\x15#\\xd8)\\xa8\\x1e\\xe1\\x8dr6\\xe2!B\\xf5\\xfd\\x89u\\xbf\\xdfg\\xfbI\\xe6\\xfc6/\\x0bq\\x97+\\x8f5\\xda\\xa8\\xa5\\t\\xf9N\\xc0j\\x04\\xf1\\xd8!w|C\\xaf7Z\\xae\\r.\\x9f04\\xf2Ey\\xafN\\xc5\\x98\\x8b\\xab8\\xdd\\xb6\\xbd\\xd5?e\\xd4\\xce^\\x05*\\xb7\\xd3\\xb5\\x98\\xb3\\xa8\\xdf2\\xbf\\xf6\\xeb\\x1f\\xa8\"\\xfb\\xdb4\\xda\\x93\\xca\\xc0<\\x15\\xbc\\xce\\x8aL\\x10\\x1f\\xdf.z[\\x1bd\\x8c\\xc7\\xe0z\\xaf\\xf0>\\xb9\\x82\\xf3\\xc3\\xc5%(g\\x0c\\xb1\\x9d\\x94\\xd0\\x00\\x7f$\\xeb\\xc4\\xdc\\x1b\\xf3\\xe0\\r\\x01.\\xfdUA\\x80K\\xf1\\x0c\\xf1\\x17\\xb2C\\xfd\\xfc\\'\\xb2\\xc5\\x13\\x89l\\xb5!>xk\\t\\xe3C\\x9a\\xb1\\xd5;\\xb4\\x1c\\xef\\'\\xd7p\\xbd\\xc8`5\\x90\\xc1\\xb5&\\xf3\\xefdd.1\\x9f\\x8aq!\\xc6e\\x01\\xc30zV\\x8d\\xb8\\xae\\xe6\\xe3\\xdf\\x11\\x87(c\\x1f\\x92]^\\xa0\\x88\\xfcA;\\xa9\\x94\\xb6\\xb8tubP\\xae\\xd6v\\x9b\\x84\\x87c\\x88\\xd8\\x9eW\\x91~\\xa61\\xb3\\xb40\\x9cl\\x1et\\x9d\\xab\\xdd\\x81\\x08T\\xea\\x84\\xb2\\x98\\xc1\\xb0\\x1aF\\xd0\\x9d#Hr6\\xe8\\xd1\\xb2\\xb6?\\x13$\\x90S\\xaa\\xf7\\xe9\\x89\\xcd\\xde\\xeb\\xf6DQ&\\xc3\\x05\\xdb\\xa2\\xa86\\xce\\xb7\\xb4\\xdf\\xacE\\xaa\\xe8<S\\xd6:tF\\xa68\\x17\\xcb\\x9b\\xf7h\\xd1Ks\\xf3\\xc1\\x85NGZ\\xcc\\x81C4.~\\xee\\xdb5\\xb7B\\x91\\x8ex1\\xc1\\xf2\\xbfL\\xb0\\x9c\\xff\\xeb\\x04g\\xfc0\\xd0\\xf9\\x05'\n"
     ]
    }
   ],
   "metadata": {}
  },
  {
   "cell_type": "markdown",
   "source": [
    "Let's also create a fake key and test with that to make sure we aren't getting a false positive"
   ],
   "metadata": {}
  },
  {
   "cell_type": "code",
   "execution_count": 14,
   "source": [
    "fake_key_data = jwk_crypto.JWK.generate(kty='EC', crv='P-256')\n",
    "private_fake_key = fake_key_data.export(private_key=False, as_dict=True)\n"
   ],
   "outputs": [],
   "metadata": {}
  },
  {
   "cell_type": "code",
   "execution_count": 15,
   "source": [
    "# A JWSSignatureError exception will be thrown if signing_key is invalid. \n",
    "\n",
    "jws.verify(jws_token, private_fake_key, ALGORITHMS.ES256)\n"
   ],
   "outputs": [
    {
     "output_type": "error",
     "ename": "JWSError",
     "evalue": "Signature verification failed.",
     "traceback": [
      "\u001b[0;31m---------------------------------------------------------------------------\u001b[0m",
      "\u001b[0;31mJWSSignatureError\u001b[0m                         Traceback (most recent call last)",
      "\u001b[0;32m~/.local/lib/python3.8/site-packages/jose/jws.py\u001b[0m in \u001b[0;36m_verify_signature\u001b[0;34m(signing_input, header, signature, key, algorithms)\u001b[0m\n\u001b[1;32m    261\u001b[0m         \u001b[0;32mif\u001b[0m \u001b[0;32mnot\u001b[0m \u001b[0m_sig_matches_keys\u001b[0m\u001b[0;34m(\u001b[0m\u001b[0mkeys\u001b[0m\u001b[0;34m,\u001b[0m \u001b[0msigning_input\u001b[0m\u001b[0;34m,\u001b[0m \u001b[0msignature\u001b[0m\u001b[0;34m,\u001b[0m \u001b[0malg\u001b[0m\u001b[0;34m)\u001b[0m\u001b[0;34m:\u001b[0m\u001b[0;34m\u001b[0m\u001b[0;34m\u001b[0m\u001b[0m\n\u001b[0;32m--> 262\u001b[0;31m             \u001b[0;32mraise\u001b[0m \u001b[0mJWSSignatureError\u001b[0m\u001b[0;34m(\u001b[0m\u001b[0;34m)\u001b[0m\u001b[0;34m\u001b[0m\u001b[0;34m\u001b[0m\u001b[0m\n\u001b[0m\u001b[1;32m    263\u001b[0m     \u001b[0;32mexcept\u001b[0m \u001b[0mJWSSignatureError\u001b[0m\u001b[0;34m:\u001b[0m\u001b[0;34m\u001b[0m\u001b[0;34m\u001b[0m\u001b[0m\n",
      "\u001b[0;31mJWSSignatureError\u001b[0m: ",
      "\nDuring handling of the above exception, another exception occurred:\n",
      "\u001b[0;31mJWSError\u001b[0m                                  Traceback (most recent call last)",
      "\u001b[0;32m<ipython-input-15-8e5dfc72b11c>\u001b[0m in \u001b[0;36m<module>\u001b[0;34m\u001b[0m\n\u001b[1;32m      1\u001b[0m \u001b[0;31m# A JWSSignatureError exception will be thrown if signing_key is invalid.\u001b[0m\u001b[0;34m\u001b[0m\u001b[0;34m\u001b[0m\u001b[0;34m\u001b[0m\u001b[0m\n\u001b[1;32m      2\u001b[0m \u001b[0;34m\u001b[0m\u001b[0m\n\u001b[0;32m----> 3\u001b[0;31m \u001b[0mjws\u001b[0m\u001b[0;34m.\u001b[0m\u001b[0mverify\u001b[0m\u001b[0;34m(\u001b[0m\u001b[0mjws_token\u001b[0m\u001b[0;34m,\u001b[0m \u001b[0mprivate_fake_key\u001b[0m\u001b[0;34m,\u001b[0m \u001b[0mALGORITHMS\u001b[0m\u001b[0;34m.\u001b[0m\u001b[0mES256\u001b[0m\u001b[0;34m)\u001b[0m\u001b[0;34m\u001b[0m\u001b[0;34m\u001b[0m\u001b[0m\n\u001b[0m",
      "\u001b[0;32m~/.local/lib/python3.8/site-packages/jose/jws.py\u001b[0m in \u001b[0;36mverify\u001b[0;34m(token, key, algorithms, verify)\u001b[0m\n\u001b[1;32m     71\u001b[0m \u001b[0;34m\u001b[0m\u001b[0m\n\u001b[1;32m     72\u001b[0m     \u001b[0;32mif\u001b[0m \u001b[0mverify\u001b[0m\u001b[0;34m:\u001b[0m\u001b[0;34m\u001b[0m\u001b[0;34m\u001b[0m\u001b[0m\n\u001b[0;32m---> 73\u001b[0;31m         \u001b[0m_verify_signature\u001b[0m\u001b[0;34m(\u001b[0m\u001b[0msigning_input\u001b[0m\u001b[0;34m,\u001b[0m \u001b[0mheader\u001b[0m\u001b[0;34m,\u001b[0m \u001b[0msignature\u001b[0m\u001b[0;34m,\u001b[0m \u001b[0mkey\u001b[0m\u001b[0;34m,\u001b[0m \u001b[0malgorithms\u001b[0m\u001b[0;34m)\u001b[0m\u001b[0;34m\u001b[0m\u001b[0;34m\u001b[0m\u001b[0m\n\u001b[0m\u001b[1;32m     74\u001b[0m \u001b[0;34m\u001b[0m\u001b[0m\n\u001b[1;32m     75\u001b[0m     \u001b[0;32mreturn\u001b[0m \u001b[0mpayload\u001b[0m\u001b[0;34m\u001b[0m\u001b[0;34m\u001b[0m\u001b[0m\n",
      "\u001b[0;32m~/.local/lib/python3.8/site-packages/jose/jws.py\u001b[0m in \u001b[0;36m_verify_signature\u001b[0;34m(signing_input, header, signature, key, algorithms)\u001b[0m\n\u001b[1;32m    262\u001b[0m             \u001b[0;32mraise\u001b[0m \u001b[0mJWSSignatureError\u001b[0m\u001b[0;34m(\u001b[0m\u001b[0;34m)\u001b[0m\u001b[0;34m\u001b[0m\u001b[0;34m\u001b[0m\u001b[0m\n\u001b[1;32m    263\u001b[0m     \u001b[0;32mexcept\u001b[0m \u001b[0mJWSSignatureError\u001b[0m\u001b[0;34m:\u001b[0m\u001b[0;34m\u001b[0m\u001b[0;34m\u001b[0m\u001b[0m\n\u001b[0;32m--> 264\u001b[0;31m         \u001b[0;32mraise\u001b[0m \u001b[0mJWSError\u001b[0m\u001b[0;34m(\u001b[0m\u001b[0;34m\"Signature verification failed.\"\u001b[0m\u001b[0;34m)\u001b[0m\u001b[0;34m\u001b[0m\u001b[0;34m\u001b[0m\u001b[0m\n\u001b[0m\u001b[1;32m    265\u001b[0m     \u001b[0;32mexcept\u001b[0m \u001b[0mJWSError\u001b[0m\u001b[0;34m:\u001b[0m\u001b[0;34m\u001b[0m\u001b[0;34m\u001b[0m\u001b[0m\n\u001b[1;32m    266\u001b[0m         \u001b[0;32mraise\u001b[0m \u001b[0mJWSError\u001b[0m\u001b[0;34m(\u001b[0m\u001b[0;34m\"Invalid or unsupported algorithm: %s\"\u001b[0m \u001b[0;34m%\u001b[0m \u001b[0malg\u001b[0m\u001b[0;34m)\u001b[0m\u001b[0;34m\u001b[0m\u001b[0;34m\u001b[0m\u001b[0m\n",
      "\u001b[0;31mJWSError\u001b[0m: Signature verification failed."
     ]
    }
   ],
   "metadata": {}
  },
  {
   "cell_type": "markdown",
   "source": [
    "### QR Code Generation\n",
    "\n",
    "Now that we have a JWS we can turn that into a QR Code which can be scanned. We won't worry about chunking just yet since the payload is below the 1195 character threshold in this example, but its a simple addition and [this code snippet](https://github.com/smart-on-fhir/health-cards/blob/152a4f83b223b5fd14027f765e957e290649f2c0/generate-examples/src/index.ts#L146) goes over the process."
   ],
   "metadata": {}
  },
  {
   "cell_type": "code",
   "execution_count": 18,
   "source": [
    "token_caracters = list(jws_token)\n",
    "\n",
    "number_pairs = []\n",
    "for char in token_caracters:\n",
    "    int_char = ord(char) - 45\n",
    "    int_pair = [math.floor(int_char/10), int_char % 10] # Need to maintain leading zeros\n",
    "    number_pairs.append(int_pair)  \n",
    "\n",
    "numeric_jws = \"\".join([str(num) for pair in number_pairs for num in pair]) # Flatten nested list in numeric_jws_pairs\n",
    "\n",
    "qr_code_data = 'shc:/' + numeric_jws\n",
    "print(qr_code_data)"
   ],
   "outputs": [
    {
     "output_type": "stream",
     "name": "stdout",
     "text": [
      "shc:/567629595326546034602925407728043360287028647167452228092864327753051241372412454042717733273603454225725239400439432524324112683242320445773729404067355340080952394552313920603122290356432060346029304104366031222909524320603460292437404460573601064129336112327424350369680027522965253071127254662443600707223605344222566522555242356205292771122833415061707753697220713370392906745300110553120810652443362840242439447556683520007112312521524230393056656962343321716706216221347437741161703470334134290540620865030764444527556032697041281258676821105961432805076025221257052955535057455071290873740531747175637672353355686667366508397021682135274428435511360911064268073331671174333529255652123475456031687761557169064135054340776307253069573971456077683311767350536927095860001270030567353074237441733209303921205706760809427571626132575856685074356964221111352529385965233126556333202057763969753374531100203320381012414026203850243211375676365006112910312524076370713824005626702907033452705540107121777329125574735459583345232171385377100537623161265760652459756440217477210941660507697253610675262730263257626304566628611136397267633152075527416040301042556772245905342805290843624309643253340332297570276538556812052122253968593130447453205237712255280359763372613770694450247638364009690609446533067273053725246474744353666858057769560306097525687258114012440955245264342157316450556603407177111126253962555277282523332208001071700471033037616558757457305039312254500070244550747403356225012100297752085458284431534308251040353703737629747574526339772525647426362554064160506059356258203936386925762758341027450024323300630338006400035506305332311159273700094236\n"
     ]
    }
   ],
   "metadata": {}
  },
  {
   "cell_type": "markdown",
   "source": [
    "The above shows what the value of the QR code will be, with the leading `byte` segment and the `numeric` segment following"
   ],
   "metadata": {}
  },
  {
   "cell_type": "code",
   "execution_count": 19,
   "source": [
    "from IPython.display import display\n",
    "\n",
    "qr = qrcode.QRCode(\n",
    "    version=22,\n",
    "    error_correction=qrcode.constants.ERROR_CORRECT_L,\n",
    ")\n",
    "qr.add_data(qr_code_data)\n",
    "\n",
    "img = qr.make_image()\n",
    "img.save(\"qrcode.png\")\n",
    "\n",
    "display(Image.open(\"qrcode.png\"))"
   ],
   "outputs": [
    {
     "output_type": "display_data",
     "data": {
      "image/png": "[encoded data removed]",
      "text/plain": [
       "<PIL.PngImagePlugin.PngImageFile image mode=1 size=1130x1130 at 0x7FAD4C575460>"
      ]
     },
     "metadata": {}
    }
   ],
   "metadata": {}
  },
  {
   "cell_type": "markdown",
   "source": [
    "### QR Code Scanning\n",
    "\n",
    "Now let's try and scan the QR Code!"
   ],
   "metadata": {}
  },
  {
   "cell_type": "code",
   "execution_count": 21,
   "source": [
    "image_data = decode(Image.open('qrcode.png'))[0][0]\n",
    "scannedQR_data  = image_data.decode()\n",
    "\n",
    "qr_codes_equal = scannedQR_data == qr_code_data\n",
    "\n",
    "print(f\"Are the QR Codes Equal? {qr_codes_equal}\")\n",
    "print(scannedQR_data)"
   ],
   "outputs": [
    {
     "output_type": "stream",
     "name": "stdout",
     "text": [
      "Are the QR Codes Equal? True\n",
      "shc:/567629595326546034602925407728043360287028647167452228092864327753051241372412454042717733273603454225725239400439432524324112683242320445773729404067355340080952394552313920603122290356432060346029304104366031222909524320603460292437404460573601064129336112327424350369680027522965253071127254662443600707223605344222566522555242356205292771122833415061707753697220713370392906745300110553120810652443362840242439447556683520007112312521524230393056656962343321716706216221347437741161703470334134290540620865030764444527556032697041281258676821105961432805076025221257052955535057455071290873740531747175637672353355686667366508397021682135274428435511360911064268073331671174333529255652123475456031687761557169064135054340776307253069573971456077683311767350536927095860001270030567353074237441733209303921205706760809427571626132575856685074356964221111352529385965233126556333202057763969753374531100203320381012414026203850243211375676365006112910312524076370713824005626702907033452705540107121777329125574735459583345232171385377100537623161265760652459756440217477210941660507697253610675262730263257626304566628611136397267633152075527416040301042556772245905342805290843624309643253340332297570276538556812052122253968593130447453205237712255280359763372613770694450247638364009690609446533067273053725246474744353666858057769560306097525687258114012440955245264342157316450556603407177111126253962555277282523332208001071700471033037616558757457305039312254500070244550747403356225012100297752085458284431534308251040353703737629747574526339772525647426362554064160506059356258203936386925762758341027450024323300630338006400035506305332311159273700094236\n"
     ]
    }
   ],
   "metadata": {}
  },
  {
   "cell_type": "markdown",
   "source": [
    "### Extracting Data from the QR Code\n",
    "\n",
    "Now let's reverse the process to get the original data back and check the signature. First, let's extract the JWS."
   ],
   "metadata": {}
  },
  {
   "cell_type": "code",
   "execution_count": 22,
   "source": [
    "import re\n",
    "\n",
    "numeric_chunk = re.findall('.{1,2}', scannedQR_data[5:])\n",
    "jws_tk = \"\".join([chr(int(x) + 45) for x in numeric_chunk])\n",
    "print(jws_tk)"
   ],
   "outputs": [
    {
     "output_type": "stream",
     "name": "stdout",
     "text": [
      "eyJhbGciOiJFUzI1NiIsImtpZCI6ImMzb29VRE9ZUWtzNHQ0ZWFuaTU1TXFEMV9qMWM1ZzRJUUpPbU56aTZaLTAiLCJ0eXAiOiJKV1QiLCJ6aXAiOiJERUYifQ.3VJNj9MwEP0rq-HaJnFKt9ucoEXi44CQ2OWCenCdaWPk2JHt9INV_jszbruAtNsTJ3wb-82b957nEXQIUEETYxeqPA-t9LFBaWKTKenrkONBtp3BkBOwRw8jsOsNVOJ2Uk5n04mYZHdiMrsVI9gpqB7hjXI24iFC9f2Jdb_fZ_tJ5vw2LwtxlyuPNdqopQn5TsBqBPHYIXd8Q683Wq4NLp8wNPJFea9OxZiLqzjdtr3VP2XUzl4FKrfTtZizqN8yv_brH6gi-9s02pPKwDwVvM6KTBAf3y56WxtkjMfgeq_wPrmC88PFJShnDLGdlNAAfyTrxNwb8-ANAS79VUGAS_EM8ReyQ_38J7LFE4lstSE-eGsJ40OasdU7tBzvJ9dwvchgNZDBtSbz72RkLjGfinEhxmUBwzB6Vo24rubj3xGHKGMfkl1eoIj8QTuplLa4dHViUK7WdpuEh2OI2J5XkX6mMbO0MJxsHnSdq92BCFTqhLKYwbAaRtCdI0hyNujRsrY_EySQU6r36YnN3uv2RFEmwwXboqg2zre036xFqug8U9Y6dEamOBfLm_do0Utz88GFTkdazIFDNC5-7ts1t0KRjngxwfK_TLCc_-sEZ_ww0PkF.B-Jza5cgIYLbX5F7UPR0vyJwxwalTzFFmwGQFc3Vi_ihPkgATQSrFyHgO7HZ-EMN-l0S-m-0d3KbML8hHR-6WQ\n"
     ]
    }
   ],
   "metadata": {}
  },
  {
   "cell_type": "markdown",
   "source": [
    "Next we can verify the signature and extract the payload"
   ],
   "metadata": {}
  },
  {
   "cell_type": "code",
   "execution_count": 23,
   "source": [
    "payload = jws.verify(jws_tk, public_key_data, ALGORITHMS.ES256)\n",
    "\n",
    "# https://bugs.python.org/issue5784\n",
    "scanned_result = zlib.decompress(payload, wbits=-15).decode()\n",
    "print(scanned_result)"
   ],
   "outputs": [
    {
     "output_type": "stream",
     "name": "stdout",
     "text": [
      "{\"iss\":\"https://smarthealth.cards/examples/issuer\",\"nbf\":1632575313.813761,\"vc\":{\"@context\":[\"https://www.w3.org/2018/credentials/v1\"],\"type\":[\"VerifiableCredential\",\"https://smarthealth.cards#health-card\",\"https://smarthealth.cards#immunization\",\"https://smarthealth.cards#covid19\"],\"credentialSubject\":{\"fhirVersion\":\"4.0.1\",\"fhirBundle\":{\"resourceType\":\"Bundle\",\"type\":\"collection\",\"entry\":[{\"fullUrl\":\"resource:0\",\"resource\":{\"resourceType\":\"Patient\",\"name\":[{\"family\":\"Anyperson\",\"given\":[\"John\",\"B.\"]}],\"birthDate\":\"1951-01-20\"}},{\"fullUrl\":\"resource:1\",\"resource\":{\"resourceType\":\"Immunization\",\"status\":\"completed\",\"vaccineCode\":{\"coding\":[{\"system\":\"http://hl7.org/fhir/sid/cvx\",\"code\":\"207\"}]},\"patient\":{\"reference\":\"resource:0\"},\"occurrenceDateTime\":\"2021-01-01\",\"performer\":[{\"actor\":{\"display\":\"ABC General Hospital\"}}],\"lotNumber\":\"0000001\"}},{\"fullUrl\":\"resource:2\",\"resource\":{\"resourceType\":\"Immunization\",\"status\":\"completed\",\"vaccineCode\":{\"coding\":[{\"system\":\"http://hl7.org/fhir/sid/cvx\",\"code\":\"207\"}]},\"patient\":{\"reference\":\"resource:0\"},\"occurrenceDateTime\":\"2021-01-29\",\"performer\":[{\"actor\":{\"display\":\"ABC General Hospital\"}}],\"lotNumber\":\"0000007\"}}]}}}}\n"
     ]
    }
   ],
   "metadata": {}
  },
  {
   "cell_type": "markdown",
   "source": [
    "Let's compare this to our original minified payload with whitespace removed"
   ],
   "metadata": {}
  },
  {
   "cell_type": "code",
   "execution_count": 24,
   "source": [
    "print(scanned_result == no_white_space_health_card)"
   ],
   "outputs": [
    {
     "output_type": "stream",
     "name": "stdout",
     "text": [
      "True\n"
     ]
    }
   ],
   "metadata": {}
  },
  {
   "cell_type": "markdown",
   "source": [
    "Finally, lets print the entries for easy inspection."
   ],
   "metadata": {}
  },
  {
   "cell_type": "code",
   "execution_count": 25,
   "source": [
    "entry = json.loads(scanned_result)[\"vc\"][\"credentialSubject\"][\"fhirBundle\"][\"entry\"]\n",
    "for item in entry:\n",
    "    print(json.dumps(item, indent = 4 ))\n"
   ],
   "outputs": [
    {
     "output_type": "stream",
     "name": "stdout",
     "text": [
      "{\n",
      "    \"fullUrl\": \"resource:0\",\n",
      "    \"resource\": {\n",
      "        \"resourceType\": \"Patient\",\n",
      "        \"name\": [\n",
      "            {\n",
      "                \"family\": \"Anyperson\",\n",
      "                \"given\": [\n",
      "                    \"John\",\n",
      "                    \"B.\"\n",
      "                ]\n",
      "            }\n",
      "        ],\n",
      "        \"birthDate\": \"1951-01-20\"\n",
      "    }\n",
      "}\n",
      "{\n",
      "    \"fullUrl\": \"resource:1\",\n",
      "    \"resource\": {\n",
      "        \"resourceType\": \"Immunization\",\n",
      "        \"status\": \"completed\",\n",
      "        \"vaccineCode\": {\n",
      "            \"coding\": [\n",
      "                {\n",
      "                    \"system\": \"http://hl7.org/fhir/sid/cvx\",\n",
      "                    \"code\": \"207\"\n",
      "                }\n",
      "            ]\n",
      "        },\n",
      "        \"patient\": {\n",
      "            \"reference\": \"resource:0\"\n",
      "        },\n",
      "        \"occurrenceDateTime\": \"2021-01-01\",\n",
      "        \"performer\": [\n",
      "            {\n",
      "                \"actor\": {\n",
      "                    \"display\": \"ABC General Hospital\"\n",
      "                }\n",
      "            }\n",
      "        ],\n",
      "        \"lotNumber\": \"0000001\"\n",
      "    }\n",
      "}\n",
      "{\n",
      "    \"fullUrl\": \"resource:2\",\n",
      "    \"resource\": {\n",
      "        \"resourceType\": \"Immunization\",\n",
      "        \"status\": \"completed\",\n",
      "        \"vaccineCode\": {\n",
      "            \"coding\": [\n",
      "                {\n",
      "                    \"system\": \"http://hl7.org/fhir/sid/cvx\",\n",
      "                    \"code\": \"207\"\n",
      "                }\n",
      "            ]\n",
      "        },\n",
      "        \"patient\": {\n",
      "            \"reference\": \"resource:0\"\n",
      "        },\n",
      "        \"occurrenceDateTime\": \"2021-01-29\",\n",
      "        \"performer\": [\n",
      "            {\n",
      "                \"actor\": {\n",
      "                    \"display\": \"ABC General Hospital\"\n",
      "                }\n",
      "            }\n",
      "        ],\n",
      "        \"lotNumber\": \"0000007\"\n",
      "    }\n",
      "}\n"
     ]
    }
   ],
   "metadata": {}
  },
  {
   "cell_type": "code",
   "execution_count": null,
   "source": [],
   "outputs": [],
   "metadata": {}
  }
 ],
 "metadata": {
  "interpreter": {
   "hash": "e7370f93d1d0cde622a1f8e1c04877d8463912d04d973331ad4851f04de6915a"
  },
  "kernelspec": {
   "name": "python3",
   "display_name": "Python 3.8.10 64-bit"
  },
  "language_info": {
   "codemirror_mode": {
    "name": "ipython",
    "version": 3
   },
   "file_extension": ".py",
   "mimetype": "text/x-python",
   "name": "python",
   "nbconvert_exporter": "python",
   "pygments_lexer": "ipython3",
   "version": "3.8.10"
  }
 },
 "nbformat": 4,
 "nbformat_minor": 2
}